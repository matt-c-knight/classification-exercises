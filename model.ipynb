{
 "cells": [
  {
   "cell_type": "code",
   "execution_count": 62,
   "metadata": {},
   "outputs": [],
   "source": [
    "\n",
    "import numpy as np\n",
    "import pandas as pd\n",
    "import seaborn as sns\n",
    "import matplotlib.pyplot as plt\n",
    "import statsmodels.formula.api as smf\n",
    "\n",
    "from sklearn.model_selection import train_test_split\n",
    "from sklearn.impute import SimpleImputer\n",
    "from sklearn.metrics import accuracy_score, precision_score, recall_score, confusion_matrix, classification_report\n",
    "from sklearn.model_selection import train_test_split\n",
    "from sklearn.linear_model import LogisticRegression, LinearRegression"
   ]
  },
  {
   "cell_type": "code",
   "execution_count": 63,
   "metadata": {},
   "outputs": [],
   "source": [
    "import os"
   ]
  },
  {
   "cell_type": "code",
   "execution_count": 64,
   "metadata": {},
   "outputs": [],
   "source": [
    "def new_titanic_data():\n",
    "    sql_query = 'SELECT * FROM passengers'\n",
    "    df = pd.read_sql(sql_query, get_connection('titanic_db'))\n",
    "    df.to_csv('titanic_df.csv')\n",
    "    return df"
   ]
  },
  {
   "cell_type": "code",
   "execution_count": 65,
   "metadata": {},
   "outputs": [],
   "source": [
    "def get_titanic_data(cached=False):\n",
    "    if cached or os.path.isfile('titanic_df.csv') == False:\n",
    "        df = new_titanic_data()\n",
    "    else:\n",
    "        df = pd.read_csv('titanic_df.csv', index_col=0)\n",
    "    return df"
   ]
  },
  {
   "cell_type": "code",
   "execution_count": 66,
   "metadata": {},
   "outputs": [],
   "source": [
    "titanic = get_titanic_data()"
   ]
  },
  {
   "cell_type": "code",
   "execution_count": 6,
   "metadata": {},
   "outputs": [
    {
     "data": {
      "text/html": [
       "<div>\n",
       "<style scoped>\n",
       "    .dataframe tbody tr th:only-of-type {\n",
       "        vertical-align: middle;\n",
       "    }\n",
       "\n",
       "    .dataframe tbody tr th {\n",
       "        vertical-align: top;\n",
       "    }\n",
       "\n",
       "    .dataframe thead th {\n",
       "        text-align: right;\n",
       "    }\n",
       "</style>\n",
       "<table border=\"1\" class=\"dataframe\">\n",
       "  <thead>\n",
       "    <tr style=\"text-align: right;\">\n",
       "      <th></th>\n",
       "      <th>passenger_id</th>\n",
       "      <th>survived</th>\n",
       "      <th>pclass</th>\n",
       "      <th>sex</th>\n",
       "      <th>age</th>\n",
       "      <th>sibsp</th>\n",
       "      <th>parch</th>\n",
       "      <th>fare</th>\n",
       "      <th>embarked</th>\n",
       "      <th>class</th>\n",
       "      <th>deck</th>\n",
       "      <th>embark_town</th>\n",
       "      <th>alone</th>\n",
       "    </tr>\n",
       "  </thead>\n",
       "  <tbody>\n",
       "    <tr>\n",
       "      <th>0</th>\n",
       "      <td>0</td>\n",
       "      <td>0</td>\n",
       "      <td>3</td>\n",
       "      <td>male</td>\n",
       "      <td>22.0</td>\n",
       "      <td>1</td>\n",
       "      <td>0</td>\n",
       "      <td>7.2500</td>\n",
       "      <td>S</td>\n",
       "      <td>Third</td>\n",
       "      <td>NaN</td>\n",
       "      <td>Southampton</td>\n",
       "      <td>0</td>\n",
       "    </tr>\n",
       "    <tr>\n",
       "      <th>1</th>\n",
       "      <td>1</td>\n",
       "      <td>1</td>\n",
       "      <td>1</td>\n",
       "      <td>female</td>\n",
       "      <td>38.0</td>\n",
       "      <td>1</td>\n",
       "      <td>0</td>\n",
       "      <td>71.2833</td>\n",
       "      <td>C</td>\n",
       "      <td>First</td>\n",
       "      <td>C</td>\n",
       "      <td>Cherbourg</td>\n",
       "      <td>0</td>\n",
       "    </tr>\n",
       "    <tr>\n",
       "      <th>2</th>\n",
       "      <td>2</td>\n",
       "      <td>1</td>\n",
       "      <td>3</td>\n",
       "      <td>female</td>\n",
       "      <td>26.0</td>\n",
       "      <td>0</td>\n",
       "      <td>0</td>\n",
       "      <td>7.9250</td>\n",
       "      <td>S</td>\n",
       "      <td>Third</td>\n",
       "      <td>NaN</td>\n",
       "      <td>Southampton</td>\n",
       "      <td>1</td>\n",
       "    </tr>\n",
       "    <tr>\n",
       "      <th>3</th>\n",
       "      <td>3</td>\n",
       "      <td>1</td>\n",
       "      <td>1</td>\n",
       "      <td>female</td>\n",
       "      <td>35.0</td>\n",
       "      <td>1</td>\n",
       "      <td>0</td>\n",
       "      <td>53.1000</td>\n",
       "      <td>S</td>\n",
       "      <td>First</td>\n",
       "      <td>C</td>\n",
       "      <td>Southampton</td>\n",
       "      <td>0</td>\n",
       "    </tr>\n",
       "    <tr>\n",
       "      <th>4</th>\n",
       "      <td>4</td>\n",
       "      <td>0</td>\n",
       "      <td>3</td>\n",
       "      <td>male</td>\n",
       "      <td>35.0</td>\n",
       "      <td>0</td>\n",
       "      <td>0</td>\n",
       "      <td>8.0500</td>\n",
       "      <td>S</td>\n",
       "      <td>Third</td>\n",
       "      <td>NaN</td>\n",
       "      <td>Southampton</td>\n",
       "      <td>1</td>\n",
       "    </tr>\n",
       "  </tbody>\n",
       "</table>\n",
       "</div>"
      ],
      "text/plain": [
       "   passenger_id  survived  pclass     sex   age  sibsp  parch     fare  \\\n",
       "0             0         0       3    male  22.0      1      0   7.2500   \n",
       "1             1         1       1  female  38.0      1      0  71.2833   \n",
       "2             2         1       3  female  26.0      0      0   7.9250   \n",
       "3             3         1       1  female  35.0      1      0  53.1000   \n",
       "4             4         0       3    male  35.0      0      0   8.0500   \n",
       "\n",
       "  embarked  class deck  embark_town  alone  \n",
       "0        S  Third  NaN  Southampton      0  \n",
       "1        C  First    C    Cherbourg      0  \n",
       "2        S  Third  NaN  Southampton      1  \n",
       "3        S  First    C  Southampton      0  \n",
       "4        S  Third  NaN  Southampton      1  "
      ]
     },
     "execution_count": 6,
     "metadata": {},
     "output_type": "execute_result"
    }
   ],
   "source": [
    "titanic.head()"
   ]
  },
  {
   "cell_type": "code",
   "execution_count": 67,
   "metadata": {},
   "outputs": [],
   "source": [
    "def titanic_split(df):\n",
    "\n",
    "    train_validate, test = train_test_split(df, test_size=.2,\n",
    "                                        random_state=123,\n",
    "                                        stratify=df.survived)\n",
    "    train, validate = train_test_split(train_validate, test_size=.3,\n",
    "                                        random_state=123,\n",
    "                                        stratify=train_validate.survived)\n",
    "    return train, validate, test\n",
    "\n",
    "def impute_mean_age(train, validate, test):\n",
    "\n",
    "    imputer = SimpleImputer(strategy = 'mean')\n",
    "\n",
    "    train['age'] = imputer.fit_transform(train[['age']])\n",
    "\n",
    "    validate['age'] = imputer.transform(validate[['age']])\n",
    "\n",
    "    test['age'] = imputer.transform(test[['age']])\n",
    "\n",
    "    return train, validate, test\n",
    "\n",
    "def prep_titanic_data(cached=True):\n",
    "#     df = get_titanic_data(cached)\n",
    "    df = df[~df.embarked.isnull()]\n",
    "    titanic_dummies = pd.get_dummies(df.embarked, drop_first=True)\n",
    "    df = pd.concat([df, titanic_dummies], axis=1)\n",
    "    df = df.drop(columns='deck')\n",
    "\n",
    "    train, validate, test = titanic_split(df)\n",
    "\n",
    "    train, validate, test = impute_mean_age(train, validate, test)\n",
    "\n",
    "    return train, validate, test"
   ]
  },
  {
   "cell_type": "code",
   "execution_count": 68,
   "metadata": {},
   "outputs": [],
   "source": [
    " titanic = titanic[~titanic.embarked.isnull()]"
   ]
  },
  {
   "cell_type": "code",
   "execution_count": 69,
   "metadata": {},
   "outputs": [
    {
     "data": {
      "text/html": [
       "<div>\n",
       "<style scoped>\n",
       "    .dataframe tbody tr th:only-of-type {\n",
       "        vertical-align: middle;\n",
       "    }\n",
       "\n",
       "    .dataframe tbody tr th {\n",
       "        vertical-align: top;\n",
       "    }\n",
       "\n",
       "    .dataframe thead th {\n",
       "        text-align: right;\n",
       "    }\n",
       "</style>\n",
       "<table border=\"1\" class=\"dataframe\">\n",
       "  <thead>\n",
       "    <tr style=\"text-align: right;\">\n",
       "      <th></th>\n",
       "      <th>passenger_id</th>\n",
       "      <th>survived</th>\n",
       "      <th>pclass</th>\n",
       "      <th>sex</th>\n",
       "      <th>age</th>\n",
       "      <th>sibsp</th>\n",
       "      <th>parch</th>\n",
       "      <th>fare</th>\n",
       "      <th>embarked</th>\n",
       "      <th>class</th>\n",
       "      <th>deck</th>\n",
       "      <th>embark_town</th>\n",
       "      <th>alone</th>\n",
       "    </tr>\n",
       "  </thead>\n",
       "  <tbody>\n",
       "    <tr>\n",
       "      <th>0</th>\n",
       "      <td>0</td>\n",
       "      <td>0</td>\n",
       "      <td>3</td>\n",
       "      <td>male</td>\n",
       "      <td>22.0</td>\n",
       "      <td>1</td>\n",
       "      <td>0</td>\n",
       "      <td>7.2500</td>\n",
       "      <td>S</td>\n",
       "      <td>Third</td>\n",
       "      <td>NaN</td>\n",
       "      <td>Southampton</td>\n",
       "      <td>0</td>\n",
       "    </tr>\n",
       "    <tr>\n",
       "      <th>1</th>\n",
       "      <td>1</td>\n",
       "      <td>1</td>\n",
       "      <td>1</td>\n",
       "      <td>female</td>\n",
       "      <td>38.0</td>\n",
       "      <td>1</td>\n",
       "      <td>0</td>\n",
       "      <td>71.2833</td>\n",
       "      <td>C</td>\n",
       "      <td>First</td>\n",
       "      <td>C</td>\n",
       "      <td>Cherbourg</td>\n",
       "      <td>0</td>\n",
       "    </tr>\n",
       "    <tr>\n",
       "      <th>2</th>\n",
       "      <td>2</td>\n",
       "      <td>1</td>\n",
       "      <td>3</td>\n",
       "      <td>female</td>\n",
       "      <td>26.0</td>\n",
       "      <td>0</td>\n",
       "      <td>0</td>\n",
       "      <td>7.9250</td>\n",
       "      <td>S</td>\n",
       "      <td>Third</td>\n",
       "      <td>NaN</td>\n",
       "      <td>Southampton</td>\n",
       "      <td>1</td>\n",
       "    </tr>\n",
       "    <tr>\n",
       "      <th>3</th>\n",
       "      <td>3</td>\n",
       "      <td>1</td>\n",
       "      <td>1</td>\n",
       "      <td>female</td>\n",
       "      <td>35.0</td>\n",
       "      <td>1</td>\n",
       "      <td>0</td>\n",
       "      <td>53.1000</td>\n",
       "      <td>S</td>\n",
       "      <td>First</td>\n",
       "      <td>C</td>\n",
       "      <td>Southampton</td>\n",
       "      <td>0</td>\n",
       "    </tr>\n",
       "    <tr>\n",
       "      <th>4</th>\n",
       "      <td>4</td>\n",
       "      <td>0</td>\n",
       "      <td>3</td>\n",
       "      <td>male</td>\n",
       "      <td>35.0</td>\n",
       "      <td>0</td>\n",
       "      <td>0</td>\n",
       "      <td>8.0500</td>\n",
       "      <td>S</td>\n",
       "      <td>Third</td>\n",
       "      <td>NaN</td>\n",
       "      <td>Southampton</td>\n",
       "      <td>1</td>\n",
       "    </tr>\n",
       "  </tbody>\n",
       "</table>\n",
       "</div>"
      ],
      "text/plain": [
       "   passenger_id  survived  pclass     sex   age  sibsp  parch     fare  \\\n",
       "0             0         0       3    male  22.0      1      0   7.2500   \n",
       "1             1         1       1  female  38.0      1      0  71.2833   \n",
       "2             2         1       3  female  26.0      0      0   7.9250   \n",
       "3             3         1       1  female  35.0      1      0  53.1000   \n",
       "4             4         0       3    male  35.0      0      0   8.0500   \n",
       "\n",
       "  embarked  class deck  embark_town  alone  \n",
       "0        S  Third  NaN  Southampton      0  \n",
       "1        C  First    C    Cherbourg      0  \n",
       "2        S  Third  NaN  Southampton      1  \n",
       "3        S  First    C  Southampton      0  \n",
       "4        S  Third  NaN  Southampton      1  "
      ]
     },
     "execution_count": 69,
     "metadata": {},
     "output_type": "execute_result"
    }
   ],
   "source": [
    "titanic.head()"
   ]
  },
  {
   "cell_type": "code",
   "execution_count": 70,
   "metadata": {},
   "outputs": [],
   "source": [
    "titanic_dummies = pd.get_dummies(titanic[['sex', 'embark_town', 'class']], drop_first=True)\n"
   ]
  },
  {
   "cell_type": "code",
   "execution_count": 71,
   "metadata": {},
   "outputs": [],
   "source": [
    "titanic = pd.concat([titanic, titanic_dummies], axis=1)\n"
   ]
  },
  {
   "cell_type": "code",
   "execution_count": 72,
   "metadata": {},
   "outputs": [],
   "source": [
    "titanic = titanic.drop(columns=['embark_town','class', 'sex', 'pclass'])\n"
   ]
  },
  {
   "cell_type": "code",
   "execution_count": 73,
   "metadata": {},
   "outputs": [
    {
     "data": {
      "text/html": [
       "<div>\n",
       "<style scoped>\n",
       "    .dataframe tbody tr th:only-of-type {\n",
       "        vertical-align: middle;\n",
       "    }\n",
       "\n",
       "    .dataframe tbody tr th {\n",
       "        vertical-align: top;\n",
       "    }\n",
       "\n",
       "    .dataframe thead th {\n",
       "        text-align: right;\n",
       "    }\n",
       "</style>\n",
       "<table border=\"1\" class=\"dataframe\">\n",
       "  <thead>\n",
       "    <tr style=\"text-align: right;\">\n",
       "      <th></th>\n",
       "      <th>passenger_id</th>\n",
       "      <th>survived</th>\n",
       "      <th>age</th>\n",
       "      <th>sibsp</th>\n",
       "      <th>parch</th>\n",
       "      <th>fare</th>\n",
       "      <th>embarked</th>\n",
       "      <th>deck</th>\n",
       "      <th>alone</th>\n",
       "      <th>sex_male</th>\n",
       "      <th>embark_town_Queenstown</th>\n",
       "      <th>embark_town_Southampton</th>\n",
       "      <th>class_Second</th>\n",
       "      <th>class_Third</th>\n",
       "    </tr>\n",
       "  </thead>\n",
       "  <tbody>\n",
       "    <tr>\n",
       "      <th>0</th>\n",
       "      <td>0</td>\n",
       "      <td>0</td>\n",
       "      <td>22.0</td>\n",
       "      <td>1</td>\n",
       "      <td>0</td>\n",
       "      <td>7.2500</td>\n",
       "      <td>S</td>\n",
       "      <td>NaN</td>\n",
       "      <td>0</td>\n",
       "      <td>1</td>\n",
       "      <td>0</td>\n",
       "      <td>1</td>\n",
       "      <td>0</td>\n",
       "      <td>1</td>\n",
       "    </tr>\n",
       "    <tr>\n",
       "      <th>1</th>\n",
       "      <td>1</td>\n",
       "      <td>1</td>\n",
       "      <td>38.0</td>\n",
       "      <td>1</td>\n",
       "      <td>0</td>\n",
       "      <td>71.2833</td>\n",
       "      <td>C</td>\n",
       "      <td>C</td>\n",
       "      <td>0</td>\n",
       "      <td>0</td>\n",
       "      <td>0</td>\n",
       "      <td>0</td>\n",
       "      <td>0</td>\n",
       "      <td>0</td>\n",
       "    </tr>\n",
       "    <tr>\n",
       "      <th>2</th>\n",
       "      <td>2</td>\n",
       "      <td>1</td>\n",
       "      <td>26.0</td>\n",
       "      <td>0</td>\n",
       "      <td>0</td>\n",
       "      <td>7.9250</td>\n",
       "      <td>S</td>\n",
       "      <td>NaN</td>\n",
       "      <td>1</td>\n",
       "      <td>0</td>\n",
       "      <td>0</td>\n",
       "      <td>1</td>\n",
       "      <td>0</td>\n",
       "      <td>1</td>\n",
       "    </tr>\n",
       "    <tr>\n",
       "      <th>3</th>\n",
       "      <td>3</td>\n",
       "      <td>1</td>\n",
       "      <td>35.0</td>\n",
       "      <td>1</td>\n",
       "      <td>0</td>\n",
       "      <td>53.1000</td>\n",
       "      <td>S</td>\n",
       "      <td>C</td>\n",
       "      <td>0</td>\n",
       "      <td>0</td>\n",
       "      <td>0</td>\n",
       "      <td>1</td>\n",
       "      <td>0</td>\n",
       "      <td>0</td>\n",
       "    </tr>\n",
       "    <tr>\n",
       "      <th>4</th>\n",
       "      <td>4</td>\n",
       "      <td>0</td>\n",
       "      <td>35.0</td>\n",
       "      <td>0</td>\n",
       "      <td>0</td>\n",
       "      <td>8.0500</td>\n",
       "      <td>S</td>\n",
       "      <td>NaN</td>\n",
       "      <td>1</td>\n",
       "      <td>1</td>\n",
       "      <td>0</td>\n",
       "      <td>1</td>\n",
       "      <td>0</td>\n",
       "      <td>1</td>\n",
       "    </tr>\n",
       "  </tbody>\n",
       "</table>\n",
       "</div>"
      ],
      "text/plain": [
       "   passenger_id  survived   age  sibsp  parch     fare embarked deck  alone  \\\n",
       "0             0         0  22.0      1      0   7.2500        S  NaN      0   \n",
       "1             1         1  38.0      1      0  71.2833        C    C      0   \n",
       "2             2         1  26.0      0      0   7.9250        S  NaN      1   \n",
       "3             3         1  35.0      1      0  53.1000        S    C      0   \n",
       "4             4         0  35.0      0      0   8.0500        S  NaN      1   \n",
       "\n",
       "   sex_male  embark_town_Queenstown  embark_town_Southampton  class_Second  \\\n",
       "0         1                       0                        1             0   \n",
       "1         0                       0                        0             0   \n",
       "2         0                       0                        1             0   \n",
       "3         0                       0                        1             0   \n",
       "4         1                       0                        1             0   \n",
       "\n",
       "   class_Third  \n",
       "0            1  \n",
       "1            0  \n",
       "2            1  \n",
       "3            0  \n",
       "4            1  "
      ]
     },
     "execution_count": 73,
     "metadata": {},
     "output_type": "execute_result"
    }
   ],
   "source": [
    "titanic.head()"
   ]
  },
  {
   "cell_type": "code",
   "execution_count": 74,
   "metadata": {},
   "outputs": [],
   "source": [
    "titanic = titanic.drop(columns='deck')\n"
   ]
  },
  {
   "cell_type": "code",
   "execution_count": 75,
   "metadata": {},
   "outputs": [],
   "source": [
    "train, validate, test = titanic_split(titanic)\n"
   ]
  },
  {
   "cell_type": "code",
   "execution_count": 76,
   "metadata": {},
   "outputs": [
    {
     "data": {
      "text/plain": [
       "True"
      ]
     },
     "execution_count": 76,
     "metadata": {},
     "output_type": "execute_result"
    }
   ],
   "source": [
    "train.age.isnull().values.any()"
   ]
  },
  {
   "cell_type": "code",
   "execution_count": 77,
   "metadata": {},
   "outputs": [
    {
     "name": "stderr",
     "output_type": "stream",
     "text": [
      "/usr/local/anaconda3/lib/python3.7/site-packages/ipykernel_launcher.py:19: SettingWithCopyWarning: \n",
      "A value is trying to be set on a copy of a slice from a DataFrame.\n",
      "Try using .loc[row_indexer,col_indexer] = value instead\n",
      "\n",
      "See the caveats in the documentation: https://pandas.pydata.org/pandas-docs/stable/user_guide/indexing.html#returning-a-view-versus-a-copy\n"
     ]
    }
   ],
   "source": [
    "train, validate, test = impute_mean_age(train, validate, test)\n"
   ]
  },
  {
   "cell_type": "code",
   "execution_count": 78,
   "metadata": {},
   "outputs": [
    {
     "data": {
      "text/plain": [
       "(497, 13)"
      ]
     },
     "execution_count": 78,
     "metadata": {},
     "output_type": "execute_result"
    }
   ],
   "source": [
    "train.shape"
   ]
  },
  {
   "cell_type": "code",
   "execution_count": 79,
   "metadata": {},
   "outputs": [
    {
     "data": {
      "text/plain": [
       "(214, 13)"
      ]
     },
     "execution_count": 79,
     "metadata": {},
     "output_type": "execute_result"
    }
   ],
   "source": [
    "validate.shape"
   ]
  },
  {
   "cell_type": "code",
   "execution_count": 80,
   "metadata": {},
   "outputs": [
    {
     "data": {
      "text/plain": [
       "(178, 13)"
      ]
     },
     "execution_count": 80,
     "metadata": {},
     "output_type": "execute_result"
    }
   ],
   "source": [
    "test.shape"
   ]
  },
  {
   "cell_type": "code",
   "execution_count": 81,
   "metadata": {},
   "outputs": [
    {
     "data": {
      "text/html": [
       "<div>\n",
       "<style scoped>\n",
       "    .dataframe tbody tr th:only-of-type {\n",
       "        vertical-align: middle;\n",
       "    }\n",
       "\n",
       "    .dataframe tbody tr th {\n",
       "        vertical-align: top;\n",
       "    }\n",
       "\n",
       "    .dataframe thead th {\n",
       "        text-align: right;\n",
       "    }\n",
       "</style>\n",
       "<table border=\"1\" class=\"dataframe\">\n",
       "  <thead>\n",
       "    <tr style=\"text-align: right;\">\n",
       "      <th></th>\n",
       "      <th>passenger_id</th>\n",
       "      <th>survived</th>\n",
       "      <th>age</th>\n",
       "      <th>sibsp</th>\n",
       "      <th>parch</th>\n",
       "      <th>fare</th>\n",
       "      <th>embarked</th>\n",
       "      <th>alone</th>\n",
       "      <th>sex_male</th>\n",
       "      <th>embark_town_Queenstown</th>\n",
       "      <th>embark_town_Southampton</th>\n",
       "      <th>class_Second</th>\n",
       "      <th>class_Third</th>\n",
       "    </tr>\n",
       "  </thead>\n",
       "  <tbody>\n",
       "    <tr>\n",
       "      <th>561</th>\n",
       "      <td>561</td>\n",
       "      <td>0</td>\n",
       "      <td>40.000000</td>\n",
       "      <td>0</td>\n",
       "      <td>0</td>\n",
       "      <td>7.8958</td>\n",
       "      <td>S</td>\n",
       "      <td>1</td>\n",
       "      <td>1</td>\n",
       "      <td>0</td>\n",
       "      <td>1</td>\n",
       "      <td>0</td>\n",
       "      <td>1</td>\n",
       "    </tr>\n",
       "    <tr>\n",
       "      <th>328</th>\n",
       "      <td>328</td>\n",
       "      <td>1</td>\n",
       "      <td>31.000000</td>\n",
       "      <td>1</td>\n",
       "      <td>1</td>\n",
       "      <td>20.5250</td>\n",
       "      <td>S</td>\n",
       "      <td>0</td>\n",
       "      <td>0</td>\n",
       "      <td>0</td>\n",
       "      <td>1</td>\n",
       "      <td>0</td>\n",
       "      <td>1</td>\n",
       "    </tr>\n",
       "    <tr>\n",
       "      <th>643</th>\n",
       "      <td>643</td>\n",
       "      <td>1</td>\n",
       "      <td>29.916875</td>\n",
       "      <td>0</td>\n",
       "      <td>0</td>\n",
       "      <td>56.4958</td>\n",
       "      <td>S</td>\n",
       "      <td>1</td>\n",
       "      <td>1</td>\n",
       "      <td>0</td>\n",
       "      <td>1</td>\n",
       "      <td>0</td>\n",
       "      <td>1</td>\n",
       "    </tr>\n",
       "    <tr>\n",
       "      <th>498</th>\n",
       "      <td>498</td>\n",
       "      <td>0</td>\n",
       "      <td>25.000000</td>\n",
       "      <td>1</td>\n",
       "      <td>2</td>\n",
       "      <td>151.5500</td>\n",
       "      <td>S</td>\n",
       "      <td>0</td>\n",
       "      <td>0</td>\n",
       "      <td>0</td>\n",
       "      <td>1</td>\n",
       "      <td>0</td>\n",
       "      <td>0</td>\n",
       "    </tr>\n",
       "    <tr>\n",
       "      <th>875</th>\n",
       "      <td>875</td>\n",
       "      <td>1</td>\n",
       "      <td>15.000000</td>\n",
       "      <td>0</td>\n",
       "      <td>0</td>\n",
       "      <td>7.2250</td>\n",
       "      <td>C</td>\n",
       "      <td>1</td>\n",
       "      <td>0</td>\n",
       "      <td>0</td>\n",
       "      <td>0</td>\n",
       "      <td>0</td>\n",
       "      <td>1</td>\n",
       "    </tr>\n",
       "  </tbody>\n",
       "</table>\n",
       "</div>"
      ],
      "text/plain": [
       "     passenger_id  survived        age  sibsp  parch      fare embarked  \\\n",
       "561           561         0  40.000000      0      0    7.8958        S   \n",
       "328           328         1  31.000000      1      1   20.5250        S   \n",
       "643           643         1  29.916875      0      0   56.4958        S   \n",
       "498           498         0  25.000000      1      2  151.5500        S   \n",
       "875           875         1  15.000000      0      0    7.2250        C   \n",
       "\n",
       "     alone  sex_male  embark_town_Queenstown  embark_town_Southampton  \\\n",
       "561      1         1                       0                        1   \n",
       "328      0         0                       0                        1   \n",
       "643      1         1                       0                        1   \n",
       "498      0         0                       0                        1   \n",
       "875      1         0                       0                        0   \n",
       "\n",
       "     class_Second  class_Third  \n",
       "561             0            1  \n",
       "328             0            1  \n",
       "643             0            1  \n",
       "498             0            0  \n",
       "875             0            1  "
      ]
     },
     "execution_count": 81,
     "metadata": {},
     "output_type": "execute_result"
    }
   ],
   "source": [
    "test.head()"
   ]
  },
  {
   "cell_type": "code",
   "execution_count": 82,
   "metadata": {},
   "outputs": [
    {
     "data": {
      "text/plain": [
       "0    0.617706\n",
       "1    0.382294\n",
       "Name: survived, dtype: float64"
      ]
     },
     "execution_count": 82,
     "metadata": {},
     "output_type": "execute_result"
    }
   ],
   "source": [
    "train.survived.value_counts(normalize=True)\n"
   ]
  },
  {
   "cell_type": "code",
   "execution_count": 83,
   "metadata": {},
   "outputs": [],
   "source": [
    "logit = LogisticRegression()\n"
   ]
  },
  {
   "cell_type": "code",
   "execution_count": 84,
   "metadata": {},
   "outputs": [],
   "source": [
    "X_train = train.drop(columns=['survived'])\n",
    "y_train = train.survived\n",
    "\n",
    "X_validate = validate.drop(columns=['survived'])\n",
    "y_validate = validate.survived\n",
    "\n",
    "X_test = test.drop(columns=['survived'])\n",
    "y_test = test.survived"
   ]
  },
  {
   "cell_type": "code",
   "execution_count": 85,
   "metadata": {},
   "outputs": [
    {
     "ename": "ValueError",
     "evalue": "could not convert string to float: 'C'",
     "output_type": "error",
     "traceback": [
      "\u001b[0;31m---------------------------------------------------------------------------\u001b[0m",
      "\u001b[0;31mValueError\u001b[0m                                Traceback (most recent call last)",
      "\u001b[0;32m<ipython-input-85-98b4b06e3bc2>\u001b[0m in \u001b[0;36m<module>\u001b[0;34m\u001b[0m\n\u001b[0;32m----> 1\u001b[0;31m \u001b[0mlogit\u001b[0m \u001b[0;34m=\u001b[0m \u001b[0mlogit\u001b[0m\u001b[0;34m.\u001b[0m\u001b[0mfit\u001b[0m\u001b[0;34m(\u001b[0m\u001b[0mX_train\u001b[0m\u001b[0;34m,\u001b[0m \u001b[0my_train\u001b[0m\u001b[0;34m)\u001b[0m\u001b[0;34m\u001b[0m\u001b[0;34m\u001b[0m\u001b[0m\n\u001b[0m",
      "\u001b[0;32m/usr/local/anaconda3/lib/python3.7/site-packages/sklearn/linear_model/_logistic.py\u001b[0m in \u001b[0;36mfit\u001b[0;34m(self, X, y, sample_weight)\u001b[0m\n\u001b[1;32m   1525\u001b[0m \u001b[0;34m\u001b[0m\u001b[0m\n\u001b[1;32m   1526\u001b[0m         X, y = check_X_y(X, y, accept_sparse='csr', dtype=_dtype, order=\"C\",\n\u001b[0;32m-> 1527\u001b[0;31m                          accept_large_sparse=solver != 'liblinear')\n\u001b[0m\u001b[1;32m   1528\u001b[0m         \u001b[0mcheck_classification_targets\u001b[0m\u001b[0;34m(\u001b[0m\u001b[0my\u001b[0m\u001b[0;34m)\u001b[0m\u001b[0;34m\u001b[0m\u001b[0;34m\u001b[0m\u001b[0m\n\u001b[1;32m   1529\u001b[0m         \u001b[0mself\u001b[0m\u001b[0;34m.\u001b[0m\u001b[0mclasses_\u001b[0m \u001b[0;34m=\u001b[0m \u001b[0mnp\u001b[0m\u001b[0;34m.\u001b[0m\u001b[0munique\u001b[0m\u001b[0;34m(\u001b[0m\u001b[0my\u001b[0m\u001b[0;34m)\u001b[0m\u001b[0;34m\u001b[0m\u001b[0;34m\u001b[0m\u001b[0m\n",
      "\u001b[0;32m/usr/local/anaconda3/lib/python3.7/site-packages/sklearn/utils/validation.py\u001b[0m in \u001b[0;36mcheck_X_y\u001b[0;34m(X, y, accept_sparse, accept_large_sparse, dtype, order, copy, force_all_finite, ensure_2d, allow_nd, multi_output, ensure_min_samples, ensure_min_features, y_numeric, warn_on_dtype, estimator)\u001b[0m\n\u001b[1;32m    753\u001b[0m                     \u001b[0mensure_min_features\u001b[0m\u001b[0;34m=\u001b[0m\u001b[0mensure_min_features\u001b[0m\u001b[0;34m,\u001b[0m\u001b[0;34m\u001b[0m\u001b[0;34m\u001b[0m\u001b[0m\n\u001b[1;32m    754\u001b[0m                     \u001b[0mwarn_on_dtype\u001b[0m\u001b[0;34m=\u001b[0m\u001b[0mwarn_on_dtype\u001b[0m\u001b[0;34m,\u001b[0m\u001b[0;34m\u001b[0m\u001b[0;34m\u001b[0m\u001b[0m\n\u001b[0;32m--> 755\u001b[0;31m                     estimator=estimator)\n\u001b[0m\u001b[1;32m    756\u001b[0m     \u001b[0;32mif\u001b[0m \u001b[0mmulti_output\u001b[0m\u001b[0;34m:\u001b[0m\u001b[0;34m\u001b[0m\u001b[0;34m\u001b[0m\u001b[0m\n\u001b[1;32m    757\u001b[0m         y = check_array(y, 'csr', force_all_finite=True, ensure_2d=False,\n",
      "\u001b[0;32m/usr/local/anaconda3/lib/python3.7/site-packages/sklearn/utils/validation.py\u001b[0m in \u001b[0;36mcheck_array\u001b[0;34m(array, accept_sparse, accept_large_sparse, dtype, order, copy, force_all_finite, ensure_2d, allow_nd, ensure_min_samples, ensure_min_features, warn_on_dtype, estimator)\u001b[0m\n\u001b[1;32m    529\u001b[0m                     \u001b[0marray\u001b[0m \u001b[0;34m=\u001b[0m \u001b[0marray\u001b[0m\u001b[0;34m.\u001b[0m\u001b[0mastype\u001b[0m\u001b[0;34m(\u001b[0m\u001b[0mdtype\u001b[0m\u001b[0;34m,\u001b[0m \u001b[0mcasting\u001b[0m\u001b[0;34m=\u001b[0m\u001b[0;34m\"unsafe\"\u001b[0m\u001b[0;34m,\u001b[0m \u001b[0mcopy\u001b[0m\u001b[0;34m=\u001b[0m\u001b[0;32mFalse\u001b[0m\u001b[0;34m)\u001b[0m\u001b[0;34m\u001b[0m\u001b[0;34m\u001b[0m\u001b[0m\n\u001b[1;32m    530\u001b[0m                 \u001b[0;32melse\u001b[0m\u001b[0;34m:\u001b[0m\u001b[0;34m\u001b[0m\u001b[0;34m\u001b[0m\u001b[0m\n\u001b[0;32m--> 531\u001b[0;31m                     \u001b[0marray\u001b[0m \u001b[0;34m=\u001b[0m \u001b[0mnp\u001b[0m\u001b[0;34m.\u001b[0m\u001b[0masarray\u001b[0m\u001b[0;34m(\u001b[0m\u001b[0marray\u001b[0m\u001b[0;34m,\u001b[0m \u001b[0morder\u001b[0m\u001b[0;34m=\u001b[0m\u001b[0morder\u001b[0m\u001b[0;34m,\u001b[0m \u001b[0mdtype\u001b[0m\u001b[0;34m=\u001b[0m\u001b[0mdtype\u001b[0m\u001b[0;34m)\u001b[0m\u001b[0;34m\u001b[0m\u001b[0;34m\u001b[0m\u001b[0m\n\u001b[0m\u001b[1;32m    532\u001b[0m             \u001b[0;32mexcept\u001b[0m \u001b[0mComplexWarning\u001b[0m\u001b[0;34m:\u001b[0m\u001b[0;34m\u001b[0m\u001b[0;34m\u001b[0m\u001b[0m\n\u001b[1;32m    533\u001b[0m                 raise ValueError(\"Complex data not supported\\n\"\n",
      "\u001b[0;32m/usr/local/anaconda3/lib/python3.7/site-packages/numpy/core/_asarray.py\u001b[0m in \u001b[0;36masarray\u001b[0;34m(a, dtype, order)\u001b[0m\n\u001b[1;32m     83\u001b[0m \u001b[0;34m\u001b[0m\u001b[0m\n\u001b[1;32m     84\u001b[0m     \"\"\"\n\u001b[0;32m---> 85\u001b[0;31m     \u001b[0;32mreturn\u001b[0m \u001b[0marray\u001b[0m\u001b[0;34m(\u001b[0m\u001b[0ma\u001b[0m\u001b[0;34m,\u001b[0m \u001b[0mdtype\u001b[0m\u001b[0;34m,\u001b[0m \u001b[0mcopy\u001b[0m\u001b[0;34m=\u001b[0m\u001b[0;32mFalse\u001b[0m\u001b[0;34m,\u001b[0m \u001b[0morder\u001b[0m\u001b[0;34m=\u001b[0m\u001b[0morder\u001b[0m\u001b[0;34m)\u001b[0m\u001b[0;34m\u001b[0m\u001b[0;34m\u001b[0m\u001b[0m\n\u001b[0m\u001b[1;32m     86\u001b[0m \u001b[0;34m\u001b[0m\u001b[0m\n\u001b[1;32m     87\u001b[0m \u001b[0;34m\u001b[0m\u001b[0m\n",
      "\u001b[0;31mValueError\u001b[0m: could not convert string to float: 'C'"
     ]
    }
   ],
   "source": [
    "logit = logit.fit(X_train, y_train)\n"
   ]
  },
  {
   "cell_type": "code",
   "execution_count": 27,
   "metadata": {},
   "outputs": [
    {
     "data": {
      "text/plain": [
       "Index(['passenger_id',          'age',        'sibsp',        'parch',\n",
       "               'fare',     'embarked',         'deck',        'alone',\n",
       "                    2,              3],\n",
       "      dtype='object')"
      ]
     },
     "execution_count": 27,
     "metadata": {},
     "output_type": "execute_result"
    }
   ],
   "source": [
    "X_train.columns\n"
   ]
  },
  {
   "cell_type": "code",
   "execution_count": 29,
   "metadata": {},
   "outputs": [
    {
     "ename": "AttributeError",
     "evalue": "'LogisticRegression' object has no attribute 'coef_'",
     "output_type": "error",
     "traceback": [
      "\u001b[0;31m---------------------------------------------------------------------------\u001b[0m",
      "\u001b[0;31mAttributeError\u001b[0m                            Traceback (most recent call last)",
      "\u001b[0;32m<ipython-input-29-0aa545b28dc6>\u001b[0m in \u001b[0;36m<module>\u001b[0;34m\u001b[0m\n\u001b[0;32m----> 1\u001b[0;31m \u001b[0mlogit\u001b[0m\u001b[0;34m.\u001b[0m\u001b[0mcoef_\u001b[0m\u001b[0;34m\u001b[0m\u001b[0;34m\u001b[0m\u001b[0m\n\u001b[0m",
      "\u001b[0;31mAttributeError\u001b[0m: 'LogisticRegression' object has no attribute 'coef_'"
     ]
    }
   ],
   "source": [
    "logit.coef_\n"
   ]
  },
  {
   "cell_type": "code",
   "execution_count": null,
   "metadata": {},
   "outputs": [],
   "source": [
    "y_pred = logit.predict(X_train)\n",
    "y_pred_proba = logit.predict_proba(X_train)"
   ]
  },
  {
   "cell_type": "code",
   "execution_count": null,
   "metadata": {},
   "outputs": [],
   "source": [
    "y_pred_proba"
   ]
  },
  {
   "cell_type": "code",
   "execution_count": null,
   "metadata": {},
   "outputs": [],
   "source": [
    "logit.score(X_train, y_train)\n"
   ]
  },
  {
   "cell_type": "code",
   "execution_count": null,
   "metadata": {},
   "outputs": [],
   "source": [
    "print(confusion_matrix(y_train, y_pred))\n"
   ]
  },
  {
   "cell_type": "code",
   "execution_count": null,
   "metadata": {},
   "outputs": [],
   "source": [
    "print(classification_report(y_train, y_pred))\n"
   ]
  },
  {
   "cell_type": "code",
   "execution_count": 34,
   "metadata": {},
   "outputs": [],
   "source": [
    "titanic2 = get_titanic_data()"
   ]
  },
  {
   "cell_type": "code",
   "execution_count": 35,
   "metadata": {},
   "outputs": [
    {
     "data": {
      "text/html": [
       "<div>\n",
       "<style scoped>\n",
       "    .dataframe tbody tr th:only-of-type {\n",
       "        vertical-align: middle;\n",
       "    }\n",
       "\n",
       "    .dataframe tbody tr th {\n",
       "        vertical-align: top;\n",
       "    }\n",
       "\n",
       "    .dataframe thead th {\n",
       "        text-align: right;\n",
       "    }\n",
       "</style>\n",
       "<table border=\"1\" class=\"dataframe\">\n",
       "  <thead>\n",
       "    <tr style=\"text-align: right;\">\n",
       "      <th></th>\n",
       "      <th>passenger_id</th>\n",
       "      <th>survived</th>\n",
       "      <th>pclass</th>\n",
       "      <th>sex</th>\n",
       "      <th>age</th>\n",
       "      <th>sibsp</th>\n",
       "      <th>parch</th>\n",
       "      <th>fare</th>\n",
       "      <th>embarked</th>\n",
       "      <th>class</th>\n",
       "      <th>deck</th>\n",
       "      <th>embark_town</th>\n",
       "      <th>alone</th>\n",
       "    </tr>\n",
       "  </thead>\n",
       "  <tbody>\n",
       "    <tr>\n",
       "      <th>0</th>\n",
       "      <td>0</td>\n",
       "      <td>0</td>\n",
       "      <td>3</td>\n",
       "      <td>male</td>\n",
       "      <td>22.0</td>\n",
       "      <td>1</td>\n",
       "      <td>0</td>\n",
       "      <td>7.2500</td>\n",
       "      <td>S</td>\n",
       "      <td>Third</td>\n",
       "      <td>NaN</td>\n",
       "      <td>Southampton</td>\n",
       "      <td>0</td>\n",
       "    </tr>\n",
       "    <tr>\n",
       "      <th>1</th>\n",
       "      <td>1</td>\n",
       "      <td>1</td>\n",
       "      <td>1</td>\n",
       "      <td>female</td>\n",
       "      <td>38.0</td>\n",
       "      <td>1</td>\n",
       "      <td>0</td>\n",
       "      <td>71.2833</td>\n",
       "      <td>C</td>\n",
       "      <td>First</td>\n",
       "      <td>C</td>\n",
       "      <td>Cherbourg</td>\n",
       "      <td>0</td>\n",
       "    </tr>\n",
       "    <tr>\n",
       "      <th>2</th>\n",
       "      <td>2</td>\n",
       "      <td>1</td>\n",
       "      <td>3</td>\n",
       "      <td>female</td>\n",
       "      <td>26.0</td>\n",
       "      <td>0</td>\n",
       "      <td>0</td>\n",
       "      <td>7.9250</td>\n",
       "      <td>S</td>\n",
       "      <td>Third</td>\n",
       "      <td>NaN</td>\n",
       "      <td>Southampton</td>\n",
       "      <td>1</td>\n",
       "    </tr>\n",
       "    <tr>\n",
       "      <th>3</th>\n",
       "      <td>3</td>\n",
       "      <td>1</td>\n",
       "      <td>1</td>\n",
       "      <td>female</td>\n",
       "      <td>35.0</td>\n",
       "      <td>1</td>\n",
       "      <td>0</td>\n",
       "      <td>53.1000</td>\n",
       "      <td>S</td>\n",
       "      <td>First</td>\n",
       "      <td>C</td>\n",
       "      <td>Southampton</td>\n",
       "      <td>0</td>\n",
       "    </tr>\n",
       "    <tr>\n",
       "      <th>4</th>\n",
       "      <td>4</td>\n",
       "      <td>0</td>\n",
       "      <td>3</td>\n",
       "      <td>male</td>\n",
       "      <td>35.0</td>\n",
       "      <td>0</td>\n",
       "      <td>0</td>\n",
       "      <td>8.0500</td>\n",
       "      <td>S</td>\n",
       "      <td>Third</td>\n",
       "      <td>NaN</td>\n",
       "      <td>Southampton</td>\n",
       "      <td>1</td>\n",
       "    </tr>\n",
       "  </tbody>\n",
       "</table>\n",
       "</div>"
      ],
      "text/plain": [
       "   passenger_id  survived  pclass     sex   age  sibsp  parch     fare  \\\n",
       "0             0         0       3    male  22.0      1      0   7.2500   \n",
       "1             1         1       1  female  38.0      1      0  71.2833   \n",
       "2             2         1       3  female  26.0      0      0   7.9250   \n",
       "3             3         1       1  female  35.0      1      0  53.1000   \n",
       "4             4         0       3    male  35.0      0      0   8.0500   \n",
       "\n",
       "  embarked  class deck  embark_town  alone  \n",
       "0        S  Third  NaN  Southampton      0  \n",
       "1        C  First    C    Cherbourg      0  \n",
       "2        S  Third  NaN  Southampton      1  \n",
       "3        S  First    C  Southampton      0  \n",
       "4        S  Third  NaN  Southampton      1  "
      ]
     },
     "execution_count": 35,
     "metadata": {},
     "output_type": "execute_result"
    }
   ],
   "source": [
    "titanic2.head()"
   ]
  },
  {
   "cell_type": "code",
   "execution_count": 36,
   "metadata": {},
   "outputs": [
    {
     "data": {
      "text/plain": [
       "True"
      ]
     },
     "execution_count": 36,
     "metadata": {},
     "output_type": "execute_result"
    }
   ],
   "source": [
    "titanic2.age.isnull().values.any()"
   ]
  },
  {
   "cell_type": "markdown",
   "metadata": {},
   "source": [
    "Create another model that includes age in addition to fare and pclass. Does this model perform better than your previous one?"
   ]
  },
  {
   "cell_type": "code",
   "execution_count": 37,
   "metadata": {},
   "outputs": [],
   "source": [
    "titanic2 = titanic2.drop(columns=['sex', 'sibsp', 'parch', 'embarked','class', 'deck','embark_town', 'alone'])\n"
   ]
  },
  {
   "cell_type": "code",
   "execution_count": 38,
   "metadata": {},
   "outputs": [
    {
     "data": {
      "text/html": [
       "<div>\n",
       "<style scoped>\n",
       "    .dataframe tbody tr th:only-of-type {\n",
       "        vertical-align: middle;\n",
       "    }\n",
       "\n",
       "    .dataframe tbody tr th {\n",
       "        vertical-align: top;\n",
       "    }\n",
       "\n",
       "    .dataframe thead th {\n",
       "        text-align: right;\n",
       "    }\n",
       "</style>\n",
       "<table border=\"1\" class=\"dataframe\">\n",
       "  <thead>\n",
       "    <tr style=\"text-align: right;\">\n",
       "      <th></th>\n",
       "      <th>passenger_id</th>\n",
       "      <th>survived</th>\n",
       "      <th>pclass</th>\n",
       "      <th>age</th>\n",
       "      <th>fare</th>\n",
       "    </tr>\n",
       "  </thead>\n",
       "  <tbody>\n",
       "    <tr>\n",
       "      <th>0</th>\n",
       "      <td>0</td>\n",
       "      <td>0</td>\n",
       "      <td>3</td>\n",
       "      <td>22.0</td>\n",
       "      <td>7.2500</td>\n",
       "    </tr>\n",
       "    <tr>\n",
       "      <th>1</th>\n",
       "      <td>1</td>\n",
       "      <td>1</td>\n",
       "      <td>1</td>\n",
       "      <td>38.0</td>\n",
       "      <td>71.2833</td>\n",
       "    </tr>\n",
       "    <tr>\n",
       "      <th>2</th>\n",
       "      <td>2</td>\n",
       "      <td>1</td>\n",
       "      <td>3</td>\n",
       "      <td>26.0</td>\n",
       "      <td>7.9250</td>\n",
       "    </tr>\n",
       "    <tr>\n",
       "      <th>3</th>\n",
       "      <td>3</td>\n",
       "      <td>1</td>\n",
       "      <td>1</td>\n",
       "      <td>35.0</td>\n",
       "      <td>53.1000</td>\n",
       "    </tr>\n",
       "    <tr>\n",
       "      <th>4</th>\n",
       "      <td>4</td>\n",
       "      <td>0</td>\n",
       "      <td>3</td>\n",
       "      <td>35.0</td>\n",
       "      <td>8.0500</td>\n",
       "    </tr>\n",
       "  </tbody>\n",
       "</table>\n",
       "</div>"
      ],
      "text/plain": [
       "   passenger_id  survived  pclass   age     fare\n",
       "0             0         0       3  22.0   7.2500\n",
       "1             1         1       1  38.0  71.2833\n",
       "2             2         1       3  26.0   7.9250\n",
       "3             3         1       1  35.0  53.1000\n",
       "4             4         0       3  35.0   8.0500"
      ]
     },
     "execution_count": 38,
     "metadata": {},
     "output_type": "execute_result"
    }
   ],
   "source": [
    "titanic2.head()"
   ]
  },
  {
   "cell_type": "code",
   "execution_count": 39,
   "metadata": {},
   "outputs": [],
   "source": [
    "titanic2 = titanic2.drop(columns='passenger_id')"
   ]
  },
  {
   "cell_type": "code",
   "execution_count": 40,
   "metadata": {},
   "outputs": [
    {
     "data": {
      "text/html": [
       "<div>\n",
       "<style scoped>\n",
       "    .dataframe tbody tr th:only-of-type {\n",
       "        vertical-align: middle;\n",
       "    }\n",
       "\n",
       "    .dataframe tbody tr th {\n",
       "        vertical-align: top;\n",
       "    }\n",
       "\n",
       "    .dataframe thead th {\n",
       "        text-align: right;\n",
       "    }\n",
       "</style>\n",
       "<table border=\"1\" class=\"dataframe\">\n",
       "  <thead>\n",
       "    <tr style=\"text-align: right;\">\n",
       "      <th></th>\n",
       "      <th>survived</th>\n",
       "      <th>pclass</th>\n",
       "      <th>age</th>\n",
       "      <th>fare</th>\n",
       "    </tr>\n",
       "  </thead>\n",
       "  <tbody>\n",
       "    <tr>\n",
       "      <th>0</th>\n",
       "      <td>0</td>\n",
       "      <td>3</td>\n",
       "      <td>22.0</td>\n",
       "      <td>7.2500</td>\n",
       "    </tr>\n",
       "    <tr>\n",
       "      <th>1</th>\n",
       "      <td>1</td>\n",
       "      <td>1</td>\n",
       "      <td>38.0</td>\n",
       "      <td>71.2833</td>\n",
       "    </tr>\n",
       "    <tr>\n",
       "      <th>2</th>\n",
       "      <td>1</td>\n",
       "      <td>3</td>\n",
       "      <td>26.0</td>\n",
       "      <td>7.9250</td>\n",
       "    </tr>\n",
       "    <tr>\n",
       "      <th>3</th>\n",
       "      <td>1</td>\n",
       "      <td>1</td>\n",
       "      <td>35.0</td>\n",
       "      <td>53.1000</td>\n",
       "    </tr>\n",
       "    <tr>\n",
       "      <th>4</th>\n",
       "      <td>0</td>\n",
       "      <td>3</td>\n",
       "      <td>35.0</td>\n",
       "      <td>8.0500</td>\n",
       "    </tr>\n",
       "  </tbody>\n",
       "</table>\n",
       "</div>"
      ],
      "text/plain": [
       "   survived  pclass   age     fare\n",
       "0         0       3  22.0   7.2500\n",
       "1         1       1  38.0  71.2833\n",
       "2         1       3  26.0   7.9250\n",
       "3         1       1  35.0  53.1000\n",
       "4         0       3  35.0   8.0500"
      ]
     },
     "execution_count": 40,
     "metadata": {},
     "output_type": "execute_result"
    }
   ],
   "source": [
    "titanic2.head()"
   ]
  },
  {
   "cell_type": "code",
   "execution_count": 41,
   "metadata": {},
   "outputs": [],
   "source": [
    "titanic2_dummies = pd.get_dummies(titanic2.pclass, drop_first=True)\n"
   ]
  },
  {
   "cell_type": "code",
   "execution_count": 42,
   "metadata": {},
   "outputs": [],
   "source": [
    "titanic2 = pd.concat([titanic2, titanic2_dummies], axis=1)\n"
   ]
  },
  {
   "cell_type": "code",
   "execution_count": 43,
   "metadata": {},
   "outputs": [
    {
     "data": {
      "text/html": [
       "<div>\n",
       "<style scoped>\n",
       "    .dataframe tbody tr th:only-of-type {\n",
       "        vertical-align: middle;\n",
       "    }\n",
       "\n",
       "    .dataframe tbody tr th {\n",
       "        vertical-align: top;\n",
       "    }\n",
       "\n",
       "    .dataframe thead th {\n",
       "        text-align: right;\n",
       "    }\n",
       "</style>\n",
       "<table border=\"1\" class=\"dataframe\">\n",
       "  <thead>\n",
       "    <tr style=\"text-align: right;\">\n",
       "      <th></th>\n",
       "      <th>survived</th>\n",
       "      <th>pclass</th>\n",
       "      <th>age</th>\n",
       "      <th>fare</th>\n",
       "      <th>2</th>\n",
       "      <th>3</th>\n",
       "    </tr>\n",
       "  </thead>\n",
       "  <tbody>\n",
       "    <tr>\n",
       "      <th>0</th>\n",
       "      <td>0</td>\n",
       "      <td>3</td>\n",
       "      <td>22.0</td>\n",
       "      <td>7.2500</td>\n",
       "      <td>0</td>\n",
       "      <td>1</td>\n",
       "    </tr>\n",
       "    <tr>\n",
       "      <th>1</th>\n",
       "      <td>1</td>\n",
       "      <td>1</td>\n",
       "      <td>38.0</td>\n",
       "      <td>71.2833</td>\n",
       "      <td>0</td>\n",
       "      <td>0</td>\n",
       "    </tr>\n",
       "    <tr>\n",
       "      <th>2</th>\n",
       "      <td>1</td>\n",
       "      <td>3</td>\n",
       "      <td>26.0</td>\n",
       "      <td>7.9250</td>\n",
       "      <td>0</td>\n",
       "      <td>1</td>\n",
       "    </tr>\n",
       "    <tr>\n",
       "      <th>3</th>\n",
       "      <td>1</td>\n",
       "      <td>1</td>\n",
       "      <td>35.0</td>\n",
       "      <td>53.1000</td>\n",
       "      <td>0</td>\n",
       "      <td>0</td>\n",
       "    </tr>\n",
       "    <tr>\n",
       "      <th>4</th>\n",
       "      <td>0</td>\n",
       "      <td>3</td>\n",
       "      <td>35.0</td>\n",
       "      <td>8.0500</td>\n",
       "      <td>0</td>\n",
       "      <td>1</td>\n",
       "    </tr>\n",
       "  </tbody>\n",
       "</table>\n",
       "</div>"
      ],
      "text/plain": [
       "   survived  pclass   age     fare  2  3\n",
       "0         0       3  22.0   7.2500  0  1\n",
       "1         1       1  38.0  71.2833  0  0\n",
       "2         1       3  26.0   7.9250  0  1\n",
       "3         1       1  35.0  53.1000  0  0\n",
       "4         0       3  35.0   8.0500  0  1"
      ]
     },
     "execution_count": 43,
     "metadata": {},
     "output_type": "execute_result"
    }
   ],
   "source": [
    "titanic2.head()"
   ]
  },
  {
   "cell_type": "code",
   "execution_count": 44,
   "metadata": {},
   "outputs": [],
   "source": [
    "train, validate, test = titanic_split(titanic2)\n"
   ]
  },
  {
   "cell_type": "code",
   "execution_count": 45,
   "metadata": {},
   "outputs": [
    {
     "data": {
      "text/html": [
       "<div>\n",
       "<style scoped>\n",
       "    .dataframe tbody tr th:only-of-type {\n",
       "        vertical-align: middle;\n",
       "    }\n",
       "\n",
       "    .dataframe tbody tr th {\n",
       "        vertical-align: top;\n",
       "    }\n",
       "\n",
       "    .dataframe thead th {\n",
       "        text-align: right;\n",
       "    }\n",
       "</style>\n",
       "<table border=\"1\" class=\"dataframe\">\n",
       "  <thead>\n",
       "    <tr style=\"text-align: right;\">\n",
       "      <th></th>\n",
       "      <th>survived</th>\n",
       "      <th>pclass</th>\n",
       "      <th>age</th>\n",
       "      <th>fare</th>\n",
       "      <th>2</th>\n",
       "      <th>3</th>\n",
       "    </tr>\n",
       "  </thead>\n",
       "  <tbody>\n",
       "    <tr>\n",
       "      <th>583</th>\n",
       "      <td>0</td>\n",
       "      <td>1</td>\n",
       "      <td>36.0</td>\n",
       "      <td>40.1250</td>\n",
       "      <td>0</td>\n",
       "      <td>0</td>\n",
       "    </tr>\n",
       "    <tr>\n",
       "      <th>165</th>\n",
       "      <td>1</td>\n",
       "      <td>3</td>\n",
       "      <td>9.0</td>\n",
       "      <td>20.5250</td>\n",
       "      <td>0</td>\n",
       "      <td>1</td>\n",
       "    </tr>\n",
       "    <tr>\n",
       "      <th>50</th>\n",
       "      <td>0</td>\n",
       "      <td>3</td>\n",
       "      <td>7.0</td>\n",
       "      <td>39.6875</td>\n",
       "      <td>0</td>\n",
       "      <td>1</td>\n",
       "    </tr>\n",
       "    <tr>\n",
       "      <th>259</th>\n",
       "      <td>1</td>\n",
       "      <td>2</td>\n",
       "      <td>50.0</td>\n",
       "      <td>26.0000</td>\n",
       "      <td>1</td>\n",
       "      <td>0</td>\n",
       "    </tr>\n",
       "    <tr>\n",
       "      <th>306</th>\n",
       "      <td>1</td>\n",
       "      <td>1</td>\n",
       "      <td>NaN</td>\n",
       "      <td>110.8833</td>\n",
       "      <td>0</td>\n",
       "      <td>0</td>\n",
       "    </tr>\n",
       "  </tbody>\n",
       "</table>\n",
       "</div>"
      ],
      "text/plain": [
       "     survived  pclass   age      fare  2  3\n",
       "583         0       1  36.0   40.1250  0  0\n",
       "165         1       3   9.0   20.5250  0  1\n",
       "50          0       3   7.0   39.6875  0  1\n",
       "259         1       2  50.0   26.0000  1  0\n",
       "306         1       1   NaN  110.8833  0  0"
      ]
     },
     "execution_count": 45,
     "metadata": {},
     "output_type": "execute_result"
    }
   ],
   "source": [
    "train.head()"
   ]
  },
  {
   "cell_type": "code",
   "execution_count": 46,
   "metadata": {},
   "outputs": [
    {
     "data": {
      "text/plain": [
       "True"
      ]
     },
     "execution_count": 46,
     "metadata": {},
     "output_type": "execute_result"
    }
   ],
   "source": [
    "train.isnull().values.any()"
   ]
  },
  {
   "cell_type": "code",
   "execution_count": 47,
   "metadata": {},
   "outputs": [
    {
     "name": "stderr",
     "output_type": "stream",
     "text": [
      "/usr/local/anaconda3/lib/python3.7/site-packages/ipykernel_launcher.py:19: SettingWithCopyWarning: \n",
      "A value is trying to be set on a copy of a slice from a DataFrame.\n",
      "Try using .loc[row_indexer,col_indexer] = value instead\n",
      "\n",
      "See the caveats in the documentation: https://pandas.pydata.org/pandas-docs/stable/user_guide/indexing.html#returning-a-view-versus-a-copy\n"
     ]
    },
    {
     "data": {
      "text/plain": [
       "(     survived  pclass        age      fare  2  3\n",
       " 583         0       1  36.000000   40.1250  0  0\n",
       " 165         1       3   9.000000   20.5250  0  1\n",
       " 50          0       3   7.000000   39.6875  0  1\n",
       " 259         1       2  50.000000   26.0000  1  0\n",
       " 306         1       1  29.678105  110.8833  0  0\n",
       " ..        ...     ...        ...       ... .. ..\n",
       " 313         0       3  28.000000    7.8958  0  1\n",
       " 636         0       3  32.000000    7.9250  0  1\n",
       " 222         0       3  51.000000    8.0500  0  1\n",
       " 485         0       3  29.678105   25.4667  0  1\n",
       " 744         1       3  31.000000    7.9250  0  1\n",
       " \n",
       " [498 rows x 6 columns],\n",
       "      survived  pclass        age      fare  2  3\n",
       " 610         0       3  39.000000   31.2750  0  1\n",
       " 424         0       3  18.000000   20.2125  0  1\n",
       " 568         0       3  29.678105    7.2292  0  1\n",
       " 334         1       1  29.678105  133.6500  0  0\n",
       " 101         0       3  29.678105    7.8958  0  1\n",
       " ..        ...     ...        ...       ... .. ..\n",
       " 176         0       3  29.678105   25.4667  0  1\n",
       " 372         0       3  19.000000    8.0500  0  1\n",
       " 737         1       1  35.000000  512.3292  0  0\n",
       " 862         1       1  48.000000   25.9292  0  0\n",
       " 26          0       3  29.678105    7.2250  0  1\n",
       " \n",
       " [214 rows x 6 columns],\n",
       "      survived  pclass        age      fare  2  3\n",
       " 561         0       3  40.000000    7.8958  0  1\n",
       " 641         1       1  24.000000   69.3000  0  0\n",
       " 400         1       3  39.000000    7.9250  0  1\n",
       " 498         0       1  25.000000  151.5500  0  0\n",
       " 875         1       3  15.000000    7.2250  0  1\n",
       " ..        ...     ...        ...       ... .. ..\n",
       " 339         0       1  45.000000   35.5000  0  0\n",
       " 841         0       2  16.000000   10.5000  1  0\n",
       " 442         0       3  25.000000    7.7750  0  1\n",
       " 815         0       1  29.678105    0.0000  0  0\n",
       " 53          1       2  29.000000   26.0000  1  0\n",
       " \n",
       " [179 rows x 6 columns])"
      ]
     },
     "execution_count": 47,
     "metadata": {},
     "output_type": "execute_result"
    }
   ],
   "source": [
    "impute_mean_age(train, validate, test)"
   ]
  },
  {
   "cell_type": "code",
   "execution_count": 48,
   "metadata": {},
   "outputs": [
    {
     "data": {
      "text/plain": [
       "(498, 6)"
      ]
     },
     "execution_count": 48,
     "metadata": {},
     "output_type": "execute_result"
    }
   ],
   "source": [
    "train.shape"
   ]
  },
  {
   "cell_type": "code",
   "execution_count": 50,
   "metadata": {},
   "outputs": [
    {
     "data": {
      "text/plain": [
       "False"
      ]
     },
     "execution_count": 50,
     "metadata": {},
     "output_type": "execute_result"
    }
   ],
   "source": [
    "train.age.isnull().values.any()"
   ]
  },
  {
   "cell_type": "code",
   "execution_count": 51,
   "metadata": {},
   "outputs": [
    {
     "data": {
      "text/plain": [
       "0    0.616466\n",
       "1    0.383534\n",
       "Name: survived, dtype: float64"
      ]
     },
     "execution_count": 51,
     "metadata": {},
     "output_type": "execute_result"
    }
   ],
   "source": [
    "train.survived.value_counts(normalize=True)\n"
   ]
  },
  {
   "cell_type": "code",
   "execution_count": 52,
   "metadata": {},
   "outputs": [],
   "source": [
    "logit = LogisticRegression()\n"
   ]
  },
  {
   "cell_type": "code",
   "execution_count": 53,
   "metadata": {},
   "outputs": [],
   "source": [
    "X_train = train.drop(columns=['survived'])\n",
    "y_train = train.survived\n",
    "\n",
    "X_validate = validate.drop(columns=['survived'])\n",
    "y_validate = validate.survived\n",
    "\n",
    "X_test = test.drop(columns=['survived'])\n",
    "y_test = test.survived"
   ]
  },
  {
   "cell_type": "code",
   "execution_count": 54,
   "metadata": {},
   "outputs": [],
   "source": [
    "logit = logit.fit(X_train, y_train)\n"
   ]
  },
  {
   "cell_type": "code",
   "execution_count": 55,
   "metadata": {},
   "outputs": [
    {
     "data": {
      "text/plain": [
       "Index(['pclass', 'age', 'fare', 2, 3], dtype='object')"
      ]
     },
     "execution_count": 55,
     "metadata": {},
     "output_type": "execute_result"
    }
   ],
   "source": [
    "X_train.columns\n"
   ]
  },
  {
   "cell_type": "code",
   "execution_count": 56,
   "metadata": {},
   "outputs": [
    {
     "name": "stdout",
     "output_type": "stream",
     "text": [
      "[[-0.67260505 -0.02902885  0.00259074  0.14850399 -0.41036784]]\n"
     ]
    }
   ],
   "source": [
    "print(logit.coef_)"
   ]
  },
  {
   "cell_type": "code",
   "execution_count": 57,
   "metadata": {},
   "outputs": [],
   "source": [
    "y_pred = logit.predict(X_train)\n",
    "y_pred_proba = logit.predict_proba(X_train)"
   ]
  },
  {
   "cell_type": "code",
   "execution_count": 58,
   "metadata": {},
   "outputs": [
    {
     "data": {
      "text/plain": [
       "array([[0.40808026, 0.59191974],\n",
       "       [0.65716147, 0.34283853],\n",
       "       [0.63250245, 0.36749755],\n",
       "       [0.64455554, 0.35544446],\n",
       "       [0.32327957, 0.67672043],\n",
       "       [0.50494894, 0.49505106],\n",
       "       [0.59660579, 0.40339421],\n",
       "       [0.49917841, 0.50082159],\n",
       "       [0.78313474, 0.21686526],\n",
       "       [0.75471528, 0.24528472],\n",
       "       [0.8292616 , 0.1707384 ],\n",
       "       [0.58902943, 0.41097057],\n",
       "       [0.5868048 , 0.4131952 ],\n",
       "       [0.48350205, 0.51649795],\n",
       "       [0.5891301 , 0.4108699 ],\n",
       "       [0.84916005, 0.15083995],\n",
       "       [0.78300271, 0.21699729],\n",
       "       [0.78307788, 0.21692212],\n",
       "       [0.54101014, 0.45898986],\n",
       "       [0.7591043 , 0.2408957 ],\n",
       "       [0.76808348, 0.23191652],\n",
       "       [0.78312374, 0.21687626],\n",
       "       [0.2549033 , 0.7450967 ],\n",
       "       [0.30008336, 0.69991664],\n",
       "       [0.48113939, 0.51886061],\n",
       "       [0.74834275, 0.25165725],\n",
       "       [0.38689257, 0.61310743],\n",
       "       [0.51601041, 0.48398959],\n",
       "       [0.37317122, 0.62682878],\n",
       "       [0.4903032 , 0.5096968 ],\n",
       "       [0.74321785, 0.25678215],\n",
       "       [0.75022452, 0.24977548],\n",
       "       [0.74283656, 0.25716344],\n",
       "       [0.77296734, 0.22703266],\n",
       "       [0.4977859 , 0.5022141 ],\n",
       "       [0.43424652, 0.56575348],\n",
       "       [0.66528348, 0.33471652],\n",
       "       [0.34215705, 0.65784295],\n",
       "       [0.73059719, 0.26940281],\n",
       "       [0.46486417, 0.53513583],\n",
       "       [0.75951859, 0.24048141],\n",
       "       [0.71455628, 0.28544372],\n",
       "       [0.64903234, 0.35096766],\n",
       "       [0.49043584, 0.50956416],\n",
       "       [0.37010087, 0.62989913],\n",
       "       [0.76402836, 0.23597164],\n",
       "       [0.78313474, 0.21686526],\n",
       "       [0.71982659, 0.28017341],\n",
       "       [0.78313474, 0.21686526],\n",
       "       [0.75439501, 0.24560499],\n",
       "       [0.79868838, 0.20131162],\n",
       "       [0.46296032, 0.53703968],\n",
       "       [0.40438682, 0.59561318],\n",
       "       [0.32200944, 0.67799056],\n",
       "       [0.73730237, 0.26269763],\n",
       "       [0.63130897, 0.36869103],\n",
       "       [0.7541766 , 0.2458234 ],\n",
       "       [0.54101014, 0.45898986],\n",
       "       [0.90435378, 0.09564622],\n",
       "       [0.73161154, 0.26838846],\n",
       "       [0.45738093, 0.54261907],\n",
       "       [0.51814948, 0.48185052],\n",
       "       [0.78307058, 0.21692942],\n",
       "       [0.65223355, 0.34776645],\n",
       "       [0.78957023, 0.21042977],\n",
       "       [0.78313474, 0.21686526],\n",
       "       [0.73192936, 0.26807064],\n",
       "       [0.86587858, 0.13412142],\n",
       "       [0.77623729, 0.22376271],\n",
       "       [0.65370121, 0.34629879],\n",
       "       [0.60472399, 0.39527601],\n",
       "       [0.78307058, 0.21692942],\n",
       "       [0.54261803, 0.45738197],\n",
       "       [0.34615934, 0.65384066],\n",
       "       [0.78313474, 0.21686526],\n",
       "       [0.37425163, 0.62574837],\n",
       "       [0.72597862, 0.27402138],\n",
       "       [0.47580647, 0.52419353],\n",
       "       [0.72011387, 0.27988613],\n",
       "       [0.61024809, 0.38975191],\n",
       "       [0.55423994, 0.44576006],\n",
       "       [0.34149083, 0.65850917],\n",
       "       [0.80356255, 0.19643745],\n",
       "       [0.49755922, 0.50244078],\n",
       "       [0.72008996, 0.27991004],\n",
       "       [0.8268669 , 0.1731331 ],\n",
       "       [0.35853668, 0.64146332],\n",
       "       [0.62284461, 0.37715539],\n",
       "       [0.60891905, 0.39108095],\n",
       "       [0.47580647, 0.52419353],\n",
       "       [0.82101502, 0.17898498],\n",
       "       [0.78313474, 0.21686526],\n",
       "       [0.76746372, 0.23253628],\n",
       "       [0.25597705, 0.74402295],\n",
       "       [0.51207128, 0.48792872],\n",
       "       [0.78322272, 0.21677728],\n",
       "       [0.38431716, 0.61568284],\n",
       "       [0.57291053, 0.42708947],\n",
       "       [0.36492194, 0.63507806],\n",
       "       [0.18690948, 0.81309052],\n",
       "       [0.73475711, 0.26524289],\n",
       "       [0.25404487, 0.74595513],\n",
       "       [0.67240431, 0.32759569],\n",
       "       [0.71374314, 0.28625686],\n",
       "       [0.16143884, 0.83856116],\n",
       "       [0.37927925, 0.62072075],\n",
       "       [0.6938096 , 0.3061904 ],\n",
       "       [0.30717201, 0.69282799],\n",
       "       [0.78335466, 0.21664534],\n",
       "       [0.72585192, 0.27414808],\n",
       "       [0.40972877, 0.59027123],\n",
       "       [0.45961697, 0.54038303],\n",
       "       [0.40861235, 0.59138765],\n",
       "       [0.76654738, 0.23345262],\n",
       "       [0.81635043, 0.18364957],\n",
       "       [0.52540348, 0.47459652],\n",
       "       [0.75471528, 0.24528472],\n",
       "       [0.76438629, 0.23561371],\n",
       "       [0.57782611, 0.42217389],\n",
       "       [0.32835376, 0.67164624],\n",
       "       [0.85438003, 0.14561997],\n",
       "       [0.8299145 , 0.1700855 ],\n",
       "       [0.38408774, 0.61591226],\n",
       "       [0.85156311, 0.14843689],\n",
       "       [0.31665995, 0.68334005],\n",
       "       [0.46019486, 0.53980514],\n",
       "       [0.46483508, 0.53516492],\n",
       "       [0.45565475, 0.54434525],\n",
       "       [0.78917899, 0.21082101],\n",
       "       [0.61658356, 0.38341644],\n",
       "       [0.78307788, 0.21692212],\n",
       "       [0.73723754, 0.26276246],\n",
       "       [0.65085958, 0.34914042],\n",
       "       [0.42440833, 0.57559167],\n",
       "       [0.53585933, 0.46414067],\n",
       "       [0.74315604, 0.25684396],\n",
       "       [0.73733373, 0.26266627],\n",
       "       [0.78300271, 0.21699729],\n",
       "       [0.55065128, 0.44934872],\n",
       "       [0.50211537, 0.49788463],\n",
       "       [0.51074737, 0.48925263],\n",
       "       [0.35263489, 0.64736511],\n",
       "       [0.36727628, 0.63272372],\n",
       "       [0.78958099, 0.21041901],\n",
       "       [0.29715105, 0.70284895],\n",
       "       [0.36147481, 0.63852519],\n",
       "       [0.40261706, 0.59738294],\n",
       "       [0.68270776, 0.31729224],\n",
       "       [0.52427637, 0.47572363],\n",
       "       [0.30946978, 0.69053022],\n",
       "       [0.51814948, 0.48185052],\n",
       "       [0.49678392, 0.50321608],\n",
       "       [0.47314079, 0.52685921],\n",
       "       [0.73077348, 0.26922652],\n",
       "       [0.77172666, 0.22827334],\n",
       "       [0.74096108, 0.25903892],\n",
       "       [0.81278432, 0.18721568],\n",
       "       [0.73091363, 0.26908637],\n",
       "       [0.77970538, 0.22029462],\n",
       "       [0.84951643, 0.15048357],\n",
       "       [0.65017389, 0.34982611],\n",
       "       [0.49755922, 0.50244078],\n",
       "       [0.56853454, 0.43146546],\n",
       "       [0.71927765, 0.28072235],\n",
       "       [0.80419736, 0.19580264],\n",
       "       [0.79868492, 0.20131508],\n",
       "       [0.64160554, 0.35839446],\n",
       "       [0.76439016, 0.23560984],\n",
       "       [0.4032867 , 0.5967133 ],\n",
       "       [0.84540402, 0.15459598],\n",
       "       [0.70864988, 0.29135012],\n",
       "       [0.33553893, 0.66446107],\n",
       "       [0.77970538, 0.22029462],\n",
       "       [0.77583203, 0.22416797],\n",
       "       [0.55096659, 0.44903341],\n",
       "       [0.61715615, 0.38284385],\n",
       "       [0.30374287, 0.69625713],\n",
       "       [0.78494537, 0.21505463],\n",
       "       [0.81699528, 0.18300472],\n",
       "       [0.52465371, 0.47534629],\n",
       "       [0.75299795, 0.24700205],\n",
       "       [0.78307058, 0.21692942],\n",
       "       [0.74276024, 0.25723976],\n",
       "       [0.45365047, 0.54634953],\n",
       "       [0.72585192, 0.27414808],\n",
       "       [0.78314024, 0.21685976],\n",
       "       [0.48189001, 0.51810999],\n",
       "       [0.4438903 , 0.5561097 ],\n",
       "       [0.72063574, 0.27936426],\n",
       "       [0.7644057 , 0.2355943 ],\n",
       "       [0.50840902, 0.49159098],\n",
       "       [0.47881504, 0.52118496],\n",
       "       [0.78458619, 0.21541381],\n",
       "       [0.46135039, 0.53864961],\n",
       "       [0.3659991 , 0.6340009 ],\n",
       "       [0.70826425, 0.29173575],\n",
       "       [0.46231625, 0.53768375],\n",
       "       [0.75917535, 0.24082465],\n",
       "       [0.73731281, 0.26268719],\n",
       "       [0.77395528, 0.22604472],\n",
       "       [0.75471528, 0.24528472],\n",
       "       [0.56943279, 0.43056721],\n",
       "       [0.49777101, 0.50222899],\n",
       "       [0.38901103, 0.61098897],\n",
       "       [0.79369812, 0.20630188],\n",
       "       [0.8081044 , 0.1918956 ],\n",
       "       [0.44791981, 0.55208019],\n",
       "       [0.51358013, 0.48641987],\n",
       "       [0.78300271, 0.21699729],\n",
       "       [0.48974752, 0.51025248],\n",
       "       [0.7483285 , 0.2516715 ],\n",
       "       [0.78307058, 0.21692942],\n",
       "       [0.7833638 , 0.2166362 ],\n",
       "       [0.74992544, 0.25007456],\n",
       "       [0.26528541, 0.73471459],\n",
       "       [0.41670441, 0.58329559],\n",
       "       [0.72010082, 0.27989918],\n",
       "       [0.79436339, 0.20563661],\n",
       "       [0.58975706, 0.41024294],\n",
       "       [0.80850583, 0.19149417],\n",
       "       [0.77981848, 0.22018152],\n",
       "       [0.78300271, 0.21699729],\n",
       "       [0.79430168, 0.20569832],\n",
       "       [0.35913068, 0.64086932],\n",
       "       [0.80649634, 0.19350366],\n",
       "       [0.83744715, 0.16255285],\n",
       "       [0.34441087, 0.65558913],\n",
       "       [0.76999696, 0.23000304],\n",
       "       [0.70732656, 0.29267344],\n",
       "       [0.76092199, 0.23907801],\n",
       "       [0.53426106, 0.46573894],\n",
       "       [0.74288605, 0.25711395],\n",
       "       [0.72585192, 0.27414808],\n",
       "       [0.77350282, 0.22649718],\n",
       "       [0.77395528, 0.22604472],\n",
       "       [0.61049658, 0.38950342],\n",
       "       [0.74951223, 0.25048777],\n",
       "       [0.78307058, 0.21692942],\n",
       "       [0.429812  , 0.570188  ],\n",
       "       [0.65284389, 0.34715611],\n",
       "       [0.78458619, 0.21541381],\n",
       "       [0.78300271, 0.21699729],\n",
       "       [0.44856056, 0.55143944],\n",
       "       [0.51932121, 0.48067879],\n",
       "       [0.30171036, 0.69828964],\n",
       "       [0.85128055, 0.14871945],\n",
       "       [0.40219955, 0.59780045],\n",
       "       [0.78336565, 0.21663435],\n",
       "       [0.7829752 , 0.2170248 ],\n",
       "       [0.45955135, 0.54044865],\n",
       "       [0.79410406, 0.20589594],\n",
       "       [0.53263611, 0.46736389],\n",
       "       [0.75638048, 0.24361952],\n",
       "       [0.40731429, 0.59268571],\n",
       "       [0.84265862, 0.15734138],\n",
       "       [0.77663829, 0.22336171],\n",
       "       [0.78318788, 0.21681212],\n",
       "       [0.20102011, 0.79897989],\n",
       "       [0.33035853, 0.66964147],\n",
       "       [0.78402952, 0.21597048],\n",
       "       [0.55538865, 0.44461135],\n",
       "       [0.75942394, 0.24057606],\n",
       "       [0.78313474, 0.21686526],\n",
       "       [0.37688022, 0.62311978],\n",
       "       [0.84540402, 0.15459598],\n",
       "       [0.48740581, 0.51259419],\n",
       "       [0.82199877, 0.17800123],\n",
       "       [0.73157552, 0.26842448],\n",
       "       [0.78332717, 0.21667283],\n",
       "       [0.77378748, 0.22621252],\n",
       "       [0.77614727, 0.22385273],\n",
       "       [0.22139394, 0.77860606],\n",
       "       [0.82130673, 0.17869327],\n",
       "       [0.38505733, 0.61494267],\n",
       "       [0.75471528, 0.24528472],\n",
       "       [0.77466835, 0.22533165],\n",
       "       [0.74302211, 0.25697789],\n",
       "       [0.78300271, 0.21699729],\n",
       "       [0.78300271, 0.21699729],\n",
       "       [0.7371748 , 0.2628252 ],\n",
       "       [0.7371748 , 0.2628252 ],\n",
       "       [0.31091647, 0.68908353],\n",
       "       [0.73732535, 0.26267465],\n",
       "       [0.78313474, 0.21686526],\n",
       "       [0.78015005, 0.21984995],\n",
       "       [0.37208358, 0.62791642],\n",
       "       [0.42004133, 0.57995867],\n",
       "       [0.52933884, 0.47066116],\n",
       "       [0.19111083, 0.80888917],\n",
       "       [0.7695742 , 0.2304258 ],\n",
       "       [0.72571657, 0.27428343],\n",
       "       [0.67068998, 0.32931002],\n",
       "       [0.78300271, 0.21699729],\n",
       "       [0.81262658, 0.18737342],\n",
       "       [0.28830751, 0.71169249],\n",
       "       [0.36738715, 0.63261285],\n",
       "       [0.42649509, 0.57350491],\n",
       "       [0.70747848, 0.29252152],\n",
       "       [0.68687319, 0.31312681],\n",
       "       [0.59243308, 0.40756692],\n",
       "       [0.76922178, 0.23077822],\n",
       "       [0.75951859, 0.24048141],\n",
       "       [0.84212379, 0.15787621],\n",
       "       [0.78313474, 0.21686526],\n",
       "       [0.75369597, 0.24630403],\n",
       "       [0.56065953, 0.43934047],\n",
       "       [0.39321439, 0.60678561],\n",
       "       [0.78307058, 0.21692942],\n",
       "       [0.42554484, 0.57445516],\n",
       "       [0.71659984, 0.28340016],\n",
       "       [0.46857183, 0.53142817],\n",
       "       [0.80613009, 0.19386991],\n",
       "       [0.9219428 , 0.0780572 ],\n",
       "       [0.78314209, 0.21685791],\n",
       "       [0.60339178, 0.39660822],\n",
       "       [0.7801704 , 0.2198296 ],\n",
       "       [0.78307058, 0.21692942],\n",
       "       [0.35572635, 0.64427365],\n",
       "       [0.44222144, 0.55777856],\n",
       "       [0.80816635, 0.19183365],\n",
       "       [0.7752382 , 0.2247618 ],\n",
       "       [0.78236375, 0.21763625],\n",
       "       [0.27876297, 0.72123703],\n",
       "       [0.37028462, 0.62971538],\n",
       "       [0.74316633, 0.25683367],\n",
       "       [0.48642185, 0.51357815],\n",
       "       [0.32563404, 0.67436596],\n",
       "       [0.51816016, 0.48183984],\n",
       "       [0.40256338, 0.59743662],\n",
       "       [0.5978803 , 0.4021197 ],\n",
       "       [0.87022828, 0.12977172],\n",
       "       [0.32073823, 0.67926177],\n",
       "       [0.78313474, 0.21686526],\n",
       "       [0.3050777 , 0.6949223 ],\n",
       "       [0.44276821, 0.55723179],\n",
       "       [0.78307788, 0.21692212],\n",
       "       [0.61926253, 0.38073747],\n",
       "       [0.69420769, 0.30579231],\n",
       "       [0.47018497, 0.52981503],\n",
       "       [0.77977298, 0.22022702],\n",
       "       [0.51368941, 0.48631059],\n",
       "       [0.46084072, 0.53915928],\n",
       "       [0.74290871, 0.25709129],\n",
       "       [0.35614035, 0.64385965],\n",
       "       [0.44771777, 0.55228223],\n",
       "       [0.7833638 , 0.2166362 ],\n",
       "       [0.37208358, 0.62791642],\n",
       "       [0.35870066, 0.64129934],\n",
       "       [0.41761959, 0.58238041],\n",
       "       [0.6030075 , 0.3969925 ],\n",
       "       [0.26945161, 0.73054839],\n",
       "       [0.65887303, 0.34112697],\n",
       "       [0.76283881, 0.23716119],\n",
       "       [0.60607223, 0.39392777],\n",
       "       [0.56739334, 0.43260666],\n",
       "       [0.31809895, 0.68190105],\n",
       "       [0.51294636, 0.48705364],\n",
       "       [0.60969808, 0.39030192],\n",
       "       [0.78016858, 0.21983142],\n",
       "       [0.29823207, 0.70176793],\n",
       "       [0.77468155, 0.22531845],\n",
       "       [0.79567425, 0.20432575],\n",
       "       [0.5430712 , 0.4569288 ],\n",
       "       [0.70251213, 0.29748787],\n",
       "       [0.78314574, 0.21685426],\n",
       "       [0.25490809, 0.74509191],\n",
       "       [0.54101014, 0.45898986],\n",
       "       [0.81572139, 0.18427861],\n",
       "       [0.59816454, 0.40183546],\n",
       "       [0.30544821, 0.69455179],\n",
       "       [0.46135039, 0.53864961],\n",
       "       [0.75919113, 0.24080887],\n",
       "       [0.73737553, 0.26262447],\n",
       "       [0.48461037, 0.51538963],\n",
       "       [0.72024659, 0.27975341],\n",
       "       [0.72010082, 0.27989918],\n",
       "       [0.55818165, 0.44181835],\n",
       "       [0.4851249 , 0.5148751 ],\n",
       "       [0.31016378, 0.68983622],\n",
       "       [0.81219939, 0.18780061],\n",
       "       [0.30852847, 0.69147153],\n",
       "       [0.42554484, 0.57445516],\n",
       "       [0.65370121, 0.34629879],\n",
       "       [0.73730027, 0.26269973],\n",
       "       [0.46601406, 0.53398594],\n",
       "       [0.78311824, 0.21688176],\n",
       "       [0.7833638 , 0.2166362 ],\n",
       "       [0.74851143, 0.25148857],\n",
       "       [0.43317976, 0.56682024],\n",
       "       [0.48466879, 0.51533121],\n",
       "       [0.77750384, 0.22249616],\n",
       "       [0.50973633, 0.49026367],\n",
       "       [0.46741392, 0.53258608],\n",
       "       [0.46857183, 0.53142817],\n",
       "       [0.46968115, 0.53031885],\n",
       "       [0.75917535, 0.24082465],\n",
       "       [0.31565445, 0.68434555],\n",
       "       [0.82162809, 0.17837191],\n",
       "       [0.75138907, 0.24861093],\n",
       "       [0.71473055, 0.28526945],\n",
       "       [0.73202044, 0.26797956],\n",
       "       [0.41909494, 0.58090506],\n",
       "       [0.77106421, 0.22893579],\n",
       "       [0.44449076, 0.55550924],\n",
       "       [0.54981311, 0.45018689],\n",
       "       [0.78395061, 0.21604939],\n",
       "       [0.49723539, 0.50276461],\n",
       "       [0.7644057 , 0.2355943 ],\n",
       "       [0.40861235, 0.59138765],\n",
       "       [0.76053679, 0.23946321],\n",
       "       [0.62365682, 0.37634318],\n",
       "       [0.78352683, 0.21647317],\n",
       "       [0.80958843, 0.19041157],\n",
       "       [0.72644222, 0.27355778],\n",
       "       [0.33574441, 0.66425559],\n",
       "       [0.51207128, 0.48792872],\n",
       "       [0.39372021, 0.60627979],\n",
       "       [0.78322272, 0.21677728],\n",
       "       [0.27544412, 0.72455588],\n",
       "       [0.49080718, 0.50919282],\n",
       "       [0.71739848, 0.28260152],\n",
       "       [0.78493627, 0.21506373],\n",
       "       [0.51814948, 0.48185052],\n",
       "       [0.38650299, 0.61349701],\n",
       "       [0.77943826, 0.22056174],\n",
       "       [0.58211421, 0.41788579],\n",
       "       [0.78431787, 0.21568213],\n",
       "       [0.52427283, 0.47572717],\n",
       "       [0.74836305, 0.25163695],\n",
       "       [0.66023625, 0.33976375],\n",
       "       [0.78307058, 0.21692942],\n",
       "       [0.77694334, 0.22305666],\n",
       "       [0.76131246, 0.23868754],\n",
       "       [0.77134572, 0.22865428],\n",
       "       [0.7020788 , 0.2979212 ],\n",
       "       [0.5978803 , 0.4021197 ],\n",
       "       [0.78296419, 0.21703581],\n",
       "       [0.71374314, 0.28625686],\n",
       "       [0.20050655, 0.79949345],\n",
       "       [0.70810363, 0.29189637],\n",
       "       [0.78307058, 0.21692942],\n",
       "       [0.84925957, 0.15074043],\n",
       "       [0.8255165 , 0.1744835 ],\n",
       "       [0.57677644, 0.42322356],\n",
       "       [0.78335466, 0.21664534],\n",
       "       [0.71902036, 0.28097964],\n",
       "       [0.65939343, 0.34060657],\n",
       "       [0.75471528, 0.24528472],\n",
       "       [0.38625381, 0.61374619],\n",
       "       [0.78016858, 0.21983142],\n",
       "       [0.33921785, 0.66078215],\n",
       "       [0.35672306, 0.64327694],\n",
       "       [0.78336565, 0.21663435],\n",
       "       [0.53985506, 0.46014494],\n",
       "       [0.69023785, 0.30976215],\n",
       "       [0.37279254, 0.62720746],\n",
       "       [0.64551009, 0.35448991],\n",
       "       [0.26097082, 0.73902918],\n",
       "       [0.78271094, 0.21728906],\n",
       "       [0.46135039, 0.53864961],\n",
       "       [0.81663078, 0.18336922],\n",
       "       [0.92894383, 0.07105617],\n",
       "       [0.49755922, 0.50244078],\n",
       "       [0.51929419, 0.48070581],\n",
       "       [0.82909009, 0.17090991],\n",
       "       [0.28114386, 0.71885614],\n",
       "       [0.24847325, 0.75152675],\n",
       "       [0.73311416, 0.26688584],\n",
       "       [0.60652131, 0.39347869],\n",
       "       [0.77470036, 0.22529964],\n",
       "       [0.53017993, 0.46982007],\n",
       "       [0.74315604, 0.25684396],\n",
       "       [0.59169522, 0.40830478],\n",
       "       [0.77472677, 0.22527323],\n",
       "       [0.78309989, 0.21690011],\n",
       "       [0.7833638 , 0.2166362 ],\n",
       "       [0.61832198, 0.38167802],\n",
       "       [0.59116761, 0.40883239],\n",
       "       [0.26390925, 0.73609075],\n",
       "       [0.76438629, 0.23561371],\n",
       "       [0.30800266, 0.69199734],\n",
       "       [0.33176506, 0.66823494],\n",
       "       [0.32499591, 0.67500409],\n",
       "       [0.60215773, 0.39784227],\n",
       "       [0.80356255, 0.19643745],\n",
       "       [0.16864452, 0.83135548],\n",
       "       [0.79431929, 0.20568071],\n",
       "       [0.74315604, 0.25684396],\n",
       "       [0.78300271, 0.21699729],\n",
       "       [0.77943826, 0.22056174],\n",
       "       [0.46760427, 0.53239573],\n",
       "       [0.66499497, 0.33500503],\n",
       "       [0.60215773, 0.39784227],\n",
       "       [0.77468155, 0.22531845],\n",
       "       [0.79428932, 0.20571068],\n",
       "       [0.87014048, 0.12985952],\n",
       "       [0.7752382 , 0.2247618 ],\n",
       "       [0.78950566, 0.21049434]])"
      ]
     },
     "execution_count": 58,
     "metadata": {},
     "output_type": "execute_result"
    }
   ],
   "source": [
    "y_pred_proba\n"
   ]
  },
  {
   "cell_type": "code",
   "execution_count": 59,
   "metadata": {},
   "outputs": [
    {
     "data": {
      "text/plain": [
       "0.6847389558232931"
      ]
     },
     "execution_count": 59,
     "metadata": {},
     "output_type": "execute_result"
    }
   ],
   "source": [
    "logit.score(X_train, y_train)\n"
   ]
  },
  {
   "cell_type": "code",
   "execution_count": 60,
   "metadata": {},
   "outputs": [
    {
     "name": "stdout",
     "output_type": "stream",
     "text": [
      "[[247  60]\n",
      " [ 97  94]]\n"
     ]
    }
   ],
   "source": [
    "print(confusion_matrix(y_train, y_pred))\n"
   ]
  },
  {
   "cell_type": "code",
   "execution_count": 61,
   "metadata": {},
   "outputs": [
    {
     "name": "stdout",
     "output_type": "stream",
     "text": [
      "              precision    recall  f1-score   support\n",
      "\n",
      "           0       0.72      0.80      0.76       307\n",
      "           1       0.61      0.49      0.54       191\n",
      "\n",
      "    accuracy                           0.68       498\n",
      "   macro avg       0.66      0.65      0.65       498\n",
      "weighted avg       0.68      0.68      0.68       498\n",
      "\n"
     ]
    }
   ],
   "source": [
    "print(classification_report(y_train, y_pred))\n"
   ]
  },
  {
   "cell_type": "markdown",
   "metadata": {},
   "source": [
    "68% Accuracy"
   ]
  },
  {
   "cell_type": "code",
   "execution_count": 86,
   "metadata": {},
   "outputs": [],
   "source": [
    "titanic3 = get_titanic_data()"
   ]
  },
  {
   "cell_type": "code",
   "execution_count": 87,
   "metadata": {
    "scrolled": true
   },
   "outputs": [
    {
     "data": {
      "text/html": [
       "<div>\n",
       "<style scoped>\n",
       "    .dataframe tbody tr th:only-of-type {\n",
       "        vertical-align: middle;\n",
       "    }\n",
       "\n",
       "    .dataframe tbody tr th {\n",
       "        vertical-align: top;\n",
       "    }\n",
       "\n",
       "    .dataframe thead th {\n",
       "        text-align: right;\n",
       "    }\n",
       "</style>\n",
       "<table border=\"1\" class=\"dataframe\">\n",
       "  <thead>\n",
       "    <tr style=\"text-align: right;\">\n",
       "      <th></th>\n",
       "      <th>passenger_id</th>\n",
       "      <th>survived</th>\n",
       "      <th>pclass</th>\n",
       "      <th>sex</th>\n",
       "      <th>age</th>\n",
       "      <th>sibsp</th>\n",
       "      <th>parch</th>\n",
       "      <th>fare</th>\n",
       "      <th>embarked</th>\n",
       "      <th>class</th>\n",
       "      <th>deck</th>\n",
       "      <th>embark_town</th>\n",
       "      <th>alone</th>\n",
       "    </tr>\n",
       "  </thead>\n",
       "  <tbody>\n",
       "    <tr>\n",
       "      <th>0</th>\n",
       "      <td>0</td>\n",
       "      <td>0</td>\n",
       "      <td>3</td>\n",
       "      <td>male</td>\n",
       "      <td>22.0</td>\n",
       "      <td>1</td>\n",
       "      <td>0</td>\n",
       "      <td>7.2500</td>\n",
       "      <td>S</td>\n",
       "      <td>Third</td>\n",
       "      <td>NaN</td>\n",
       "      <td>Southampton</td>\n",
       "      <td>0</td>\n",
       "    </tr>\n",
       "    <tr>\n",
       "      <th>1</th>\n",
       "      <td>1</td>\n",
       "      <td>1</td>\n",
       "      <td>1</td>\n",
       "      <td>female</td>\n",
       "      <td>38.0</td>\n",
       "      <td>1</td>\n",
       "      <td>0</td>\n",
       "      <td>71.2833</td>\n",
       "      <td>C</td>\n",
       "      <td>First</td>\n",
       "      <td>C</td>\n",
       "      <td>Cherbourg</td>\n",
       "      <td>0</td>\n",
       "    </tr>\n",
       "    <tr>\n",
       "      <th>2</th>\n",
       "      <td>2</td>\n",
       "      <td>1</td>\n",
       "      <td>3</td>\n",
       "      <td>female</td>\n",
       "      <td>26.0</td>\n",
       "      <td>0</td>\n",
       "      <td>0</td>\n",
       "      <td>7.9250</td>\n",
       "      <td>S</td>\n",
       "      <td>Third</td>\n",
       "      <td>NaN</td>\n",
       "      <td>Southampton</td>\n",
       "      <td>1</td>\n",
       "    </tr>\n",
       "    <tr>\n",
       "      <th>3</th>\n",
       "      <td>3</td>\n",
       "      <td>1</td>\n",
       "      <td>1</td>\n",
       "      <td>female</td>\n",
       "      <td>35.0</td>\n",
       "      <td>1</td>\n",
       "      <td>0</td>\n",
       "      <td>53.1000</td>\n",
       "      <td>S</td>\n",
       "      <td>First</td>\n",
       "      <td>C</td>\n",
       "      <td>Southampton</td>\n",
       "      <td>0</td>\n",
       "    </tr>\n",
       "    <tr>\n",
       "      <th>4</th>\n",
       "      <td>4</td>\n",
       "      <td>0</td>\n",
       "      <td>3</td>\n",
       "      <td>male</td>\n",
       "      <td>35.0</td>\n",
       "      <td>0</td>\n",
       "      <td>0</td>\n",
       "      <td>8.0500</td>\n",
       "      <td>S</td>\n",
       "      <td>Third</td>\n",
       "      <td>NaN</td>\n",
       "      <td>Southampton</td>\n",
       "      <td>1</td>\n",
       "    </tr>\n",
       "  </tbody>\n",
       "</table>\n",
       "</div>"
      ],
      "text/plain": [
       "   passenger_id  survived  pclass     sex   age  sibsp  parch     fare  \\\n",
       "0             0         0       3    male  22.0      1      0   7.2500   \n",
       "1             1         1       1  female  38.0      1      0  71.2833   \n",
       "2             2         1       3  female  26.0      0      0   7.9250   \n",
       "3             3         1       1  female  35.0      1      0  53.1000   \n",
       "4             4         0       3    male  35.0      0      0   8.0500   \n",
       "\n",
       "  embarked  class deck  embark_town  alone  \n",
       "0        S  Third  NaN  Southampton      0  \n",
       "1        C  First    C    Cherbourg      0  \n",
       "2        S  Third  NaN  Southampton      1  \n",
       "3        S  First    C  Southampton      0  \n",
       "4        S  Third  NaN  Southampton      1  "
      ]
     },
     "execution_count": 87,
     "metadata": {},
     "output_type": "execute_result"
    }
   ],
   "source": [
    "titanic3.head()"
   ]
  },
  {
   "cell_type": "markdown",
   "metadata": {},
   "source": [
    "##This time keep sex as a feature"
   ]
  },
  {
   "cell_type": "code",
   "execution_count": 88,
   "metadata": {},
   "outputs": [],
   "source": [
    "titanic3 = titanic3.drop(columns=['sibsp', 'parch', 'embarked','class', 'deck','embark_town', 'alone', 'deck'])\n"
   ]
  },
  {
   "cell_type": "code",
   "execution_count": 89,
   "metadata": {},
   "outputs": [
    {
     "data": {
      "text/html": [
       "<div>\n",
       "<style scoped>\n",
       "    .dataframe tbody tr th:only-of-type {\n",
       "        vertical-align: middle;\n",
       "    }\n",
       "\n",
       "    .dataframe tbody tr th {\n",
       "        vertical-align: top;\n",
       "    }\n",
       "\n",
       "    .dataframe thead th {\n",
       "        text-align: right;\n",
       "    }\n",
       "</style>\n",
       "<table border=\"1\" class=\"dataframe\">\n",
       "  <thead>\n",
       "    <tr style=\"text-align: right;\">\n",
       "      <th></th>\n",
       "      <th>passenger_id</th>\n",
       "      <th>survived</th>\n",
       "      <th>pclass</th>\n",
       "      <th>sex</th>\n",
       "      <th>age</th>\n",
       "      <th>fare</th>\n",
       "    </tr>\n",
       "  </thead>\n",
       "  <tbody>\n",
       "    <tr>\n",
       "      <th>0</th>\n",
       "      <td>0</td>\n",
       "      <td>0</td>\n",
       "      <td>3</td>\n",
       "      <td>male</td>\n",
       "      <td>22.0</td>\n",
       "      <td>7.2500</td>\n",
       "    </tr>\n",
       "    <tr>\n",
       "      <th>1</th>\n",
       "      <td>1</td>\n",
       "      <td>1</td>\n",
       "      <td>1</td>\n",
       "      <td>female</td>\n",
       "      <td>38.0</td>\n",
       "      <td>71.2833</td>\n",
       "    </tr>\n",
       "    <tr>\n",
       "      <th>2</th>\n",
       "      <td>2</td>\n",
       "      <td>1</td>\n",
       "      <td>3</td>\n",
       "      <td>female</td>\n",
       "      <td>26.0</td>\n",
       "      <td>7.9250</td>\n",
       "    </tr>\n",
       "    <tr>\n",
       "      <th>3</th>\n",
       "      <td>3</td>\n",
       "      <td>1</td>\n",
       "      <td>1</td>\n",
       "      <td>female</td>\n",
       "      <td>35.0</td>\n",
       "      <td>53.1000</td>\n",
       "    </tr>\n",
       "    <tr>\n",
       "      <th>4</th>\n",
       "      <td>4</td>\n",
       "      <td>0</td>\n",
       "      <td>3</td>\n",
       "      <td>male</td>\n",
       "      <td>35.0</td>\n",
       "      <td>8.0500</td>\n",
       "    </tr>\n",
       "  </tbody>\n",
       "</table>\n",
       "</div>"
      ],
      "text/plain": [
       "   passenger_id  survived  pclass     sex   age     fare\n",
       "0             0         0       3    male  22.0   7.2500\n",
       "1             1         1       1  female  38.0  71.2833\n",
       "2             2         1       3  female  26.0   7.9250\n",
       "3             3         1       1  female  35.0  53.1000\n",
       "4             4         0       3    male  35.0   8.0500"
      ]
     },
     "execution_count": 89,
     "metadata": {},
     "output_type": "execute_result"
    }
   ],
   "source": [
    "titanic3.head()"
   ]
  },
  {
   "cell_type": "code",
   "execution_count": 90,
   "metadata": {},
   "outputs": [],
   "source": [
    "titanic3 = titanic3.drop(columns='passenger_id')"
   ]
  },
  {
   "cell_type": "code",
   "execution_count": 91,
   "metadata": {},
   "outputs": [],
   "source": [
    "titanic3_dummies = pd.get_dummies(titanic3.sex, drop_first=True)\n"
   ]
  },
  {
   "cell_type": "code",
   "execution_count": 92,
   "metadata": {},
   "outputs": [],
   "source": [
    "titanic3 = pd.concat([titanic3, titanic3_dummies], axis=1)\n"
   ]
  },
  {
   "cell_type": "code",
   "execution_count": 93,
   "metadata": {},
   "outputs": [
    {
     "data": {
      "text/html": [
       "<div>\n",
       "<style scoped>\n",
       "    .dataframe tbody tr th:only-of-type {\n",
       "        vertical-align: middle;\n",
       "    }\n",
       "\n",
       "    .dataframe tbody tr th {\n",
       "        vertical-align: top;\n",
       "    }\n",
       "\n",
       "    .dataframe thead th {\n",
       "        text-align: right;\n",
       "    }\n",
       "</style>\n",
       "<table border=\"1\" class=\"dataframe\">\n",
       "  <thead>\n",
       "    <tr style=\"text-align: right;\">\n",
       "      <th></th>\n",
       "      <th>survived</th>\n",
       "      <th>pclass</th>\n",
       "      <th>sex</th>\n",
       "      <th>age</th>\n",
       "      <th>fare</th>\n",
       "      <th>male</th>\n",
       "    </tr>\n",
       "  </thead>\n",
       "  <tbody>\n",
       "    <tr>\n",
       "      <th>0</th>\n",
       "      <td>0</td>\n",
       "      <td>3</td>\n",
       "      <td>male</td>\n",
       "      <td>22.0</td>\n",
       "      <td>7.2500</td>\n",
       "      <td>1</td>\n",
       "    </tr>\n",
       "    <tr>\n",
       "      <th>1</th>\n",
       "      <td>1</td>\n",
       "      <td>1</td>\n",
       "      <td>female</td>\n",
       "      <td>38.0</td>\n",
       "      <td>71.2833</td>\n",
       "      <td>0</td>\n",
       "    </tr>\n",
       "    <tr>\n",
       "      <th>2</th>\n",
       "      <td>1</td>\n",
       "      <td>3</td>\n",
       "      <td>female</td>\n",
       "      <td>26.0</td>\n",
       "      <td>7.9250</td>\n",
       "      <td>0</td>\n",
       "    </tr>\n",
       "    <tr>\n",
       "      <th>3</th>\n",
       "      <td>1</td>\n",
       "      <td>1</td>\n",
       "      <td>female</td>\n",
       "      <td>35.0</td>\n",
       "      <td>53.1000</td>\n",
       "      <td>0</td>\n",
       "    </tr>\n",
       "    <tr>\n",
       "      <th>4</th>\n",
       "      <td>0</td>\n",
       "      <td>3</td>\n",
       "      <td>male</td>\n",
       "      <td>35.0</td>\n",
       "      <td>8.0500</td>\n",
       "      <td>1</td>\n",
       "    </tr>\n",
       "  </tbody>\n",
       "</table>\n",
       "</div>"
      ],
      "text/plain": [
       "   survived  pclass     sex   age     fare  male\n",
       "0         0       3    male  22.0   7.2500     1\n",
       "1         1       1  female  38.0  71.2833     0\n",
       "2         1       3  female  26.0   7.9250     0\n",
       "3         1       1  female  35.0  53.1000     0\n",
       "4         0       3    male  35.0   8.0500     1"
      ]
     },
     "execution_count": 93,
     "metadata": {},
     "output_type": "execute_result"
    }
   ],
   "source": [
    "titanic3.head()"
   ]
  },
  {
   "cell_type": "code",
   "execution_count": 94,
   "metadata": {},
   "outputs": [],
   "source": [
    "titanic3 = titanic3.drop(columns='sex')"
   ]
  },
  {
   "cell_type": "code",
   "execution_count": 95,
   "metadata": {},
   "outputs": [],
   "source": [
    "train, validate, test = titanic_split(titanic3)\n"
   ]
  },
  {
   "cell_type": "code",
   "execution_count": 96,
   "metadata": {},
   "outputs": [
    {
     "data": {
      "text/plain": [
       "(498, 5)"
      ]
     },
     "execution_count": 96,
     "metadata": {},
     "output_type": "execute_result"
    }
   ],
   "source": [
    "train.shape"
   ]
  },
  {
   "cell_type": "code",
   "execution_count": 97,
   "metadata": {},
   "outputs": [
    {
     "name": "stderr",
     "output_type": "stream",
     "text": [
      "/usr/local/anaconda3/lib/python3.7/site-packages/ipykernel_launcher.py:19: SettingWithCopyWarning: \n",
      "A value is trying to be set on a copy of a slice from a DataFrame.\n",
      "Try using .loc[row_indexer,col_indexer] = value instead\n",
      "\n",
      "See the caveats in the documentation: https://pandas.pydata.org/pandas-docs/stable/user_guide/indexing.html#returning-a-view-versus-a-copy\n"
     ]
    },
    {
     "data": {
      "text/plain": [
       "(     survived  pclass        age      fare  male\n",
       " 583         0       1  36.000000   40.1250     1\n",
       " 165         1       3   9.000000   20.5250     1\n",
       " 50          0       3   7.000000   39.6875     1\n",
       " 259         1       2  50.000000   26.0000     0\n",
       " 306         1       1  29.678105  110.8833     0\n",
       " ..        ...     ...        ...       ...   ...\n",
       " 313         0       3  28.000000    7.8958     1\n",
       " 636         0       3  32.000000    7.9250     1\n",
       " 222         0       3  51.000000    8.0500     1\n",
       " 485         0       3  29.678105   25.4667     0\n",
       " 744         1       3  31.000000    7.9250     1\n",
       " \n",
       " [498 rows x 5 columns],\n",
       "      survived  pclass        age      fare  male\n",
       " 610         0       3  39.000000   31.2750     0\n",
       " 424         0       3  18.000000   20.2125     1\n",
       " 568         0       3  29.678105    7.2292     1\n",
       " 334         1       1  29.678105  133.6500     0\n",
       " 101         0       3  29.678105    7.8958     1\n",
       " ..        ...     ...        ...       ...   ...\n",
       " 176         0       3  29.678105   25.4667     1\n",
       " 372         0       3  19.000000    8.0500     1\n",
       " 737         1       1  35.000000  512.3292     1\n",
       " 862         1       1  48.000000   25.9292     0\n",
       " 26          0       3  29.678105    7.2250     1\n",
       " \n",
       " [214 rows x 5 columns],\n",
       "      survived  pclass        age      fare  male\n",
       " 561         0       3  40.000000    7.8958     1\n",
       " 641         1       1  24.000000   69.3000     0\n",
       " 400         1       3  39.000000    7.9250     1\n",
       " 498         0       1  25.000000  151.5500     0\n",
       " 875         1       3  15.000000    7.2250     0\n",
       " ..        ...     ...        ...       ...   ...\n",
       " 339         0       1  45.000000   35.5000     1\n",
       " 841         0       2  16.000000   10.5000     1\n",
       " 442         0       3  25.000000    7.7750     1\n",
       " 815         0       1  29.678105    0.0000     1\n",
       " 53          1       2  29.000000   26.0000     0\n",
       " \n",
       " [179 rows x 5 columns])"
      ]
     },
     "execution_count": 97,
     "metadata": {},
     "output_type": "execute_result"
    }
   ],
   "source": [
    "impute_mean_age(train, validate, test)"
   ]
  },
  {
   "cell_type": "code",
   "execution_count": 98,
   "metadata": {},
   "outputs": [
    {
     "data": {
      "text/plain": [
       "0    0.616466\n",
       "1    0.383534\n",
       "Name: survived, dtype: float64"
      ]
     },
     "execution_count": 98,
     "metadata": {},
     "output_type": "execute_result"
    }
   ],
   "source": [
    "train.survived.value_counts(normalize=True)\n"
   ]
  },
  {
   "cell_type": "code",
   "execution_count": 99,
   "metadata": {},
   "outputs": [
    {
     "data": {
      "text/html": [
       "<div>\n",
       "<style scoped>\n",
       "    .dataframe tbody tr th:only-of-type {\n",
       "        vertical-align: middle;\n",
       "    }\n",
       "\n",
       "    .dataframe tbody tr th {\n",
       "        vertical-align: top;\n",
       "    }\n",
       "\n",
       "    .dataframe thead th {\n",
       "        text-align: right;\n",
       "    }\n",
       "</style>\n",
       "<table border=\"1\" class=\"dataframe\">\n",
       "  <thead>\n",
       "    <tr style=\"text-align: right;\">\n",
       "      <th></th>\n",
       "      <th>survived</th>\n",
       "      <th>pclass</th>\n",
       "      <th>age</th>\n",
       "      <th>fare</th>\n",
       "      <th>male</th>\n",
       "    </tr>\n",
       "  </thead>\n",
       "  <tbody>\n",
       "    <tr>\n",
       "      <th>583</th>\n",
       "      <td>0</td>\n",
       "      <td>1</td>\n",
       "      <td>36.000000</td>\n",
       "      <td>40.1250</td>\n",
       "      <td>1</td>\n",
       "    </tr>\n",
       "    <tr>\n",
       "      <th>165</th>\n",
       "      <td>1</td>\n",
       "      <td>3</td>\n",
       "      <td>9.000000</td>\n",
       "      <td>20.5250</td>\n",
       "      <td>1</td>\n",
       "    </tr>\n",
       "    <tr>\n",
       "      <th>50</th>\n",
       "      <td>0</td>\n",
       "      <td>3</td>\n",
       "      <td>7.000000</td>\n",
       "      <td>39.6875</td>\n",
       "      <td>1</td>\n",
       "    </tr>\n",
       "    <tr>\n",
       "      <th>259</th>\n",
       "      <td>1</td>\n",
       "      <td>2</td>\n",
       "      <td>50.000000</td>\n",
       "      <td>26.0000</td>\n",
       "      <td>0</td>\n",
       "    </tr>\n",
       "    <tr>\n",
       "      <th>306</th>\n",
       "      <td>1</td>\n",
       "      <td>1</td>\n",
       "      <td>29.678105</td>\n",
       "      <td>110.8833</td>\n",
       "      <td>0</td>\n",
       "    </tr>\n",
       "  </tbody>\n",
       "</table>\n",
       "</div>"
      ],
      "text/plain": [
       "     survived  pclass        age      fare  male\n",
       "583         0       1  36.000000   40.1250     1\n",
       "165         1       3   9.000000   20.5250     1\n",
       "50          0       3   7.000000   39.6875     1\n",
       "259         1       2  50.000000   26.0000     0\n",
       "306         1       1  29.678105  110.8833     0"
      ]
     },
     "execution_count": 99,
     "metadata": {},
     "output_type": "execute_result"
    }
   ],
   "source": [
    "train.head()"
   ]
  },
  {
   "cell_type": "code",
   "execution_count": 100,
   "metadata": {},
   "outputs": [],
   "source": [
    "logit = LogisticRegression()\n"
   ]
  },
  {
   "cell_type": "code",
   "execution_count": 101,
   "metadata": {},
   "outputs": [],
   "source": [
    "X_train = train.drop(columns=['survived'])\n",
    "y_train = train.survived\n",
    "\n",
    "X_validate = validate.drop(columns=['survived'])\n",
    "y_validate = validate.survived\n",
    "\n",
    "X_test = test.drop(columns=['survived'])\n",
    "y_test = test.survived"
   ]
  },
  {
   "cell_type": "code",
   "execution_count": 102,
   "metadata": {},
   "outputs": [],
   "source": [
    "logit = logit.fit(X_train, y_train)\n"
   ]
  },
  {
   "cell_type": "code",
   "execution_count": 103,
   "metadata": {},
   "outputs": [
    {
     "name": "stdout",
     "output_type": "stream",
     "text": [
      "[[-1.21051288e+00 -2.97225157e-02 -2.02959641e-03 -2.71607026e+00]]\n"
     ]
    }
   ],
   "source": [
    "print(logit.coef_)\n"
   ]
  },
  {
   "cell_type": "code",
   "execution_count": 104,
   "metadata": {},
   "outputs": [],
   "source": [
    "y_pred = logit.predict(X_train)\n",
    "y_pred_proba = logit.predict_proba(X_train)"
   ]
  },
  {
   "cell_type": "code",
   "execution_count": 105,
   "metadata": {},
   "outputs": [
    {
     "data": {
      "text/plain": [
       "array([[0.55886457, 0.44113543],\n",
       "       [0.86000036, 0.13999964],\n",
       "       [0.85750744, 0.14249256],\n",
       "       [0.29285566, 0.70714434],\n",
       "       [0.07420599, 0.92579401],\n",
       "       [0.774868  , 0.225132  ],\n",
       "       [0.83575346, 0.16424654],\n",
       "       [0.75935768, 0.24064232],\n",
       "       [0.91712955, 0.08287045],\n",
       "       [0.45346729, 0.54653271],\n",
       "       [0.51242469, 0.48757531],\n",
       "       [0.71551944, 0.28448056],\n",
       "       [0.23825869, 0.76174131],\n",
       "       [0.62136008, 0.37863992],\n",
       "       [0.83184567, 0.16815433],\n",
       "       [0.9458325 , 0.0541675 ],\n",
       "       [0.91717581, 0.08282419],\n",
       "       [0.42266621, 0.57733379],\n",
       "       [0.79126547, 0.20873453],\n",
       "       [0.38917297, 0.61082703],\n",
       "       [0.40496169, 0.59503831],\n",
       "       [0.91713341, 0.08286659],\n",
       "       [0.04834486, 0.95165514],\n",
       "       [0.0551017 , 0.9448983 ],\n",
       "       [0.61692251, 0.38307749],\n",
       "       [0.900767  , 0.099233  ],\n",
       "       [0.12528539, 0.87471461],\n",
       "       [0.11040975, 0.88959025],\n",
       "       [0.50495793, 0.49504207],\n",
       "       [0.75482481, 0.24517519],\n",
       "       [0.89793512, 0.10206488],\n",
       "       [0.90709054, 0.09290946],\n",
       "       [0.8980784 , 0.1019216 ],\n",
       "       [0.92903219, 0.07096781],\n",
       "       [0.1732817 , 0.8267183 ],\n",
       "       [0.7071658 , 0.2928342 ],\n",
       "       [0.8661775 , 0.1338225 ],\n",
       "       [0.10348246, 0.89651754],\n",
       "       [0.89288609, 0.10711391],\n",
       "       [0.15855022, 0.84144978],\n",
       "       [0.90580905, 0.09419095],\n",
       "       [0.88348729, 0.11651271],\n",
       "       [0.29469958, 0.70530042],\n",
       "       [0.17660659, 0.82339341],\n",
       "       [0.50753257, 0.49246743],\n",
       "       [0.90858673, 0.09141327],\n",
       "       [0.91712955, 0.08287045],\n",
       "       [0.88675186, 0.11324814],\n",
       "       [0.42260222, 0.57739778],\n",
       "       [0.90765415, 0.09234585],\n",
       "       [0.92445951, 0.07554049],\n",
       "       [0.73116643, 0.26883357],\n",
       "       [0.09028766, 0.90971234],\n",
       "       [0.05640447, 0.94359553],\n",
       "       [0.8953064 , 0.1046936 ],\n",
       "       [0.26459165, 0.73540835],\n",
       "       [0.90324239, 0.09675761],\n",
       "       [0.20044748, 0.79955252],\n",
       "       [0.66419382, 0.33580618],\n",
       "       [0.89249889, 0.10750111],\n",
       "       [0.75455808, 0.24544192],\n",
       "       [0.76453904, 0.23546096],\n",
       "       [0.91715204, 0.08284796],\n",
       "       [0.85913578, 0.14086422],\n",
       "       [0.92007092, 0.07992908],\n",
       "       [0.91712955, 0.08287045],\n",
       "       [0.89237712, 0.10762288],\n",
       "       [0.95085265, 0.04914735],\n",
       "       [0.91948935, 0.08051065],\n",
       "       [0.28638354, 0.71361646],\n",
       "       [0.83544091, 0.16455909],\n",
       "       [0.91715204, 0.08284796],\n",
       "       [0.19963552, 0.80036448],\n",
       "       [0.47970626, 0.52029374],\n",
       "       [0.91712955, 0.08287045],\n",
       "       [0.50827522, 0.49172478],\n",
       "       [0.88957302, 0.11042698],\n",
       "       [0.74365779, 0.25634221],\n",
       "       [0.88663971, 0.11336029],\n",
       "       [0.84010431, 0.15989569],\n",
       "       [0.80970933, 0.19029067],\n",
       "       [0.0699075 , 0.9300925 ],\n",
       "       [0.9264256 , 0.0735744 ],\n",
       "       [0.76028364, 0.23971636],\n",
       "       [0.88664905, 0.11335095],\n",
       "       [0.93857191, 0.06142809],\n",
       "       [0.07412398, 0.92587602],\n",
       "       [0.25992749, 0.74007251],\n",
       "       [0.23910024, 0.76089976],\n",
       "       [0.74365779, 0.25634221],\n",
       "       [0.93420609, 0.06579391],\n",
       "       [0.91712955, 0.08287045],\n",
       "       [0.40561804, 0.59438196],\n",
       "       [0.06479833, 0.93520167],\n",
       "       [0.77094948, 0.22905052],\n",
       "       [0.91709869, 0.08290131],\n",
       "       [0.10532975, 0.89467025],\n",
       "       [0.70459837, 0.29540163],\n",
       "       [0.51189453, 0.48810547],\n",
       "       [0.07152858, 0.92847142],\n",
       "       [0.8938001 , 0.1061999 ],\n",
       "       [0.5785624 , 0.4214376 ],\n",
       "       [0.31674877, 0.68325123],\n",
       "       [0.88380812, 0.11619188],\n",
       "       [0.03682945, 0.96317055],\n",
       "       [0.0729422 , 0.9270578 ],\n",
       "       [0.88609511, 0.11390489],\n",
       "       [0.58863966, 0.41136034],\n",
       "       [0.91705239, 0.08294761],\n",
       "       [0.88962202, 0.11037798],\n",
       "       [0.54456845, 0.45543155],\n",
       "       [0.59551353, 0.40448647],\n",
       "       [0.74440064, 0.25559936],\n",
       "       [0.91197382, 0.08802618],\n",
       "       [0.47732917, 0.52267083],\n",
       "       [0.19991308, 0.80008692],\n",
       "       [0.92617729, 0.07382271],\n",
       "       [0.9084574 , 0.0915426 ],\n",
       "       [0.16795076, 0.83204924],\n",
       "       [0.09836574, 0.90163426],\n",
       "       [0.55390222, 0.44609778],\n",
       "       [0.93759644, 0.06240356],\n",
       "       [0.57814215, 0.42185785],\n",
       "       [0.5711417 , 0.4288583 ],\n",
       "       [0.60767677, 0.39232323],\n",
       "       [0.1605232 , 0.8394768 ],\n",
       "       [0.1656882 , 0.8343118 ],\n",
       "       [0.68277601, 0.31722399],\n",
       "       [0.43268228, 0.56731772],\n",
       "       [0.25388543, 0.74611457],\n",
       "       [0.42266621, 0.57733379],\n",
       "       [0.89533098, 0.10466902],\n",
       "       [0.29339353, 0.70660647],\n",
       "       [0.14149199, 0.85850801],\n",
       "       [0.79393453, 0.20606547],\n",
       "       [0.89795837, 0.10204163],\n",
       "       [0.89529451, 0.10470549],\n",
       "       [0.91717581, 0.08282419],\n",
       "       [0.80740896, 0.19259104],\n",
       "       [0.67382369, 0.32617631],\n",
       "       [0.19065259, 0.80934741],\n",
       "       [0.62855662, 0.37144338],\n",
       "       [0.52722086, 0.47277914],\n",
       "       [0.92006719, 0.07993281],\n",
       "       [0.59976758, 0.40023242],\n",
       "       [0.49280634, 0.50719366],\n",
       "       [0.08652432, 0.91347568],\n",
       "       [0.32011609, 0.67988391],\n",
       "       [0.14212829, 0.85787171],\n",
       "       [0.05332237, 0.94667763],\n",
       "       [0.76453904, 0.23546096],\n",
       "       [0.18673513, 0.81326487],\n",
       "       [0.09390076, 0.90609924],\n",
       "       [0.89281895, 0.10718105],\n",
       "       [0.41375089, 0.58624911],\n",
       "       [0.91633659, 0.08366341],\n",
       "       [0.93030325, 0.06969675],\n",
       "       [0.89276553, 0.10723447],\n",
       "       [0.42644494, 0.57355506],\n",
       "       [0.94572061, 0.05427939],\n",
       "       [0.78514066, 0.21485934],\n",
       "       [0.17338349, 0.82661651],\n",
       "       [0.81870045, 0.18129955],\n",
       "       [0.34164877, 0.65835123],\n",
       "       [0.92621031, 0.07378969],\n",
       "       [0.92446069, 0.07553931],\n",
       "       [0.8663221 , 0.1336779 ],\n",
       "       [0.908456  , 0.091544  ],\n",
       "       [0.69507412, 0.30492588],\n",
       "       [0.94428938, 0.05571062],\n",
       "       [0.88861268, 0.11138732],\n",
       "       [0.12776864, 0.87223136],\n",
       "       [0.42644494, 0.57355506],\n",
       "       [0.91962447, 0.08037553],\n",
       "       [0.68605677, 0.31394323],\n",
       "       [0.73887271, 0.26112729],\n",
       "       [0.04684689, 0.95315311],\n",
       "       [0.91777408, 0.08222592],\n",
       "       [0.93226099, 0.06773901],\n",
       "       [0.65810059, 0.34189941],\n",
       "       [0.90367609, 0.09632391],\n",
       "       [0.91715204, 0.08284796],\n",
       "       [0.89810705, 0.10189295],\n",
       "       [0.09925785, 0.90074215],\n",
       "       [0.88962202, 0.11037798],\n",
       "       [0.42259603, 0.57740397],\n",
       "       [0.7596748 , 0.2403252 ],\n",
       "       [0.15346272, 0.84653728],\n",
       "       [0.34046284, 0.65953716],\n",
       "       [0.39622698, 0.60377302],\n",
       "       [0.7699933 , 0.2300067 ],\n",
       "       [0.10646768, 0.89353232],\n",
       "       [0.91789971, 0.08210029],\n",
       "       [0.73216262, 0.26783738],\n",
       "       [0.10615847, 0.89384153],\n",
       "       [0.32769083, 0.67230917],\n",
       "       [0.73156519, 0.26843481],\n",
       "       [0.90593452, 0.09406548],\n",
       "       [0.89530245, 0.10469755],\n",
       "       [0.91353994, 0.08646006],\n",
       "       [0.92617729, 0.07382271],\n",
       "       [0.16440661, 0.83559339],\n",
       "       [0.16663317, 0.83336683],\n",
       "       [0.4918045 , 0.5081955 ],\n",
       "       [0.92612491, 0.07387509],\n",
       "       [0.92842603, 0.07157397],\n",
       "       [0.71973211, 0.28026789],\n",
       "       [0.69993438, 0.30006562],\n",
       "       [0.91717581, 0.08282419],\n",
       "       [0.16940985, 0.83059015],\n",
       "       [0.37513845, 0.62486155],\n",
       "       [0.91715204, 0.08284796],\n",
       "       [0.91704918, 0.08295082],\n",
       "       [0.38593593, 0.61406407],\n",
       "       [0.08785748, 0.91214252],\n",
       "       [0.55197993, 0.44802007],\n",
       "       [0.88664481, 0.11335519],\n",
       "       [0.92222597, 0.07777403],\n",
       "       [0.24613464, 0.75386536],\n",
       "       [0.92829104, 0.07170896],\n",
       "       [0.42631875, 0.57368125],\n",
       "       [0.91717581, 0.08282419],\n",
       "       [0.9222472 , 0.0777528 ],\n",
       "       [0.07766097, 0.92233903],\n",
       "       [0.9272116 , 0.0727884 ],\n",
       "       [0.94114719, 0.05885281],\n",
       "       [0.52054623, 0.47945377],\n",
       "       [0.91074758, 0.08925242],\n",
       "       [0.88089934, 0.11910066],\n",
       "       [0.92434519, 0.07565481],\n",
       "       [0.78606653, 0.21393347],\n",
       "       [0.89805982, 0.10194018],\n",
       "       [0.88962202, 0.11037798],\n",
       "       [0.91574585, 0.08425415],\n",
       "       [0.91353994, 0.08646006],\n",
       "       [0.26315   , 0.73685   ],\n",
       "       [0.38634486, 0.61365514],\n",
       "       [0.91715204, 0.08284796],\n",
       "       [0.7609938 , 0.2390062 ],\n",
       "       [0.29197546, 0.70802454],\n",
       "       [0.91789971, 0.08210029],\n",
       "       [0.4227508 , 0.5772492 ],\n",
       "       [0.14492576, 0.85507424],\n",
       "       [0.77615576, 0.22384424],\n",
       "       [0.04718488, 0.95281512],\n",
       "       [0.94650415, 0.05349585],\n",
       "       [0.09087421, 0.90912579],\n",
       "       [0.91704853, 0.08295147],\n",
       "       [0.91718545, 0.08281455],\n",
       "       [0.16079689, 0.83920311],\n",
       "       [0.92231509, 0.07768491],\n",
       "       [0.79558981, 0.20441019],\n",
       "       [0.90470855, 0.09529145],\n",
       "       [0.5723643 , 0.4276357 ],\n",
       "       [0.94514267, 0.05485733],\n",
       "       [0.42985296, 0.57014704],\n",
       "       [0.4225424 , 0.5774576 ],\n",
       "       [0.06697117, 0.93302883],\n",
       "       [0.07729626, 0.92270374],\n",
       "       [0.43859111, 0.56140889],\n",
       "       [0.80091378, 0.19908622],\n",
       "       [0.90584368, 0.09415632],\n",
       "       [0.42260222, 0.57739778],\n",
       "       [0.16212925, 0.83787075],\n",
       "       [0.94428938, 0.05571062],\n",
       "       [0.801535  , 0.198465  ],\n",
       "       [0.52229405, 0.47770595],\n",
       "       [0.89251267, 0.10748733],\n",
       "       [0.91706204, 0.08293796],\n",
       "       [0.42428419, 0.57571581],\n",
       "       [0.91951939, 0.08048061],\n",
       "       [0.5746417 , 0.4253583 ],\n",
       "       [0.93411038, 0.06588962],\n",
       "       [0.09563133, 0.90436867],\n",
       "       [0.45346729, 0.54653271],\n",
       "       [0.91328712, 0.08671288],\n",
       "       [0.89800872, 0.10199128],\n",
       "       [0.91717581, 0.08282419],\n",
       "       [0.91717581, 0.08282419],\n",
       "       [0.89535475, 0.10464525],\n",
       "       [0.89535475, 0.10464525],\n",
       "       [0.05858134, 0.94141866],\n",
       "       [0.36122871, 0.63877129],\n",
       "       [0.42260222, 0.57739778],\n",
       "       [0.91816484, 0.08183516],\n",
       "       [0.50586901, 0.49413099],\n",
       "       [0.13080535, 0.86919465],\n",
       "       [0.66654076, 0.33345924],\n",
       "       [0.54577615, 0.45422385],\n",
       "       [0.91089938, 0.08910062],\n",
       "       [0.88967432, 0.11032568],\n",
       "       [0.87581749, 0.12418251],\n",
       "       [0.91717581, 0.08282419],\n",
       "       [0.93035587, 0.06964413],\n",
       "       [0.46658548, 0.53341452],\n",
       "       [0.50981517, 0.49018483],\n",
       "       [0.70139837, 0.29860163],\n",
       "       [0.880839  , 0.119161  ],\n",
       "       [0.34542988, 0.65457012],\n",
       "       [0.72387774, 0.27612226],\n",
       "       [0.91102559, 0.08897441],\n",
       "       [0.90580905, 0.09419095],\n",
       "       [0.94252931, 0.05747069],\n",
       "       [0.42260222, 0.57739778],\n",
       "       [0.90341962, 0.09658038],\n",
       "       [0.6907128 , 0.3092872 ],\n",
       "       [0.12359296, 0.87640704],\n",
       "       [0.91715204, 0.08284796],\n",
       "       [0.70203559, 0.29796441],\n",
       "       [0.34398268, 0.65601732],\n",
       "       [0.73795085, 0.26204915],\n",
       "       [0.93246327, 0.06753673],\n",
       "       [0.97384724, 0.02615276],\n",
       "       [0.42259395, 0.57740605],\n",
       "       [0.25218047, 0.74781953],\n",
       "       [0.42592586, 0.57407414],\n",
       "       [0.91715204, 0.08284796],\n",
       "       [0.06678062, 0.93321938],\n",
       "       [0.58344344, 0.41655656],\n",
       "       [0.92840523, 0.07159477],\n",
       "       [0.43139979, 0.56860021],\n",
       "       [0.9173991 , 0.0826009 ],\n",
       "       [0.04413191, 0.95586809],\n",
       "       [0.50737825, 0.49262175],\n",
       "       [0.8979545 , 0.1020455 ],\n",
       "       [0.64961035, 0.35038965],\n",
       "       [0.5108344 , 0.4891656 ],\n",
       "       [0.78575251, 0.21424749],\n",
       "       [0.53732008, 0.46267992],\n",
       "       [0.24127174, 0.75872826],\n",
       "       [0.95424898, 0.04575102],\n",
       "       [0.60416323, 0.39583677],\n",
       "       [0.42260222, 0.57739778],\n",
       "       [0.50325596, 0.49674404],\n",
       "       [0.60828682, 0.39171318],\n",
       "       [0.42266621, 0.57733379],\n",
       "       [0.84312272, 0.15687728],\n",
       "       [0.31626152, 0.68373848],\n",
       "       [0.73696846, 0.26303154],\n",
       "       [0.91558478, 0.08441522],\n",
       "       [0.77005225, 0.22994775],\n",
       "       [0.15331413, 0.84668587],\n",
       "       [0.36811485, 0.63188515],\n",
       "       [0.49734709, 0.50265291],\n",
       "       [0.55343584, 0.44656416],\n",
       "       [0.42234432, 0.57765568],\n",
       "       [0.50586901, 0.49413099],\n",
       "       [0.51716697, 0.48283303],\n",
       "       [0.71807551, 0.28192449],\n",
       "       [0.72746303, 0.27253697],\n",
       "       [0.05308166, 0.94691834],\n",
       "       [0.7800126 , 0.2199874 ],\n",
       "       [0.90458114, 0.09541886],\n",
       "       [0.24080603, 0.75919397],\n",
       "       [0.24005183, 0.75994817],\n",
       "       [0.06308296, 0.93691704],\n",
       "       [0.13387793, 0.86612207],\n",
       "       [0.83318241, 0.16681759],\n",
       "       [0.4259279 , 0.5740721 ],\n",
       "       [0.59879484, 0.40120516],\n",
       "       [0.41055255, 0.58944745],\n",
       "       [0.45092717, 0.54907283],\n",
       "       [0.20791479, 0.79208521],\n",
       "       [0.87725008, 0.12274992],\n",
       "       [0.91712569, 0.08287431],\n",
       "       [0.46036719, 0.53963281],\n",
       "       [0.79126547, 0.20873453],\n",
       "       [0.92931034, 0.07068966],\n",
       "       [0.83836699, 0.16163301],\n",
       "       [0.4897993 , 0.5102007 ],\n",
       "       [0.73216262, 0.26783738],\n",
       "       [0.90592876, 0.09407124],\n",
       "       [0.36118188, 0.63881812],\n",
       "       [0.76760328, 0.23239672],\n",
       "       [0.34080282, 0.65919718],\n",
       "       [0.34093013, 0.65906987],\n",
       "       [0.15513449, 0.84486551],\n",
       "       [0.17145919, 0.82854081],\n",
       "       [0.11509488, 0.88490512],\n",
       "       [0.49580564, 0.50419436],\n",
       "       [0.58539565, 0.41460435],\n",
       "       [0.13481263, 0.86518737],\n",
       "       [0.28638354, 0.71361646],\n",
       "       [0.8953072 , 0.1046928 ],\n",
       "       [0.64026245, 0.35973755],\n",
       "       [0.42262079, 0.57737921],\n",
       "       [0.91704918, 0.08295082],\n",
       "       [0.37496006, 0.62503994],\n",
       "       [0.64004547, 0.35995453],\n",
       "       [0.74832827, 0.25167173],\n",
       "       [0.9143463 , 0.0856537 ],\n",
       "       [0.7692556 , 0.2307444 ],\n",
       "       [0.74865512, 0.25134488],\n",
       "       [0.15699948, 0.84300052],\n",
       "       [0.67312561, 0.32687439],\n",
       "       [0.3891006 , 0.6108994 ],\n",
       "       [0.0977564 , 0.9022436 ],\n",
       "       [0.93400465, 0.06599535],\n",
       "       [0.90196794, 0.09803206],\n",
       "       [0.34560846, 0.65439154],\n",
       "       [0.89234218, 0.10765782],\n",
       "       [0.13115188, 0.86884812],\n",
       "       [0.91455248, 0.08544752],\n",
       "       [0.64383329, 0.35616671],\n",
       "       [0.79530731, 0.20469269],\n",
       "       [0.91812122, 0.08187878],\n",
       "       [0.76046854, 0.23953146],\n",
       "       [0.90845038, 0.09154962],\n",
       "       [0.74440064, 0.25559936],\n",
       "       [0.40023754, 0.59976246],\n",
       "       [0.74477876, 0.25522124],\n",
       "       [0.9169919 , 0.0830081 ],\n",
       "       [0.93135573, 0.06864427],\n",
       "       [0.88939346, 0.11060654],\n",
       "       [0.07122586, 0.92877414],\n",
       "       [0.18206933, 0.81793067],\n",
       "       [0.07690679, 0.92309321],\n",
       "       [0.42250317, 0.57749683],\n",
       "       [0.04697644, 0.95302356],\n",
       "       [0.63439398, 0.36560602],\n",
       "       [0.82109682, 0.17890318],\n",
       "       [0.91777727, 0.08222273],\n",
       "       [0.76453904, 0.23546096],\n",
       "       [0.11978366, 0.88021634],\n",
       "       [0.91840851, 0.08159149],\n",
       "       [0.23154932, 0.76845068],\n",
       "       [0.42539113, 0.57460887],\n",
       "       [0.20048178, 0.79951822],\n",
       "       [0.90075946, 0.09924054],\n",
       "       [0.28669464, 0.71330536],\n",
       "       [0.91715204, 0.08284796],\n",
       "       [0.91925302, 0.08074698],\n",
       "       [0.90955837, 0.09044163],\n",
       "       [0.91663699, 0.08336301],\n",
       "       [0.32130007, 0.67869993],\n",
       "       [0.82783356, 0.17216644],\n",
       "       [0.42279414, 0.57720586],\n",
       "       [0.88380812, 0.11619188],\n",
       "       [0.0776814 , 0.9223186 ],\n",
       "       [0.88059023, 0.11940977],\n",
       "       [0.91715204, 0.08284796],\n",
       "       [0.53576512, 0.46423488],\n",
       "       [0.93591987, 0.06408013],\n",
       "       [0.81475118, 0.18524882],\n",
       "       [0.91705239, 0.08294761],\n",
       "       [0.34187327, 0.65812673],\n",
       "       [0.86529506, 0.13470494],\n",
       "       [0.92617729, 0.07382271],\n",
       "       [0.52451291, 0.47548709],\n",
       "       [0.91815848, 0.08184152],\n",
       "       [0.49884666, 0.50115334],\n",
       "       [0.06762582, 0.93237418],\n",
       "       [0.91704853, 0.08295147],\n",
       "       [0.80038104, 0.19961896],\n",
       "       [0.30813085, 0.69186915],\n",
       "       [0.50527502, 0.49472498],\n",
       "       [0.85851677, 0.14148323],\n",
       "       [0.60563461, 0.39436539],\n",
       "       [0.9172779 , 0.0827221 ],\n",
       "       [0.73216262, 0.26783738],\n",
       "       [0.93870406, 0.06129594],\n",
       "       [0.97637126, 0.02362874],\n",
       "       [0.17338349, 0.82661651],\n",
       "       [0.73864071, 0.26135929],\n",
       "       [0.49954842, 0.50045158],\n",
       "       [0.06195191, 0.93804809],\n",
       "       [0.45399009, 0.54600991],\n",
       "       [0.8968757 , 0.1031243 ],\n",
       "       [0.82286818, 0.17713182],\n",
       "       [0.91327574, 0.08672426],\n",
       "       [0.19339744, 0.80660256],\n",
       "       [0.89795837, 0.10204163],\n",
       "       [0.72435585, 0.27564415],\n",
       "       [0.91326635, 0.08673365],\n",
       "       [0.91714177, 0.08285823],\n",
       "       [0.91704918, 0.08295082],\n",
       "       [0.25816317, 0.74183683],\n",
       "       [0.83429874, 0.16570126],\n",
       "       [0.50357077, 0.49642923],\n",
       "       [0.9084574 , 0.0915426 ],\n",
       "       [0.47435173, 0.52564827],\n",
       "       [0.10200538, 0.89799462],\n",
       "       [0.48517792, 0.51482208],\n",
       "       [0.2407524 , 0.7592476 ],\n",
       "       [0.9264256 , 0.0735744 ],\n",
       "       [0.76762327, 0.23237673],\n",
       "       [0.92224114, 0.07775886],\n",
       "       [0.36787884, 0.63212116],\n",
       "       [0.91717581, 0.08282419],\n",
       "       [0.42674281, 0.57325719],\n",
       "       [0.15740282, 0.84259718],\n",
       "       [0.86629509, 0.13370491],\n",
       "       [0.2407524 , 0.7592476 ],\n",
       "       [0.91328243, 0.08671757],\n",
       "       [0.92225145, 0.07774855],\n",
       "       [0.95427556, 0.04572444],\n",
       "       [0.43139979, 0.56860021],\n",
       "       [0.9200933 , 0.0799067 ]])"
      ]
     },
     "execution_count": 105,
     "metadata": {},
     "output_type": "execute_result"
    }
   ],
   "source": [
    "y_pred_proba"
   ]
  },
  {
   "cell_type": "code",
   "execution_count": 106,
   "metadata": {},
   "outputs": [
    {
     "data": {
      "text/plain": [
       "0.8132530120481928"
      ]
     },
     "execution_count": 106,
     "metadata": {},
     "output_type": "execute_result"
    }
   ],
   "source": [
    "logit.score(X_train, y_train)\n"
   ]
  },
  {
   "cell_type": "code",
   "execution_count": 107,
   "metadata": {},
   "outputs": [
    {
     "name": "stdout",
     "output_type": "stream",
     "text": [
      "              precision    recall  f1-score   support\n",
      "\n",
      "           0       0.84      0.87      0.85       307\n",
      "           1       0.77      0.73      0.75       191\n",
      "\n",
      "    accuracy                           0.81       498\n",
      "   macro avg       0.80      0.80      0.80       498\n",
      "weighted avg       0.81      0.81      0.81       498\n",
      "\n"
     ]
    }
   ],
   "source": [
    "print(classification_report(y_train, y_pred))\n"
   ]
  },
  {
   "cell_type": "code",
   "execution_count": 108,
   "metadata": {},
   "outputs": [],
   "source": [
    "titanic = get_titanic_data()"
   ]
  },
  {
   "cell_type": "code",
   "execution_count": 109,
   "metadata": {},
   "outputs": [
    {
     "data": {
      "text/plain": [
       "0    549\n",
       "1    342\n",
       "Name: survived, dtype: int64"
      ]
     },
     "execution_count": 109,
     "metadata": {},
     "output_type": "execute_result"
    }
   ],
   "source": [
    "titanic.survived.value_counts()"
   ]
  },
  {
   "cell_type": "code",
   "execution_count": 116,
   "metadata": {},
   "outputs": [],
   "source": [
    "total = 342 + 549"
   ]
  },
  {
   "cell_type": "code",
   "execution_count": 117,
   "metadata": {},
   "outputs": [
    {
     "data": {
      "text/plain": [
       "0.6161616161616161"
      ]
     },
     "execution_count": 117,
     "metadata": {},
     "output_type": "execute_result"
    }
   ],
   "source": [
    "549/total"
   ]
  },
  {
   "cell_type": "markdown",
   "metadata": {},
   "source": [
    "Baseline is 61.6%"
   ]
  },
  {
   "cell_type": "code",
   "execution_count": 147,
   "metadata": {},
   "outputs": [],
   "source": [
    "titanic_4 = get_titanic_data()"
   ]
  },
  {
   "cell_type": "code",
   "execution_count": 148,
   "metadata": {},
   "outputs": [
    {
     "data": {
      "text/html": [
       "<div>\n",
       "<style scoped>\n",
       "    .dataframe tbody tr th:only-of-type {\n",
       "        vertical-align: middle;\n",
       "    }\n",
       "\n",
       "    .dataframe tbody tr th {\n",
       "        vertical-align: top;\n",
       "    }\n",
       "\n",
       "    .dataframe thead th {\n",
       "        text-align: right;\n",
       "    }\n",
       "</style>\n",
       "<table border=\"1\" class=\"dataframe\">\n",
       "  <thead>\n",
       "    <tr style=\"text-align: right;\">\n",
       "      <th></th>\n",
       "      <th>passenger_id</th>\n",
       "      <th>survived</th>\n",
       "      <th>pclass</th>\n",
       "      <th>sex</th>\n",
       "      <th>age</th>\n",
       "      <th>sibsp</th>\n",
       "      <th>parch</th>\n",
       "      <th>fare</th>\n",
       "      <th>embarked</th>\n",
       "      <th>class</th>\n",
       "      <th>deck</th>\n",
       "      <th>embark_town</th>\n",
       "      <th>alone</th>\n",
       "    </tr>\n",
       "  </thead>\n",
       "  <tbody>\n",
       "    <tr>\n",
       "      <th>0</th>\n",
       "      <td>0</td>\n",
       "      <td>0</td>\n",
       "      <td>3</td>\n",
       "      <td>male</td>\n",
       "      <td>22.0</td>\n",
       "      <td>1</td>\n",
       "      <td>0</td>\n",
       "      <td>7.2500</td>\n",
       "      <td>S</td>\n",
       "      <td>Third</td>\n",
       "      <td>NaN</td>\n",
       "      <td>Southampton</td>\n",
       "      <td>0</td>\n",
       "    </tr>\n",
       "    <tr>\n",
       "      <th>1</th>\n",
       "      <td>1</td>\n",
       "      <td>1</td>\n",
       "      <td>1</td>\n",
       "      <td>female</td>\n",
       "      <td>38.0</td>\n",
       "      <td>1</td>\n",
       "      <td>0</td>\n",
       "      <td>71.2833</td>\n",
       "      <td>C</td>\n",
       "      <td>First</td>\n",
       "      <td>C</td>\n",
       "      <td>Cherbourg</td>\n",
       "      <td>0</td>\n",
       "    </tr>\n",
       "    <tr>\n",
       "      <th>2</th>\n",
       "      <td>2</td>\n",
       "      <td>1</td>\n",
       "      <td>3</td>\n",
       "      <td>female</td>\n",
       "      <td>26.0</td>\n",
       "      <td>0</td>\n",
       "      <td>0</td>\n",
       "      <td>7.9250</td>\n",
       "      <td>S</td>\n",
       "      <td>Third</td>\n",
       "      <td>NaN</td>\n",
       "      <td>Southampton</td>\n",
       "      <td>1</td>\n",
       "    </tr>\n",
       "    <tr>\n",
       "      <th>3</th>\n",
       "      <td>3</td>\n",
       "      <td>1</td>\n",
       "      <td>1</td>\n",
       "      <td>female</td>\n",
       "      <td>35.0</td>\n",
       "      <td>1</td>\n",
       "      <td>0</td>\n",
       "      <td>53.1000</td>\n",
       "      <td>S</td>\n",
       "      <td>First</td>\n",
       "      <td>C</td>\n",
       "      <td>Southampton</td>\n",
       "      <td>0</td>\n",
       "    </tr>\n",
       "    <tr>\n",
       "      <th>4</th>\n",
       "      <td>4</td>\n",
       "      <td>0</td>\n",
       "      <td>3</td>\n",
       "      <td>male</td>\n",
       "      <td>35.0</td>\n",
       "      <td>0</td>\n",
       "      <td>0</td>\n",
       "      <td>8.0500</td>\n",
       "      <td>S</td>\n",
       "      <td>Third</td>\n",
       "      <td>NaN</td>\n",
       "      <td>Southampton</td>\n",
       "      <td>1</td>\n",
       "    </tr>\n",
       "  </tbody>\n",
       "</table>\n",
       "</div>"
      ],
      "text/plain": [
       "   passenger_id  survived  pclass     sex   age  sibsp  parch     fare  \\\n",
       "0             0         0       3    male  22.0      1      0   7.2500   \n",
       "1             1         1       1  female  38.0      1      0  71.2833   \n",
       "2             2         1       3  female  26.0      0      0   7.9250   \n",
       "3             3         1       1  female  35.0      1      0  53.1000   \n",
       "4             4         0       3    male  35.0      0      0   8.0500   \n",
       "\n",
       "  embarked  class deck  embark_town  alone  \n",
       "0        S  Third  NaN  Southampton      0  \n",
       "1        C  First    C    Cherbourg      0  \n",
       "2        S  Third  NaN  Southampton      1  \n",
       "3        S  First    C  Southampton      0  \n",
       "4        S  Third  NaN  Southampton      1  "
      ]
     },
     "execution_count": 148,
     "metadata": {},
     "output_type": "execute_result"
    }
   ],
   "source": [
    "titanic_4.head()"
   ]
  },
  {
   "cell_type": "code",
   "execution_count": null,
   "metadata": {},
   "outputs": [],
   "source": []
  },
  {
   "cell_type": "code",
   "execution_count": null,
   "metadata": {},
   "outputs": [],
   "source": []
  },
  {
   "cell_type": "code",
   "execution_count": null,
   "metadata": {},
   "outputs": [],
   "source": []
  },
  {
   "cell_type": "code",
   "execution_count": null,
   "metadata": {},
   "outputs": [],
   "source": []
  },
  {
   "cell_type": "code",
   "execution_count": null,
   "metadata": {},
   "outputs": [],
   "source": []
  },
  {
   "cell_type": "code",
   "execution_count": null,
   "metadata": {},
   "outputs": [],
   "source": []
  },
  {
   "cell_type": "code",
   "execution_count": null,
   "metadata": {},
   "outputs": [],
   "source": []
  },
  {
   "cell_type": "code",
   "execution_count": 150,
   "metadata": {},
   "outputs": [],
   "source": [
    "import warnings\n",
    "warnings.filterwarnings(\"ignore\")\n",
    "\n",
    "import numpy as np\n",
    "\n",
    "from pydataset import data\n",
    "\n",
    "from sklearn.model_selection import train_test_split\n",
    "from sklearn.tree import DecisionTreeClassifier\n",
    "from sklearn.tree import export_graphviz\n",
    "from sklearn.metrics import classification_report\n",
    "from sklearn.metrics import confusion_matrix\n",
    "\n",
    "import matplotlib.pyplot as plt\n",
    "%matplotlib inline\n",
    "import seaborn as sns"
   ]
  },
  {
   "cell_type": "markdown",
   "metadata": {},
   "source": [
    "Fit the decision tree classifier to your training sample and transform (i.e. make predictions on the training sample)"
   ]
  },
  {
   "cell_type": "code",
   "execution_count": 149,
   "metadata": {},
   "outputs": [
    {
     "data": {
      "text/html": [
       "<div>\n",
       "<style scoped>\n",
       "    .dataframe tbody tr th:only-of-type {\n",
       "        vertical-align: middle;\n",
       "    }\n",
       "\n",
       "    .dataframe tbody tr th {\n",
       "        vertical-align: top;\n",
       "    }\n",
       "\n",
       "    .dataframe thead th {\n",
       "        text-align: right;\n",
       "    }\n",
       "</style>\n",
       "<table border=\"1\" class=\"dataframe\">\n",
       "  <thead>\n",
       "    <tr style=\"text-align: right;\">\n",
       "      <th></th>\n",
       "      <th>fare</th>\n",
       "      <th>fare</th>\n",
       "      <th>sex_female</th>\n",
       "      <th>sex_male</th>\n",
       "      <th>class_First</th>\n",
       "      <th>class_Second</th>\n",
       "      <th>class_Third</th>\n",
       "      <th>embark_town_Cherbourg</th>\n",
       "      <th>embark_town_Queenstown</th>\n",
       "      <th>embark_town_Southampton</th>\n",
       "    </tr>\n",
       "  </thead>\n",
       "  <tbody>\n",
       "    <tr>\n",
       "      <th>583</th>\n",
       "      <td>40.1250</td>\n",
       "      <td>40.1250</td>\n",
       "      <td>0</td>\n",
       "      <td>1</td>\n",
       "      <td>1</td>\n",
       "      <td>0</td>\n",
       "      <td>0</td>\n",
       "      <td>1</td>\n",
       "      <td>0</td>\n",
       "      <td>0</td>\n",
       "    </tr>\n",
       "    <tr>\n",
       "      <th>165</th>\n",
       "      <td>20.5250</td>\n",
       "      <td>20.5250</td>\n",
       "      <td>0</td>\n",
       "      <td>1</td>\n",
       "      <td>0</td>\n",
       "      <td>0</td>\n",
       "      <td>1</td>\n",
       "      <td>0</td>\n",
       "      <td>0</td>\n",
       "      <td>1</td>\n",
       "    </tr>\n",
       "    <tr>\n",
       "      <th>50</th>\n",
       "      <td>39.6875</td>\n",
       "      <td>39.6875</td>\n",
       "      <td>0</td>\n",
       "      <td>1</td>\n",
       "      <td>0</td>\n",
       "      <td>0</td>\n",
       "      <td>1</td>\n",
       "      <td>0</td>\n",
       "      <td>0</td>\n",
       "      <td>1</td>\n",
       "    </tr>\n",
       "    <tr>\n",
       "      <th>259</th>\n",
       "      <td>26.0000</td>\n",
       "      <td>26.0000</td>\n",
       "      <td>1</td>\n",
       "      <td>0</td>\n",
       "      <td>0</td>\n",
       "      <td>1</td>\n",
       "      <td>0</td>\n",
       "      <td>0</td>\n",
       "      <td>0</td>\n",
       "      <td>1</td>\n",
       "    </tr>\n",
       "    <tr>\n",
       "      <th>306</th>\n",
       "      <td>110.8833</td>\n",
       "      <td>110.8833</td>\n",
       "      <td>1</td>\n",
       "      <td>0</td>\n",
       "      <td>1</td>\n",
       "      <td>0</td>\n",
       "      <td>0</td>\n",
       "      <td>1</td>\n",
       "      <td>0</td>\n",
       "      <td>0</td>\n",
       "    </tr>\n",
       "  </tbody>\n",
       "</table>\n",
       "</div>"
      ],
      "text/plain": [
       "         fare      fare  sex_female  sex_male  class_First  class_Second  \\\n",
       "583   40.1250   40.1250           0         1            1             0   \n",
       "165   20.5250   20.5250           0         1            0             0   \n",
       "50    39.6875   39.6875           0         1            0             0   \n",
       "259   26.0000   26.0000           1         0            0             1   \n",
       "306  110.8833  110.8833           1         0            1             0   \n",
       "\n",
       "     class_Third  embark_town_Cherbourg  embark_town_Queenstown  \\\n",
       "583            0                      1                       0   \n",
       "165            1                      0                       0   \n",
       "50             1                      0                       0   \n",
       "259            0                      0                       0   \n",
       "306            0                      1                       0   \n",
       "\n",
       "     embark_town_Southampton  \n",
       "583                        0  \n",
       "165                        1  \n",
       "50                         1  \n",
       "259                        1  \n",
       "306                        0  "
      ]
     },
     "execution_count": 149,
     "metadata": {},
     "output_type": "execute_result"
    }
   ],
   "source": [
    "train.head()"
   ]
  },
  {
   "cell_type": "code",
   "execution_count": 151,
   "metadata": {},
   "outputs": [
    {
     "data": {
      "text/html": [
       "<div>\n",
       "<style scoped>\n",
       "    .dataframe tbody tr th:only-of-type {\n",
       "        vertical-align: middle;\n",
       "    }\n",
       "\n",
       "    .dataframe tbody tr th {\n",
       "        vertical-align: top;\n",
       "    }\n",
       "\n",
       "    .dataframe thead th {\n",
       "        text-align: right;\n",
       "    }\n",
       "</style>\n",
       "<table border=\"1\" class=\"dataframe\">\n",
       "  <thead>\n",
       "    <tr style=\"text-align: right;\">\n",
       "      <th></th>\n",
       "      <th>fare</th>\n",
       "      <th>fare</th>\n",
       "      <th>sex_female</th>\n",
       "      <th>sex_male</th>\n",
       "      <th>class_First</th>\n",
       "      <th>class_Second</th>\n",
       "      <th>class_Third</th>\n",
       "      <th>embark_town_Cherbourg</th>\n",
       "      <th>embark_town_Queenstown</th>\n",
       "      <th>embark_town_Southampton</th>\n",
       "    </tr>\n",
       "  </thead>\n",
       "  <tbody>\n",
       "    <tr>\n",
       "      <th>583</th>\n",
       "      <td>40.1250</td>\n",
       "      <td>40.1250</td>\n",
       "      <td>0</td>\n",
       "      <td>1</td>\n",
       "      <td>1</td>\n",
       "      <td>0</td>\n",
       "      <td>0</td>\n",
       "      <td>1</td>\n",
       "      <td>0</td>\n",
       "      <td>0</td>\n",
       "    </tr>\n",
       "    <tr>\n",
       "      <th>165</th>\n",
       "      <td>20.5250</td>\n",
       "      <td>20.5250</td>\n",
       "      <td>0</td>\n",
       "      <td>1</td>\n",
       "      <td>0</td>\n",
       "      <td>0</td>\n",
       "      <td>1</td>\n",
       "      <td>0</td>\n",
       "      <td>0</td>\n",
       "      <td>1</td>\n",
       "    </tr>\n",
       "    <tr>\n",
       "      <th>50</th>\n",
       "      <td>39.6875</td>\n",
       "      <td>39.6875</td>\n",
       "      <td>0</td>\n",
       "      <td>1</td>\n",
       "      <td>0</td>\n",
       "      <td>0</td>\n",
       "      <td>1</td>\n",
       "      <td>0</td>\n",
       "      <td>0</td>\n",
       "      <td>1</td>\n",
       "    </tr>\n",
       "    <tr>\n",
       "      <th>259</th>\n",
       "      <td>26.0000</td>\n",
       "      <td>26.0000</td>\n",
       "      <td>1</td>\n",
       "      <td>0</td>\n",
       "      <td>0</td>\n",
       "      <td>1</td>\n",
       "      <td>0</td>\n",
       "      <td>0</td>\n",
       "      <td>0</td>\n",
       "      <td>1</td>\n",
       "    </tr>\n",
       "    <tr>\n",
       "      <th>306</th>\n",
       "      <td>110.8833</td>\n",
       "      <td>110.8833</td>\n",
       "      <td>1</td>\n",
       "      <td>0</td>\n",
       "      <td>1</td>\n",
       "      <td>0</td>\n",
       "      <td>0</td>\n",
       "      <td>1</td>\n",
       "      <td>0</td>\n",
       "      <td>0</td>\n",
       "    </tr>\n",
       "  </tbody>\n",
       "</table>\n",
       "</div>"
      ],
      "text/plain": [
       "         fare      fare  sex_female  sex_male  class_First  class_Second  \\\n",
       "583   40.1250   40.1250           0         1            1             0   \n",
       "165   20.5250   20.5250           0         1            0             0   \n",
       "50    39.6875   39.6875           0         1            0             0   \n",
       "259   26.0000   26.0000           1         0            0             1   \n",
       "306  110.8833  110.8833           1         0            1             0   \n",
       "\n",
       "     class_Third  embark_town_Cherbourg  embark_town_Queenstown  \\\n",
       "583            0                      1                       0   \n",
       "165            1                      0                       0   \n",
       "50             1                      0                       0   \n",
       "259            0                      0                       0   \n",
       "306            0                      1                       0   \n",
       "\n",
       "     embark_town_Southampton  \n",
       "583                        0  \n",
       "165                        1  \n",
       "50                         1  \n",
       "259                        1  \n",
       "306                        0  "
      ]
     },
     "execution_count": 151,
     "metadata": {},
     "output_type": "execute_result"
    }
   ],
   "source": [
    "X_train.head()\n"
   ]
  },
  {
   "cell_type": "code",
   "execution_count": 152,
   "metadata": {},
   "outputs": [],
   "source": [
    "clf = DecisionTreeClassifier(max_depth=3, random_state=123)\n"
   ]
  },
  {
   "cell_type": "code",
   "execution_count": 153,
   "metadata": {},
   "outputs": [
    {
     "data": {
      "text/plain": [
       "DecisionTreeClassifier(ccp_alpha=0.0, class_weight=None, criterion='gini',\n",
       "                       max_depth=3, max_features=None, max_leaf_nodes=None,\n",
       "                       min_impurity_decrease=0.0, min_impurity_split=None,\n",
       "                       min_samples_leaf=1, min_samples_split=2,\n",
       "                       min_weight_fraction_leaf=0.0, presort='deprecated',\n",
       "                       random_state=123, splitter='best')"
      ]
     },
     "execution_count": 153,
     "metadata": {},
     "output_type": "execute_result"
    }
   ],
   "source": [
    "clf.fit(X_train, y_train)\n"
   ]
  },
  {
   "cell_type": "code",
   "execution_count": 154,
   "metadata": {},
   "outputs": [
    {
     "data": {
      "text/plain": [
       "array([[0, 0],\n",
       "       [0, 0],\n",
       "       [0, 0],\n",
       "       [1, 1],\n",
       "       [1, 1]])"
      ]
     },
     "execution_count": 154,
     "metadata": {},
     "output_type": "execute_result"
    }
   ],
   "source": [
    "y_pred = clf.predict(X_train)\n",
    "y_pred[0:5]"
   ]
  },
  {
   "cell_type": "code",
   "execution_count": 155,
   "metadata": {},
   "outputs": [
    {
     "data": {
      "text/plain": [
       "[array([[0.69827586, 0.30172414],\n",
       "        [0.69827586, 0.30172414],\n",
       "        [0.69827586, 0.30172414],\n",
       "        [0.07142857, 0.92857143],\n",
       "        [0.01923077, 0.98076923],\n",
       "        [0.69827586, 0.30172414],\n",
       "        [0.69827586, 0.30172414],\n",
       "        [0.8630137 , 0.1369863 ],\n",
       "        [0.91666667, 0.08333333],\n",
       "        [0.91666667, 0.08333333],\n",
       "        [0.39130435, 0.60869565],\n",
       "        [0.69827586, 0.30172414],\n",
       "        [0.07142857, 0.92857143],\n",
       "        [0.69827586, 0.30172414],\n",
       "        [0.69827586, 0.30172414],\n",
       "        [0.91666667, 0.08333333],\n",
       "        [0.91666667, 0.08333333],\n",
       "        [0.39130435, 0.60869565],\n",
       "        [0.8630137 , 0.1369863 ],\n",
       "        [0.39130435, 0.60869565],\n",
       "        [0.39130435, 0.60869565],\n",
       "        [0.91666667, 0.08333333],\n",
       "        [0.01923077, 0.98076923],\n",
       "        [0.01923077, 0.98076923],\n",
       "        [0.69827586, 0.30172414],\n",
       "        [0.91666667, 0.08333333],\n",
       "        [0.01923077, 0.98076923],\n",
       "        [0.07142857, 0.92857143],\n",
       "        [0.69827586, 0.30172414],\n",
       "        [0.8630137 , 0.1369863 ],\n",
       "        [0.91666667, 0.08333333],\n",
       "        [0.8630137 , 0.1369863 ],\n",
       "        [0.91666667, 0.08333333],\n",
       "        [0.69827586, 0.30172414],\n",
       "        [0.07142857, 0.92857143],\n",
       "        [0.8630137 , 0.1369863 ],\n",
       "        [0.8630137 , 0.1369863 ],\n",
       "        [0.07142857, 0.92857143],\n",
       "        [0.8630137 , 0.1369863 ],\n",
       "        [0.07142857, 0.92857143],\n",
       "        [0.91666667, 0.08333333],\n",
       "        [0.91666667, 0.08333333],\n",
       "        [0.91666667, 0.08333333],\n",
       "        [0.07142857, 0.92857143],\n",
       "        [0.69827586, 0.30172414],\n",
       "        [0.8630137 , 0.1369863 ],\n",
       "        [0.91666667, 0.08333333],\n",
       "        [0.8630137 , 0.1369863 ],\n",
       "        [0.39130435, 0.60869565],\n",
       "        [0.8630137 , 0.1369863 ],\n",
       "        [0.8630137 , 0.1369863 ],\n",
       "        [0.8630137 , 0.1369863 ],\n",
       "        [0.01923077, 0.98076923],\n",
       "        [0.01923077, 0.98076923],\n",
       "        [0.91666667, 0.08333333],\n",
       "        [0.39130435, 0.60869565],\n",
       "        [0.91666667, 0.08333333],\n",
       "        [0.07142857, 0.92857143],\n",
       "        [0.39130435, 0.60869565],\n",
       "        [0.91666667, 0.08333333],\n",
       "        [0.69827586, 0.30172414],\n",
       "        [0.91666667, 0.08333333],\n",
       "        [0.91666667, 0.08333333],\n",
       "        [0.8630137 , 0.1369863 ],\n",
       "        [0.91666667, 0.08333333],\n",
       "        [0.91666667, 0.08333333],\n",
       "        [0.91666667, 0.08333333],\n",
       "        [0.91666667, 0.08333333],\n",
       "        [0.69827586, 0.30172414],\n",
       "        [0.07142857, 0.92857143],\n",
       "        [0.69827586, 0.30172414],\n",
       "        [0.91666667, 0.08333333],\n",
       "        [0.07142857, 0.92857143],\n",
       "        [0.69827586, 0.30172414],\n",
       "        [0.91666667, 0.08333333],\n",
       "        [0.69827586, 0.30172414],\n",
       "        [0.91666667, 0.08333333],\n",
       "        [0.8630137 , 0.1369863 ],\n",
       "        [0.91666667, 0.08333333],\n",
       "        [0.69827586, 0.30172414],\n",
       "        [0.69827586, 0.30172414],\n",
       "        [0.01923077, 0.98076923],\n",
       "        [0.91666667, 0.08333333],\n",
       "        [0.8630137 , 0.1369863 ],\n",
       "        [0.91666667, 0.08333333],\n",
       "        [0.8630137 , 0.1369863 ],\n",
       "        [0.01923077, 0.98076923],\n",
       "        [0.39130435, 0.60869565],\n",
       "        [0.39130435, 0.60869565],\n",
       "        [0.8630137 , 0.1369863 ],\n",
       "        [0.8630137 , 0.1369863 ],\n",
       "        [0.91666667, 0.08333333],\n",
       "        [0.39130435, 0.60869565],\n",
       "        [0.01923077, 0.98076923],\n",
       "        [0.8630137 , 0.1369863 ],\n",
       "        [0.91666667, 0.08333333],\n",
       "        [0.01923077, 0.98076923],\n",
       "        [0.69827586, 0.30172414],\n",
       "        [0.69827586, 0.30172414],\n",
       "        [0.01923077, 0.98076923],\n",
       "        [0.91666667, 0.08333333],\n",
       "        [0.69827586, 0.30172414],\n",
       "        [0.07142857, 0.92857143],\n",
       "        [0.8630137 , 0.1369863 ],\n",
       "        [0.01923077, 0.98076923],\n",
       "        [0.01923077, 0.98076923],\n",
       "        [0.69827586, 0.30172414],\n",
       "        [0.        , 1.        ],\n",
       "        [0.91666667, 0.08333333],\n",
       "        [0.91666667, 0.08333333],\n",
       "        [0.69827586, 0.30172414],\n",
       "        [0.69827586, 0.30172414],\n",
       "        [0.69827586, 0.30172414],\n",
       "        [0.8630137 , 0.1369863 ],\n",
       "        [0.39130435, 0.60869565],\n",
       "        [0.07142857, 0.92857143],\n",
       "        [0.69827586, 0.30172414],\n",
       "        [0.91666667, 0.08333333],\n",
       "        [0.01923077, 0.98076923],\n",
       "        [0.07142857, 0.92857143],\n",
       "        [0.39130435, 0.60869565],\n",
       "        [0.91666667, 0.08333333],\n",
       "        [0.69827586, 0.30172414],\n",
       "        [0.91666667, 0.08333333],\n",
       "        [0.69827586, 0.30172414],\n",
       "        [0.07142857, 0.92857143],\n",
       "        [0.01923077, 0.98076923],\n",
       "        [0.69827586, 0.30172414],\n",
       "        [0.39130435, 0.60869565],\n",
       "        [0.39130435, 0.60869565],\n",
       "        [0.39130435, 0.60869565],\n",
       "        [0.91666667, 0.08333333],\n",
       "        [0.91666667, 0.08333333],\n",
       "        [0.07142857, 0.92857143],\n",
       "        [0.69827586, 0.30172414],\n",
       "        [0.91666667, 0.08333333],\n",
       "        [0.91666667, 0.08333333],\n",
       "        [0.91666667, 0.08333333],\n",
       "        [0.69827586, 0.30172414],\n",
       "        [0.69827586, 0.30172414],\n",
       "        [0.07142857, 0.92857143],\n",
       "        [0.69827586, 0.30172414],\n",
       "        [0.69827586, 0.30172414],\n",
       "        [0.91666667, 0.08333333],\n",
       "        [0.69827586, 0.30172414],\n",
       "        [0.69827586, 0.30172414],\n",
       "        [0.01923077, 0.98076923],\n",
       "        [0.07142857, 0.92857143],\n",
       "        [0.01923077, 0.98076923],\n",
       "        [0.01923077, 0.98076923],\n",
       "        [0.91666667, 0.08333333],\n",
       "        [0.01923077, 0.98076923],\n",
       "        [0.07142857, 0.92857143],\n",
       "        [0.8630137 , 0.1369863 ],\n",
       "        [0.39130435, 0.60869565],\n",
       "        [0.69827586, 0.30172414],\n",
       "        [0.91666667, 0.08333333],\n",
       "        [0.8630137 , 0.1369863 ],\n",
       "        [0.39130435, 0.60869565],\n",
       "        [0.91666667, 0.08333333],\n",
       "        [0.69827586, 0.30172414],\n",
       "        [0.07142857, 0.92857143],\n",
       "        [0.69827586, 0.30172414],\n",
       "        [0.39130435, 0.60869565],\n",
       "        [0.91666667, 0.08333333],\n",
       "        [0.8630137 , 0.1369863 ],\n",
       "        [0.69827586, 0.30172414],\n",
       "        [0.91666667, 0.08333333],\n",
       "        [0.69827586, 0.30172414],\n",
       "        [0.91666667, 0.08333333],\n",
       "        [0.8630137 , 0.1369863 ],\n",
       "        [0.01923077, 0.98076923],\n",
       "        [0.39130435, 0.60869565],\n",
       "        [0.69827586, 0.30172414],\n",
       "        [0.69827586, 0.30172414],\n",
       "        [0.69827586, 0.30172414],\n",
       "        [0.07142857, 0.92857143],\n",
       "        [0.91666667, 0.08333333],\n",
       "        [0.91666667, 0.08333333],\n",
       "        [0.69827586, 0.30172414],\n",
       "        [0.8630137 , 0.1369863 ],\n",
       "        [0.91666667, 0.08333333],\n",
       "        [0.91666667, 0.08333333],\n",
       "        [0.01923077, 0.98076923],\n",
       "        [0.91666667, 0.08333333],\n",
       "        [0.39130435, 0.60869565],\n",
       "        [0.69827586, 0.30172414],\n",
       "        [0.01923077, 0.98076923],\n",
       "        [0.39130435, 0.60869565],\n",
       "        [0.39130435, 0.60869565],\n",
       "        [0.8630137 , 0.1369863 ],\n",
       "        [0.01923077, 0.98076923],\n",
       "        [0.91666667, 0.08333333],\n",
       "        [0.8630137 , 0.1369863 ],\n",
       "        [0.01923077, 0.98076923],\n",
       "        [0.39130435, 0.60869565],\n",
       "        [0.8630137 , 0.1369863 ],\n",
       "        [0.91666667, 0.08333333],\n",
       "        [0.91666667, 0.08333333],\n",
       "        [0.8630137 , 0.1369863 ],\n",
       "        [0.69827586, 0.30172414],\n",
       "        [0.01923077, 0.98076923],\n",
       "        [0.01923077, 0.98076923],\n",
       "        [0.91666667, 0.08333333],\n",
       "        [0.69827586, 0.30172414],\n",
       "        [0.91666667, 0.08333333],\n",
       "        [0.8630137 , 0.1369863 ],\n",
       "        [0.69827586, 0.30172414],\n",
       "        [0.91666667, 0.08333333],\n",
       "        [0.07142857, 0.92857143],\n",
       "        [0.39130435, 0.60869565],\n",
       "        [0.91666667, 0.08333333],\n",
       "        [0.91666667, 0.08333333],\n",
       "        [0.39130435, 0.60869565],\n",
       "        [0.01923077, 0.98076923],\n",
       "        [0.69827586, 0.30172414],\n",
       "        [0.91666667, 0.08333333],\n",
       "        [0.91666667, 0.08333333],\n",
       "        [0.07142857, 0.92857143],\n",
       "        [0.91666667, 0.08333333],\n",
       "        [0.39130435, 0.60869565],\n",
       "        [0.91666667, 0.08333333],\n",
       "        [0.91666667, 0.08333333],\n",
       "        [0.01923077, 0.98076923],\n",
       "        [0.91666667, 0.08333333],\n",
       "        [0.8630137 , 0.1369863 ],\n",
       "        [0.69827586, 0.30172414],\n",
       "        [0.91666667, 0.08333333],\n",
       "        [0.8630137 , 0.1369863 ],\n",
       "        [0.69827586, 0.30172414],\n",
       "        [0.8630137 , 0.1369863 ],\n",
       "        [0.91666667, 0.08333333],\n",
       "        [0.91666667, 0.08333333],\n",
       "        [0.8630137 , 0.1369863 ],\n",
       "        [0.8630137 , 0.1369863 ],\n",
       "        [0.07142857, 0.92857143],\n",
       "        [0.39130435, 0.60869565],\n",
       "        [0.91666667, 0.08333333],\n",
       "        [0.69827586, 0.30172414],\n",
       "        [0.91666667, 0.08333333],\n",
       "        [0.91666667, 0.08333333],\n",
       "        [0.39130435, 0.60869565],\n",
       "        [0.07142857, 0.92857143],\n",
       "        [0.8630137 , 0.1369863 ],\n",
       "        [0.01923077, 0.98076923],\n",
       "        [0.91666667, 0.08333333],\n",
       "        [0.01923077, 0.98076923],\n",
       "        [0.91666667, 0.08333333],\n",
       "        [0.8630137 , 0.1369863 ],\n",
       "        [0.07142857, 0.92857143],\n",
       "        [0.8630137 , 0.1369863 ],\n",
       "        [0.69827586, 0.30172414],\n",
       "        [0.91666667, 0.08333333],\n",
       "        [0.69827586, 0.30172414],\n",
       "        [0.8630137 , 0.1369863 ],\n",
       "        [0.39130435, 0.60869565],\n",
       "        [0.39130435, 0.60869565],\n",
       "        [0.01923077, 0.98076923],\n",
       "        [0.01923077, 0.98076923],\n",
       "        [0.39130435, 0.60869565],\n",
       "        [0.8630137 , 0.1369863 ],\n",
       "        [0.91666667, 0.08333333],\n",
       "        [0.39130435, 0.60869565],\n",
       "        [0.01923077, 0.98076923],\n",
       "        [0.91666667, 0.08333333],\n",
       "        [0.69827586, 0.30172414],\n",
       "        [0.91666667, 0.08333333],\n",
       "        [0.91666667, 0.08333333],\n",
       "        [0.91666667, 0.08333333],\n",
       "        [0.39130435, 0.60869565],\n",
       "        [0.69827586, 0.30172414],\n",
       "        [0.69827586, 0.30172414],\n",
       "        [0.91666667, 0.08333333],\n",
       "        [0.01923077, 0.98076923],\n",
       "        [0.91666667, 0.08333333],\n",
       "        [0.91666667, 0.08333333],\n",
       "        [0.91666667, 0.08333333],\n",
       "        [0.91666667, 0.08333333],\n",
       "        [0.91666667, 0.08333333],\n",
       "        [0.91666667, 0.08333333],\n",
       "        [0.91666667, 0.08333333],\n",
       "        [0.01923077, 0.98076923],\n",
       "        [0.39130435, 0.60869565],\n",
       "        [0.39130435, 0.60869565],\n",
       "        [0.8630137 , 0.1369863 ],\n",
       "        [0.69827586, 0.30172414],\n",
       "        [0.07142857, 0.92857143],\n",
       "        [0.69827586, 0.30172414],\n",
       "        [0.69827586, 0.30172414],\n",
       "        [0.91666667, 0.08333333],\n",
       "        [0.8630137 , 0.1369863 ],\n",
       "        [0.69827586, 0.30172414],\n",
       "        [0.91666667, 0.08333333],\n",
       "        [0.91666667, 0.08333333],\n",
       "        [0.69827586, 0.30172414],\n",
       "        [0.69827586, 0.30172414],\n",
       "        [0.8630137 , 0.1369863 ],\n",
       "        [0.8630137 , 0.1369863 ],\n",
       "        [0.91666667, 0.08333333],\n",
       "        [0.69827586, 0.30172414],\n",
       "        [0.8630137 , 0.1369863 ],\n",
       "        [0.91666667, 0.08333333],\n",
       "        [0.91666667, 0.08333333],\n",
       "        [0.39130435, 0.60869565],\n",
       "        [0.91666667, 0.08333333],\n",
       "        [0.69827586, 0.30172414],\n",
       "        [0.01923077, 0.98076923],\n",
       "        [0.91666667, 0.08333333],\n",
       "        [0.8630137 , 0.1369863 ],\n",
       "        [0.39130435, 0.60869565],\n",
       "        [0.8630137 , 0.1369863 ],\n",
       "        [0.69827586, 0.30172414],\n",
       "        [0.91666667, 0.08333333],\n",
       "        [0.39130435, 0.60869565],\n",
       "        [0.91666667, 0.08333333],\n",
       "        [0.39130435, 0.60869565],\n",
       "        [0.91666667, 0.08333333],\n",
       "        [0.01923077, 0.98076923],\n",
       "        [0.69827586, 0.30172414],\n",
       "        [0.91666667, 0.08333333],\n",
       "        [0.91666667, 0.08333333],\n",
       "        [0.8630137 , 0.1369863 ],\n",
       "        [0.01923077, 0.98076923],\n",
       "        [0.69827586, 0.30172414],\n",
       "        [0.91666667, 0.08333333],\n",
       "        [0.69827586, 0.30172414],\n",
       "        [0.69827586, 0.30172414],\n",
       "        [0.69827586, 0.30172414],\n",
       "        [0.69827586, 0.30172414],\n",
       "        [0.07142857, 0.92857143],\n",
       "        [0.91666667, 0.08333333],\n",
       "        [0.        , 1.        ],\n",
       "        [0.39130435, 0.60869565],\n",
       "        [0.69827586, 0.30172414],\n",
       "        [0.69827586, 0.30172414],\n",
       "        [0.39130435, 0.60869565],\n",
       "        [0.69827586, 0.30172414],\n",
       "        [0.39130435, 0.60869565],\n",
       "        [0.8630137 , 0.1369863 ],\n",
       "        [0.91666667, 0.08333333],\n",
       "        [0.8630137 , 0.1369863 ],\n",
       "        [0.07142857, 0.92857143],\n",
       "        [0.39130435, 0.60869565],\n",
       "        [0.69827586, 0.30172414],\n",
       "        [0.91666667, 0.08333333],\n",
       "        [0.39130435, 0.60869565],\n",
       "        [0.69827586, 0.30172414],\n",
       "        [0.69827586, 0.30172414],\n",
       "        [0.69827586, 0.30172414],\n",
       "        [0.69827586, 0.30172414],\n",
       "        [0.01923077, 0.98076923],\n",
       "        [0.69827586, 0.30172414],\n",
       "        [0.91666667, 0.08333333],\n",
       "        [0.39130435, 0.60869565],\n",
       "        [0.01923077, 0.98076923],\n",
       "        [0.01923077, 0.98076923],\n",
       "        [0.01923077, 0.98076923],\n",
       "        [0.69827586, 0.30172414],\n",
       "        [0.39130435, 0.60869565],\n",
       "        [0.69827586, 0.30172414],\n",
       "        [0.39130435, 0.60869565],\n",
       "        [0.39130435, 0.60869565],\n",
       "        [0.07142857, 0.92857143],\n",
       "        [0.91666667, 0.08333333],\n",
       "        [0.91666667, 0.08333333],\n",
       "        [0.69827586, 0.30172414],\n",
       "        [0.8630137 , 0.1369863 ],\n",
       "        [0.91666667, 0.08333333],\n",
       "        [0.69827586, 0.30172414],\n",
       "        [0.69827586, 0.30172414],\n",
       "        [0.8630137 , 0.1369863 ],\n",
       "        [0.91666667, 0.08333333],\n",
       "        [0.39130435, 0.60869565],\n",
       "        [0.69827586, 0.30172414],\n",
       "        [0.39130435, 0.60869565],\n",
       "        [0.39130435, 0.60869565],\n",
       "        [0.01923077, 0.98076923],\n",
       "        [0.07142857, 0.92857143],\n",
       "        [0.01923077, 0.98076923],\n",
       "        [0.91666667, 0.08333333],\n",
       "        [0.8630137 , 0.1369863 ],\n",
       "        [0.07142857, 0.92857143],\n",
       "        [0.07142857, 0.92857143],\n",
       "        [0.91666667, 0.08333333],\n",
       "        [0.69827586, 0.30172414],\n",
       "        [0.39130435, 0.60869565],\n",
       "        [0.91666667, 0.08333333],\n",
       "        [0.39130435, 0.60869565],\n",
       "        [0.69827586, 0.30172414],\n",
       "        [0.8630137 , 0.1369863 ],\n",
       "        [0.91666667, 0.08333333],\n",
       "        [0.8630137 , 0.1369863 ],\n",
       "        [0.69827586, 0.30172414],\n",
       "        [0.07142857, 0.92857143],\n",
       "        [0.69827586, 0.30172414],\n",
       "        [0.39130435, 0.60869565],\n",
       "        [0.01923077, 0.98076923],\n",
       "        [0.91666667, 0.08333333],\n",
       "        [0.91666667, 0.08333333],\n",
       "        [0.39130435, 0.60869565],\n",
       "        [0.91666667, 0.08333333],\n",
       "        [0.07142857, 0.92857143],\n",
       "        [0.8630137 , 0.1369863 ],\n",
       "        [0.69827586, 0.30172414],\n",
       "        [0.8630137 , 0.1369863 ],\n",
       "        [0.8630137 , 0.1369863 ],\n",
       "        [0.8630137 , 0.1369863 ],\n",
       "        [0.91666667, 0.08333333],\n",
       "        [0.69827586, 0.30172414],\n",
       "        [0.39130435, 0.60869565],\n",
       "        [0.69827586, 0.30172414],\n",
       "        [0.91666667, 0.08333333],\n",
       "        [0.8630137 , 0.1369863 ],\n",
       "        [0.91666667, 0.08333333],\n",
       "        [0.01923077, 0.98076923],\n",
       "        [0.07142857, 0.92857143],\n",
       "        [0.01923077, 0.98076923],\n",
       "        [0.39130435, 0.60869565],\n",
       "        [0.01923077, 0.98076923],\n",
       "        [0.69827586, 0.30172414],\n",
       "        [0.69827586, 0.30172414],\n",
       "        [0.91666667, 0.08333333],\n",
       "        [0.91666667, 0.08333333],\n",
       "        [0.07142857, 0.92857143],\n",
       "        [0.8630137 , 0.1369863 ],\n",
       "        [0.07142857, 0.92857143],\n",
       "        [0.39130435, 0.60869565],\n",
       "        [0.07142857, 0.92857143],\n",
       "        [0.91666667, 0.08333333],\n",
       "        [0.39130435, 0.60869565],\n",
       "        [0.91666667, 0.08333333],\n",
       "        [0.69827586, 0.30172414],\n",
       "        [0.8630137 , 0.1369863 ],\n",
       "        [0.8630137 , 0.1369863 ],\n",
       "        [0.39130435, 0.60869565],\n",
       "        [0.8630137 , 0.1369863 ],\n",
       "        [0.39130435, 0.60869565],\n",
       "        [0.8630137 , 0.1369863 ],\n",
       "        [0.01923077, 0.98076923],\n",
       "        [0.91666667, 0.08333333],\n",
       "        [0.91666667, 0.08333333],\n",
       "        [0.39130435, 0.60869565],\n",
       "        [0.91666667, 0.08333333],\n",
       "        [0.8630137 , 0.1369863 ],\n",
       "        [0.91666667, 0.08333333],\n",
       "        [0.39130435, 0.60869565],\n",
       "        [0.69827586, 0.30172414],\n",
       "        [0.69827586, 0.30172414],\n",
       "        [0.69827586, 0.30172414],\n",
       "        [0.8630137 , 0.1369863 ],\n",
       "        [0.69827586, 0.30172414],\n",
       "        [0.01923077, 0.98076923],\n",
       "        [0.91666667, 0.08333333],\n",
       "        [0.69827586, 0.30172414],\n",
       "        [0.39130435, 0.60869565],\n",
       "        [0.69827586, 0.30172414],\n",
       "        [0.69827586, 0.30172414],\n",
       "        [0.69827586, 0.30172414],\n",
       "        [0.8630137 , 0.1369863 ],\n",
       "        [0.8630137 , 0.1369863 ],\n",
       "        [0.69827586, 0.30172414],\n",
       "        [0.91666667, 0.08333333],\n",
       "        [0.07142857, 0.92857143],\n",
       "        [0.69827586, 0.30172414],\n",
       "        [0.39130435, 0.60869565],\n",
       "        [0.01923077, 0.98076923],\n",
       "        [0.69827586, 0.30172414],\n",
       "        [0.8630137 , 0.1369863 ],\n",
       "        [0.8630137 , 0.1369863 ],\n",
       "        [0.91666667, 0.08333333],\n",
       "        [0.07142857, 0.92857143],\n",
       "        [0.91666667, 0.08333333],\n",
       "        [0.69827586, 0.30172414],\n",
       "        [0.91666667, 0.08333333],\n",
       "        [0.91666667, 0.08333333],\n",
       "        [0.91666667, 0.08333333],\n",
       "        [0.07142857, 0.92857143],\n",
       "        [0.69827586, 0.30172414],\n",
       "        [0.69827586, 0.30172414],\n",
       "        [0.91666667, 0.08333333],\n",
       "        [0.69827586, 0.30172414],\n",
       "        [0.01923077, 0.98076923],\n",
       "        [0.69827586, 0.30172414],\n",
       "        [0.39130435, 0.60869565],\n",
       "        [0.91666667, 0.08333333],\n",
       "        [0.69827586, 0.30172414],\n",
       "        [0.91666667, 0.08333333],\n",
       "        [0.39130435, 0.60869565],\n",
       "        [0.91666667, 0.08333333],\n",
       "        [0.39130435, 0.60869565],\n",
       "        [0.07142857, 0.92857143],\n",
       "        [0.8630137 , 0.1369863 ],\n",
       "        [0.39130435, 0.60869565],\n",
       "        [0.91666667, 0.08333333],\n",
       "        [0.91666667, 0.08333333],\n",
       "        [0.91666667, 0.08333333],\n",
       "        [0.91666667, 0.08333333],\n",
       "        [0.91666667, 0.08333333]]),\n",
       " array([[0.69827586, 0.30172414],\n",
       "        [0.69827586, 0.30172414],\n",
       "        [0.69827586, 0.30172414],\n",
       "        [0.07142857, 0.92857143],\n",
       "        [0.01923077, 0.98076923],\n",
       "        [0.69827586, 0.30172414],\n",
       "        [0.69827586, 0.30172414],\n",
       "        [0.8630137 , 0.1369863 ],\n",
       "        [0.91666667, 0.08333333],\n",
       "        [0.91666667, 0.08333333],\n",
       "        [0.39130435, 0.60869565],\n",
       "        [0.69827586, 0.30172414],\n",
       "        [0.07142857, 0.92857143],\n",
       "        [0.69827586, 0.30172414],\n",
       "        [0.69827586, 0.30172414],\n",
       "        [0.91666667, 0.08333333],\n",
       "        [0.91666667, 0.08333333],\n",
       "        [0.39130435, 0.60869565],\n",
       "        [0.8630137 , 0.1369863 ],\n",
       "        [0.39130435, 0.60869565],\n",
       "        [0.39130435, 0.60869565],\n",
       "        [0.91666667, 0.08333333],\n",
       "        [0.01923077, 0.98076923],\n",
       "        [0.01923077, 0.98076923],\n",
       "        [0.69827586, 0.30172414],\n",
       "        [0.91666667, 0.08333333],\n",
       "        [0.01923077, 0.98076923],\n",
       "        [0.07142857, 0.92857143],\n",
       "        [0.69827586, 0.30172414],\n",
       "        [0.8630137 , 0.1369863 ],\n",
       "        [0.91666667, 0.08333333],\n",
       "        [0.8630137 , 0.1369863 ],\n",
       "        [0.91666667, 0.08333333],\n",
       "        [0.69827586, 0.30172414],\n",
       "        [0.07142857, 0.92857143],\n",
       "        [0.8630137 , 0.1369863 ],\n",
       "        [0.8630137 , 0.1369863 ],\n",
       "        [0.07142857, 0.92857143],\n",
       "        [0.8630137 , 0.1369863 ],\n",
       "        [0.07142857, 0.92857143],\n",
       "        [0.91666667, 0.08333333],\n",
       "        [0.91666667, 0.08333333],\n",
       "        [0.91666667, 0.08333333],\n",
       "        [0.07142857, 0.92857143],\n",
       "        [0.69827586, 0.30172414],\n",
       "        [0.8630137 , 0.1369863 ],\n",
       "        [0.91666667, 0.08333333],\n",
       "        [0.8630137 , 0.1369863 ],\n",
       "        [0.39130435, 0.60869565],\n",
       "        [0.8630137 , 0.1369863 ],\n",
       "        [0.8630137 , 0.1369863 ],\n",
       "        [0.8630137 , 0.1369863 ],\n",
       "        [0.01923077, 0.98076923],\n",
       "        [0.01923077, 0.98076923],\n",
       "        [0.91666667, 0.08333333],\n",
       "        [0.39130435, 0.60869565],\n",
       "        [0.91666667, 0.08333333],\n",
       "        [0.07142857, 0.92857143],\n",
       "        [0.39130435, 0.60869565],\n",
       "        [0.91666667, 0.08333333],\n",
       "        [0.69827586, 0.30172414],\n",
       "        [0.91666667, 0.08333333],\n",
       "        [0.91666667, 0.08333333],\n",
       "        [0.8630137 , 0.1369863 ],\n",
       "        [0.91666667, 0.08333333],\n",
       "        [0.91666667, 0.08333333],\n",
       "        [0.91666667, 0.08333333],\n",
       "        [0.91666667, 0.08333333],\n",
       "        [0.69827586, 0.30172414],\n",
       "        [0.07142857, 0.92857143],\n",
       "        [0.69827586, 0.30172414],\n",
       "        [0.91666667, 0.08333333],\n",
       "        [0.07142857, 0.92857143],\n",
       "        [0.69827586, 0.30172414],\n",
       "        [0.91666667, 0.08333333],\n",
       "        [0.69827586, 0.30172414],\n",
       "        [0.91666667, 0.08333333],\n",
       "        [0.8630137 , 0.1369863 ],\n",
       "        [0.91666667, 0.08333333],\n",
       "        [0.69827586, 0.30172414],\n",
       "        [0.69827586, 0.30172414],\n",
       "        [0.01923077, 0.98076923],\n",
       "        [0.91666667, 0.08333333],\n",
       "        [0.8630137 , 0.1369863 ],\n",
       "        [0.91666667, 0.08333333],\n",
       "        [0.8630137 , 0.1369863 ],\n",
       "        [0.01923077, 0.98076923],\n",
       "        [0.39130435, 0.60869565],\n",
       "        [0.39130435, 0.60869565],\n",
       "        [0.8630137 , 0.1369863 ],\n",
       "        [0.8630137 , 0.1369863 ],\n",
       "        [0.91666667, 0.08333333],\n",
       "        [0.39130435, 0.60869565],\n",
       "        [0.01923077, 0.98076923],\n",
       "        [0.8630137 , 0.1369863 ],\n",
       "        [0.91666667, 0.08333333],\n",
       "        [0.01923077, 0.98076923],\n",
       "        [0.69827586, 0.30172414],\n",
       "        [0.69827586, 0.30172414],\n",
       "        [0.01923077, 0.98076923],\n",
       "        [0.91666667, 0.08333333],\n",
       "        [0.69827586, 0.30172414],\n",
       "        [0.07142857, 0.92857143],\n",
       "        [0.8630137 , 0.1369863 ],\n",
       "        [0.01923077, 0.98076923],\n",
       "        [0.01923077, 0.98076923],\n",
       "        [0.69827586, 0.30172414],\n",
       "        [0.        , 1.        ],\n",
       "        [0.91666667, 0.08333333],\n",
       "        [0.91666667, 0.08333333],\n",
       "        [0.69827586, 0.30172414],\n",
       "        [0.69827586, 0.30172414],\n",
       "        [0.69827586, 0.30172414],\n",
       "        [0.8630137 , 0.1369863 ],\n",
       "        [0.39130435, 0.60869565],\n",
       "        [0.07142857, 0.92857143],\n",
       "        [0.69827586, 0.30172414],\n",
       "        [0.91666667, 0.08333333],\n",
       "        [0.01923077, 0.98076923],\n",
       "        [0.07142857, 0.92857143],\n",
       "        [0.39130435, 0.60869565],\n",
       "        [0.91666667, 0.08333333],\n",
       "        [0.69827586, 0.30172414],\n",
       "        [0.91666667, 0.08333333],\n",
       "        [0.69827586, 0.30172414],\n",
       "        [0.07142857, 0.92857143],\n",
       "        [0.01923077, 0.98076923],\n",
       "        [0.69827586, 0.30172414],\n",
       "        [0.39130435, 0.60869565],\n",
       "        [0.39130435, 0.60869565],\n",
       "        [0.39130435, 0.60869565],\n",
       "        [0.91666667, 0.08333333],\n",
       "        [0.91666667, 0.08333333],\n",
       "        [0.07142857, 0.92857143],\n",
       "        [0.69827586, 0.30172414],\n",
       "        [0.91666667, 0.08333333],\n",
       "        [0.91666667, 0.08333333],\n",
       "        [0.91666667, 0.08333333],\n",
       "        [0.69827586, 0.30172414],\n",
       "        [0.69827586, 0.30172414],\n",
       "        [0.07142857, 0.92857143],\n",
       "        [0.69827586, 0.30172414],\n",
       "        [0.69827586, 0.30172414],\n",
       "        [0.91666667, 0.08333333],\n",
       "        [0.69827586, 0.30172414],\n",
       "        [0.69827586, 0.30172414],\n",
       "        [0.01923077, 0.98076923],\n",
       "        [0.07142857, 0.92857143],\n",
       "        [0.01923077, 0.98076923],\n",
       "        [0.01923077, 0.98076923],\n",
       "        [0.91666667, 0.08333333],\n",
       "        [0.01923077, 0.98076923],\n",
       "        [0.07142857, 0.92857143],\n",
       "        [0.8630137 , 0.1369863 ],\n",
       "        [0.39130435, 0.60869565],\n",
       "        [0.69827586, 0.30172414],\n",
       "        [0.91666667, 0.08333333],\n",
       "        [0.8630137 , 0.1369863 ],\n",
       "        [0.39130435, 0.60869565],\n",
       "        [0.91666667, 0.08333333],\n",
       "        [0.69827586, 0.30172414],\n",
       "        [0.07142857, 0.92857143],\n",
       "        [0.69827586, 0.30172414],\n",
       "        [0.39130435, 0.60869565],\n",
       "        [0.91666667, 0.08333333],\n",
       "        [0.8630137 , 0.1369863 ],\n",
       "        [0.69827586, 0.30172414],\n",
       "        [0.91666667, 0.08333333],\n",
       "        [0.69827586, 0.30172414],\n",
       "        [0.91666667, 0.08333333],\n",
       "        [0.8630137 , 0.1369863 ],\n",
       "        [0.01923077, 0.98076923],\n",
       "        [0.39130435, 0.60869565],\n",
       "        [0.69827586, 0.30172414],\n",
       "        [0.69827586, 0.30172414],\n",
       "        [0.69827586, 0.30172414],\n",
       "        [0.07142857, 0.92857143],\n",
       "        [0.91666667, 0.08333333],\n",
       "        [0.91666667, 0.08333333],\n",
       "        [0.69827586, 0.30172414],\n",
       "        [0.8630137 , 0.1369863 ],\n",
       "        [0.91666667, 0.08333333],\n",
       "        [0.91666667, 0.08333333],\n",
       "        [0.01923077, 0.98076923],\n",
       "        [0.91666667, 0.08333333],\n",
       "        [0.39130435, 0.60869565],\n",
       "        [0.69827586, 0.30172414],\n",
       "        [0.01923077, 0.98076923],\n",
       "        [0.39130435, 0.60869565],\n",
       "        [0.39130435, 0.60869565],\n",
       "        [0.8630137 , 0.1369863 ],\n",
       "        [0.01923077, 0.98076923],\n",
       "        [0.91666667, 0.08333333],\n",
       "        [0.8630137 , 0.1369863 ],\n",
       "        [0.01923077, 0.98076923],\n",
       "        [0.39130435, 0.60869565],\n",
       "        [0.8630137 , 0.1369863 ],\n",
       "        [0.91666667, 0.08333333],\n",
       "        [0.91666667, 0.08333333],\n",
       "        [0.8630137 , 0.1369863 ],\n",
       "        [0.69827586, 0.30172414],\n",
       "        [0.01923077, 0.98076923],\n",
       "        [0.01923077, 0.98076923],\n",
       "        [0.91666667, 0.08333333],\n",
       "        [0.69827586, 0.30172414],\n",
       "        [0.91666667, 0.08333333],\n",
       "        [0.8630137 , 0.1369863 ],\n",
       "        [0.69827586, 0.30172414],\n",
       "        [0.91666667, 0.08333333],\n",
       "        [0.07142857, 0.92857143],\n",
       "        [0.39130435, 0.60869565],\n",
       "        [0.91666667, 0.08333333],\n",
       "        [0.91666667, 0.08333333],\n",
       "        [0.39130435, 0.60869565],\n",
       "        [0.01923077, 0.98076923],\n",
       "        [0.69827586, 0.30172414],\n",
       "        [0.91666667, 0.08333333],\n",
       "        [0.91666667, 0.08333333],\n",
       "        [0.07142857, 0.92857143],\n",
       "        [0.91666667, 0.08333333],\n",
       "        [0.39130435, 0.60869565],\n",
       "        [0.91666667, 0.08333333],\n",
       "        [0.91666667, 0.08333333],\n",
       "        [0.01923077, 0.98076923],\n",
       "        [0.91666667, 0.08333333],\n",
       "        [0.8630137 , 0.1369863 ],\n",
       "        [0.69827586, 0.30172414],\n",
       "        [0.91666667, 0.08333333],\n",
       "        [0.8630137 , 0.1369863 ],\n",
       "        [0.69827586, 0.30172414],\n",
       "        [0.8630137 , 0.1369863 ],\n",
       "        [0.91666667, 0.08333333],\n",
       "        [0.91666667, 0.08333333],\n",
       "        [0.8630137 , 0.1369863 ],\n",
       "        [0.8630137 , 0.1369863 ],\n",
       "        [0.07142857, 0.92857143],\n",
       "        [0.39130435, 0.60869565],\n",
       "        [0.91666667, 0.08333333],\n",
       "        [0.69827586, 0.30172414],\n",
       "        [0.91666667, 0.08333333],\n",
       "        [0.91666667, 0.08333333],\n",
       "        [0.39130435, 0.60869565],\n",
       "        [0.07142857, 0.92857143],\n",
       "        [0.8630137 , 0.1369863 ],\n",
       "        [0.01923077, 0.98076923],\n",
       "        [0.91666667, 0.08333333],\n",
       "        [0.01923077, 0.98076923],\n",
       "        [0.91666667, 0.08333333],\n",
       "        [0.8630137 , 0.1369863 ],\n",
       "        [0.07142857, 0.92857143],\n",
       "        [0.8630137 , 0.1369863 ],\n",
       "        [0.69827586, 0.30172414],\n",
       "        [0.91666667, 0.08333333],\n",
       "        [0.69827586, 0.30172414],\n",
       "        [0.8630137 , 0.1369863 ],\n",
       "        [0.39130435, 0.60869565],\n",
       "        [0.39130435, 0.60869565],\n",
       "        [0.01923077, 0.98076923],\n",
       "        [0.01923077, 0.98076923],\n",
       "        [0.39130435, 0.60869565],\n",
       "        [0.8630137 , 0.1369863 ],\n",
       "        [0.91666667, 0.08333333],\n",
       "        [0.39130435, 0.60869565],\n",
       "        [0.01923077, 0.98076923],\n",
       "        [0.91666667, 0.08333333],\n",
       "        [0.69827586, 0.30172414],\n",
       "        [0.91666667, 0.08333333],\n",
       "        [0.91666667, 0.08333333],\n",
       "        [0.91666667, 0.08333333],\n",
       "        [0.39130435, 0.60869565],\n",
       "        [0.69827586, 0.30172414],\n",
       "        [0.69827586, 0.30172414],\n",
       "        [0.91666667, 0.08333333],\n",
       "        [0.01923077, 0.98076923],\n",
       "        [0.91666667, 0.08333333],\n",
       "        [0.91666667, 0.08333333],\n",
       "        [0.91666667, 0.08333333],\n",
       "        [0.91666667, 0.08333333],\n",
       "        [0.91666667, 0.08333333],\n",
       "        [0.91666667, 0.08333333],\n",
       "        [0.91666667, 0.08333333],\n",
       "        [0.01923077, 0.98076923],\n",
       "        [0.39130435, 0.60869565],\n",
       "        [0.39130435, 0.60869565],\n",
       "        [0.8630137 , 0.1369863 ],\n",
       "        [0.69827586, 0.30172414],\n",
       "        [0.07142857, 0.92857143],\n",
       "        [0.69827586, 0.30172414],\n",
       "        [0.69827586, 0.30172414],\n",
       "        [0.91666667, 0.08333333],\n",
       "        [0.8630137 , 0.1369863 ],\n",
       "        [0.69827586, 0.30172414],\n",
       "        [0.91666667, 0.08333333],\n",
       "        [0.91666667, 0.08333333],\n",
       "        [0.69827586, 0.30172414],\n",
       "        [0.69827586, 0.30172414],\n",
       "        [0.8630137 , 0.1369863 ],\n",
       "        [0.8630137 , 0.1369863 ],\n",
       "        [0.91666667, 0.08333333],\n",
       "        [0.69827586, 0.30172414],\n",
       "        [0.8630137 , 0.1369863 ],\n",
       "        [0.91666667, 0.08333333],\n",
       "        [0.91666667, 0.08333333],\n",
       "        [0.39130435, 0.60869565],\n",
       "        [0.91666667, 0.08333333],\n",
       "        [0.69827586, 0.30172414],\n",
       "        [0.01923077, 0.98076923],\n",
       "        [0.91666667, 0.08333333],\n",
       "        [0.8630137 , 0.1369863 ],\n",
       "        [0.39130435, 0.60869565],\n",
       "        [0.8630137 , 0.1369863 ],\n",
       "        [0.69827586, 0.30172414],\n",
       "        [0.91666667, 0.08333333],\n",
       "        [0.39130435, 0.60869565],\n",
       "        [0.91666667, 0.08333333],\n",
       "        [0.39130435, 0.60869565],\n",
       "        [0.91666667, 0.08333333],\n",
       "        [0.01923077, 0.98076923],\n",
       "        [0.69827586, 0.30172414],\n",
       "        [0.91666667, 0.08333333],\n",
       "        [0.91666667, 0.08333333],\n",
       "        [0.8630137 , 0.1369863 ],\n",
       "        [0.01923077, 0.98076923],\n",
       "        [0.69827586, 0.30172414],\n",
       "        [0.91666667, 0.08333333],\n",
       "        [0.69827586, 0.30172414],\n",
       "        [0.69827586, 0.30172414],\n",
       "        [0.69827586, 0.30172414],\n",
       "        [0.69827586, 0.30172414],\n",
       "        [0.07142857, 0.92857143],\n",
       "        [0.91666667, 0.08333333],\n",
       "        [0.        , 1.        ],\n",
       "        [0.39130435, 0.60869565],\n",
       "        [0.69827586, 0.30172414],\n",
       "        [0.69827586, 0.30172414],\n",
       "        [0.39130435, 0.60869565],\n",
       "        [0.69827586, 0.30172414],\n",
       "        [0.39130435, 0.60869565],\n",
       "        [0.8630137 , 0.1369863 ],\n",
       "        [0.91666667, 0.08333333],\n",
       "        [0.8630137 , 0.1369863 ],\n",
       "        [0.07142857, 0.92857143],\n",
       "        [0.39130435, 0.60869565],\n",
       "        [0.69827586, 0.30172414],\n",
       "        [0.91666667, 0.08333333],\n",
       "        [0.39130435, 0.60869565],\n",
       "        [0.69827586, 0.30172414],\n",
       "        [0.69827586, 0.30172414],\n",
       "        [0.69827586, 0.30172414],\n",
       "        [0.69827586, 0.30172414],\n",
       "        [0.01923077, 0.98076923],\n",
       "        [0.69827586, 0.30172414],\n",
       "        [0.91666667, 0.08333333],\n",
       "        [0.39130435, 0.60869565],\n",
       "        [0.01923077, 0.98076923],\n",
       "        [0.01923077, 0.98076923],\n",
       "        [0.01923077, 0.98076923],\n",
       "        [0.69827586, 0.30172414],\n",
       "        [0.39130435, 0.60869565],\n",
       "        [0.69827586, 0.30172414],\n",
       "        [0.39130435, 0.60869565],\n",
       "        [0.39130435, 0.60869565],\n",
       "        [0.07142857, 0.92857143],\n",
       "        [0.91666667, 0.08333333],\n",
       "        [0.91666667, 0.08333333],\n",
       "        [0.69827586, 0.30172414],\n",
       "        [0.8630137 , 0.1369863 ],\n",
       "        [0.91666667, 0.08333333],\n",
       "        [0.69827586, 0.30172414],\n",
       "        [0.69827586, 0.30172414],\n",
       "        [0.8630137 , 0.1369863 ],\n",
       "        [0.91666667, 0.08333333],\n",
       "        [0.39130435, 0.60869565],\n",
       "        [0.69827586, 0.30172414],\n",
       "        [0.39130435, 0.60869565],\n",
       "        [0.39130435, 0.60869565],\n",
       "        [0.01923077, 0.98076923],\n",
       "        [0.07142857, 0.92857143],\n",
       "        [0.01923077, 0.98076923],\n",
       "        [0.91666667, 0.08333333],\n",
       "        [0.8630137 , 0.1369863 ],\n",
       "        [0.07142857, 0.92857143],\n",
       "        [0.07142857, 0.92857143],\n",
       "        [0.91666667, 0.08333333],\n",
       "        [0.69827586, 0.30172414],\n",
       "        [0.39130435, 0.60869565],\n",
       "        [0.91666667, 0.08333333],\n",
       "        [0.39130435, 0.60869565],\n",
       "        [0.69827586, 0.30172414],\n",
       "        [0.8630137 , 0.1369863 ],\n",
       "        [0.91666667, 0.08333333],\n",
       "        [0.8630137 , 0.1369863 ],\n",
       "        [0.69827586, 0.30172414],\n",
       "        [0.07142857, 0.92857143],\n",
       "        [0.69827586, 0.30172414],\n",
       "        [0.39130435, 0.60869565],\n",
       "        [0.01923077, 0.98076923],\n",
       "        [0.91666667, 0.08333333],\n",
       "        [0.91666667, 0.08333333],\n",
       "        [0.39130435, 0.60869565],\n",
       "        [0.91666667, 0.08333333],\n",
       "        [0.07142857, 0.92857143],\n",
       "        [0.8630137 , 0.1369863 ],\n",
       "        [0.69827586, 0.30172414],\n",
       "        [0.8630137 , 0.1369863 ],\n",
       "        [0.8630137 , 0.1369863 ],\n",
       "        [0.8630137 , 0.1369863 ],\n",
       "        [0.91666667, 0.08333333],\n",
       "        [0.69827586, 0.30172414],\n",
       "        [0.39130435, 0.60869565],\n",
       "        [0.69827586, 0.30172414],\n",
       "        [0.91666667, 0.08333333],\n",
       "        [0.8630137 , 0.1369863 ],\n",
       "        [0.91666667, 0.08333333],\n",
       "        [0.01923077, 0.98076923],\n",
       "        [0.07142857, 0.92857143],\n",
       "        [0.01923077, 0.98076923],\n",
       "        [0.39130435, 0.60869565],\n",
       "        [0.01923077, 0.98076923],\n",
       "        [0.69827586, 0.30172414],\n",
       "        [0.69827586, 0.30172414],\n",
       "        [0.91666667, 0.08333333],\n",
       "        [0.91666667, 0.08333333],\n",
       "        [0.07142857, 0.92857143],\n",
       "        [0.8630137 , 0.1369863 ],\n",
       "        [0.07142857, 0.92857143],\n",
       "        [0.39130435, 0.60869565],\n",
       "        [0.07142857, 0.92857143],\n",
       "        [0.91666667, 0.08333333],\n",
       "        [0.39130435, 0.60869565],\n",
       "        [0.91666667, 0.08333333],\n",
       "        [0.69827586, 0.30172414],\n",
       "        [0.8630137 , 0.1369863 ],\n",
       "        [0.8630137 , 0.1369863 ],\n",
       "        [0.39130435, 0.60869565],\n",
       "        [0.8630137 , 0.1369863 ],\n",
       "        [0.39130435, 0.60869565],\n",
       "        [0.8630137 , 0.1369863 ],\n",
       "        [0.01923077, 0.98076923],\n",
       "        [0.91666667, 0.08333333],\n",
       "        [0.91666667, 0.08333333],\n",
       "        [0.39130435, 0.60869565],\n",
       "        [0.91666667, 0.08333333],\n",
       "        [0.8630137 , 0.1369863 ],\n",
       "        [0.91666667, 0.08333333],\n",
       "        [0.39130435, 0.60869565],\n",
       "        [0.69827586, 0.30172414],\n",
       "        [0.69827586, 0.30172414],\n",
       "        [0.69827586, 0.30172414],\n",
       "        [0.8630137 , 0.1369863 ],\n",
       "        [0.69827586, 0.30172414],\n",
       "        [0.01923077, 0.98076923],\n",
       "        [0.91666667, 0.08333333],\n",
       "        [0.69827586, 0.30172414],\n",
       "        [0.39130435, 0.60869565],\n",
       "        [0.69827586, 0.30172414],\n",
       "        [0.69827586, 0.30172414],\n",
       "        [0.69827586, 0.30172414],\n",
       "        [0.8630137 , 0.1369863 ],\n",
       "        [0.8630137 , 0.1369863 ],\n",
       "        [0.69827586, 0.30172414],\n",
       "        [0.91666667, 0.08333333],\n",
       "        [0.07142857, 0.92857143],\n",
       "        [0.69827586, 0.30172414],\n",
       "        [0.39130435, 0.60869565],\n",
       "        [0.01923077, 0.98076923],\n",
       "        [0.69827586, 0.30172414],\n",
       "        [0.8630137 , 0.1369863 ],\n",
       "        [0.8630137 , 0.1369863 ],\n",
       "        [0.91666667, 0.08333333],\n",
       "        [0.07142857, 0.92857143],\n",
       "        [0.91666667, 0.08333333],\n",
       "        [0.69827586, 0.30172414],\n",
       "        [0.91666667, 0.08333333],\n",
       "        [0.91666667, 0.08333333],\n",
       "        [0.91666667, 0.08333333],\n",
       "        [0.07142857, 0.92857143],\n",
       "        [0.69827586, 0.30172414],\n",
       "        [0.69827586, 0.30172414],\n",
       "        [0.91666667, 0.08333333],\n",
       "        [0.69827586, 0.30172414],\n",
       "        [0.01923077, 0.98076923],\n",
       "        [0.69827586, 0.30172414],\n",
       "        [0.39130435, 0.60869565],\n",
       "        [0.91666667, 0.08333333],\n",
       "        [0.69827586, 0.30172414],\n",
       "        [0.91666667, 0.08333333],\n",
       "        [0.39130435, 0.60869565],\n",
       "        [0.91666667, 0.08333333],\n",
       "        [0.39130435, 0.60869565],\n",
       "        [0.07142857, 0.92857143],\n",
       "        [0.8630137 , 0.1369863 ],\n",
       "        [0.39130435, 0.60869565],\n",
       "        [0.91666667, 0.08333333],\n",
       "        [0.91666667, 0.08333333],\n",
       "        [0.91666667, 0.08333333],\n",
       "        [0.91666667, 0.08333333],\n",
       "        [0.91666667, 0.08333333]])]"
      ]
     },
     "execution_count": 155,
     "metadata": {},
     "output_type": "execute_result"
    }
   ],
   "source": [
    "y_pred_proba = clf.predict_proba(X_train)\n",
    "y_pred_proba"
   ]
  },
  {
   "cell_type": "code",
   "execution_count": 156,
   "metadata": {},
   "outputs": [
    {
     "name": "stdout",
     "output_type": "stream",
     "text": [
      "Accuracy of Decision Tree classifier on training set: 0.82\n"
     ]
    }
   ],
   "source": [
    "print('Accuracy of Decision Tree classifier on training set: {:.2f}'\n",
    "     .format(clf.score(X_train, y_train)))"
   ]
  },
  {
   "cell_type": "code",
   "execution_count": 157,
   "metadata": {},
   "outputs": [
    {
     "ename": "ValueError",
     "evalue": "multilabel-indicator is not supported",
     "output_type": "error",
     "traceback": [
      "\u001b[0;31m---------------------------------------------------------------------------\u001b[0m",
      "\u001b[0;31mValueError\u001b[0m                                Traceback (most recent call last)",
      "\u001b[0;32m<ipython-input-157-462bc8bc9965>\u001b[0m in \u001b[0;36m<module>\u001b[0;34m\u001b[0m\n\u001b[0;32m----> 1\u001b[0;31m \u001b[0mconfusion_matrix\u001b[0m\u001b[0;34m(\u001b[0m\u001b[0my_train\u001b[0m\u001b[0;34m,\u001b[0m \u001b[0my_pred\u001b[0m\u001b[0;34m)\u001b[0m\u001b[0;34m\u001b[0m\u001b[0;34m\u001b[0m\u001b[0m\n\u001b[0m",
      "\u001b[0;32m/usr/local/anaconda3/lib/python3.7/site-packages/sklearn/metrics/_classification.py\u001b[0m in \u001b[0;36mconfusion_matrix\u001b[0;34m(y_true, y_pred, labels, sample_weight, normalize)\u001b[0m\n\u001b[1;32m    268\u001b[0m     \u001b[0my_type\u001b[0m\u001b[0;34m,\u001b[0m \u001b[0my_true\u001b[0m\u001b[0;34m,\u001b[0m \u001b[0my_pred\u001b[0m \u001b[0;34m=\u001b[0m \u001b[0m_check_targets\u001b[0m\u001b[0;34m(\u001b[0m\u001b[0my_true\u001b[0m\u001b[0;34m,\u001b[0m \u001b[0my_pred\u001b[0m\u001b[0;34m)\u001b[0m\u001b[0;34m\u001b[0m\u001b[0;34m\u001b[0m\u001b[0m\n\u001b[1;32m    269\u001b[0m     \u001b[0;32mif\u001b[0m \u001b[0my_type\u001b[0m \u001b[0;32mnot\u001b[0m \u001b[0;32min\u001b[0m \u001b[0;34m(\u001b[0m\u001b[0;34m\"binary\"\u001b[0m\u001b[0;34m,\u001b[0m \u001b[0;34m\"multiclass\"\u001b[0m\u001b[0;34m)\u001b[0m\u001b[0;34m:\u001b[0m\u001b[0;34m\u001b[0m\u001b[0;34m\u001b[0m\u001b[0m\n\u001b[0;32m--> 270\u001b[0;31m         \u001b[0;32mraise\u001b[0m \u001b[0mValueError\u001b[0m\u001b[0;34m(\u001b[0m\u001b[0;34m\"%s is not supported\"\u001b[0m \u001b[0;34m%\u001b[0m \u001b[0my_type\u001b[0m\u001b[0;34m)\u001b[0m\u001b[0;34m\u001b[0m\u001b[0;34m\u001b[0m\u001b[0m\n\u001b[0m\u001b[1;32m    271\u001b[0m \u001b[0;34m\u001b[0m\u001b[0m\n\u001b[1;32m    272\u001b[0m     \u001b[0;32mif\u001b[0m \u001b[0mlabels\u001b[0m \u001b[0;32mis\u001b[0m \u001b[0;32mNone\u001b[0m\u001b[0;34m:\u001b[0m\u001b[0;34m\u001b[0m\u001b[0;34m\u001b[0m\u001b[0m\n",
      "\u001b[0;31mValueError\u001b[0m: multilabel-indicator is not supported"
     ]
    }
   ],
   "source": [
    "confusion_matrix(y_train, y_pred)\n"
   ]
  },
  {
   "cell_type": "code",
   "execution_count": 159,
   "metadata": {},
   "outputs": [
    {
     "data": {
      "text/html": [
       "<div>\n",
       "<style scoped>\n",
       "    .dataframe tbody tr th:only-of-type {\n",
       "        vertical-align: middle;\n",
       "    }\n",
       "\n",
       "    .dataframe tbody tr th {\n",
       "        vertical-align: top;\n",
       "    }\n",
       "\n",
       "    .dataframe thead th {\n",
       "        text-align: right;\n",
       "    }\n",
       "</style>\n",
       "<table border=\"1\" class=\"dataframe\">\n",
       "  <thead>\n",
       "    <tr style=\"text-align: right;\">\n",
       "      <th></th>\n",
       "      <th>survived</th>\n",
       "      <th>survived</th>\n",
       "    </tr>\n",
       "  </thead>\n",
       "  <tbody>\n",
       "    <tr>\n",
       "      <th>583</th>\n",
       "      <td>0</td>\n",
       "      <td>0</td>\n",
       "    </tr>\n",
       "    <tr>\n",
       "      <th>165</th>\n",
       "      <td>1</td>\n",
       "      <td>1</td>\n",
       "    </tr>\n",
       "    <tr>\n",
       "      <th>50</th>\n",
       "      <td>0</td>\n",
       "      <td>0</td>\n",
       "    </tr>\n",
       "    <tr>\n",
       "      <th>259</th>\n",
       "      <td>1</td>\n",
       "      <td>1</td>\n",
       "    </tr>\n",
       "    <tr>\n",
       "      <th>306</th>\n",
       "      <td>1</td>\n",
       "      <td>1</td>\n",
       "    </tr>\n",
       "    <tr>\n",
       "      <th>...</th>\n",
       "      <td>...</td>\n",
       "      <td>...</td>\n",
       "    </tr>\n",
       "    <tr>\n",
       "      <th>313</th>\n",
       "      <td>0</td>\n",
       "      <td>0</td>\n",
       "    </tr>\n",
       "    <tr>\n",
       "      <th>636</th>\n",
       "      <td>0</td>\n",
       "      <td>0</td>\n",
       "    </tr>\n",
       "    <tr>\n",
       "      <th>222</th>\n",
       "      <td>0</td>\n",
       "      <td>0</td>\n",
       "    </tr>\n",
       "    <tr>\n",
       "      <th>485</th>\n",
       "      <td>0</td>\n",
       "      <td>0</td>\n",
       "    </tr>\n",
       "    <tr>\n",
       "      <th>744</th>\n",
       "      <td>1</td>\n",
       "      <td>1</td>\n",
       "    </tr>\n",
       "  </tbody>\n",
       "</table>\n",
       "<p>498 rows × 2 columns</p>\n",
       "</div>"
      ],
      "text/plain": [
       "     survived  survived\n",
       "583         0         0\n",
       "165         1         1\n",
       "50          0         0\n",
       "259         1         1\n",
       "306         1         1\n",
       "..        ...       ...\n",
       "313         0         0\n",
       "636         0         0\n",
       "222         0         0\n",
       "485         0         0\n",
       "744         1         1\n",
       "\n",
       "[498 rows x 2 columns]"
      ]
     },
     "execution_count": 159,
     "metadata": {},
     "output_type": "execute_result"
    }
   ],
   "source": [
    "y_train\n"
   ]
  },
  {
   "cell_type": "code",
   "execution_count": 237,
   "metadata": {},
   "outputs": [],
   "source": [
    "## Pulling in my data again and cleaning it up before I start the decision tree model"
   ]
  },
  {
   "cell_type": "code",
   "execution_count": 160,
   "metadata": {},
   "outputs": [],
   "source": [
    "titanic = get_titanic_data()"
   ]
  },
  {
   "cell_type": "code",
   "execution_count": 161,
   "metadata": {},
   "outputs": [],
   "source": [
    "titanic = titanic.drop(columns=['sex', 'sibsp', 'parch', 'embarked','class', 'deck','embark_town', 'alone'])\n"
   ]
  },
  {
   "cell_type": "code",
   "execution_count": 162,
   "metadata": {},
   "outputs": [],
   "source": [
    "titanic = titanic.drop(columns='passenger_id')"
   ]
  },
  {
   "cell_type": "code",
   "execution_count": 163,
   "metadata": {},
   "outputs": [],
   "source": [
    "titanic_dummies = pd.get_dummies(titanic.pclass, drop_first=True)\n"
   ]
  },
  {
   "cell_type": "code",
   "execution_count": 166,
   "metadata": {},
   "outputs": [],
   "source": [
    "titanic = pd.concat([titanic, titanic_dummies], axis=1)\n"
   ]
  },
  {
   "cell_type": "code",
   "execution_count": 167,
   "metadata": {},
   "outputs": [],
   "source": [
    "train, validate, test = titanic_split(titanic)\n"
   ]
  },
  {
   "cell_type": "code",
   "execution_count": 168,
   "metadata": {},
   "outputs": [
    {
     "data": {
      "text/plain": [
       "(     survived  pclass        age      fare  2  3\n",
       " 583         0       1  36.000000   40.1250  0  0\n",
       " 165         1       3   9.000000   20.5250  0  1\n",
       " 50          0       3   7.000000   39.6875  0  1\n",
       " 259         1       2  50.000000   26.0000  1  0\n",
       " 306         1       1  29.678105  110.8833  0  0\n",
       " ..        ...     ...        ...       ... .. ..\n",
       " 313         0       3  28.000000    7.8958  0  1\n",
       " 636         0       3  32.000000    7.9250  0  1\n",
       " 222         0       3  51.000000    8.0500  0  1\n",
       " 485         0       3  29.678105   25.4667  0  1\n",
       " 744         1       3  31.000000    7.9250  0  1\n",
       " \n",
       " [498 rows x 6 columns],\n",
       "      survived  pclass        age      fare  2  3\n",
       " 610         0       3  39.000000   31.2750  0  1\n",
       " 424         0       3  18.000000   20.2125  0  1\n",
       " 568         0       3  29.678105    7.2292  0  1\n",
       " 334         1       1  29.678105  133.6500  0  0\n",
       " 101         0       3  29.678105    7.8958  0  1\n",
       " ..        ...     ...        ...       ... .. ..\n",
       " 176         0       3  29.678105   25.4667  0  1\n",
       " 372         0       3  19.000000    8.0500  0  1\n",
       " 737         1       1  35.000000  512.3292  0  0\n",
       " 862         1       1  48.000000   25.9292  0  0\n",
       " 26          0       3  29.678105    7.2250  0  1\n",
       " \n",
       " [214 rows x 6 columns],\n",
       "      survived  pclass        age      fare  2  3\n",
       " 561         0       3  40.000000    7.8958  0  1\n",
       " 641         1       1  24.000000   69.3000  0  0\n",
       " 400         1       3  39.000000    7.9250  0  1\n",
       " 498         0       1  25.000000  151.5500  0  0\n",
       " 875         1       3  15.000000    7.2250  0  1\n",
       " ..        ...     ...        ...       ... .. ..\n",
       " 339         0       1  45.000000   35.5000  0  0\n",
       " 841         0       2  16.000000   10.5000  1  0\n",
       " 442         0       3  25.000000    7.7750  0  1\n",
       " 815         0       1  29.678105    0.0000  0  0\n",
       " 53          1       2  29.000000   26.0000  1  0\n",
       " \n",
       " [179 rows x 6 columns])"
      ]
     },
     "execution_count": 168,
     "metadata": {},
     "output_type": "execute_result"
    }
   ],
   "source": [
    "impute_mean_age(train, validate, test)"
   ]
  },
  {
   "cell_type": "code",
   "execution_count": 169,
   "metadata": {},
   "outputs": [],
   "source": [
    "logit = LogisticRegression()\n"
   ]
  },
  {
   "cell_type": "code",
   "execution_count": 190,
   "metadata": {},
   "outputs": [],
   "source": [
    "X_train = train.drop(columns=['survived'])\n",
    "y_train = train[['survived']]\n",
    "\n",
    "X_validate = validate.drop(columns=['survived'])\n",
    "y_validate = validate[['survived']]\n",
    "\n",
    "X_test = test.drop(columns=['survived'])\n",
    "y_test = test[['survived']]"
   ]
  },
  {
   "cell_type": "code",
   "execution_count": 191,
   "metadata": {},
   "outputs": [],
   "source": [
    "logit = logit.fit(X_train, y_train)\n"
   ]
  },
  {
   "cell_type": "code",
   "execution_count": 192,
   "metadata": {},
   "outputs": [
    {
     "name": "stdout",
     "output_type": "stream",
     "text": [
      "[[-0.67260505 -0.02902885  0.00259074  0.14850399 -0.41036784]]\n"
     ]
    }
   ],
   "source": [
    "print(logit.coef_)\n"
   ]
  },
  {
   "cell_type": "code",
   "execution_count": 193,
   "metadata": {},
   "outputs": [],
   "source": [
    "y_pred = logit.predict(X_train)\n",
    "y_pred_proba = logit.predict_proba(X_train)"
   ]
  },
  {
   "cell_type": "code",
   "execution_count": null,
   "metadata": {},
   "outputs": [],
   "source": [
    "##Creating my decision tree model"
   ]
  },
  {
   "cell_type": "code",
   "execution_count": 194,
   "metadata": {},
   "outputs": [],
   "source": [
    "clf = DecisionTreeClassifier(max_depth=3, random_state=123)\n"
   ]
  },
  {
   "cell_type": "code",
   "execution_count": 238,
   "metadata": {},
   "outputs": [],
   "source": [
    "##Fit the model"
   ]
  },
  {
   "cell_type": "code",
   "execution_count": 195,
   "metadata": {},
   "outputs": [
    {
     "data": {
      "text/plain": [
       "DecisionTreeClassifier(ccp_alpha=0.0, class_weight=None, criterion='gini',\n",
       "                       max_depth=3, max_features=None, max_leaf_nodes=None,\n",
       "                       min_impurity_decrease=0.0, min_impurity_split=None,\n",
       "                       min_samples_leaf=1, min_samples_split=2,\n",
       "                       min_weight_fraction_leaf=0.0, presort='deprecated',\n",
       "                       random_state=123, splitter='best')"
      ]
     },
     "execution_count": 195,
     "metadata": {},
     "output_type": "execute_result"
    }
   ],
   "source": [
    "clf.fit(X_train, y_train)\n"
   ]
  },
  {
   "cell_type": "code",
   "execution_count": 239,
   "metadata": {},
   "outputs": [],
   "source": [
    "##Estimate Survival"
   ]
  },
  {
   "cell_type": "code",
   "execution_count": 196,
   "metadata": {},
   "outputs": [
    {
     "data": {
      "text/plain": [
       "array([1, 0, 0, 0, 1])"
      ]
     },
     "execution_count": 196,
     "metadata": {},
     "output_type": "execute_result"
    }
   ],
   "source": [
    "y_pred = clf.predict(X_train)\n",
    "y_pred[0:5]"
   ]
  },
  {
   "cell_type": "code",
   "execution_count": 240,
   "metadata": {},
   "outputs": [],
   "source": [
    "##Estimate Probability of Survival"
   ]
  },
  {
   "cell_type": "code",
   "execution_count": 197,
   "metadata": {},
   "outputs": [
    {
     "data": {
      "text/plain": [
       "array([[0.3255814 , 0.6744186 ],\n",
       "       [0.74660633, 0.25339367],\n",
       "       [0.74660633, 0.25339367],\n",
       "       [0.54545455, 0.45454545],\n",
       "       [0.3255814 , 0.6744186 ],\n",
       "       [0.3255814 , 0.6744186 ],\n",
       "       [0.54545455, 0.45454545],\n",
       "       [0.66666667, 0.33333333],\n",
       "       [0.74660633, 0.25339367],\n",
       "       [0.74660633, 0.25339367],\n",
       "       [0.92857143, 0.07142857],\n",
       "       [0.54545455, 0.45454545],\n",
       "       [0.3255814 , 0.6744186 ],\n",
       "       [0.54545455, 0.45454545],\n",
       "       [0.3255814 , 0.6744186 ],\n",
       "       [0.92857143, 0.07142857],\n",
       "       [0.74660633, 0.25339367],\n",
       "       [0.74660633, 0.25339367],\n",
       "       [0.66666667, 0.33333333],\n",
       "       [0.74660633, 0.25339367],\n",
       "       [0.74660633, 0.25339367],\n",
       "       [0.74660633, 0.25339367],\n",
       "       [0.3255814 , 0.6744186 ],\n",
       "       [0.3255814 , 0.6744186 ],\n",
       "       [0.54545455, 0.45454545],\n",
       "       [0.74660633, 0.25339367],\n",
       "       [0.3255814 , 0.6744186 ],\n",
       "       [0.54545455, 0.45454545],\n",
       "       [0.3255814 , 0.6744186 ],\n",
       "       [0.66666667, 0.33333333],\n",
       "       [0.74660633, 0.25339367],\n",
       "       [0.66666667, 0.33333333],\n",
       "       [0.74660633, 0.25339367],\n",
       "       [0.74660633, 0.25339367],\n",
       "       [0.66666667, 0.33333333],\n",
       "       [0.66666667, 0.33333333],\n",
       "       [0.66666667, 0.33333333],\n",
       "       [0.3255814 , 0.6744186 ],\n",
       "       [0.74660633, 0.25339367],\n",
       "       [0.3255814 , 0.6744186 ],\n",
       "       [0.74660633, 0.25339367],\n",
       "       [0.74660633, 0.25339367],\n",
       "       [0.74660633, 0.25339367],\n",
       "       [0.3255814 , 0.6744186 ],\n",
       "       [0.3255814 , 0.6744186 ],\n",
       "       [0.74660633, 0.25339367],\n",
       "       [0.74660633, 0.25339367],\n",
       "       [0.74660633, 0.25339367],\n",
       "       [0.74660633, 0.25339367],\n",
       "       [0.74660633, 0.25339367],\n",
       "       [0.74660633, 0.25339367],\n",
       "       [0.66666667, 0.33333333],\n",
       "       [0.3255814 , 0.6744186 ],\n",
       "       [0.3255814 , 0.6744186 ],\n",
       "       [0.74660633, 0.25339367],\n",
       "       [0.74660633, 0.25339367],\n",
       "       [0.74660633, 0.25339367],\n",
       "       [0.66666667, 0.33333333],\n",
       "       [0.92857143, 0.07142857],\n",
       "       [0.74660633, 0.25339367],\n",
       "       [0.3255814 , 0.6744186 ],\n",
       "       [0.66666667, 0.33333333],\n",
       "       [0.74660633, 0.25339367],\n",
       "       [0.66666667, 0.33333333],\n",
       "       [0.74660633, 0.25339367],\n",
       "       [0.74660633, 0.25339367],\n",
       "       [0.74660633, 0.25339367],\n",
       "       [0.92857143, 0.07142857],\n",
       "       [0.74660633, 0.25339367],\n",
       "       [0.66666667, 0.33333333],\n",
       "       [0.74660633, 0.25339367],\n",
       "       [0.74660633, 0.25339367],\n",
       "       [0.66666667, 0.33333333],\n",
       "       [0.3255814 , 0.6744186 ],\n",
       "       [0.74660633, 0.25339367],\n",
       "       [0.3255814 , 0.6744186 ],\n",
       "       [0.74660633, 0.25339367],\n",
       "       [0.66666667, 0.33333333],\n",
       "       [0.74660633, 0.25339367],\n",
       "       [0.74660633, 0.25339367],\n",
       "       [0.3255814 , 0.6744186 ],\n",
       "       [0.3255814 , 0.6744186 ],\n",
       "       [0.92857143, 0.07142857],\n",
       "       [0.66666667, 0.33333333],\n",
       "       [0.74660633, 0.25339367],\n",
       "       [0.92857143, 0.07142857],\n",
       "       [0.3255814 , 0.6744186 ],\n",
       "       [0.74660633, 0.25339367],\n",
       "       [0.        , 1.        ],\n",
       "       [0.66666667, 0.33333333],\n",
       "       [0.92857143, 0.07142857],\n",
       "       [0.74660633, 0.25339367],\n",
       "       [0.74660633, 0.25339367],\n",
       "       [0.3255814 , 0.6744186 ],\n",
       "       [0.66666667, 0.33333333],\n",
       "       [0.74660633, 0.25339367],\n",
       "       [0.3255814 , 0.6744186 ],\n",
       "       [0.54545455, 0.45454545],\n",
       "       [0.3255814 , 0.6744186 ],\n",
       "       [0.3255814 , 0.6744186 ],\n",
       "       [0.74660633, 0.25339367],\n",
       "       [0.3255814 , 0.6744186 ],\n",
       "       [0.54545455, 0.45454545],\n",
       "       [0.74660633, 0.25339367],\n",
       "       [0.3255814 , 0.6744186 ],\n",
       "       [0.3255814 , 0.6744186 ],\n",
       "       [0.74660633, 0.25339367],\n",
       "       [0.3255814 , 0.6744186 ],\n",
       "       [0.74660633, 0.25339367],\n",
       "       [0.74660633, 0.25339367],\n",
       "       [0.3255814 , 0.6744186 ],\n",
       "       [0.3255814 , 0.6744186 ],\n",
       "       [0.3255814 , 0.6744186 ],\n",
       "       [0.74660633, 0.25339367],\n",
       "       [0.92857143, 0.07142857],\n",
       "       [0.3255814 , 0.6744186 ],\n",
       "       [0.74660633, 0.25339367],\n",
       "       [0.74660633, 0.25339367],\n",
       "       [0.54545455, 0.45454545],\n",
       "       [0.3255814 , 0.6744186 ],\n",
       "       [0.92857143, 0.07142857],\n",
       "       [0.92857143, 0.07142857],\n",
       "       [0.3255814 , 0.6744186 ],\n",
       "       [0.92857143, 0.07142857],\n",
       "       [0.3255814 , 0.6744186 ],\n",
       "       [0.3255814 , 0.6744186 ],\n",
       "       [0.3255814 , 0.6744186 ],\n",
       "       [0.54545455, 0.45454545],\n",
       "       [0.74660633, 0.25339367],\n",
       "       [0.74660633, 0.25339367],\n",
       "       [0.74660633, 0.25339367],\n",
       "       [0.74660633, 0.25339367],\n",
       "       [0.74660633, 0.25339367],\n",
       "       [0.3255814 , 0.6744186 ],\n",
       "       [0.3255814 , 0.6744186 ],\n",
       "       [0.74660633, 0.25339367],\n",
       "       [0.74660633, 0.25339367],\n",
       "       [0.74660633, 0.25339367],\n",
       "       [0.3255814 , 0.6744186 ],\n",
       "       [0.54545455, 0.45454545],\n",
       "       [0.3255814 , 0.6744186 ],\n",
       "       [0.3255814 , 0.6744186 ],\n",
       "       [0.3255814 , 0.6744186 ],\n",
       "       [0.74660633, 0.25339367],\n",
       "       [0.3255814 , 0.6744186 ],\n",
       "       [0.3255814 , 0.6744186 ],\n",
       "       [0.3255814 , 0.6744186 ],\n",
       "       [0.54545455, 0.45454545],\n",
       "       [0.54545455, 0.45454545],\n",
       "       [0.3255814 , 0.6744186 ],\n",
       "       [0.66666667, 0.33333333],\n",
       "       [0.3255814 , 0.6744186 ],\n",
       "       [0.54545455, 0.45454545],\n",
       "       [0.74660633, 0.25339367],\n",
       "       [0.74660633, 0.25339367],\n",
       "       [0.74660633, 0.25339367],\n",
       "       [0.92857143, 0.07142857],\n",
       "       [0.74660633, 0.25339367],\n",
       "       [0.74660633, 0.25339367],\n",
       "       [0.92857143, 0.07142857],\n",
       "       [0.54545455, 0.45454545],\n",
       "       [0.66666667, 0.33333333],\n",
       "       [0.3255814 , 0.6744186 ],\n",
       "       [0.74660633, 0.25339367],\n",
       "       [0.92857143, 0.07142857],\n",
       "       [0.74660633, 0.25339367],\n",
       "       [0.74660633, 0.25339367],\n",
       "       [0.74660633, 0.25339367],\n",
       "       [0.3255814 , 0.6744186 ],\n",
       "       [0.92857143, 0.07142857],\n",
       "       [0.66666667, 0.33333333],\n",
       "       [0.3255814 , 0.6744186 ],\n",
       "       [0.74660633, 0.25339367],\n",
       "       [0.74660633, 0.25339367],\n",
       "       [0.54545455, 0.45454545],\n",
       "       [0.54545455, 0.45454545],\n",
       "       [0.3255814 , 0.6744186 ],\n",
       "       [0.74660633, 0.25339367],\n",
       "       [0.92857143, 0.07142857],\n",
       "       [0.54545455, 0.45454545],\n",
       "       [0.74660633, 0.25339367],\n",
       "       [0.74660633, 0.25339367],\n",
       "       [0.74660633, 0.25339367],\n",
       "       [0.54545455, 0.45454545],\n",
       "       [0.74660633, 0.25339367],\n",
       "       [0.74660633, 0.25339367],\n",
       "       [0.3255814 , 0.6744186 ],\n",
       "       [0.3255814 , 0.6744186 ],\n",
       "       [0.74660633, 0.25339367],\n",
       "       [0.74660633, 0.25339367],\n",
       "       [0.3255814 , 0.6744186 ],\n",
       "       [0.54545455, 0.45454545],\n",
       "       [0.74660633, 0.25339367],\n",
       "       [0.66666667, 0.33333333],\n",
       "       [0.3255814 , 0.6744186 ],\n",
       "       [0.74660633, 0.25339367],\n",
       "       [0.66666667, 0.33333333],\n",
       "       [0.74660633, 0.25339367],\n",
       "       [0.74660633, 0.25339367],\n",
       "       [0.74660633, 0.25339367],\n",
       "       [0.74660633, 0.25339367],\n",
       "       [0.54545455, 0.45454545],\n",
       "       [0.54545455, 0.45454545],\n",
       "       [0.66666667, 0.33333333],\n",
       "       [0.74660633, 0.25339367],\n",
       "       [0.92857143, 0.07142857],\n",
       "       [0.66666667, 0.33333333],\n",
       "       [0.54545455, 0.45454545],\n",
       "       [0.74660633, 0.25339367],\n",
       "       [0.3255814 , 0.6744186 ],\n",
       "       [0.74660633, 0.25339367],\n",
       "       [0.74660633, 0.25339367],\n",
       "       [0.74660633, 0.25339367],\n",
       "       [0.74660633, 0.25339367],\n",
       "       [0.3255814 , 0.6744186 ],\n",
       "       [0.3255814 , 0.6744186 ],\n",
       "       [0.74660633, 0.25339367],\n",
       "       [0.74660633, 0.25339367],\n",
       "       [0.3255814 , 0.6744186 ],\n",
       "       [0.92857143, 0.07142857],\n",
       "       [0.74660633, 0.25339367],\n",
       "       [0.74660633, 0.25339367],\n",
       "       [0.74660633, 0.25339367],\n",
       "       [0.3255814 , 0.6744186 ],\n",
       "       [0.92857143, 0.07142857],\n",
       "       [0.92857143, 0.07142857],\n",
       "       [0.3255814 , 0.6744186 ],\n",
       "       [0.74660633, 0.25339367],\n",
       "       [0.74660633, 0.25339367],\n",
       "       [0.74660633, 0.25339367],\n",
       "       [0.66666667, 0.33333333],\n",
       "       [0.74660633, 0.25339367],\n",
       "       [0.74660633, 0.25339367],\n",
       "       [0.74660633, 0.25339367],\n",
       "       [0.74660633, 0.25339367],\n",
       "       [0.54545455, 0.45454545],\n",
       "       [0.74660633, 0.25339367],\n",
       "       [0.74660633, 0.25339367],\n",
       "       [0.3255814 , 0.6744186 ],\n",
       "       [0.74660633, 0.25339367],\n",
       "       [0.74660633, 0.25339367],\n",
       "       [0.74660633, 0.25339367],\n",
       "       [0.66666667, 0.33333333],\n",
       "       [0.66666667, 0.33333333],\n",
       "       [0.3255814 , 0.6744186 ],\n",
       "       [0.92857143, 0.07142857],\n",
       "       [0.3255814 , 0.6744186 ],\n",
       "       [0.74660633, 0.25339367],\n",
       "       [0.74660633, 0.25339367],\n",
       "       [0.3255814 , 0.6744186 ],\n",
       "       [0.74660633, 0.25339367],\n",
       "       [0.3255814 , 0.6744186 ],\n",
       "       [0.74660633, 0.25339367],\n",
       "       [0.3255814 , 0.6744186 ],\n",
       "       [0.92857143, 0.07142857],\n",
       "       [0.74660633, 0.25339367],\n",
       "       [0.74660633, 0.25339367],\n",
       "       [0.3255814 , 0.6744186 ],\n",
       "       [0.3255814 , 0.6744186 ],\n",
       "       [0.74660633, 0.25339367],\n",
       "       [0.66666667, 0.33333333],\n",
       "       [0.74660633, 0.25339367],\n",
       "       [0.74660633, 0.25339367],\n",
       "       [0.54545455, 0.45454545],\n",
       "       [0.92857143, 0.07142857],\n",
       "       [0.3255814 , 0.6744186 ],\n",
       "       [0.92857143, 0.07142857],\n",
       "       [0.74660633, 0.25339367],\n",
       "       [0.74660633, 0.25339367],\n",
       "       [0.74660633, 0.25339367],\n",
       "       [0.74660633, 0.25339367],\n",
       "       [0.3255814 , 0.6744186 ],\n",
       "       [0.92857143, 0.07142857],\n",
       "       [0.3255814 , 0.6744186 ],\n",
       "       [0.74660633, 0.25339367],\n",
       "       [0.74660633, 0.25339367],\n",
       "       [0.74660633, 0.25339367],\n",
       "       [0.74660633, 0.25339367],\n",
       "       [0.74660633, 0.25339367],\n",
       "       [0.74660633, 0.25339367],\n",
       "       [0.74660633, 0.25339367],\n",
       "       [0.3255814 , 0.6744186 ],\n",
       "       [0.74660633, 0.25339367],\n",
       "       [0.74660633, 0.25339367],\n",
       "       [0.74660633, 0.25339367],\n",
       "       [0.3255814 , 0.6744186 ],\n",
       "       [0.        , 1.        ],\n",
       "       [0.54545455, 0.45454545],\n",
       "       [0.3255814 , 0.6744186 ],\n",
       "       [0.74660633, 0.25339367],\n",
       "       [0.74660633, 0.25339367],\n",
       "       [0.54545455, 0.45454545],\n",
       "       [0.74660633, 0.25339367],\n",
       "       [0.92857143, 0.07142857],\n",
       "       [0.3255814 , 0.6744186 ],\n",
       "       [0.3255814 , 0.6744186 ],\n",
       "       [0.66666667, 0.33333333],\n",
       "       [0.74660633, 0.25339367],\n",
       "       [0.74660633, 0.25339367],\n",
       "       [0.54545455, 0.45454545],\n",
       "       [0.74660633, 0.25339367],\n",
       "       [0.74660633, 0.25339367],\n",
       "       [0.92857143, 0.07142857],\n",
       "       [0.74660633, 0.25339367],\n",
       "       [0.74660633, 0.25339367],\n",
       "       [0.54545455, 0.45454545],\n",
       "       [0.54545455, 0.45454545],\n",
       "       [0.74660633, 0.25339367],\n",
       "       [0.66666667, 0.33333333],\n",
       "       [0.74660633, 0.25339367],\n",
       "       [0.66666667, 0.33333333],\n",
       "       [0.92857143, 0.07142857],\n",
       "       [0.92857143, 0.07142857],\n",
       "       [0.74660633, 0.25339367],\n",
       "       [0.74660633, 0.25339367],\n",
       "       [0.74660633, 0.25339367],\n",
       "       [0.74660633, 0.25339367],\n",
       "       [0.3255814 , 0.6744186 ],\n",
       "       [0.3255814 , 0.6744186 ],\n",
       "       [0.92857143, 0.07142857],\n",
       "       [0.74660633, 0.25339367],\n",
       "       [0.74660633, 0.25339367],\n",
       "       [0.3255814 , 0.6744186 ],\n",
       "       [0.3255814 , 0.6744186 ],\n",
       "       [0.74660633, 0.25339367],\n",
       "       [0.54545455, 0.45454545],\n",
       "       [0.3255814 , 0.6744186 ],\n",
       "       [0.3255814 , 0.6744186 ],\n",
       "       [0.3255814 , 0.6744186 ],\n",
       "       [0.66666667, 0.33333333],\n",
       "       [0.92857143, 0.07142857],\n",
       "       [0.3255814 , 0.6744186 ],\n",
       "       [0.74660633, 0.25339367],\n",
       "       [0.3255814 , 0.6744186 ],\n",
       "       [0.3255814 , 0.6744186 ],\n",
       "       [0.74660633, 0.25339367],\n",
       "       [0.74660633, 0.25339367],\n",
       "       [0.74660633, 0.25339367],\n",
       "       [0.66666667, 0.33333333],\n",
       "       [0.74660633, 0.25339367],\n",
       "       [0.66666667, 0.33333333],\n",
       "       [0.3255814 , 0.6744186 ],\n",
       "       [0.74660633, 0.25339367],\n",
       "       [0.3255814 , 0.6744186 ],\n",
       "       [0.66666667, 0.33333333],\n",
       "       [0.74660633, 0.25339367],\n",
       "       [0.3255814 , 0.6744186 ],\n",
       "       [0.3255814 , 0.6744186 ],\n",
       "       [0.3255814 , 0.6744186 ],\n",
       "       [0.54545455, 0.45454545],\n",
       "       [0.3255814 , 0.6744186 ],\n",
       "       [0.54545455, 0.45454545],\n",
       "       [0.74660633, 0.25339367],\n",
       "       [0.        , 1.        ],\n",
       "       [0.3255814 , 0.6744186 ],\n",
       "       [0.3255814 , 0.6744186 ],\n",
       "       [0.54545455, 0.45454545],\n",
       "       [0.74660633, 0.25339367],\n",
       "       [0.74660633, 0.25339367],\n",
       "       [0.3255814 , 0.6744186 ],\n",
       "       [0.74660633, 0.25339367],\n",
       "       [0.74660633, 0.25339367],\n",
       "       [0.3255814 , 0.6744186 ],\n",
       "       [0.74660633, 0.25339367],\n",
       "       [0.74660633, 0.25339367],\n",
       "       [0.3255814 , 0.6744186 ],\n",
       "       [0.66666667, 0.33333333],\n",
       "       [0.92857143, 0.07142857],\n",
       "       [0.74660633, 0.25339367],\n",
       "       [0.3255814 , 0.6744186 ],\n",
       "       [0.66666667, 0.33333333],\n",
       "       [0.74660633, 0.25339367],\n",
       "       [0.74660633, 0.25339367],\n",
       "       [0.3255814 , 0.6744186 ],\n",
       "       [0.74660633, 0.25339367],\n",
       "       [0.74660633, 0.25339367],\n",
       "       [0.54545455, 0.45454545],\n",
       "       [0.3255814 , 0.6744186 ],\n",
       "       [0.3255814 , 0.6744186 ],\n",
       "       [0.92857143, 0.07142857],\n",
       "       [0.3255814 , 0.6744186 ],\n",
       "       [0.66666667, 0.33333333],\n",
       "       [0.66666667, 0.33333333],\n",
       "       [0.74660633, 0.25339367],\n",
       "       [0.54545455, 0.45454545],\n",
       "       [0.74660633, 0.25339367],\n",
       "       [0.74660633, 0.25339367],\n",
       "       [0.74660633, 0.25339367],\n",
       "       [0.54545455, 0.45454545],\n",
       "       [0.66666667, 0.33333333],\n",
       "       [0.74660633, 0.25339367],\n",
       "       [0.66666667, 0.33333333],\n",
       "       [0.3255814 , 0.6744186 ],\n",
       "       [0.66666667, 0.33333333],\n",
       "       [0.54545455, 0.45454545],\n",
       "       [0.74660633, 0.25339367],\n",
       "       [0.3255814 , 0.6744186 ],\n",
       "       [0.92857143, 0.07142857],\n",
       "       [0.74660633, 0.25339367],\n",
       "       [0.74660633, 0.25339367],\n",
       "       [0.74660633, 0.25339367],\n",
       "       [0.        , 1.        ],\n",
       "       [0.74660633, 0.25339367],\n",
       "       [0.54545455, 0.45454545],\n",
       "       [0.66666667, 0.33333333],\n",
       "       [0.74660633, 0.25339367],\n",
       "       [0.66666667, 0.33333333],\n",
       "       [0.74660633, 0.25339367],\n",
       "       [0.3255814 , 0.6744186 ],\n",
       "       [0.74660633, 0.25339367],\n",
       "       [0.54545455, 0.45454545],\n",
       "       [0.74660633, 0.25339367],\n",
       "       [0.92857143, 0.07142857],\n",
       "       [0.74660633, 0.25339367],\n",
       "       [0.3255814 , 0.6744186 ],\n",
       "       [0.66666667, 0.33333333],\n",
       "       [0.3255814 , 0.6744186 ],\n",
       "       [0.74660633, 0.25339367],\n",
       "       [0.3255814 , 0.6744186 ],\n",
       "       [0.54545455, 0.45454545],\n",
       "       [0.54545455, 0.45454545],\n",
       "       [0.74660633, 0.25339367],\n",
       "       [0.66666667, 0.33333333],\n",
       "       [0.3255814 , 0.6744186 ],\n",
       "       [0.74660633, 0.25339367],\n",
       "       [0.3255814 , 0.6744186 ],\n",
       "       [0.74660633, 0.25339367],\n",
       "       [0.3255814 , 0.6744186 ],\n",
       "       [0.74660633, 0.25339367],\n",
       "       [0.74660633, 0.25339367],\n",
       "       [0.74660633, 0.25339367],\n",
       "       [0.74660633, 0.25339367],\n",
       "       [0.74660633, 0.25339367],\n",
       "       [0.66666667, 0.33333333],\n",
       "       [0.74660633, 0.25339367],\n",
       "       [0.66666667, 0.33333333],\n",
       "       [0.74660633, 0.25339367],\n",
       "       [0.74660633, 0.25339367],\n",
       "       [0.3255814 , 0.6744186 ],\n",
       "       [0.74660633, 0.25339367],\n",
       "       [0.74660633, 0.25339367],\n",
       "       [0.92857143, 0.07142857],\n",
       "       [0.92857143, 0.07142857],\n",
       "       [0.66666667, 0.33333333],\n",
       "       [0.74660633, 0.25339367],\n",
       "       [0.74660633, 0.25339367],\n",
       "       [0.74660633, 0.25339367],\n",
       "       [0.74660633, 0.25339367],\n",
       "       [0.3255814 , 0.6744186 ],\n",
       "       [0.74660633, 0.25339367],\n",
       "       [0.3255814 , 0.6744186 ],\n",
       "       [0.3255814 , 0.6744186 ],\n",
       "       [0.74660633, 0.25339367],\n",
       "       [0.3255814 , 0.6744186 ],\n",
       "       [0.74660633, 0.25339367],\n",
       "       [0.3255814 , 0.6744186 ],\n",
       "       [0.74660633, 0.25339367],\n",
       "       [0.3255814 , 0.6744186 ],\n",
       "       [0.74660633, 0.25339367],\n",
       "       [0.66666667, 0.33333333],\n",
       "       [0.92857143, 0.07142857],\n",
       "       [0.92857143, 0.07142857],\n",
       "       [0.66666667, 0.33333333],\n",
       "       [0.54545455, 0.45454545],\n",
       "       [0.92857143, 0.07142857],\n",
       "       [0.3255814 , 0.6744186 ],\n",
       "       [0.3255814 , 0.6744186 ],\n",
       "       [0.74660633, 0.25339367],\n",
       "       [0.        , 1.        ],\n",
       "       [0.74660633, 0.25339367],\n",
       "       [0.66666667, 0.33333333],\n",
       "       [0.74660633, 0.25339367],\n",
       "       [0.54545455, 0.45454545],\n",
       "       [0.74660633, 0.25339367],\n",
       "       [0.74660633, 0.25339367],\n",
       "       [0.74660633, 0.25339367],\n",
       "       [0.66666667, 0.33333333],\n",
       "       [1.        , 0.        ],\n",
       "       [0.3255814 , 0.6744186 ],\n",
       "       [0.74660633, 0.25339367],\n",
       "       [0.3255814 , 0.6744186 ],\n",
       "       [0.3255814 , 0.6744186 ],\n",
       "       [0.3255814 , 0.6744186 ],\n",
       "       [0.        , 1.        ],\n",
       "       [0.92857143, 0.07142857],\n",
       "       [0.3255814 , 0.6744186 ],\n",
       "       [0.74660633, 0.25339367],\n",
       "       [0.74660633, 0.25339367],\n",
       "       [0.74660633, 0.25339367],\n",
       "       [0.74660633, 0.25339367],\n",
       "       [0.3255814 , 0.6744186 ],\n",
       "       [0.66666667, 0.33333333],\n",
       "       [0.        , 1.        ],\n",
       "       [0.74660633, 0.25339367],\n",
       "       [0.74660633, 0.25339367],\n",
       "       [0.92857143, 0.07142857],\n",
       "       [0.74660633, 0.25339367],\n",
       "       [0.74660633, 0.25339367]])"
      ]
     },
     "execution_count": 197,
     "metadata": {},
     "output_type": "execute_result"
    }
   ],
   "source": [
    "y_pred_proba = clf.predict_proba(X_train)\n",
    "y_pred_proba"
   ]
  },
  {
   "cell_type": "code",
   "execution_count": 241,
   "metadata": {},
   "outputs": [],
   "source": [
    "##Compute the Accuracy"
   ]
  },
  {
   "cell_type": "code",
   "execution_count": 198,
   "metadata": {},
   "outputs": [
    {
     "name": "stdout",
     "output_type": "stream",
     "text": [
      "Accuracy of Decision Tree classifier on training set: 0.72\n"
     ]
    }
   ],
   "source": [
    "print('Accuracy of Decision Tree classifier on training set: {:.2f}'\n",
    "     .format(clf.score(X_train, y_train)))"
   ]
  },
  {
   "cell_type": "code",
   "execution_count": 242,
   "metadata": {},
   "outputs": [],
   "source": [
    "##Create a confusion matrix"
   ]
  },
  {
   "cell_type": "code",
   "execution_count": 199,
   "metadata": {},
   "outputs": [
    {
     "data": {
      "text/plain": [
       "array([[265,  42],\n",
       "       [ 97,  94]])"
      ]
     },
     "execution_count": 199,
     "metadata": {},
     "output_type": "execute_result"
    }
   ],
   "source": [
    "confusion_matrix(y_train, y_pred)\n"
   ]
  },
  {
   "cell_type": "code",
   "execution_count": 203,
   "metadata": {},
   "outputs": [
    {
     "data": {
      "text/html": [
       "<div>\n",
       "<style scoped>\n",
       "    .dataframe tbody tr th:only-of-type {\n",
       "        vertical-align: middle;\n",
       "    }\n",
       "\n",
       "    .dataframe tbody tr th {\n",
       "        vertical-align: top;\n",
       "    }\n",
       "\n",
       "    .dataframe thead th {\n",
       "        text-align: right;\n",
       "    }\n",
       "</style>\n",
       "<table border=\"1\" class=\"dataframe\">\n",
       "  <thead>\n",
       "    <tr style=\"text-align: right;\">\n",
       "      <th></th>\n",
       "      <th>survived</th>\n",
       "    </tr>\n",
       "  </thead>\n",
       "  <tbody>\n",
       "    <tr>\n",
       "      <th>583</th>\n",
       "      <td>0</td>\n",
       "    </tr>\n",
       "    <tr>\n",
       "      <th>165</th>\n",
       "      <td>1</td>\n",
       "    </tr>\n",
       "    <tr>\n",
       "      <th>50</th>\n",
       "      <td>0</td>\n",
       "    </tr>\n",
       "    <tr>\n",
       "      <th>259</th>\n",
       "      <td>1</td>\n",
       "    </tr>\n",
       "    <tr>\n",
       "      <th>306</th>\n",
       "      <td>1</td>\n",
       "    </tr>\n",
       "    <tr>\n",
       "      <th>...</th>\n",
       "      <td>...</td>\n",
       "    </tr>\n",
       "    <tr>\n",
       "      <th>313</th>\n",
       "      <td>0</td>\n",
       "    </tr>\n",
       "    <tr>\n",
       "      <th>636</th>\n",
       "      <td>0</td>\n",
       "    </tr>\n",
       "    <tr>\n",
       "      <th>222</th>\n",
       "      <td>0</td>\n",
       "    </tr>\n",
       "    <tr>\n",
       "      <th>485</th>\n",
       "      <td>0</td>\n",
       "    </tr>\n",
       "    <tr>\n",
       "      <th>744</th>\n",
       "      <td>1</td>\n",
       "    </tr>\n",
       "  </tbody>\n",
       "</table>\n",
       "<p>498 rows × 1 columns</p>\n",
       "</div>"
      ],
      "text/plain": [
       "     survived\n",
       "583         0\n",
       "165         1\n",
       "50          0\n",
       "259         1\n",
       "306         1\n",
       "..        ...\n",
       "313         0\n",
       "636         0\n",
       "222         0\n",
       "485         0\n",
       "744         1\n",
       "\n",
       "[498 rows x 1 columns]"
      ]
     },
     "execution_count": 203,
     "metadata": {},
     "output_type": "execute_result"
    }
   ],
   "source": [
    "y_train"
   ]
  },
  {
   "cell_type": "code",
   "execution_count": 201,
   "metadata": {},
   "outputs": [],
   "source": [
    "labels = sorted(y_train.survived.unique())\n"
   ]
  },
  {
   "cell_type": "code",
   "execution_count": 205,
   "metadata": {},
   "outputs": [
    {
     "data": {
      "text/html": [
       "<div>\n",
       "<style scoped>\n",
       "    .dataframe tbody tr th:only-of-type {\n",
       "        vertical-align: middle;\n",
       "    }\n",
       "\n",
       "    .dataframe tbody tr th {\n",
       "        vertical-align: top;\n",
       "    }\n",
       "\n",
       "    .dataframe thead th {\n",
       "        text-align: right;\n",
       "    }\n",
       "</style>\n",
       "<table border=\"1\" class=\"dataframe\">\n",
       "  <thead>\n",
       "    <tr style=\"text-align: right;\">\n",
       "      <th></th>\n",
       "      <th>0</th>\n",
       "      <th>1</th>\n",
       "    </tr>\n",
       "  </thead>\n",
       "  <tbody>\n",
       "    <tr>\n",
       "      <th>0</th>\n",
       "      <td>265</td>\n",
       "      <td>42</td>\n",
       "    </tr>\n",
       "    <tr>\n",
       "      <th>1</th>\n",
       "      <td>97</td>\n",
       "      <td>94</td>\n",
       "    </tr>\n",
       "  </tbody>\n",
       "</table>\n",
       "</div>"
      ],
      "text/plain": [
       "     0   1\n",
       "0  265  42\n",
       "1   97  94"
      ]
     },
     "execution_count": 205,
     "metadata": {},
     "output_type": "execute_result"
    }
   ],
   "source": [
    "pd.DataFrame(confusion_matrix(y_train, y_pred), index=labels, columns=labels)\n"
   ]
  },
  {
   "cell_type": "markdown",
   "metadata": {},
   "source": [
    "True Positive Rate:\n",
    "    \n",
    "    TP / (TP + FN)"
   ]
  },
  {
   "cell_type": "code",
   "execution_count": 207,
   "metadata": {},
   "outputs": [
    {
     "data": {
      "text/plain": [
       "0.7320441988950276"
      ]
     },
     "execution_count": 207,
     "metadata": {},
     "output_type": "execute_result"
    }
   ],
   "source": [
    "265 / (265 + 97)"
   ]
  },
  {
   "cell_type": "code",
   "execution_count": 208,
   "metadata": {},
   "outputs": [
    {
     "data": {
      "text/plain": [
       "(498, 1)"
      ]
     },
     "execution_count": 208,
     "metadata": {},
     "output_type": "execute_result"
    }
   ],
   "source": [
    "y_train.shape"
   ]
  },
  {
   "cell_type": "code",
   "execution_count": 182,
   "metadata": {},
   "outputs": [
    {
     "data": {
      "text/plain": [
       "0    307\n",
       "1    191\n",
       "Name: survived, dtype: int64"
      ]
     },
     "execution_count": 182,
     "metadata": {},
     "output_type": "execute_result"
    }
   ],
   "source": [
    "y_train.value_counts()\n"
   ]
  },
  {
   "cell_type": "code",
   "execution_count": 243,
   "metadata": {},
   "outputs": [],
   "source": [
    "##Create a classification report"
   ]
  },
  {
   "cell_type": "code",
   "execution_count": 183,
   "metadata": {},
   "outputs": [
    {
     "name": "stdout",
     "output_type": "stream",
     "text": [
      "              precision    recall  f1-score   support\n",
      "\n",
      "           0       0.73      0.86      0.79       307\n",
      "           1       0.69      0.49      0.57       191\n",
      "\n",
      "    accuracy                           0.72       498\n",
      "   macro avg       0.71      0.68      0.68       498\n",
      "weighted avg       0.72      0.72      0.71       498\n",
      "\n"
     ]
    }
   ],
   "source": [
    "print(classification_report(y_train, y_pred))\n"
   ]
  },
  {
   "cell_type": "code",
   "execution_count": 245,
   "metadata": {},
   "outputs": [],
   "source": [
    "#Create the decision tree object"
   ]
  },
  {
   "cell_type": "code",
   "execution_count": 209,
   "metadata": {},
   "outputs": [],
   "source": [
    "clf = DecisionTreeClassifier(max_depth=6, random_state=123)\n"
   ]
  },
  {
   "cell_type": "code",
   "execution_count": 246,
   "metadata": {},
   "outputs": [],
   "source": [
    "##Fit the model"
   ]
  },
  {
   "cell_type": "code",
   "execution_count": 210,
   "metadata": {},
   "outputs": [
    {
     "data": {
      "text/plain": [
       "DecisionTreeClassifier(ccp_alpha=0.0, class_weight=None, criterion='gini',\n",
       "                       max_depth=6, max_features=None, max_leaf_nodes=None,\n",
       "                       min_impurity_decrease=0.0, min_impurity_split=None,\n",
       "                       min_samples_leaf=1, min_samples_split=2,\n",
       "                       min_weight_fraction_leaf=0.0, presort='deprecated',\n",
       "                       random_state=123, splitter='best')"
      ]
     },
     "execution_count": 210,
     "metadata": {},
     "output_type": "execute_result"
    }
   ],
   "source": [
    "clf.fit(X_train, y_train)\n"
   ]
  },
  {
   "cell_type": "code",
   "execution_count": 247,
   "metadata": {},
   "outputs": [],
   "source": [
    "##Examine survival"
   ]
  },
  {
   "cell_type": "code",
   "execution_count": 211,
   "metadata": {},
   "outputs": [
    {
     "data": {
      "text/plain": [
       "array([1, 0, 0, 1, 1])"
      ]
     },
     "execution_count": 211,
     "metadata": {},
     "output_type": "execute_result"
    }
   ],
   "source": [
    "y_pred = clf.predict(X_train)\n",
    "y_pred[0:5]"
   ]
  },
  {
   "cell_type": "code",
   "execution_count": 248,
   "metadata": {},
   "outputs": [],
   "source": [
    "#Estimate probability of survival"
   ]
  },
  {
   "cell_type": "code",
   "execution_count": 212,
   "metadata": {},
   "outputs": [],
   "source": [
    "y_pred_proba = clf.predict_proba(X_train)\n"
   ]
  },
  {
   "cell_type": "code",
   "execution_count": 249,
   "metadata": {},
   "outputs": [],
   "source": [
    "#Compute the accuracy"
   ]
  },
  {
   "cell_type": "code",
   "execution_count": 213,
   "metadata": {},
   "outputs": [
    {
     "name": "stdout",
     "output_type": "stream",
     "text": [
      "Accuracy of Decision Tree classifier on training set: 0.79\n"
     ]
    }
   ],
   "source": [
    "print('Accuracy of Decision Tree classifier on training set: {:.2f}'\n",
    "     .format(clf.score(X_train, y_train)))"
   ]
  },
  {
   "cell_type": "code",
   "execution_count": 250,
   "metadata": {},
   "outputs": [],
   "source": [
    "#Create a confusion matrix"
   ]
  },
  {
   "cell_type": "code",
   "execution_count": 214,
   "metadata": {},
   "outputs": [
    {
     "data": {
      "text/plain": [
       "array([[251,  56],\n",
       "       [ 49, 142]])"
      ]
     },
     "execution_count": 214,
     "metadata": {},
     "output_type": "execute_result"
    }
   ],
   "source": [
    "confusion_matrix(y_train, y_pred)\n"
   ]
  },
  {
   "cell_type": "code",
   "execution_count": 215,
   "metadata": {},
   "outputs": [
    {
     "data": {
      "text/html": [
       "<div>\n",
       "<style scoped>\n",
       "    .dataframe tbody tr th:only-of-type {\n",
       "        vertical-align: middle;\n",
       "    }\n",
       "\n",
       "    .dataframe tbody tr th {\n",
       "        vertical-align: top;\n",
       "    }\n",
       "\n",
       "    .dataframe thead th {\n",
       "        text-align: right;\n",
       "    }\n",
       "</style>\n",
       "<table border=\"1\" class=\"dataframe\">\n",
       "  <thead>\n",
       "    <tr style=\"text-align: right;\">\n",
       "      <th></th>\n",
       "      <th>0</th>\n",
       "      <th>1</th>\n",
       "    </tr>\n",
       "  </thead>\n",
       "  <tbody>\n",
       "    <tr>\n",
       "      <th>0</th>\n",
       "      <td>251</td>\n",
       "      <td>56</td>\n",
       "    </tr>\n",
       "    <tr>\n",
       "      <th>1</th>\n",
       "      <td>49</td>\n",
       "      <td>142</td>\n",
       "    </tr>\n",
       "  </tbody>\n",
       "</table>\n",
       "</div>"
      ],
      "text/plain": [
       "     0    1\n",
       "0  251   56\n",
       "1   49  142"
      ]
     },
     "execution_count": 215,
     "metadata": {},
     "output_type": "execute_result"
    }
   ],
   "source": [
    "pd.DataFrame(confusion_matrix(y_train, y_pred), index=labels, columns=labels)\n"
   ]
  },
  {
   "cell_type": "code",
   "execution_count": 251,
   "metadata": {},
   "outputs": [],
   "source": [
    "#Create a classification report"
   ]
  },
  {
   "cell_type": "code",
   "execution_count": 216,
   "metadata": {},
   "outputs": [
    {
     "name": "stdout",
     "output_type": "stream",
     "text": [
      "              precision    recall  f1-score   support\n",
      "\n",
      "           0       0.84      0.82      0.83       307\n",
      "           1       0.72      0.74      0.73       191\n",
      "\n",
      "    accuracy                           0.79       498\n",
      "   macro avg       0.78      0.78      0.78       498\n",
      "weighted avg       0.79      0.79      0.79       498\n",
      "\n"
     ]
    }
   ],
   "source": [
    "print(classification_report(y_train, y_pred))\n"
   ]
  },
  {
   "cell_type": "code",
   "execution_count": 252,
   "metadata": {},
   "outputs": [],
   "source": [
    "#Compute the accuracy run on the validate set"
   ]
  },
  {
   "cell_type": "code",
   "execution_count": 217,
   "metadata": {},
   "outputs": [],
   "source": [
    "clf = DecisionTreeClassifier(max_depth=6, random_state=123)\n"
   ]
  },
  {
   "cell_type": "code",
   "execution_count": 218,
   "metadata": {},
   "outputs": [
    {
     "data": {
      "text/plain": [
       "DecisionTreeClassifier(ccp_alpha=0.0, class_weight=None, criterion='gini',\n",
       "                       max_depth=6, max_features=None, max_leaf_nodes=None,\n",
       "                       min_impurity_decrease=0.0, min_impurity_split=None,\n",
       "                       min_samples_leaf=1, min_samples_split=2,\n",
       "                       min_weight_fraction_leaf=0.0, presort='deprecated',\n",
       "                       random_state=123, splitter='best')"
      ]
     },
     "execution_count": 218,
     "metadata": {},
     "output_type": "execute_result"
    }
   ],
   "source": [
    "clf.fit(X_validate, y_validate)\n"
   ]
  },
  {
   "cell_type": "code",
   "execution_count": 219,
   "metadata": {},
   "outputs": [
    {
     "data": {
      "text/plain": [
       "array([0, 0, 0, 1, 0])"
      ]
     },
     "execution_count": 219,
     "metadata": {},
     "output_type": "execute_result"
    }
   ],
   "source": [
    "y_pred = clf.predict(X_validate)\n",
    "y_pred[0:5]"
   ]
  },
  {
   "cell_type": "code",
   "execution_count": 220,
   "metadata": {},
   "outputs": [],
   "source": [
    "y_pred_proba = clf.predict_proba(X_validate)\n"
   ]
  },
  {
   "cell_type": "code",
   "execution_count": 228,
   "metadata": {},
   "outputs": [
    {
     "name": "stdout",
     "output_type": "stream",
     "text": [
      "Accuracy of Decision Tree classifier on training set: 0.64\n"
     ]
    }
   ],
   "source": [
    "print('Accuracy of Decision Tree classifier on training set: {:.2f}'\n",
    "     .format(clf.score(X_validate, y_validate)))"
   ]
  },
  {
   "cell_type": "code",
   "execution_count": 255,
   "metadata": {},
   "outputs": [],
   "source": [
    "####When I raised the max-depth, it lowered the accuracy of the validate set."
   ]
  },
  {
   "cell_type": "code",
   "execution_count": 225,
   "metadata": {},
   "outputs": [
    {
     "data": {
      "text/plain": [
       "DecisionTreeClassifier(ccp_alpha=0.0, class_weight=None, criterion='gini',\n",
       "                       max_depth=6, max_features=None, max_leaf_nodes=None,\n",
       "                       min_impurity_decrease=0.0, min_impurity_split=None,\n",
       "                       min_samples_leaf=1, min_samples_split=2,\n",
       "                       min_weight_fraction_leaf=0.0, presort='deprecated',\n",
       "                       random_state=123, splitter='best')"
      ]
     },
     "execution_count": 225,
     "metadata": {},
     "output_type": "execute_result"
    }
   ],
   "source": [
    "clf.fit(X_test, y_test)\n"
   ]
  },
  {
   "cell_type": "code",
   "execution_count": 226,
   "metadata": {},
   "outputs": [
    {
     "data": {
      "text/plain": [
       "array([0, 1, 1, 0, 1])"
      ]
     },
     "execution_count": 226,
     "metadata": {},
     "output_type": "execute_result"
    }
   ],
   "source": [
    "y_pred = clf.predict(X_test)\n",
    "y_pred[0:5]"
   ]
  },
  {
   "cell_type": "code",
   "execution_count": 227,
   "metadata": {},
   "outputs": [],
   "source": [
    "y_pred_proba = clf.predict_proba(X_test)\n"
   ]
  },
  {
   "cell_type": "code",
   "execution_count": 229,
   "metadata": {},
   "outputs": [
    {
     "name": "stdout",
     "output_type": "stream",
     "text": [
      "Accuracy of Decision Tree classifier on training set: 0.85\n"
     ]
    }
   ],
   "source": [
    "print('Accuracy of Decision Tree classifier on training set: {:.2f}'\n",
    "     .format(clf.score(X_test, y_test)))"
   ]
  },
  {
   "cell_type": "code",
   "execution_count": 256,
   "metadata": {},
   "outputs": [],
   "source": [
    "###The test set on the higher max-depth is higher than the train or validate"
   ]
  },
  {
   "cell_type": "code",
   "execution_count": 230,
   "metadata": {},
   "outputs": [],
   "source": [
    "clf = DecisionTreeClassifier(max_depth=2, random_state=123)\n"
   ]
  },
  {
   "cell_type": "code",
   "execution_count": 231,
   "metadata": {},
   "outputs": [
    {
     "data": {
      "text/plain": [
       "DecisionTreeClassifier(ccp_alpha=0.0, class_weight=None, criterion='gini',\n",
       "                       max_depth=2, max_features=None, max_leaf_nodes=None,\n",
       "                       min_impurity_decrease=0.0, min_impurity_split=None,\n",
       "                       min_samples_leaf=1, min_samples_split=2,\n",
       "                       min_weight_fraction_leaf=0.0, presort='deprecated',\n",
       "                       random_state=123, splitter='best')"
      ]
     },
     "execution_count": 231,
     "metadata": {},
     "output_type": "execute_result"
    }
   ],
   "source": [
    "clf.fit(X_train, y_train)\n"
   ]
  },
  {
   "cell_type": "code",
   "execution_count": 232,
   "metadata": {},
   "outputs": [
    {
     "data": {
      "text/plain": [
       "array([1, 0, 0, 1, 1])"
      ]
     },
     "execution_count": 232,
     "metadata": {},
     "output_type": "execute_result"
    }
   ],
   "source": [
    "y_pred = clf.predict(X_train)\n",
    "y_pred[0:5]"
   ]
  },
  {
   "cell_type": "code",
   "execution_count": 233,
   "metadata": {},
   "outputs": [],
   "source": [
    "y_pred_proba = clf.predict_proba(X_train)\n"
   ]
  },
  {
   "cell_type": "code",
   "execution_count": 234,
   "metadata": {},
   "outputs": [
    {
     "name": "stdout",
     "output_type": "stream",
     "text": [
      "Accuracy of Decision Tree classifier on training set: 0.71\n"
     ]
    }
   ],
   "source": [
    "print('Accuracy of Decision Tree classifier on training set: {:.2f}'\n",
    "     .format(clf.score(X_train, y_train)))"
   ]
  },
  {
   "cell_type": "code",
   "execution_count": 235,
   "metadata": {},
   "outputs": [
    {
     "data": {
      "text/html": [
       "<div>\n",
       "<style scoped>\n",
       "    .dataframe tbody tr th:only-of-type {\n",
       "        vertical-align: middle;\n",
       "    }\n",
       "\n",
       "    .dataframe tbody tr th {\n",
       "        vertical-align: top;\n",
       "    }\n",
       "\n",
       "    .dataframe thead th {\n",
       "        text-align: right;\n",
       "    }\n",
       "</style>\n",
       "<table border=\"1\" class=\"dataframe\">\n",
       "  <thead>\n",
       "    <tr style=\"text-align: right;\">\n",
       "      <th></th>\n",
       "      <th>0</th>\n",
       "      <th>1</th>\n",
       "    </tr>\n",
       "  </thead>\n",
       "  <tbody>\n",
       "    <tr>\n",
       "      <th>0</th>\n",
       "      <td>240</td>\n",
       "      <td>67</td>\n",
       "    </tr>\n",
       "    <tr>\n",
       "      <th>1</th>\n",
       "      <td>79</td>\n",
       "      <td>112</td>\n",
       "    </tr>\n",
       "  </tbody>\n",
       "</table>\n",
       "</div>"
      ],
      "text/plain": [
       "     0    1\n",
       "0  240   67\n",
       "1   79  112"
      ]
     },
     "execution_count": 235,
     "metadata": {},
     "output_type": "execute_result"
    }
   ],
   "source": [
    "pd.DataFrame(confusion_matrix(y_train, y_pred), index=labels, columns=labels)\n"
   ]
  },
  {
   "cell_type": "code",
   "execution_count": 236,
   "metadata": {},
   "outputs": [
    {
     "name": "stdout",
     "output_type": "stream",
     "text": [
      "              precision    recall  f1-score   support\n",
      "\n",
      "           0       0.75      0.78      0.77       307\n",
      "           1       0.63      0.59      0.61       191\n",
      "\n",
      "    accuracy                           0.71       498\n",
      "   macro avg       0.69      0.68      0.69       498\n",
      "weighted avg       0.70      0.71      0.70       498\n",
      "\n"
     ]
    }
   ],
   "source": [
    "print(classification_report(y_train, y_pred))\n"
   ]
  },
  {
   "cell_type": "code",
   "execution_count": 260,
   "metadata": {},
   "outputs": [],
   "source": [
    "from sklearn.ensemble import RandomForestClassifier\n"
   ]
  },
  {
   "cell_type": "markdown",
   "metadata": {},
   "source": [
    "Fit the Random Forest classifier to your training sample and transform (i.e. make predictions on the training sample) setting the random_state accordingly and setting min_samples_leaf = 1 and max_depth = 20."
   ]
  },
  {
   "cell_type": "code",
   "execution_count": 267,
   "metadata": {},
   "outputs": [],
   "source": [
    "##Examine my data"
   ]
  },
  {
   "cell_type": "code",
   "execution_count": 273,
   "metadata": {},
   "outputs": [
    {
     "data": {
      "text/html": [
       "<div>\n",
       "<style scoped>\n",
       "    .dataframe tbody tr th:only-of-type {\n",
       "        vertical-align: middle;\n",
       "    }\n",
       "\n",
       "    .dataframe tbody tr th {\n",
       "        vertical-align: top;\n",
       "    }\n",
       "\n",
       "    .dataframe thead th {\n",
       "        text-align: right;\n",
       "    }\n",
       "</style>\n",
       "<table border=\"1\" class=\"dataframe\">\n",
       "  <thead>\n",
       "    <tr style=\"text-align: right;\">\n",
       "      <th></th>\n",
       "      <th>pclass</th>\n",
       "      <th>age</th>\n",
       "      <th>fare</th>\n",
       "      <th>2</th>\n",
       "      <th>3</th>\n",
       "    </tr>\n",
       "  </thead>\n",
       "  <tbody>\n",
       "    <tr>\n",
       "      <th>583</th>\n",
       "      <td>1</td>\n",
       "      <td>36.000000</td>\n",
       "      <td>40.1250</td>\n",
       "      <td>0</td>\n",
       "      <td>0</td>\n",
       "    </tr>\n",
       "    <tr>\n",
       "      <th>165</th>\n",
       "      <td>3</td>\n",
       "      <td>9.000000</td>\n",
       "      <td>20.5250</td>\n",
       "      <td>0</td>\n",
       "      <td>1</td>\n",
       "    </tr>\n",
       "    <tr>\n",
       "      <th>50</th>\n",
       "      <td>3</td>\n",
       "      <td>7.000000</td>\n",
       "      <td>39.6875</td>\n",
       "      <td>0</td>\n",
       "      <td>1</td>\n",
       "    </tr>\n",
       "    <tr>\n",
       "      <th>259</th>\n",
       "      <td>2</td>\n",
       "      <td>50.000000</td>\n",
       "      <td>26.0000</td>\n",
       "      <td>1</td>\n",
       "      <td>0</td>\n",
       "    </tr>\n",
       "    <tr>\n",
       "      <th>306</th>\n",
       "      <td>1</td>\n",
       "      <td>29.678105</td>\n",
       "      <td>110.8833</td>\n",
       "      <td>0</td>\n",
       "      <td>0</td>\n",
       "    </tr>\n",
       "  </tbody>\n",
       "</table>\n",
       "</div>"
      ],
      "text/plain": [
       "     pclass        age      fare  2  3\n",
       "583       1  36.000000   40.1250  0  0\n",
       "165       3   9.000000   20.5250  0  1\n",
       "50        3   7.000000   39.6875  0  1\n",
       "259       2  50.000000   26.0000  1  0\n",
       "306       1  29.678105  110.8833  0  0"
      ]
     },
     "execution_count": 273,
     "metadata": {},
     "output_type": "execute_result"
    }
   ],
   "source": [
    "X_train.head()"
   ]
  },
  {
   "cell_type": "code",
   "execution_count": 265,
   "metadata": {},
   "outputs": [
    {
     "name": "stdout",
     "output_type": "stream",
     "text": [
      "<class 'pandas.core.frame.DataFrame'>\n",
      "Int64Index: 498 entries, 583 to 744\n",
      "Data columns (total 5 columns):\n",
      " #   Column  Non-Null Count  Dtype  \n",
      "---  ------  --------------  -----  \n",
      " 0   pclass  498 non-null    int64  \n",
      " 1   age     498 non-null    float64\n",
      " 2   fare    498 non-null    float64\n",
      " 3   2       498 non-null    uint8  \n",
      " 4   3       498 non-null    uint8  \n",
      "dtypes: float64(2), int64(1), uint8(2)\n",
      "memory usage: 16.5 KB\n"
     ]
    }
   ],
   "source": [
    "X_train.info()"
   ]
  },
  {
   "cell_type": "code",
   "execution_count": 275,
   "metadata": {},
   "outputs": [
    {
     "data": {
      "text/html": [
       "<div>\n",
       "<style scoped>\n",
       "    .dataframe tbody tr th:only-of-type {\n",
       "        vertical-align: middle;\n",
       "    }\n",
       "\n",
       "    .dataframe tbody tr th {\n",
       "        vertical-align: top;\n",
       "    }\n",
       "\n",
       "    .dataframe thead th {\n",
       "        text-align: right;\n",
       "    }\n",
       "</style>\n",
       "<table border=\"1\" class=\"dataframe\">\n",
       "  <thead>\n",
       "    <tr style=\"text-align: right;\">\n",
       "      <th></th>\n",
       "      <th>survived</th>\n",
       "    </tr>\n",
       "  </thead>\n",
       "  <tbody>\n",
       "    <tr>\n",
       "      <th>583</th>\n",
       "      <td>0</td>\n",
       "    </tr>\n",
       "    <tr>\n",
       "      <th>165</th>\n",
       "      <td>1</td>\n",
       "    </tr>\n",
       "    <tr>\n",
       "      <th>50</th>\n",
       "      <td>0</td>\n",
       "    </tr>\n",
       "    <tr>\n",
       "      <th>259</th>\n",
       "      <td>1</td>\n",
       "    </tr>\n",
       "    <tr>\n",
       "      <th>306</th>\n",
       "      <td>1</td>\n",
       "    </tr>\n",
       "  </tbody>\n",
       "</table>\n",
       "</div>"
      ],
      "text/plain": [
       "     survived\n",
       "583         0\n",
       "165         1\n",
       "50          0\n",
       "259         1\n",
       "306         1"
      ]
     },
     "execution_count": 275,
     "metadata": {},
     "output_type": "execute_result"
    }
   ],
   "source": [
    "y_train.head()"
   ]
  },
  {
   "cell_type": "code",
   "execution_count": 286,
   "metadata": {},
   "outputs": [
    {
     "data": {
      "text/plain": [
       "0    307\n",
       "1    191\n",
       "Name: survived, dtype: int64"
      ]
     },
     "execution_count": 286,
     "metadata": {},
     "output_type": "execute_result"
    }
   ],
   "source": [
    "y_train.survived.value_counts()"
   ]
  },
  {
   "cell_type": "code",
   "execution_count": 288,
   "metadata": {},
   "outputs": [
    {
     "data": {
      "text/plain": [
       "0.6164658634538153"
      ]
     },
     "execution_count": 288,
     "metadata": {},
     "output_type": "execute_result"
    }
   ],
   "source": [
    "1 - (191 / (191 + 307))"
   ]
  },
  {
   "cell_type": "code",
   "execution_count": 268,
   "metadata": {},
   "outputs": [],
   "source": [
    "##Create the random forest object"
   ]
  },
  {
   "cell_type": "code",
   "execution_count": 261,
   "metadata": {},
   "outputs": [],
   "source": [
    "rf = RandomForestClassifier(bootstrap=True, \n",
    "                            class_weight=None, \n",
    "                            criterion='gini',\n",
    "                            min_samples_leaf=3,\n",
    "                            n_estimators=100,\n",
    "                            max_depth=3, \n",
    "                            random_state=123)"
   ]
  },
  {
   "cell_type": "code",
   "execution_count": 269,
   "metadata": {},
   "outputs": [],
   "source": [
    "##Fit the model to the training data"
   ]
  },
  {
   "cell_type": "code",
   "execution_count": 262,
   "metadata": {},
   "outputs": [
    {
     "data": {
      "text/plain": [
       "RandomForestClassifier(bootstrap=True, ccp_alpha=0.0, class_weight=None,\n",
       "                       criterion='gini', max_depth=3, max_features='auto',\n",
       "                       max_leaf_nodes=None, max_samples=None,\n",
       "                       min_impurity_decrease=0.0, min_impurity_split=None,\n",
       "                       min_samples_leaf=3, min_samples_split=2,\n",
       "                       min_weight_fraction_leaf=0.0, n_estimators=100,\n",
       "                       n_jobs=None, oob_score=False, random_state=123,\n",
       "                       verbose=0, warm_start=False)"
      ]
     },
     "execution_count": 262,
     "metadata": {},
     "output_type": "execute_result"
    }
   ],
   "source": [
    "rf.fit(X_train, y_train)"
   ]
  },
  {
   "cell_type": "code",
   "execution_count": 263,
   "metadata": {},
   "outputs": [
    {
     "data": {
      "text/plain": [
       "RandomForestClassifier(bootstrap=True, ccp_alpha=0.0, class_weight=None,\n",
       "                       criterion='gini', max_depth=3, max_features='auto',\n",
       "                       max_leaf_nodes=None, max_samples=None,\n",
       "                       min_impurity_decrease=0.0, min_impurity_split=None,\n",
       "                       min_samples_leaf=3, min_samples_split=2,\n",
       "                       min_weight_fraction_leaf=0.0, n_estimators=100,\n",
       "                       n_jobs=None, oob_score=False, random_state=123,\n",
       "                       verbose=0, warm_start=False)"
      ]
     },
     "execution_count": 263,
     "metadata": {},
     "output_type": "execute_result"
    }
   ],
   "source": [
    "RandomForestClassifier(max_depth=3, min_samples_leaf=3, random_state=123)\n"
   ]
  },
  {
   "cell_type": "code",
   "execution_count": 270,
   "metadata": {},
   "outputs": [],
   "source": [
    "##Print feature importances"
   ]
  },
  {
   "cell_type": "code",
   "execution_count": 264,
   "metadata": {},
   "outputs": [
    {
     "name": "stdout",
     "output_type": "stream",
     "text": [
      "[0.21150977 0.21640522 0.33616296 0.0180178  0.21790425]\n"
     ]
    }
   ],
   "source": [
    "print(rf.feature_importances_)\n"
   ]
  },
  {
   "cell_type": "code",
   "execution_count": 271,
   "metadata": {},
   "outputs": [],
   "source": [
    "##Estimate whether the passenger will survive"
   ]
  },
  {
   "cell_type": "code",
   "execution_count": 276,
   "metadata": {},
   "outputs": [],
   "source": [
    "y_pred = rf.predict(X_train)\n"
   ]
  },
  {
   "cell_type": "code",
   "execution_count": 278,
   "metadata": {},
   "outputs": [
    {
     "data": {
      "text/plain": [
       "array([1, 0, 0, 1, 1, 1, 1, 0, 0, 0, 0, 0, 1, 1, 1, 0, 0, 0, 0, 0, 0, 0,\n",
       "       1, 1, 1, 0, 1, 1, 1, 0, 0, 0, 0, 0, 0, 0, 0, 1, 0, 1, 0, 0, 0, 1,\n",
       "       1, 0, 0, 0, 0, 0, 0, 0, 1, 1, 0, 0, 0, 0, 0, 0, 1, 0, 0, 0, 0, 0,\n",
       "       0, 0, 0, 0, 0, 0, 0, 1, 0, 1, 0, 0, 0, 0, 1, 1, 0, 0, 0, 0, 1, 0,\n",
       "       1, 0, 0, 0, 0, 1, 0, 0, 1, 0, 1, 1, 0, 1, 0, 0, 1, 1, 0, 1, 0, 0,\n",
       "       1, 1, 1, 0, 0, 1, 0, 0, 1, 1, 0, 0, 1, 0, 1, 1, 1, 1, 0, 0, 0, 0,\n",
       "       0, 1, 1, 0, 0, 0, 1, 1, 1, 1, 1, 0, 1, 1, 1, 1, 1, 1, 0, 1, 1, 0,\n",
       "       0, 0, 0, 0, 0, 0, 0, 0, 1, 0, 0, 0, 0, 0, 1, 0, 0, 1, 0, 0, 1, 0,\n",
       "       1, 0, 0, 1, 0, 0, 0, 1, 0, 0, 1, 1, 0, 0, 1, 1, 0, 0, 1, 0, 0, 0,\n",
       "       0, 0, 0, 1, 1, 0, 0, 0, 0, 1, 0, 1, 0, 0, 0, 0, 1, 1, 0, 0, 1, 0,\n",
       "       0, 0, 0, 1, 0, 0, 1, 0, 0, 0, 0, 0, 0, 0, 0, 1, 0, 0, 1, 0, 0, 0,\n",
       "       0, 0, 1, 0, 1, 0, 0, 1, 0, 1, 0, 1, 0, 0, 0, 1, 1, 0, 0, 0, 0, 1,\n",
       "       0, 1, 0, 0, 0, 0, 0, 1, 0, 1, 0, 0, 0, 0, 0, 0, 0, 1, 0, 0, 0, 1,\n",
       "       1, 1, 1, 0, 0, 0, 0, 0, 1, 1, 0, 0, 0, 0, 0, 0, 0, 0, 0, 0, 1, 0,\n",
       "       1, 0, 0, 0, 0, 0, 0, 0, 0, 1, 1, 0, 0, 0, 1, 1, 0, 1, 1, 1, 1, 0,\n",
       "       0, 1, 0, 1, 1, 0, 0, 0, 0, 0, 0, 1, 0, 1, 0, 0, 1, 1, 1, 0, 1, 0,\n",
       "       0, 1, 1, 1, 1, 0, 0, 1, 0, 0, 1, 0, 0, 1, 0, 0, 0, 1, 0, 0, 0, 1,\n",
       "       0, 0, 1, 1, 1, 0, 1, 1, 0, 0, 1, 0, 0, 0, 1, 0, 0, 0, 1, 0, 1, 0,\n",
       "       1, 0, 0, 0, 0, 1, 0, 1, 0, 0, 0, 0, 1, 0, 0, 0, 0, 0, 1, 0, 1, 0,\n",
       "       1, 1, 0, 0, 0, 1, 0, 1, 0, 1, 0, 0, 0, 0, 0, 0, 0, 0, 0, 0, 1, 0,\n",
       "       0, 0, 0, 0, 0, 0, 0, 0, 1, 0, 1, 1, 0, 1, 0, 1, 0, 1, 0, 0, 0, 0,\n",
       "       0, 1, 0, 1, 1, 0, 1, 0, 0, 0, 0, 0, 0, 0, 0, 0, 1, 0, 1, 1, 1, 1,\n",
       "       0, 1, 0, 0, 0, 0, 1, 0, 1, 0, 0, 0, 0, 0])"
      ]
     },
     "execution_count": 278,
     "metadata": {},
     "output_type": "execute_result"
    }
   ],
   "source": [
    "y_pred"
   ]
  },
  {
   "cell_type": "code",
   "execution_count": 279,
   "metadata": {},
   "outputs": [],
   "source": [
    "##Estimate the probability of a passenger surviving"
   ]
  },
  {
   "cell_type": "code",
   "execution_count": 280,
   "metadata": {},
   "outputs": [],
   "source": [
    "y_pred_proba = rf.predict_proba(X_train)\n"
   ]
  },
  {
   "cell_type": "code",
   "execution_count": 281,
   "metadata": {},
   "outputs": [
    {
     "data": {
      "text/plain": [
       "array([[0.41393817, 0.58606183],\n",
       "       [0.66364937, 0.33635063],\n",
       "       [0.72862468, 0.27137532],\n",
       "       [0.48404006, 0.51595994],\n",
       "       [0.36832434, 0.63167566],\n",
       "       [0.46118117, 0.53881883],\n",
       "       [0.45370764, 0.54629236],\n",
       "       [0.60659698, 0.39340302],\n",
       "       [0.73856046, 0.26143954],\n",
       "       [0.72826334, 0.27173666],\n",
       "       [0.76178037, 0.23821963],\n",
       "       [0.53392512, 0.46607488],\n",
       "       [0.45210613, 0.54789387],\n",
       "       [0.44963074, 0.55036926],\n",
       "       [0.45300924, 0.54699076],\n",
       "       [0.87405505, 0.12594495],\n",
       "       [0.81775462, 0.18224538],\n",
       "       [0.76216214, 0.23783786],\n",
       "       [0.55618529, 0.44381471],\n",
       "       [0.81529945, 0.18470055],\n",
       "       [0.72513987, 0.27486013],\n",
       "       [0.75610565, 0.24389435],\n",
       "       [0.28794623, 0.71205377],\n",
       "       [0.34757729, 0.65242271],\n",
       "       [0.44891064, 0.55108936],\n",
       "       [0.81758243, 0.18241757],\n",
       "       [0.276245  , 0.723755  ],\n",
       "       [0.45453566, 0.54546434],\n",
       "       [0.45303174, 0.54696826],\n",
       "       [0.55644884, 0.44355116],\n",
       "       [0.78451747, 0.21548253],\n",
       "       [0.6646831 , 0.3353169 ],\n",
       "       [0.81758243, 0.18241757],\n",
       "       [0.70185137, 0.29814863],\n",
       "       [0.55644884, 0.44355116],\n",
       "       [0.53989974, 0.46010026],\n",
       "       [0.58791769, 0.41208231],\n",
       "       [0.26088944, 0.73911056],\n",
       "       [0.74192895, 0.25807105],\n",
       "       [0.44983438, 0.55016562],\n",
       "       [0.78595945, 0.21404055],\n",
       "       [0.78025397, 0.21974603],\n",
       "       [0.72901926, 0.27098074],\n",
       "       [0.46118117, 0.53881883],\n",
       "       [0.41994216, 0.58005784],\n",
       "       [0.79962633, 0.20037367],\n",
       "       [0.73856046, 0.26143954],\n",
       "       [0.80563317, 0.19436683],\n",
       "       [0.73856046, 0.26143954],\n",
       "       [0.70741969, 0.29258031],\n",
       "       [0.83090532, 0.16909468],\n",
       "       [0.60377345, 0.39622655],\n",
       "       [0.36483521, 0.63516479],\n",
       "       [0.3845048 , 0.6154952 ],\n",
       "       [0.75195466, 0.24804534],\n",
       "       [0.57927874, 0.42072126],\n",
       "       [0.78451747, 0.21548253],\n",
       "       [0.55618529, 0.44381471],\n",
       "       [0.81065584, 0.18934416],\n",
       "       [0.75359427, 0.24640573],\n",
       "       [0.45425725, 0.54574275],\n",
       "       [0.68650876, 0.31349124],\n",
       "       [0.82123228, 0.17876772],\n",
       "       [0.5650005 , 0.4349995 ],\n",
       "       [0.76440794, 0.23559206],\n",
       "       [0.73856046, 0.26143954],\n",
       "       [0.74815453, 0.25184547],\n",
       "       [0.87108659, 0.12891341],\n",
       "       [0.72892467, 0.27107533],\n",
       "       [0.61264863, 0.38735137],\n",
       "       [0.69349182, 0.30650818],\n",
       "       [0.82123228, 0.17876772],\n",
       "       [0.60383342, 0.39616658],\n",
       "       [0.40936194, 0.59063806],\n",
       "       [0.73856046, 0.26143954],\n",
       "       [0.42517326, 0.57482674],\n",
       "       [0.73579414, 0.26420586],\n",
       "       [0.55644884, 0.44355116],\n",
       "       [0.72325286, 0.27674714],\n",
       "       [0.6967853 , 0.3032147 ],\n",
       "       [0.46557266, 0.53442734],\n",
       "       [0.36889112, 0.63110888],\n",
       "       [0.87114782, 0.12885218],\n",
       "       [0.55644884, 0.44355116],\n",
       "       [0.74769115, 0.25230885],\n",
       "       [0.78151425, 0.21848575],\n",
       "       [0.37173161, 0.62826839],\n",
       "       [0.64980104, 0.35019896],\n",
       "       [0.39836723, 0.60163277],\n",
       "       [0.55644884, 0.44355116],\n",
       "       [0.85946332, 0.14053668],\n",
       "       [0.73856046, 0.26143954],\n",
       "       [0.72358532, 0.27641468],\n",
       "       [0.34677707, 0.65322293],\n",
       "       [0.55644884, 0.44355116],\n",
       "       [0.74915708, 0.25084292],\n",
       "       [0.36723013, 0.63276987],\n",
       "       [0.51809496, 0.48190504],\n",
       "       [0.41503239, 0.58496761],\n",
       "       [0.32067437, 0.67932563],\n",
       "       [0.74713328, 0.25286672],\n",
       "       [0.35774412, 0.64225588],\n",
       "       [0.50150709, 0.49849291],\n",
       "       [0.79818436, 0.20181564],\n",
       "       [0.30925249, 0.69074751],\n",
       "       [0.35465955, 0.64534045],\n",
       "       [0.74170588, 0.25829412],\n",
       "       [0.22139909, 0.77860091],\n",
       "       [0.76017738, 0.23982262],\n",
       "       [0.81758243, 0.18241757],\n",
       "       [0.42014462, 0.57985538],\n",
       "       [0.42014462, 0.57985538],\n",
       "       [0.44711986, 0.55288014],\n",
       "       [0.74319249, 0.25680751],\n",
       "       [0.80774861, 0.19225139],\n",
       "       [0.46557266, 0.53442734],\n",
       "       [0.72826334, 0.27173666],\n",
       "       [0.81902441, 0.18097559],\n",
       "       [0.45803357, 0.54196643],\n",
       "       [0.25239911, 0.74760089],\n",
       "       [0.81301002, 0.18698998],\n",
       "       [0.87807598, 0.12192402],\n",
       "       [0.36779691, 0.63220309],\n",
       "       [0.8000229 , 0.1999771 ],\n",
       "       [0.25723627, 0.74276373],\n",
       "       [0.4633009 , 0.5366991 ],\n",
       "       [0.44605584, 0.55394416],\n",
       "       [0.40278597, 0.59721403],\n",
       "       [0.79693128, 0.20306872],\n",
       "       [0.64980104, 0.35019896],\n",
       "       [0.76216214, 0.23783786],\n",
       "       [0.81385747, 0.18614253],\n",
       "       [0.725109  , 0.274891  ],\n",
       "       [0.42479121, 0.57520879],\n",
       "       [0.45985467, 0.54014533],\n",
       "       [0.74713328, 0.25286672],\n",
       "       [0.73040525, 0.26959475],\n",
       "       [0.81775462, 0.18224538],\n",
       "       [0.46557266, 0.53442734],\n",
       "       [0.40645441, 0.59354559],\n",
       "       [0.45134806, 0.54865194],\n",
       "       [0.36723013, 0.63276987],\n",
       "       [0.39399081, 0.60600919],\n",
       "       [0.75038388, 0.24961612],\n",
       "       [0.25000494, 0.74999506],\n",
       "       [0.417959  , 0.582041  ],\n",
       "       [0.37073868, 0.62926132],\n",
       "       [0.49832297, 0.50167703],\n",
       "       [0.43030875, 0.56969125],\n",
       "       [0.37353776, 0.62646224],\n",
       "       [0.68650876, 0.31349124],\n",
       "       [0.44942181, 0.55057819],\n",
       "       [0.43165122, 0.56834878],\n",
       "       [0.77599961, 0.22400039],\n",
       "       [0.74954484, 0.25045516],\n",
       "       [0.69862634, 0.30137366],\n",
       "       [0.82826822, 0.17173178],\n",
       "       [0.79072174, 0.20927826],\n",
       "       [0.71528724, 0.28471276],\n",
       "       [0.87440931, 0.12559069],\n",
       "       [0.50669044, 0.49330956],\n",
       "       [0.55644884, 0.44355116],\n",
       "       [0.46557266, 0.53442734],\n",
       "       [0.77599961, 0.22400039],\n",
       "       [0.87261319, 0.12738681],\n",
       "       [0.83090532, 0.16909468],\n",
       "       [0.72316681, 0.27683319],\n",
       "       [0.79325007, 0.20674993],\n",
       "       [0.35058807, 0.64941193],\n",
       "       [0.87572172, 0.12427828],\n",
       "       [0.60774266, 0.39225734],\n",
       "       [0.36723013, 0.63276987],\n",
       "       [0.71528724, 0.28471276],\n",
       "       [0.73874038, 0.26125962],\n",
       "       [0.49200887, 0.50799113],\n",
       "       [0.56403639, 0.43596361],\n",
       "       [0.38548168, 0.61451832],\n",
       "       [0.77905379, 0.22094621],\n",
       "       [0.87148877, 0.12851123],\n",
       "       [0.46250312, 0.53749688],\n",
       "       [0.77599961, 0.22400039],\n",
       "       [0.82123228, 0.17876772],\n",
       "       [0.81410476, 0.18589524],\n",
       "       [0.36223172, 0.63776828],\n",
       "       [0.81758243, 0.18241757],\n",
       "       [0.73856046, 0.26143954],\n",
       "       [0.4633009 , 0.5366991 ],\n",
       "       [0.43491983, 0.56508017],\n",
       "       [0.77936508, 0.22063492],\n",
       "       [0.75731672, 0.24268328],\n",
       "       [0.47300987, 0.52699013],\n",
       "       [0.3902154 , 0.6097846 ],\n",
       "       [0.82074069, 0.17925931],\n",
       "       [0.55644884, 0.44355116],\n",
       "       [0.36723013, 0.63276987],\n",
       "       [0.69585988, 0.30414012],\n",
       "       [0.59471419, 0.40528581],\n",
       "       [0.75339663, 0.24660337],\n",
       "       [0.75195466, 0.24804534],\n",
       "       [0.78557326, 0.21442674],\n",
       "       [0.72826334, 0.27173666],\n",
       "       [0.45507187, 0.54492813],\n",
       "       [0.44872755, 0.55127245],\n",
       "       [0.64820043, 0.35179957],\n",
       "       [0.72559374, 0.27440626],\n",
       "       [0.87114782, 0.12885218],\n",
       "       [0.56293419, 0.43706581],\n",
       "       [0.42839337, 0.57160663],\n",
       "       [0.81775462, 0.18224538],\n",
       "       [0.48528052, 0.51471948],\n",
       "       [0.81385747, 0.18614253],\n",
       "       [0.82123228, 0.17876772],\n",
       "       [0.76119863, 0.23880137],\n",
       "       [0.70079914, 0.29920086],\n",
       "       [0.36832434, 0.63167566],\n",
       "       [0.42014462, 0.57985538],\n",
       "       [0.74769115, 0.25230885],\n",
       "       [0.76147661, 0.23852339],\n",
       "       [0.46557266, 0.53442734],\n",
       "       [0.87350208, 0.12649792],\n",
       "       [0.7406443 , 0.2593557 ],\n",
       "       [0.81775462, 0.18224538],\n",
       "       [0.82843593, 0.17156407],\n",
       "       [0.36483521, 0.63516479],\n",
       "       [0.87261319, 0.12738681],\n",
       "       [0.86403722, 0.13596278],\n",
       "       [0.36912455, 0.63087545],\n",
       "       [0.78623993, 0.21376007],\n",
       "       [0.75662251, 0.24337749],\n",
       "       [0.70489255, 0.29510745],\n",
       "       [0.57117606, 0.42882394],\n",
       "       [0.75195466, 0.24804534],\n",
       "       [0.81758243, 0.18241757],\n",
       "       [0.71726733, 0.28273267],\n",
       "       [0.78557326, 0.21442674],\n",
       "       [0.46084405, 0.53915595],\n",
       "       [0.70597771, 0.29402229],\n",
       "       [0.82123228, 0.17876772],\n",
       "       [0.45701886, 0.54298114],\n",
       "       [0.725109  , 0.274891  ],\n",
       "       [0.82074069, 0.17925931],\n",
       "       [0.81775462, 0.18224538],\n",
       "       [0.57199344, 0.42800656],\n",
       "       [0.55618529, 0.44381471],\n",
       "       [0.384185  , 0.615815  ],\n",
       "       [0.87640931, 0.12359069],\n",
       "       [0.36483521, 0.63516479],\n",
       "       [0.79756158, 0.20243842],\n",
       "       [0.80928303, 0.19071697],\n",
       "       [0.45073749, 0.54926251],\n",
       "       [0.81537074, 0.18462926],\n",
       "       [0.46557266, 0.53442734],\n",
       "       [0.81554674, 0.18445326],\n",
       "       [0.35465955, 0.64534045],\n",
       "       [0.77145779, 0.22854221],\n",
       "       [0.72392237, 0.27607763],\n",
       "       [0.74915708, 0.25084292],\n",
       "       [0.32875677, 0.67124323],\n",
       "       [0.36723013, 0.63276987],\n",
       "       [0.69793247, 0.30206753],\n",
       "       [0.55618529, 0.44381471],\n",
       "       [0.74857526, 0.25142474],\n",
       "       [0.73856046, 0.26143954],\n",
       "       [0.40480546, 0.59519454],\n",
       "       [0.87572172, 0.12427828],\n",
       "       [0.45929062, 0.54070938],\n",
       "       [0.79620419, 0.20379581],\n",
       "       [0.81385747, 0.18614253],\n",
       "       [0.76017738, 0.23982262],\n",
       "       [0.7275038 , 0.2724962 ],\n",
       "       [0.73407221, 0.26592779],\n",
       "       [0.36233502, 0.63766498],\n",
       "       [0.87521373, 0.12478627],\n",
       "       [0.36723013, 0.63276987],\n",
       "       [0.72826334, 0.27173666],\n",
       "       [0.82108875, 0.17891125],\n",
       "       [0.73928361, 0.26071639],\n",
       "       [0.81775462, 0.18224538],\n",
       "       [0.81775462, 0.18224538],\n",
       "       [0.81410476, 0.18589524],\n",
       "       [0.81410476, 0.18589524],\n",
       "       [0.35854433, 0.64145567],\n",
       "       [0.72751636, 0.27248364],\n",
       "       [0.73856046, 0.26143954],\n",
       "       [0.7406443 , 0.2593557 ],\n",
       "       [0.42517326, 0.57482674],\n",
       "       [0.46459567, 0.53540433],\n",
       "       [0.46978902, 0.53021098],\n",
       "       [0.3353402 , 0.6646598 ],\n",
       "       [0.81902441, 0.18097559],\n",
       "       [0.80563317, 0.19436683],\n",
       "       [0.50722508, 0.49277492],\n",
       "       [0.81775462, 0.18224538],\n",
       "       [0.87521373, 0.12478627],\n",
       "       [0.35466939, 0.64533061],\n",
       "       [0.41790185, 0.58209815],\n",
       "       [0.51383606, 0.48616394],\n",
       "       [0.76024858, 0.23975142],\n",
       "       [0.73585344, 0.26414656],\n",
       "       [0.52413091, 0.47586909],\n",
       "       [0.79962633, 0.20037367],\n",
       "       [0.78595945, 0.21404055],\n",
       "       [0.87718709, 0.12281291],\n",
       "       [0.73856046, 0.26143954],\n",
       "       [0.81410476, 0.18589524],\n",
       "       [0.50459889, 0.49540111],\n",
       "       [0.39206172, 0.60793828],\n",
       "       [0.82123228, 0.17876772],\n",
       "       [0.47782788, 0.52217212],\n",
       "       [0.73911505, 0.26088495],\n",
       "       [0.55644884, 0.44355116],\n",
       "       [0.77966109, 0.22033891],\n",
       "       [0.81629709, 0.18370291],\n",
       "       [0.74144935, 0.25855065],\n",
       "       [0.69349182, 0.30650818],\n",
       "       [0.74596341, 0.25403659],\n",
       "       [0.82123228, 0.17876772],\n",
       "       [0.35575376, 0.64424624],\n",
       "       [0.41884795, 0.58115205],\n",
       "       [0.87521373, 0.12478627],\n",
       "       [0.74290704, 0.25709296],\n",
       "       [0.78199184, 0.21800816],\n",
       "       [0.32783978, 0.67216022],\n",
       "       [0.41994216, 0.58005784],\n",
       "       [0.74815453, 0.25184547],\n",
       "       [0.39354873, 0.60645127],\n",
       "       [0.36224559, 0.63775441],\n",
       "       [0.46557266, 0.53442734],\n",
       "       [0.42407905, 0.57592095],\n",
       "       [0.55618529, 0.44381471],\n",
       "       [0.81629709, 0.18370291],\n",
       "       [0.23878354, 0.76121646],\n",
       "       [0.73856046, 0.26143954],\n",
       "       [0.35534919, 0.64465081],\n",
       "       [0.35465955, 0.64534045],\n",
       "       [0.76216214, 0.23783786],\n",
       "       [0.6967853 , 0.3032147 ],\n",
       "       [0.65202558, 0.34797442],\n",
       "       [0.60377345, 0.39622655],\n",
       "       [0.73891112, 0.26108888],\n",
       "       [0.60659698, 0.39340302],\n",
       "       [0.48528052, 0.51471948],\n",
       "       [0.72751636, 0.27248364],\n",
       "       [0.41068759, 0.58931241],\n",
       "       [0.66286874, 0.33713126],\n",
       "       [0.76119863, 0.23880137],\n",
       "       [0.42517326, 0.57482674],\n",
       "       [0.39508503, 0.60491497],\n",
       "       [0.42317867, 0.57682133],\n",
       "       [0.53392512, 0.46607488],\n",
       "       [0.33476101, 0.66523899],\n",
       "       [0.52950727, 0.47049273],\n",
       "       [0.78063673, 0.21936327],\n",
       "       [0.37768744, 0.62231256],\n",
       "       [0.45132493, 0.54867507],\n",
       "       [0.35831089, 0.64168911],\n",
       "       [0.41482904, 0.58517096],\n",
       "       [0.64650756, 0.35349244],\n",
       "       [0.74596341, 0.25403659],\n",
       "       [0.25000494, 0.74999506],\n",
       "       [0.82481371, 0.17518629],\n",
       "       [0.72828034, 0.27171966],\n",
       "       [0.45985467, 0.54014533],\n",
       "       [0.64892204, 0.35107796],\n",
       "       [0.74683824, 0.25316176],\n",
       "       [0.32875677, 0.67124323],\n",
       "       [0.55618529, 0.44381471],\n",
       "       [0.86817936, 0.13182064],\n",
       "       [0.70504914, 0.29495086],\n",
       "       [0.35831089, 0.64168911],\n",
       "       [0.55644884, 0.44355116],\n",
       "       [0.72895834, 0.27104166],\n",
       "       [0.73579414, 0.26420586],\n",
       "       [0.44942181, 0.55057819],\n",
       "       [0.73502011, 0.26497989],\n",
       "       [0.74769115, 0.25230885],\n",
       "       [0.4715979 , 0.5284021 ],\n",
       "       [0.45758291, 0.54241709],\n",
       "       [0.36723013, 0.63276987],\n",
       "       [0.77975501, 0.22024499],\n",
       "       [0.23116898, 0.76883102],\n",
       "       [0.47782788, 0.52217212],\n",
       "       [0.61264863, 0.38735137],\n",
       "       [0.75359427, 0.24640573],\n",
       "       [0.40358619, 0.59641381],\n",
       "       [0.75610565, 0.24389435],\n",
       "       [0.76119863, 0.23880137],\n",
       "       [0.73611298, 0.26388702],\n",
       "       [0.37240738, 0.62759262],\n",
       "       [0.60659698, 0.39340302],\n",
       "       [0.76154929, 0.23845071],\n",
       "       [0.55644884, 0.44355116],\n",
       "       [0.4633009 , 0.5366991 ],\n",
       "       [0.55644884, 0.44355116],\n",
       "       [0.40039105, 0.59960895],\n",
       "       [0.75339663, 0.24660337],\n",
       "       [0.25808741, 0.74191259],\n",
       "       [0.87350208, 0.12649792],\n",
       "       [0.74815453, 0.25184547],\n",
       "       [0.70334225, 0.29665775],\n",
       "       [0.78451747, 0.21548253],\n",
       "       [0.43169548, 0.56830452],\n",
       "       [0.71208876, 0.28791124],\n",
       "       [0.3896668 , 0.6103332 ],\n",
       "       [0.60383342, 0.39616658],\n",
       "       [0.78497791, 0.21502209],\n",
       "       [0.53947779, 0.46052221],\n",
       "       [0.75731672, 0.24268328],\n",
       "       [0.44711986, 0.55288014],\n",
       "       [0.70741969, 0.29258031],\n",
       "       [0.54134178, 0.45865822],\n",
       "       [0.79667269, 0.20332731],\n",
       "       [0.76897532, 0.23102468],\n",
       "       [0.78362859, 0.21637141],\n",
       "       [0.36592942, 0.63407058],\n",
       "       [0.55644884, 0.44355116],\n",
       "       [0.35799289, 0.64200711],\n",
       "       [0.74915708, 0.25084292],\n",
       "       [0.2756499 , 0.7243501 ],\n",
       "       [0.45440379, 0.54559621],\n",
       "       [0.53154758, 0.46845242],\n",
       "       [0.77803255, 0.22196745],\n",
       "       [0.68650876, 0.31349124],\n",
       "       [0.26799735, 0.73200265],\n",
       "       [0.7136859 , 0.2863141 ],\n",
       "       [0.45210613, 0.54789387],\n",
       "       [0.80716266, 0.19283734],\n",
       "       [0.45300924, 0.54699076],\n",
       "       [0.75359427, 0.24640573],\n",
       "       [0.67510252, 0.32489748],\n",
       "       [0.82123228, 0.17876772],\n",
       "       [0.72392237, 0.27607763],\n",
       "       [0.74319249, 0.25680751],\n",
       "       [0.6646831 , 0.3353169 ],\n",
       "       [0.70887804, 0.29112196],\n",
       "       [0.55618529, 0.44381471],\n",
       "       [0.80928303, 0.19071697],\n",
       "       [0.79818436, 0.20181564],\n",
       "       [0.34208552, 0.65791448],\n",
       "       [0.78363161, 0.21636839],\n",
       "       [0.82123228, 0.17876772],\n",
       "       [0.81629709, 0.18370291],\n",
       "       [0.87346944, 0.12653056],\n",
       "       [0.55618529, 0.44381471],\n",
       "       [0.76017738, 0.23982262],\n",
       "       [0.74192895, 0.25807105],\n",
       "       [0.7273709 , 0.2726291 ],\n",
       "       [0.72826334, 0.27173666],\n",
       "       [0.41884795, 0.58115205],\n",
       "       [0.74596341, 0.25403659],\n",
       "       [0.34517354, 0.65482646],\n",
       "       [0.35575376, 0.64424624],\n",
       "       [0.79756158, 0.20243842],\n",
       "       [0.46557266, 0.53442734],\n",
       "       [0.64239523, 0.35760477],\n",
       "       [0.42517326, 0.57482674],\n",
       "       [0.722859  , 0.277141  ],\n",
       "       [0.36832434, 0.63167566],\n",
       "       [0.79886584, 0.20113416],\n",
       "       [0.55644884, 0.44355116],\n",
       "       [0.78970071, 0.21029929],\n",
       "       [0.83032115, 0.16967885],\n",
       "       [0.55644884, 0.44355116],\n",
       "       [0.44872755, 0.55127245],\n",
       "       [0.84178473, 0.15821527],\n",
       "       [0.35439878, 0.64560122],\n",
       "       [0.29660782, 0.70339218],\n",
       "       [0.70597771, 0.29402229],\n",
       "       [0.44290871, 0.55709129],\n",
       "       [0.76132669, 0.23867331],\n",
       "       [0.55618529, 0.44381471],\n",
       "       [0.74713328, 0.25286672],\n",
       "       [0.52413091, 0.47586909],\n",
       "       [0.75968708, 0.24031292],\n",
       "       [0.75774526, 0.24225474],\n",
       "       [0.76119863, 0.23880137],\n",
       "       [0.54369612, 0.45630388],\n",
       "       [0.50856472, 0.49143528],\n",
       "       [0.34677707, 0.65322293],\n",
       "       [0.81902441, 0.18097559],\n",
       "       [0.355199  , 0.644801  ],\n",
       "       [0.25371746, 0.74628254],\n",
       "       [0.34517354, 0.65482646],\n",
       "       [0.34906481, 0.65093519],\n",
       "       [0.87114782, 0.12885218],\n",
       "       [0.35914773, 0.64085227],\n",
       "       [0.77714028, 0.22285972],\n",
       "       [0.74713328, 0.25286672],\n",
       "       [0.81775462, 0.18224538],\n",
       "       [0.7136859 , 0.2863141 ],\n",
       "       [0.4696439 , 0.5303561 ],\n",
       "       [0.57338097, 0.42661903],\n",
       "       [0.34906481, 0.65093519],\n",
       "       [0.82481371, 0.17518629],\n",
       "       [0.82471097, 0.17528903],\n",
       "       [0.87405505, 0.12594495],\n",
       "       [0.74290704, 0.25709296],\n",
       "       [0.81557277, 0.18442723]])"
      ]
     },
     "execution_count": 281,
     "metadata": {},
     "output_type": "execute_result"
    }
   ],
   "source": [
    "y_pred_proba"
   ]
  },
  {
   "cell_type": "code",
   "execution_count": 282,
   "metadata": {},
   "outputs": [],
   "source": [
    "##Compute the Accuracy"
   ]
  },
  {
   "cell_type": "code",
   "execution_count": 283,
   "metadata": {},
   "outputs": [
    {
     "name": "stdout",
     "output_type": "stream",
     "text": [
      "Accuracy of random forest classifier on training set: 0.73\n"
     ]
    }
   ],
   "source": [
    "print('Accuracy of random forest classifier on training set: {:.2f}'\n",
    "     .format(rf.score(X_train, y_train)))"
   ]
  },
  {
   "cell_type": "code",
   "execution_count": 284,
   "metadata": {},
   "outputs": [],
   "source": [
    "##Create a Confusion Matrix"
   ]
  },
  {
   "cell_type": "code",
   "execution_count": 289,
   "metadata": {},
   "outputs": [
    {
     "name": "stdout",
     "output_type": "stream",
     "text": [
      "[[251  56]\n",
      " [ 78 113]]\n"
     ]
    }
   ],
   "source": [
    "print(confusion_matrix(y_train, y_pred))\n"
   ]
  },
  {
   "cell_type": "code",
   "execution_count": 290,
   "metadata": {},
   "outputs": [],
   "source": [
    "##Create a Classification Report"
   ]
  },
  {
   "cell_type": "code",
   "execution_count": 291,
   "metadata": {},
   "outputs": [
    {
     "name": "stdout",
     "output_type": "stream",
     "text": [
      "              precision    recall  f1-score   support\n",
      "\n",
      "           0       0.76      0.82      0.79       307\n",
      "           1       0.67      0.59      0.63       191\n",
      "\n",
      "    accuracy                           0.73       498\n",
      "   macro avg       0.72      0.70      0.71       498\n",
      "weighted avg       0.73      0.73      0.73       498\n",
      "\n"
     ]
    }
   ],
   "source": [
    "print(classification_report(y_train, y_pred))\n"
   ]
  },
  {
   "cell_type": "code",
   "execution_count": 293,
   "metadata": {},
   "outputs": [],
   "source": [
    "## Find Accuracy of Validate Set"
   ]
  },
  {
   "cell_type": "code",
   "execution_count": 292,
   "metadata": {},
   "outputs": [
    {
     "name": "stdout",
     "output_type": "stream",
     "text": [
      "Accuracy of random forest classifier on validate set: 0.71\n"
     ]
    }
   ],
   "source": [
    "print('Accuracy of random forest classifier on validate set: {:.2f}'\n",
    "     .format(rf.score(X_validate, y_validate)))\n"
   ]
  },
  {
   "cell_type": "code",
   "execution_count": 294,
   "metadata": {},
   "outputs": [],
   "source": [
    "## Accuracy of train set is close to validate set"
   ]
  },
  {
   "cell_type": "code",
   "execution_count": 295,
   "metadata": {},
   "outputs": [],
   "source": [
    "## Find Accuracy of Test Set"
   ]
  },
  {
   "cell_type": "code",
   "execution_count": 296,
   "metadata": {},
   "outputs": [
    {
     "name": "stdout",
     "output_type": "stream",
     "text": [
      "Accuracy of random forest classifier on test set: 0.73\n"
     ]
    }
   ],
   "source": [
    "print('Accuracy of random forest classifier on test set: {:.2f}'\n",
    "     .format(rf.score(X_test, y_test)))"
   ]
  },
  {
   "cell_type": "code",
   "execution_count": 297,
   "metadata": {},
   "outputs": [],
   "source": [
    "rf = RandomForestClassifier(bootstrap=True, \n",
    "                            class_weight=None, \n",
    "                            criterion='gini',\n",
    "                            min_samples_leaf=3,\n",
    "                            n_estimators=100,\n",
    "                            max_depth=3, \n",
    "                            random_state=123)"
   ]
  },
  {
   "cell_type": "code",
   "execution_count": 298,
   "metadata": {},
   "outputs": [
    {
     "data": {
      "text/plain": [
       "RandomForestClassifier(bootstrap=True, ccp_alpha=0.0, class_weight=None,\n",
       "                       criterion='gini', max_depth=3, max_features='auto',\n",
       "                       max_leaf_nodes=None, max_samples=None,\n",
       "                       min_impurity_decrease=0.0, min_impurity_split=None,\n",
       "                       min_samples_leaf=3, min_samples_split=2,\n",
       "                       min_weight_fraction_leaf=0.0, n_estimators=100,\n",
       "                       n_jobs=None, oob_score=False, random_state=123,\n",
       "                       verbose=0, warm_start=False)"
      ]
     },
     "execution_count": 298,
     "metadata": {},
     "output_type": "execute_result"
    }
   ],
   "source": [
    "rf.fit(X_train, y_train)"
   ]
  },
  {
   "cell_type": "code",
   "execution_count": 300,
   "metadata": {},
   "outputs": [],
   "source": [
    "###Setting hyperparameters with max-depth of 20 and min-samples-leaf of 1"
   ]
  },
  {
   "cell_type": "code",
   "execution_count": 299,
   "metadata": {},
   "outputs": [
    {
     "data": {
      "text/plain": [
       "RandomForestClassifier(bootstrap=True, ccp_alpha=0.0, class_weight=None,\n",
       "                       criterion='gini', max_depth=20, max_features='auto',\n",
       "                       max_leaf_nodes=None, max_samples=None,\n",
       "                       min_impurity_decrease=0.0, min_impurity_split=None,\n",
       "                       min_samples_leaf=1, min_samples_split=2,\n",
       "                       min_weight_fraction_leaf=0.0, n_estimators=100,\n",
       "                       n_jobs=None, oob_score=False, random_state=123,\n",
       "                       verbose=0, warm_start=False)"
      ]
     },
     "execution_count": 299,
     "metadata": {},
     "output_type": "execute_result"
    }
   ],
   "source": [
    "RandomForestClassifier(max_depth=20, min_samples_leaf=1, random_state=123)\n"
   ]
  },
  {
   "cell_type": "code",
   "execution_count": 301,
   "metadata": {},
   "outputs": [
    {
     "name": "stdout",
     "output_type": "stream",
     "text": [
      "[0.21150977 0.21640522 0.33616296 0.0180178  0.21790425]\n"
     ]
    }
   ],
   "source": [
    "print(rf.feature_importances_)\n"
   ]
  },
  {
   "cell_type": "code",
   "execution_count": 302,
   "metadata": {},
   "outputs": [],
   "source": [
    "y_pred = rf.predict(X_train)\n"
   ]
  },
  {
   "cell_type": "code",
   "execution_count": 303,
   "metadata": {},
   "outputs": [],
   "source": [
    "y_pred_proba = rf.predict_proba(X_train)\n"
   ]
  },
  {
   "cell_type": "code",
   "execution_count": 304,
   "metadata": {},
   "outputs": [
    {
     "name": "stdout",
     "output_type": "stream",
     "text": [
      "Accuracy of random forest classifier on training set: 0.73\n"
     ]
    }
   ],
   "source": [
    "print('Accuracy of random forest classifier on training set: {:.2f}'\n",
    "     .format(rf.score(X_train, y_train)))"
   ]
  },
  {
   "cell_type": "code",
   "execution_count": 305,
   "metadata": {},
   "outputs": [
    {
     "name": "stdout",
     "output_type": "stream",
     "text": [
      "              precision    recall  f1-score   support\n",
      "\n",
      "           0       0.76      0.82      0.79       307\n",
      "           1       0.67      0.59      0.63       191\n",
      "\n",
      "    accuracy                           0.73       498\n",
      "   macro avg       0.72      0.70      0.71       498\n",
      "weighted avg       0.73      0.73      0.73       498\n",
      "\n"
     ]
    }
   ],
   "source": [
    "print(classification_report(y_train, y_pred))\n"
   ]
  },
  {
   "cell_type": "code",
   "execution_count": 306,
   "metadata": {},
   "outputs": [
    {
     "name": "stdout",
     "output_type": "stream",
     "text": [
      "Accuracy of random forest classifier on validate set: 0.71\n"
     ]
    }
   ],
   "source": [
    "print('Accuracy of random forest classifier on validate set: {:.2f}'\n",
    "     .format(rf.score(X_validate, y_validate)))"
   ]
  },
  {
   "cell_type": "code",
   "execution_count": 307,
   "metadata": {},
   "outputs": [
    {
     "name": "stdout",
     "output_type": "stream",
     "text": [
      "Accuracy of random forest classifier on test set: 0.73\n"
     ]
    }
   ],
   "source": [
    "print('Accuracy of random forest classifier on test set: {:.2f}'\n",
    "     .format(rf.score(X_test, y_test)))"
   ]
  },
  {
   "cell_type": "code",
   "execution_count": 308,
   "metadata": {},
   "outputs": [],
   "source": [
    "### Accuracy is comparable across train, validate, test"
   ]
  },
  {
   "cell_type": "markdown",
   "metadata": {},
   "source": [
    "Run through steps increasing your min_samples_leaf to 5 and decreasing your max_depth to 3."
   ]
  },
  {
   "cell_type": "code",
   "execution_count": 309,
   "metadata": {},
   "outputs": [],
   "source": [
    "rf = RandomForestClassifier(bootstrap=True, \n",
    "                            class_weight=None, \n",
    "                            criterion='gini',\n",
    "                            min_samples_leaf=5,\n",
    "                            n_estimators=100,\n",
    "                            max_depth=3, \n",
    "                            random_state=123)"
   ]
  },
  {
   "cell_type": "code",
   "execution_count": 310,
   "metadata": {},
   "outputs": [
    {
     "data": {
      "text/plain": [
       "RandomForestClassifier(bootstrap=True, ccp_alpha=0.0, class_weight=None,\n",
       "                       criterion='gini', max_depth=3, max_features='auto',\n",
       "                       max_leaf_nodes=None, max_samples=None,\n",
       "                       min_impurity_decrease=0.0, min_impurity_split=None,\n",
       "                       min_samples_leaf=5, min_samples_split=2,\n",
       "                       min_weight_fraction_leaf=0.0, n_estimators=100,\n",
       "                       n_jobs=None, oob_score=False, random_state=123,\n",
       "                       verbose=0, warm_start=False)"
      ]
     },
     "execution_count": 310,
     "metadata": {},
     "output_type": "execute_result"
    }
   ],
   "source": [
    "rf.fit(X_train, y_train)"
   ]
  },
  {
   "cell_type": "code",
   "execution_count": 311,
   "metadata": {},
   "outputs": [
    {
     "name": "stdout",
     "output_type": "stream",
     "text": [
      "[0.21439708 0.20500168 0.34326661 0.01746984 0.21986479]\n"
     ]
    }
   ],
   "source": [
    "print(rf.feature_importances_)"
   ]
  },
  {
   "cell_type": "code",
   "execution_count": 312,
   "metadata": {},
   "outputs": [],
   "source": [
    "y_pred = rf.predict(X_train)\n"
   ]
  },
  {
   "cell_type": "code",
   "execution_count": 313,
   "metadata": {},
   "outputs": [],
   "source": [
    "y_pred_proba = rf.predict_proba(X_train)\n"
   ]
  },
  {
   "cell_type": "code",
   "execution_count": 314,
   "metadata": {},
   "outputs": [
    {
     "name": "stdout",
     "output_type": "stream",
     "text": [
      "Accuracy of random forest classifier on training set: 0.73\n"
     ]
    }
   ],
   "source": [
    "print('Accuracy of random forest classifier on training set: {:.2f}'\n",
    "     .format(rf.score(X_train, y_train)))"
   ]
  },
  {
   "cell_type": "code",
   "execution_count": 315,
   "metadata": {},
   "outputs": [
    {
     "name": "stdout",
     "output_type": "stream",
     "text": [
      "Accuracy of random forest classifier on test set: 0.72\n"
     ]
    }
   ],
   "source": [
    "print('Accuracy of random forest classifier on test set: {:.2f}'\n",
    "     .format(rf.score(X_test, y_test)))"
   ]
  },
  {
   "cell_type": "code",
   "execution_count": 316,
   "metadata": {},
   "outputs": [],
   "source": [
    "##Accuracy is very similar again"
   ]
  },
  {
   "cell_type": "code",
   "execution_count": 317,
   "metadata": {},
   "outputs": [],
   "source": [
    "rf = RandomForestClassifier(bootstrap=True, \n",
    "                            class_weight=None, \n",
    "                            criterion='gini',\n",
    "                            min_samples_leaf=1,\n",
    "                            n_estimators=100,\n",
    "                            max_depth=20, \n",
    "                            random_state=123)"
   ]
  },
  {
   "cell_type": "code",
   "execution_count": 318,
   "metadata": {},
   "outputs": [
    {
     "data": {
      "text/plain": [
       "RandomForestClassifier(bootstrap=True, ccp_alpha=0.0, class_weight=None,\n",
       "                       criterion='gini', max_depth=20, max_features='auto',\n",
       "                       max_leaf_nodes=None, max_samples=None,\n",
       "                       min_impurity_decrease=0.0, min_impurity_split=None,\n",
       "                       min_samples_leaf=1, min_samples_split=2,\n",
       "                       min_weight_fraction_leaf=0.0, n_estimators=100,\n",
       "                       n_jobs=None, oob_score=False, random_state=123,\n",
       "                       verbose=0, warm_start=False)"
      ]
     },
     "execution_count": 318,
     "metadata": {},
     "output_type": "execute_result"
    }
   ],
   "source": [
    "rf.fit(X_train, y_train)"
   ]
  },
  {
   "cell_type": "code",
   "execution_count": 319,
   "metadata": {},
   "outputs": [
    {
     "name": "stdout",
     "output_type": "stream",
     "text": [
      "[0.04882404 0.42643042 0.46889124 0.00708409 0.0487702 ]\n"
     ]
    }
   ],
   "source": [
    "print(rf.feature_importances_)"
   ]
  },
  {
   "cell_type": "code",
   "execution_count": 320,
   "metadata": {},
   "outputs": [],
   "source": [
    "y_pred = rf.predict(X_train)\n"
   ]
  },
  {
   "cell_type": "code",
   "execution_count": 321,
   "metadata": {},
   "outputs": [],
   "source": [
    "y_pred_proba = rf.predict_proba(X_train)\n"
   ]
  },
  {
   "cell_type": "code",
   "execution_count": 322,
   "metadata": {},
   "outputs": [
    {
     "name": "stdout",
     "output_type": "stream",
     "text": [
      "Accuracy of random forest classifier on training set: 0.97\n"
     ]
    }
   ],
   "source": [
    "print('Accuracy of random forest classifier on training set: {:.2f}'\n",
    "     .format(rf.score(X_train, y_train)))"
   ]
  },
  {
   "cell_type": "code",
   "execution_count": 323,
   "metadata": {},
   "outputs": [
    {
     "name": "stdout",
     "output_type": "stream",
     "text": [
      "Accuracy of random forest classifier on test set: 0.67\n"
     ]
    }
   ],
   "source": [
    "print('Accuracy of random forest classifier on test set: {:.2f}'\n",
    "     .format(rf.score(X_test, y_test)))"
   ]
  },
  {
   "cell_type": "code",
   "execution_count": 324,
   "metadata": {},
   "outputs": [],
   "source": [
    "###The lower min leaf sample and larger max depth creates a higher accuracy on the training model and lower accuracy on the test data compared to the min leaf sample of 5 and max depth of 3, which are more similar in their accuray"
   ]
  },
  {
   "cell_type": "code",
   "execution_count": null,
   "metadata": {},
   "outputs": [],
   "source": []
  },
  {
   "cell_type": "code",
   "execution_count": 325,
   "metadata": {},
   "outputs": [],
   "source": [
    "####### KNN ####"
   ]
  },
  {
   "cell_type": "markdown",
   "metadata": {},
   "source": [
    "Fit a K-Nearest Neighbors classifier to your training sample and transform (i.e. make predictions on the training sample)"
   ]
  },
  {
   "cell_type": "code",
   "execution_count": 326,
   "metadata": {
    "scrolled": false
   },
   "outputs": [
    {
     "data": {
      "text/html": [
       "<div>\n",
       "<style scoped>\n",
       "    .dataframe tbody tr th:only-of-type {\n",
       "        vertical-align: middle;\n",
       "    }\n",
       "\n",
       "    .dataframe tbody tr th {\n",
       "        vertical-align: top;\n",
       "    }\n",
       "\n",
       "    .dataframe thead th {\n",
       "        text-align: right;\n",
       "    }\n",
       "</style>\n",
       "<table border=\"1\" class=\"dataframe\">\n",
       "  <thead>\n",
       "    <tr style=\"text-align: right;\">\n",
       "      <th></th>\n",
       "      <th>pclass</th>\n",
       "      <th>age</th>\n",
       "      <th>fare</th>\n",
       "      <th>2</th>\n",
       "      <th>3</th>\n",
       "    </tr>\n",
       "  </thead>\n",
       "  <tbody>\n",
       "    <tr>\n",
       "      <th>583</th>\n",
       "      <td>1</td>\n",
       "      <td>36.000000</td>\n",
       "      <td>40.1250</td>\n",
       "      <td>0</td>\n",
       "      <td>0</td>\n",
       "    </tr>\n",
       "    <tr>\n",
       "      <th>165</th>\n",
       "      <td>3</td>\n",
       "      <td>9.000000</td>\n",
       "      <td>20.5250</td>\n",
       "      <td>0</td>\n",
       "      <td>1</td>\n",
       "    </tr>\n",
       "    <tr>\n",
       "      <th>50</th>\n",
       "      <td>3</td>\n",
       "      <td>7.000000</td>\n",
       "      <td>39.6875</td>\n",
       "      <td>0</td>\n",
       "      <td>1</td>\n",
       "    </tr>\n",
       "    <tr>\n",
       "      <th>259</th>\n",
       "      <td>2</td>\n",
       "      <td>50.000000</td>\n",
       "      <td>26.0000</td>\n",
       "      <td>1</td>\n",
       "      <td>0</td>\n",
       "    </tr>\n",
       "    <tr>\n",
       "      <th>306</th>\n",
       "      <td>1</td>\n",
       "      <td>29.678105</td>\n",
       "      <td>110.8833</td>\n",
       "      <td>0</td>\n",
       "      <td>0</td>\n",
       "    </tr>\n",
       "  </tbody>\n",
       "</table>\n",
       "</div>"
      ],
      "text/plain": [
       "     pclass        age      fare  2  3\n",
       "583       1  36.000000   40.1250  0  0\n",
       "165       3   9.000000   20.5250  0  1\n",
       "50        3   7.000000   39.6875  0  1\n",
       "259       2  50.000000   26.0000  1  0\n",
       "306       1  29.678105  110.8833  0  0"
      ]
     },
     "execution_count": 326,
     "metadata": {},
     "output_type": "execute_result"
    }
   ],
   "source": [
    "X_train.head()"
   ]
  },
  {
   "cell_type": "code",
   "execution_count": 329,
   "metadata": {},
   "outputs": [],
   "source": [
    "from sklearn.neighbors import KNeighborsClassifier\n"
   ]
  },
  {
   "cell_type": "code",
   "execution_count": 330,
   "metadata": {},
   "outputs": [],
   "source": [
    "##Create KNN object"
   ]
  },
  {
   "cell_type": "code",
   "execution_count": 331,
   "metadata": {},
   "outputs": [],
   "source": [
    "knn = KNeighborsClassifier(n_neighbors=5, weights='uniform')\n"
   ]
  },
  {
   "cell_type": "code",
   "execution_count": 332,
   "metadata": {},
   "outputs": [],
   "source": [
    "##Fit the model to the training data"
   ]
  },
  {
   "cell_type": "code",
   "execution_count": 333,
   "metadata": {},
   "outputs": [
    {
     "data": {
      "text/plain": [
       "KNeighborsClassifier(algorithm='auto', leaf_size=30, metric='minkowski',\n",
       "                     metric_params=None, n_jobs=None, n_neighbors=5, p=2,\n",
       "                     weights='uniform')"
      ]
     },
     "execution_count": 333,
     "metadata": {},
     "output_type": "execute_result"
    }
   ],
   "source": [
    "knn.fit(X_train, y_train)\n"
   ]
  },
  {
   "cell_type": "code",
   "execution_count": 334,
   "metadata": {},
   "outputs": [],
   "source": [
    "##Estimate whether the passenger will survive"
   ]
  },
  {
   "cell_type": "code",
   "execution_count": 335,
   "metadata": {},
   "outputs": [],
   "source": [
    "y_pred = knn.predict(X_train)\n"
   ]
  },
  {
   "cell_type": "code",
   "execution_count": 336,
   "metadata": {},
   "outputs": [],
   "source": [
    "##Estimate the probability of survival"
   ]
  },
  {
   "cell_type": "code",
   "execution_count": 337,
   "metadata": {},
   "outputs": [],
   "source": [
    "y_pred_proba = knn.predict_proba(X_train)\n"
   ]
  },
  {
   "cell_type": "code",
   "execution_count": 338,
   "metadata": {},
   "outputs": [],
   "source": [
    "#Compute the Accuracy"
   ]
  },
  {
   "cell_type": "code",
   "execution_count": 339,
   "metadata": {},
   "outputs": [
    {
     "name": "stdout",
     "output_type": "stream",
     "text": [
      "Accuracy of KNN classifier on training set: 0.76\n"
     ]
    }
   ],
   "source": [
    "print('Accuracy of KNN classifier on training set: {:.2f}'\n",
    "     .format(knn.score(X_train, y_train)))"
   ]
  },
  {
   "cell_type": "code",
   "execution_count": 340,
   "metadata": {},
   "outputs": [],
   "source": [
    "##Create a Confusion Matrix"
   ]
  },
  {
   "cell_type": "code",
   "execution_count": 341,
   "metadata": {},
   "outputs": [
    {
     "name": "stdout",
     "output_type": "stream",
     "text": [
      "[[257  50]\n",
      " [ 68 123]]\n"
     ]
    }
   ],
   "source": [
    "print(confusion_matrix(y_train, y_pred))\n"
   ]
  },
  {
   "cell_type": "code",
   "execution_count": 342,
   "metadata": {},
   "outputs": [],
   "source": [
    "#Create Classification Report"
   ]
  },
  {
   "cell_type": "code",
   "execution_count": 343,
   "metadata": {},
   "outputs": [
    {
     "name": "stdout",
     "output_type": "stream",
     "text": [
      "              precision    recall  f1-score   support\n",
      "\n",
      "           0       0.79      0.84      0.81       307\n",
      "           1       0.71      0.64      0.68       191\n",
      "\n",
      "    accuracy                           0.76       498\n",
      "   macro avg       0.75      0.74      0.74       498\n",
      "weighted avg       0.76      0.76      0.76       498\n",
      "\n"
     ]
    }
   ],
   "source": [
    "print(classification_report(y_train, y_pred))\n"
   ]
  },
  {
   "cell_type": "code",
   "execution_count": 344,
   "metadata": {},
   "outputs": [],
   "source": [
    "##Run it on validate and test data"
   ]
  },
  {
   "cell_type": "code",
   "execution_count": 345,
   "metadata": {},
   "outputs": [
    {
     "name": "stdout",
     "output_type": "stream",
     "text": [
      "Accuracy of KNN classifier on validate set: 0.67\n"
     ]
    }
   ],
   "source": [
    "print('Accuracy of KNN classifier on validate set: {:.2f}'\n",
    "     .format(knn.score(X_validate, y_validate)))"
   ]
  },
  {
   "cell_type": "code",
   "execution_count": 346,
   "metadata": {},
   "outputs": [
    {
     "name": "stdout",
     "output_type": "stream",
     "text": [
      "Accuracy of KNN classifier on test set: 0.64\n"
     ]
    }
   ],
   "source": [
    "print('Accuracy of KNN classifier on test set: {:.2f}'\n",
    "     .format(knn.score(X_test, y_test)))"
   ]
  },
  {
   "cell_type": "markdown",
   "metadata": {},
   "source": [
    "Run through steps 2-4 setting k to 10"
   ]
  },
  {
   "cell_type": "code",
   "execution_count": 347,
   "metadata": {},
   "outputs": [],
   "source": [
    "knn = KNeighborsClassifier(n_neighbors=10, weights='uniform')\n"
   ]
  },
  {
   "cell_type": "code",
   "execution_count": 348,
   "metadata": {},
   "outputs": [
    {
     "data": {
      "text/plain": [
       "KNeighborsClassifier(algorithm='auto', leaf_size=30, metric='minkowski',\n",
       "                     metric_params=None, n_jobs=None, n_neighbors=10, p=2,\n",
       "                     weights='uniform')"
      ]
     },
     "execution_count": 348,
     "metadata": {},
     "output_type": "execute_result"
    }
   ],
   "source": [
    "knn.fit(X_train, y_train)\n"
   ]
  },
  {
   "cell_type": "code",
   "execution_count": 349,
   "metadata": {},
   "outputs": [],
   "source": [
    "y_pred = knn.predict(X_train)\n"
   ]
  },
  {
   "cell_type": "code",
   "execution_count": 350,
   "metadata": {},
   "outputs": [],
   "source": [
    "y_pred_proba = knn.predict_proba(X_train)\n"
   ]
  },
  {
   "cell_type": "code",
   "execution_count": 351,
   "metadata": {},
   "outputs": [
    {
     "name": "stdout",
     "output_type": "stream",
     "text": [
      "Accuracy of KNN classifier on training set: 0.72\n"
     ]
    }
   ],
   "source": [
    "print('Accuracy of KNN classifier on training set: {:.2f}'\n",
    "     .format(knn.score(X_train, y_train)))"
   ]
  },
  {
   "cell_type": "code",
   "execution_count": 352,
   "metadata": {},
   "outputs": [
    {
     "name": "stdout",
     "output_type": "stream",
     "text": [
      "              precision    recall  f1-score   support\n",
      "\n",
      "           0       0.72      0.89      0.80       307\n",
      "           1       0.72      0.45      0.55       191\n",
      "\n",
      "    accuracy                           0.72       498\n",
      "   macro avg       0.72      0.67      0.68       498\n",
      "weighted avg       0.72      0.72      0.71       498\n",
      "\n"
     ]
    }
   ],
   "source": [
    "print(classification_report(y_train, y_pred))\n"
   ]
  },
  {
   "cell_type": "code",
   "execution_count": 353,
   "metadata": {},
   "outputs": [
    {
     "name": "stdout",
     "output_type": "stream",
     "text": [
      "Accuracy of KNN classifier on validate set: 0.72\n"
     ]
    }
   ],
   "source": [
    "print('Accuracy of KNN classifier on validate set: {:.2f}'\n",
    "     .format(knn.score(X_validate, y_validate)))"
   ]
  },
  {
   "cell_type": "code",
   "execution_count": 354,
   "metadata": {},
   "outputs": [
    {
     "name": "stdout",
     "output_type": "stream",
     "text": [
      "Accuracy of KNN classifier on test set: 0.69\n"
     ]
    }
   ],
   "source": [
    "print('Accuracy of KNN classifier on test set: {:.2f}'\n",
    "     .format(knn.score(X_test, y_test)))"
   ]
  },
  {
   "cell_type": "code",
   "execution_count": 355,
   "metadata": {},
   "outputs": [],
   "source": [
    "###Models were more consistent when raising the k to 10"
   ]
  },
  {
   "cell_type": "markdown",
   "metadata": {},
   "source": [
    "Run through setps 2-4 setting k to 20\n"
   ]
  },
  {
   "cell_type": "code",
   "execution_count": 356,
   "metadata": {},
   "outputs": [],
   "source": [
    "knn = KNeighborsClassifier(n_neighbors=20, weights='uniform')\n"
   ]
  },
  {
   "cell_type": "code",
   "execution_count": 357,
   "metadata": {},
   "outputs": [
    {
     "data": {
      "text/plain": [
       "KNeighborsClassifier(algorithm='auto', leaf_size=30, metric='minkowski',\n",
       "                     metric_params=None, n_jobs=None, n_neighbors=20, p=2,\n",
       "                     weights='uniform')"
      ]
     },
     "execution_count": 357,
     "metadata": {},
     "output_type": "execute_result"
    }
   ],
   "source": [
    "knn.fit(X_train, y_train)\n"
   ]
  },
  {
   "cell_type": "code",
   "execution_count": 358,
   "metadata": {},
   "outputs": [],
   "source": [
    "y_pred = knn.predict(X_train)\n"
   ]
  },
  {
   "cell_type": "code",
   "execution_count": 359,
   "metadata": {},
   "outputs": [],
   "source": [
    "y_pred_proba = knn.predict_proba(X_train)\n"
   ]
  },
  {
   "cell_type": "code",
   "execution_count": 360,
   "metadata": {},
   "outputs": [
    {
     "name": "stdout",
     "output_type": "stream",
     "text": [
      "Accuracy of KNN classifier on training set: 0.71\n"
     ]
    }
   ],
   "source": [
    "print('Accuracy of KNN classifier on training set: {:.2f}'\n",
    "     .format(knn.score(X_train, y_train)))"
   ]
  },
  {
   "cell_type": "code",
   "execution_count": 361,
   "metadata": {},
   "outputs": [
    {
     "name": "stdout",
     "output_type": "stream",
     "text": [
      "Accuracy of KNN classifier on validate set: 0.71\n"
     ]
    }
   ],
   "source": [
    "print('Accuracy of KNN classifier on validate set: {:.2f}'\n",
    "     .format(knn.score(X_validate, y_validate)))"
   ]
  },
  {
   "cell_type": "code",
   "execution_count": 362,
   "metadata": {},
   "outputs": [
    {
     "name": "stdout",
     "output_type": "stream",
     "text": [
      "Accuracy of KNN classifier on test set: 0.66\n"
     ]
    }
   ],
   "source": [
    "print('Accuracy of KNN classifier on test set: {:.2f}'\n",
    "     .format(knn.score(X_test, y_test)))"
   ]
  },
  {
   "cell_type": "code",
   "execution_count": 363,
   "metadata": {},
   "outputs": [],
   "source": [
    "### Slightly less accurate than when k was set to 10"
   ]
  },
  {
   "cell_type": "code",
   "execution_count": null,
   "metadata": {},
   "outputs": [],
   "source": []
  }
 ],
 "metadata": {
  "kernelspec": {
   "display_name": "Python 3",
   "language": "python",
   "name": "python3"
  },
  "language_info": {
   "codemirror_mode": {
    "name": "ipython",
    "version": 3
   },
   "file_extension": ".py",
   "mimetype": "text/x-python",
   "name": "python",
   "nbconvert_exporter": "python",
   "pygments_lexer": "ipython3",
   "version": "3.7.6"
  }
 },
 "nbformat": 4,
 "nbformat_minor": 4
}
