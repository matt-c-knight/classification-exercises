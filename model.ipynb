{
 "cells": [
  {
   "cell_type": "code",
   "execution_count": 62,
   "metadata": {},
   "outputs": [],
   "source": [
    "\n",
    "import numpy as np\n",
    "import pandas as pd\n",
    "import seaborn as sns\n",
    "import matplotlib.pyplot as plt\n",
    "import statsmodels.formula.api as smf\n",
    "\n",
    "from sklearn.model_selection import train_test_split\n",
    "from sklearn.impute import SimpleImputer\n",
    "from sklearn.metrics import accuracy_score, precision_score, recall_score, confusion_matrix, classification_report\n",
    "from sklearn.model_selection import train_test_split\n",
    "from sklearn.linear_model import LogisticRegression, LinearRegression"
   ]
  },
  {
   "cell_type": "code",
   "execution_count": 63,
   "metadata": {},
   "outputs": [],
   "source": [
    "import os"
   ]
  },
  {
   "cell_type": "code",
   "execution_count": 64,
   "metadata": {},
   "outputs": [],
   "source": [
    "def new_titanic_data():\n",
    "    sql_query = 'SELECT * FROM passengers'\n",
    "    df = pd.read_sql(sql_query, get_connection('titanic_db'))\n",
    "    df.to_csv('titanic_df.csv')\n",
    "    return df"
   ]
  },
  {
   "cell_type": "code",
   "execution_count": 65,
   "metadata": {},
   "outputs": [],
   "source": [
    "def get_titanic_data(cached=False):\n",
    "    if cached or os.path.isfile('titanic_df.csv') == False:\n",
    "        df = new_titanic_data()\n",
    "    else:\n",
    "        df = pd.read_csv('titanic_df.csv', index_col=0)\n",
    "    return df"
   ]
  },
  {
   "cell_type": "code",
   "execution_count": 66,
   "metadata": {},
   "outputs": [],
   "source": [
    "titanic = get_titanic_data()"
   ]
  },
  {
   "cell_type": "code",
   "execution_count": 6,
   "metadata": {},
   "outputs": [
    {
     "data": {
      "text/html": [
       "<div>\n",
       "<style scoped>\n",
       "    .dataframe tbody tr th:only-of-type {\n",
       "        vertical-align: middle;\n",
       "    }\n",
       "\n",
       "    .dataframe tbody tr th {\n",
       "        vertical-align: top;\n",
       "    }\n",
       "\n",
       "    .dataframe thead th {\n",
       "        text-align: right;\n",
       "    }\n",
       "</style>\n",
       "<table border=\"1\" class=\"dataframe\">\n",
       "  <thead>\n",
       "    <tr style=\"text-align: right;\">\n",
       "      <th></th>\n",
       "      <th>passenger_id</th>\n",
       "      <th>survived</th>\n",
       "      <th>pclass</th>\n",
       "      <th>sex</th>\n",
       "      <th>age</th>\n",
       "      <th>sibsp</th>\n",
       "      <th>parch</th>\n",
       "      <th>fare</th>\n",
       "      <th>embarked</th>\n",
       "      <th>class</th>\n",
       "      <th>deck</th>\n",
       "      <th>embark_town</th>\n",
       "      <th>alone</th>\n",
       "    </tr>\n",
       "  </thead>\n",
       "  <tbody>\n",
       "    <tr>\n",
       "      <th>0</th>\n",
       "      <td>0</td>\n",
       "      <td>0</td>\n",
       "      <td>3</td>\n",
       "      <td>male</td>\n",
       "      <td>22.0</td>\n",
       "      <td>1</td>\n",
       "      <td>0</td>\n",
       "      <td>7.2500</td>\n",
       "      <td>S</td>\n",
       "      <td>Third</td>\n",
       "      <td>NaN</td>\n",
       "      <td>Southampton</td>\n",
       "      <td>0</td>\n",
       "    </tr>\n",
       "    <tr>\n",
       "      <th>1</th>\n",
       "      <td>1</td>\n",
       "      <td>1</td>\n",
       "      <td>1</td>\n",
       "      <td>female</td>\n",
       "      <td>38.0</td>\n",
       "      <td>1</td>\n",
       "      <td>0</td>\n",
       "      <td>71.2833</td>\n",
       "      <td>C</td>\n",
       "      <td>First</td>\n",
       "      <td>C</td>\n",
       "      <td>Cherbourg</td>\n",
       "      <td>0</td>\n",
       "    </tr>\n",
       "    <tr>\n",
       "      <th>2</th>\n",
       "      <td>2</td>\n",
       "      <td>1</td>\n",
       "      <td>3</td>\n",
       "      <td>female</td>\n",
       "      <td>26.0</td>\n",
       "      <td>0</td>\n",
       "      <td>0</td>\n",
       "      <td>7.9250</td>\n",
       "      <td>S</td>\n",
       "      <td>Third</td>\n",
       "      <td>NaN</td>\n",
       "      <td>Southampton</td>\n",
       "      <td>1</td>\n",
       "    </tr>\n",
       "    <tr>\n",
       "      <th>3</th>\n",
       "      <td>3</td>\n",
       "      <td>1</td>\n",
       "      <td>1</td>\n",
       "      <td>female</td>\n",
       "      <td>35.0</td>\n",
       "      <td>1</td>\n",
       "      <td>0</td>\n",
       "      <td>53.1000</td>\n",
       "      <td>S</td>\n",
       "      <td>First</td>\n",
       "      <td>C</td>\n",
       "      <td>Southampton</td>\n",
       "      <td>0</td>\n",
       "    </tr>\n",
       "    <tr>\n",
       "      <th>4</th>\n",
       "      <td>4</td>\n",
       "      <td>0</td>\n",
       "      <td>3</td>\n",
       "      <td>male</td>\n",
       "      <td>35.0</td>\n",
       "      <td>0</td>\n",
       "      <td>0</td>\n",
       "      <td>8.0500</td>\n",
       "      <td>S</td>\n",
       "      <td>Third</td>\n",
       "      <td>NaN</td>\n",
       "      <td>Southampton</td>\n",
       "      <td>1</td>\n",
       "    </tr>\n",
       "  </tbody>\n",
       "</table>\n",
       "</div>"
      ],
      "text/plain": [
       "   passenger_id  survived  pclass     sex   age  sibsp  parch     fare  \\\n",
       "0             0         0       3    male  22.0      1      0   7.2500   \n",
       "1             1         1       1  female  38.0      1      0  71.2833   \n",
       "2             2         1       3  female  26.0      0      0   7.9250   \n",
       "3             3         1       1  female  35.0      1      0  53.1000   \n",
       "4             4         0       3    male  35.0      0      0   8.0500   \n",
       "\n",
       "  embarked  class deck  embark_town  alone  \n",
       "0        S  Third  NaN  Southampton      0  \n",
       "1        C  First    C    Cherbourg      0  \n",
       "2        S  Third  NaN  Southampton      1  \n",
       "3        S  First    C  Southampton      0  \n",
       "4        S  Third  NaN  Southampton      1  "
      ]
     },
     "execution_count": 6,
     "metadata": {},
     "output_type": "execute_result"
    }
   ],
   "source": [
    "titanic.head()"
   ]
  },
  {
   "cell_type": "code",
   "execution_count": 67,
   "metadata": {},
   "outputs": [],
   "source": [
    "def titanic_split(df):\n",
    "\n",
    "    train_validate, test = train_test_split(df, test_size=.2,\n",
    "                                        random_state=123,\n",
    "                                        stratify=df.survived)\n",
    "    train, validate = train_test_split(train_validate, test_size=.3,\n",
    "                                        random_state=123,\n",
    "                                        stratify=train_validate.survived)\n",
    "    return train, validate, test\n",
    "\n",
    "def impute_mean_age(train, validate, test):\n",
    "\n",
    "    imputer = SimpleImputer(strategy = 'mean')\n",
    "\n",
    "    train['age'] = imputer.fit_transform(train[['age']])\n",
    "\n",
    "    validate['age'] = imputer.transform(validate[['age']])\n",
    "\n",
    "    test['age'] = imputer.transform(test[['age']])\n",
    "\n",
    "    return train, validate, test\n",
    "\n",
    "def prep_titanic_data(cached=True):\n",
    "#     df = get_titanic_data(cached)\n",
    "    df = df[~df.embarked.isnull()]\n",
    "    titanic_dummies = pd.get_dummies(df.embarked, drop_first=True)\n",
    "    df = pd.concat([df, titanic_dummies], axis=1)\n",
    "    df = df.drop(columns='deck')\n",
    "\n",
    "    train, validate, test = titanic_split(df)\n",
    "\n",
    "    train, validate, test = impute_mean_age(train, validate, test)\n",
    "\n",
    "    return train, validate, test"
   ]
  },
  {
   "cell_type": "code",
   "execution_count": 68,
   "metadata": {},
   "outputs": [],
   "source": [
    " titanic = titanic[~titanic.embarked.isnull()]"
   ]
  },
  {
   "cell_type": "code",
   "execution_count": 69,
   "metadata": {},
   "outputs": [
    {
     "data": {
      "text/html": [
       "<div>\n",
       "<style scoped>\n",
       "    .dataframe tbody tr th:only-of-type {\n",
       "        vertical-align: middle;\n",
       "    }\n",
       "\n",
       "    .dataframe tbody tr th {\n",
       "        vertical-align: top;\n",
       "    }\n",
       "\n",
       "    .dataframe thead th {\n",
       "        text-align: right;\n",
       "    }\n",
       "</style>\n",
       "<table border=\"1\" class=\"dataframe\">\n",
       "  <thead>\n",
       "    <tr style=\"text-align: right;\">\n",
       "      <th></th>\n",
       "      <th>passenger_id</th>\n",
       "      <th>survived</th>\n",
       "      <th>pclass</th>\n",
       "      <th>sex</th>\n",
       "      <th>age</th>\n",
       "      <th>sibsp</th>\n",
       "      <th>parch</th>\n",
       "      <th>fare</th>\n",
       "      <th>embarked</th>\n",
       "      <th>class</th>\n",
       "      <th>deck</th>\n",
       "      <th>embark_town</th>\n",
       "      <th>alone</th>\n",
       "    </tr>\n",
       "  </thead>\n",
       "  <tbody>\n",
       "    <tr>\n",
       "      <th>0</th>\n",
       "      <td>0</td>\n",
       "      <td>0</td>\n",
       "      <td>3</td>\n",
       "      <td>male</td>\n",
       "      <td>22.0</td>\n",
       "      <td>1</td>\n",
       "      <td>0</td>\n",
       "      <td>7.2500</td>\n",
       "      <td>S</td>\n",
       "      <td>Third</td>\n",
       "      <td>NaN</td>\n",
       "      <td>Southampton</td>\n",
       "      <td>0</td>\n",
       "    </tr>\n",
       "    <tr>\n",
       "      <th>1</th>\n",
       "      <td>1</td>\n",
       "      <td>1</td>\n",
       "      <td>1</td>\n",
       "      <td>female</td>\n",
       "      <td>38.0</td>\n",
       "      <td>1</td>\n",
       "      <td>0</td>\n",
       "      <td>71.2833</td>\n",
       "      <td>C</td>\n",
       "      <td>First</td>\n",
       "      <td>C</td>\n",
       "      <td>Cherbourg</td>\n",
       "      <td>0</td>\n",
       "    </tr>\n",
       "    <tr>\n",
       "      <th>2</th>\n",
       "      <td>2</td>\n",
       "      <td>1</td>\n",
       "      <td>3</td>\n",
       "      <td>female</td>\n",
       "      <td>26.0</td>\n",
       "      <td>0</td>\n",
       "      <td>0</td>\n",
       "      <td>7.9250</td>\n",
       "      <td>S</td>\n",
       "      <td>Third</td>\n",
       "      <td>NaN</td>\n",
       "      <td>Southampton</td>\n",
       "      <td>1</td>\n",
       "    </tr>\n",
       "    <tr>\n",
       "      <th>3</th>\n",
       "      <td>3</td>\n",
       "      <td>1</td>\n",
       "      <td>1</td>\n",
       "      <td>female</td>\n",
       "      <td>35.0</td>\n",
       "      <td>1</td>\n",
       "      <td>0</td>\n",
       "      <td>53.1000</td>\n",
       "      <td>S</td>\n",
       "      <td>First</td>\n",
       "      <td>C</td>\n",
       "      <td>Southampton</td>\n",
       "      <td>0</td>\n",
       "    </tr>\n",
       "    <tr>\n",
       "      <th>4</th>\n",
       "      <td>4</td>\n",
       "      <td>0</td>\n",
       "      <td>3</td>\n",
       "      <td>male</td>\n",
       "      <td>35.0</td>\n",
       "      <td>0</td>\n",
       "      <td>0</td>\n",
       "      <td>8.0500</td>\n",
       "      <td>S</td>\n",
       "      <td>Third</td>\n",
       "      <td>NaN</td>\n",
       "      <td>Southampton</td>\n",
       "      <td>1</td>\n",
       "    </tr>\n",
       "  </tbody>\n",
       "</table>\n",
       "</div>"
      ],
      "text/plain": [
       "   passenger_id  survived  pclass     sex   age  sibsp  parch     fare  \\\n",
       "0             0         0       3    male  22.0      1      0   7.2500   \n",
       "1             1         1       1  female  38.0      1      0  71.2833   \n",
       "2             2         1       3  female  26.0      0      0   7.9250   \n",
       "3             3         1       1  female  35.0      1      0  53.1000   \n",
       "4             4         0       3    male  35.0      0      0   8.0500   \n",
       "\n",
       "  embarked  class deck  embark_town  alone  \n",
       "0        S  Third  NaN  Southampton      0  \n",
       "1        C  First    C    Cherbourg      0  \n",
       "2        S  Third  NaN  Southampton      1  \n",
       "3        S  First    C  Southampton      0  \n",
       "4        S  Third  NaN  Southampton      1  "
      ]
     },
     "execution_count": 69,
     "metadata": {},
     "output_type": "execute_result"
    }
   ],
   "source": [
    "titanic.head()"
   ]
  },
  {
   "cell_type": "code",
   "execution_count": 70,
   "metadata": {},
   "outputs": [],
   "source": [
    "titanic_dummies = pd.get_dummies(titanic[['sex', 'embark_town', 'class']], drop_first=True)\n"
   ]
  },
  {
   "cell_type": "code",
   "execution_count": 71,
   "metadata": {},
   "outputs": [],
   "source": [
    "titanic = pd.concat([titanic, titanic_dummies], axis=1)\n"
   ]
  },
  {
   "cell_type": "code",
   "execution_count": 72,
   "metadata": {},
   "outputs": [],
   "source": [
    "titanic = titanic.drop(columns=['embark_town','class', 'sex', 'pclass'])\n"
   ]
  },
  {
   "cell_type": "code",
   "execution_count": 73,
   "metadata": {},
   "outputs": [
    {
     "data": {
      "text/html": [
       "<div>\n",
       "<style scoped>\n",
       "    .dataframe tbody tr th:only-of-type {\n",
       "        vertical-align: middle;\n",
       "    }\n",
       "\n",
       "    .dataframe tbody tr th {\n",
       "        vertical-align: top;\n",
       "    }\n",
       "\n",
       "    .dataframe thead th {\n",
       "        text-align: right;\n",
       "    }\n",
       "</style>\n",
       "<table border=\"1\" class=\"dataframe\">\n",
       "  <thead>\n",
       "    <tr style=\"text-align: right;\">\n",
       "      <th></th>\n",
       "      <th>passenger_id</th>\n",
       "      <th>survived</th>\n",
       "      <th>age</th>\n",
       "      <th>sibsp</th>\n",
       "      <th>parch</th>\n",
       "      <th>fare</th>\n",
       "      <th>embarked</th>\n",
       "      <th>deck</th>\n",
       "      <th>alone</th>\n",
       "      <th>sex_male</th>\n",
       "      <th>embark_town_Queenstown</th>\n",
       "      <th>embark_town_Southampton</th>\n",
       "      <th>class_Second</th>\n",
       "      <th>class_Third</th>\n",
       "    </tr>\n",
       "  </thead>\n",
       "  <tbody>\n",
       "    <tr>\n",
       "      <th>0</th>\n",
       "      <td>0</td>\n",
       "      <td>0</td>\n",
       "      <td>22.0</td>\n",
       "      <td>1</td>\n",
       "      <td>0</td>\n",
       "      <td>7.2500</td>\n",
       "      <td>S</td>\n",
       "      <td>NaN</td>\n",
       "      <td>0</td>\n",
       "      <td>1</td>\n",
       "      <td>0</td>\n",
       "      <td>1</td>\n",
       "      <td>0</td>\n",
       "      <td>1</td>\n",
       "    </tr>\n",
       "    <tr>\n",
       "      <th>1</th>\n",
       "      <td>1</td>\n",
       "      <td>1</td>\n",
       "      <td>38.0</td>\n",
       "      <td>1</td>\n",
       "      <td>0</td>\n",
       "      <td>71.2833</td>\n",
       "      <td>C</td>\n",
       "      <td>C</td>\n",
       "      <td>0</td>\n",
       "      <td>0</td>\n",
       "      <td>0</td>\n",
       "      <td>0</td>\n",
       "      <td>0</td>\n",
       "      <td>0</td>\n",
       "    </tr>\n",
       "    <tr>\n",
       "      <th>2</th>\n",
       "      <td>2</td>\n",
       "      <td>1</td>\n",
       "      <td>26.0</td>\n",
       "      <td>0</td>\n",
       "      <td>0</td>\n",
       "      <td>7.9250</td>\n",
       "      <td>S</td>\n",
       "      <td>NaN</td>\n",
       "      <td>1</td>\n",
       "      <td>0</td>\n",
       "      <td>0</td>\n",
       "      <td>1</td>\n",
       "      <td>0</td>\n",
       "      <td>1</td>\n",
       "    </tr>\n",
       "    <tr>\n",
       "      <th>3</th>\n",
       "      <td>3</td>\n",
       "      <td>1</td>\n",
       "      <td>35.0</td>\n",
       "      <td>1</td>\n",
       "      <td>0</td>\n",
       "      <td>53.1000</td>\n",
       "      <td>S</td>\n",
       "      <td>C</td>\n",
       "      <td>0</td>\n",
       "      <td>0</td>\n",
       "      <td>0</td>\n",
       "      <td>1</td>\n",
       "      <td>0</td>\n",
       "      <td>0</td>\n",
       "    </tr>\n",
       "    <tr>\n",
       "      <th>4</th>\n",
       "      <td>4</td>\n",
       "      <td>0</td>\n",
       "      <td>35.0</td>\n",
       "      <td>0</td>\n",
       "      <td>0</td>\n",
       "      <td>8.0500</td>\n",
       "      <td>S</td>\n",
       "      <td>NaN</td>\n",
       "      <td>1</td>\n",
       "      <td>1</td>\n",
       "      <td>0</td>\n",
       "      <td>1</td>\n",
       "      <td>0</td>\n",
       "      <td>1</td>\n",
       "    </tr>\n",
       "  </tbody>\n",
       "</table>\n",
       "</div>"
      ],
      "text/plain": [
       "   passenger_id  survived   age  sibsp  parch     fare embarked deck  alone  \\\n",
       "0             0         0  22.0      1      0   7.2500        S  NaN      0   \n",
       "1             1         1  38.0      1      0  71.2833        C    C      0   \n",
       "2             2         1  26.0      0      0   7.9250        S  NaN      1   \n",
       "3             3         1  35.0      1      0  53.1000        S    C      0   \n",
       "4             4         0  35.0      0      0   8.0500        S  NaN      1   \n",
       "\n",
       "   sex_male  embark_town_Queenstown  embark_town_Southampton  class_Second  \\\n",
       "0         1                       0                        1             0   \n",
       "1         0                       0                        0             0   \n",
       "2         0                       0                        1             0   \n",
       "3         0                       0                        1             0   \n",
       "4         1                       0                        1             0   \n",
       "\n",
       "   class_Third  \n",
       "0            1  \n",
       "1            0  \n",
       "2            1  \n",
       "3            0  \n",
       "4            1  "
      ]
     },
     "execution_count": 73,
     "metadata": {},
     "output_type": "execute_result"
    }
   ],
   "source": [
    "titanic.head()"
   ]
  },
  {
   "cell_type": "code",
   "execution_count": 74,
   "metadata": {},
   "outputs": [],
   "source": [
    "titanic = titanic.drop(columns='deck')\n"
   ]
  },
  {
   "cell_type": "code",
   "execution_count": 75,
   "metadata": {},
   "outputs": [],
   "source": [
    "train, validate, test = titanic_split(titanic)\n"
   ]
  },
  {
   "cell_type": "code",
   "execution_count": 76,
   "metadata": {},
   "outputs": [
    {
     "data": {
      "text/plain": [
       "True"
      ]
     },
     "execution_count": 76,
     "metadata": {},
     "output_type": "execute_result"
    }
   ],
   "source": [
    "train.age.isnull().values.any()"
   ]
  },
  {
   "cell_type": "code",
   "execution_count": 77,
   "metadata": {},
   "outputs": [
    {
     "name": "stderr",
     "output_type": "stream",
     "text": [
      "/usr/local/anaconda3/lib/python3.7/site-packages/ipykernel_launcher.py:19: SettingWithCopyWarning: \n",
      "A value is trying to be set on a copy of a slice from a DataFrame.\n",
      "Try using .loc[row_indexer,col_indexer] = value instead\n",
      "\n",
      "See the caveats in the documentation: https://pandas.pydata.org/pandas-docs/stable/user_guide/indexing.html#returning-a-view-versus-a-copy\n"
     ]
    }
   ],
   "source": [
    "train, validate, test = impute_mean_age(train, validate, test)\n"
   ]
  },
  {
   "cell_type": "code",
   "execution_count": 78,
   "metadata": {},
   "outputs": [
    {
     "data": {
      "text/plain": [
       "(497, 13)"
      ]
     },
     "execution_count": 78,
     "metadata": {},
     "output_type": "execute_result"
    }
   ],
   "source": [
    "train.shape"
   ]
  },
  {
   "cell_type": "code",
   "execution_count": 79,
   "metadata": {},
   "outputs": [
    {
     "data": {
      "text/plain": [
       "(214, 13)"
      ]
     },
     "execution_count": 79,
     "metadata": {},
     "output_type": "execute_result"
    }
   ],
   "source": [
    "validate.shape"
   ]
  },
  {
   "cell_type": "code",
   "execution_count": 80,
   "metadata": {},
   "outputs": [
    {
     "data": {
      "text/plain": [
       "(178, 13)"
      ]
     },
     "execution_count": 80,
     "metadata": {},
     "output_type": "execute_result"
    }
   ],
   "source": [
    "test.shape"
   ]
  },
  {
   "cell_type": "code",
   "execution_count": 81,
   "metadata": {},
   "outputs": [
    {
     "data": {
      "text/html": [
       "<div>\n",
       "<style scoped>\n",
       "    .dataframe tbody tr th:only-of-type {\n",
       "        vertical-align: middle;\n",
       "    }\n",
       "\n",
       "    .dataframe tbody tr th {\n",
       "        vertical-align: top;\n",
       "    }\n",
       "\n",
       "    .dataframe thead th {\n",
       "        text-align: right;\n",
       "    }\n",
       "</style>\n",
       "<table border=\"1\" class=\"dataframe\">\n",
       "  <thead>\n",
       "    <tr style=\"text-align: right;\">\n",
       "      <th></th>\n",
       "      <th>passenger_id</th>\n",
       "      <th>survived</th>\n",
       "      <th>age</th>\n",
       "      <th>sibsp</th>\n",
       "      <th>parch</th>\n",
       "      <th>fare</th>\n",
       "      <th>embarked</th>\n",
       "      <th>alone</th>\n",
       "      <th>sex_male</th>\n",
       "      <th>embark_town_Queenstown</th>\n",
       "      <th>embark_town_Southampton</th>\n",
       "      <th>class_Second</th>\n",
       "      <th>class_Third</th>\n",
       "    </tr>\n",
       "  </thead>\n",
       "  <tbody>\n",
       "    <tr>\n",
       "      <th>561</th>\n",
       "      <td>561</td>\n",
       "      <td>0</td>\n",
       "      <td>40.000000</td>\n",
       "      <td>0</td>\n",
       "      <td>0</td>\n",
       "      <td>7.8958</td>\n",
       "      <td>S</td>\n",
       "      <td>1</td>\n",
       "      <td>1</td>\n",
       "      <td>0</td>\n",
       "      <td>1</td>\n",
       "      <td>0</td>\n",
       "      <td>1</td>\n",
       "    </tr>\n",
       "    <tr>\n",
       "      <th>328</th>\n",
       "      <td>328</td>\n",
       "      <td>1</td>\n",
       "      <td>31.000000</td>\n",
       "      <td>1</td>\n",
       "      <td>1</td>\n",
       "      <td>20.5250</td>\n",
       "      <td>S</td>\n",
       "      <td>0</td>\n",
       "      <td>0</td>\n",
       "      <td>0</td>\n",
       "      <td>1</td>\n",
       "      <td>0</td>\n",
       "      <td>1</td>\n",
       "    </tr>\n",
       "    <tr>\n",
       "      <th>643</th>\n",
       "      <td>643</td>\n",
       "      <td>1</td>\n",
       "      <td>29.916875</td>\n",
       "      <td>0</td>\n",
       "      <td>0</td>\n",
       "      <td>56.4958</td>\n",
       "      <td>S</td>\n",
       "      <td>1</td>\n",
       "      <td>1</td>\n",
       "      <td>0</td>\n",
       "      <td>1</td>\n",
       "      <td>0</td>\n",
       "      <td>1</td>\n",
       "    </tr>\n",
       "    <tr>\n",
       "      <th>498</th>\n",
       "      <td>498</td>\n",
       "      <td>0</td>\n",
       "      <td>25.000000</td>\n",
       "      <td>1</td>\n",
       "      <td>2</td>\n",
       "      <td>151.5500</td>\n",
       "      <td>S</td>\n",
       "      <td>0</td>\n",
       "      <td>0</td>\n",
       "      <td>0</td>\n",
       "      <td>1</td>\n",
       "      <td>0</td>\n",
       "      <td>0</td>\n",
       "    </tr>\n",
       "    <tr>\n",
       "      <th>875</th>\n",
       "      <td>875</td>\n",
       "      <td>1</td>\n",
       "      <td>15.000000</td>\n",
       "      <td>0</td>\n",
       "      <td>0</td>\n",
       "      <td>7.2250</td>\n",
       "      <td>C</td>\n",
       "      <td>1</td>\n",
       "      <td>0</td>\n",
       "      <td>0</td>\n",
       "      <td>0</td>\n",
       "      <td>0</td>\n",
       "      <td>1</td>\n",
       "    </tr>\n",
       "  </tbody>\n",
       "</table>\n",
       "</div>"
      ],
      "text/plain": [
       "     passenger_id  survived        age  sibsp  parch      fare embarked  \\\n",
       "561           561         0  40.000000      0      0    7.8958        S   \n",
       "328           328         1  31.000000      1      1   20.5250        S   \n",
       "643           643         1  29.916875      0      0   56.4958        S   \n",
       "498           498         0  25.000000      1      2  151.5500        S   \n",
       "875           875         1  15.000000      0      0    7.2250        C   \n",
       "\n",
       "     alone  sex_male  embark_town_Queenstown  embark_town_Southampton  \\\n",
       "561      1         1                       0                        1   \n",
       "328      0         0                       0                        1   \n",
       "643      1         1                       0                        1   \n",
       "498      0         0                       0                        1   \n",
       "875      1         0                       0                        0   \n",
       "\n",
       "     class_Second  class_Third  \n",
       "561             0            1  \n",
       "328             0            1  \n",
       "643             0            1  \n",
       "498             0            0  \n",
       "875             0            1  "
      ]
     },
     "execution_count": 81,
     "metadata": {},
     "output_type": "execute_result"
    }
   ],
   "source": [
    "test.head()"
   ]
  },
  {
   "cell_type": "code",
   "execution_count": 82,
   "metadata": {},
   "outputs": [
    {
     "data": {
      "text/plain": [
       "0    0.617706\n",
       "1    0.382294\n",
       "Name: survived, dtype: float64"
      ]
     },
     "execution_count": 82,
     "metadata": {},
     "output_type": "execute_result"
    }
   ],
   "source": [
    "train.survived.value_counts(normalize=True)\n"
   ]
  },
  {
   "cell_type": "code",
   "execution_count": 83,
   "metadata": {},
   "outputs": [],
   "source": [
    "logit = LogisticRegression()\n"
   ]
  },
  {
   "cell_type": "code",
   "execution_count": 84,
   "metadata": {},
   "outputs": [],
   "source": [
    "X_train = train.drop(columns=['survived'])\n",
    "y_train = train.survived\n",
    "\n",
    "X_validate = validate.drop(columns=['survived'])\n",
    "y_validate = validate.survived\n",
    "\n",
    "X_test = test.drop(columns=['survived'])\n",
    "y_test = test.survived"
   ]
  },
  {
   "cell_type": "code",
   "execution_count": 85,
   "metadata": {},
   "outputs": [
    {
     "ename": "ValueError",
     "evalue": "could not convert string to float: 'C'",
     "output_type": "error",
     "traceback": [
      "\u001b[0;31m---------------------------------------------------------------------------\u001b[0m",
      "\u001b[0;31mValueError\u001b[0m                                Traceback (most recent call last)",
      "\u001b[0;32m<ipython-input-85-98b4b06e3bc2>\u001b[0m in \u001b[0;36m<module>\u001b[0;34m\u001b[0m\n\u001b[0;32m----> 1\u001b[0;31m \u001b[0mlogit\u001b[0m \u001b[0;34m=\u001b[0m \u001b[0mlogit\u001b[0m\u001b[0;34m.\u001b[0m\u001b[0mfit\u001b[0m\u001b[0;34m(\u001b[0m\u001b[0mX_train\u001b[0m\u001b[0;34m,\u001b[0m \u001b[0my_train\u001b[0m\u001b[0;34m)\u001b[0m\u001b[0;34m\u001b[0m\u001b[0;34m\u001b[0m\u001b[0m\n\u001b[0m",
      "\u001b[0;32m/usr/local/anaconda3/lib/python3.7/site-packages/sklearn/linear_model/_logistic.py\u001b[0m in \u001b[0;36mfit\u001b[0;34m(self, X, y, sample_weight)\u001b[0m\n\u001b[1;32m   1525\u001b[0m \u001b[0;34m\u001b[0m\u001b[0m\n\u001b[1;32m   1526\u001b[0m         X, y = check_X_y(X, y, accept_sparse='csr', dtype=_dtype, order=\"C\",\n\u001b[0;32m-> 1527\u001b[0;31m                          accept_large_sparse=solver != 'liblinear')\n\u001b[0m\u001b[1;32m   1528\u001b[0m         \u001b[0mcheck_classification_targets\u001b[0m\u001b[0;34m(\u001b[0m\u001b[0my\u001b[0m\u001b[0;34m)\u001b[0m\u001b[0;34m\u001b[0m\u001b[0;34m\u001b[0m\u001b[0m\n\u001b[1;32m   1529\u001b[0m         \u001b[0mself\u001b[0m\u001b[0;34m.\u001b[0m\u001b[0mclasses_\u001b[0m \u001b[0;34m=\u001b[0m \u001b[0mnp\u001b[0m\u001b[0;34m.\u001b[0m\u001b[0munique\u001b[0m\u001b[0;34m(\u001b[0m\u001b[0my\u001b[0m\u001b[0;34m)\u001b[0m\u001b[0;34m\u001b[0m\u001b[0;34m\u001b[0m\u001b[0m\n",
      "\u001b[0;32m/usr/local/anaconda3/lib/python3.7/site-packages/sklearn/utils/validation.py\u001b[0m in \u001b[0;36mcheck_X_y\u001b[0;34m(X, y, accept_sparse, accept_large_sparse, dtype, order, copy, force_all_finite, ensure_2d, allow_nd, multi_output, ensure_min_samples, ensure_min_features, y_numeric, warn_on_dtype, estimator)\u001b[0m\n\u001b[1;32m    753\u001b[0m                     \u001b[0mensure_min_features\u001b[0m\u001b[0;34m=\u001b[0m\u001b[0mensure_min_features\u001b[0m\u001b[0;34m,\u001b[0m\u001b[0;34m\u001b[0m\u001b[0;34m\u001b[0m\u001b[0m\n\u001b[1;32m    754\u001b[0m                     \u001b[0mwarn_on_dtype\u001b[0m\u001b[0;34m=\u001b[0m\u001b[0mwarn_on_dtype\u001b[0m\u001b[0;34m,\u001b[0m\u001b[0;34m\u001b[0m\u001b[0;34m\u001b[0m\u001b[0m\n\u001b[0;32m--> 755\u001b[0;31m                     estimator=estimator)\n\u001b[0m\u001b[1;32m    756\u001b[0m     \u001b[0;32mif\u001b[0m \u001b[0mmulti_output\u001b[0m\u001b[0;34m:\u001b[0m\u001b[0;34m\u001b[0m\u001b[0;34m\u001b[0m\u001b[0m\n\u001b[1;32m    757\u001b[0m         y = check_array(y, 'csr', force_all_finite=True, ensure_2d=False,\n",
      "\u001b[0;32m/usr/local/anaconda3/lib/python3.7/site-packages/sklearn/utils/validation.py\u001b[0m in \u001b[0;36mcheck_array\u001b[0;34m(array, accept_sparse, accept_large_sparse, dtype, order, copy, force_all_finite, ensure_2d, allow_nd, ensure_min_samples, ensure_min_features, warn_on_dtype, estimator)\u001b[0m\n\u001b[1;32m    529\u001b[0m                     \u001b[0marray\u001b[0m \u001b[0;34m=\u001b[0m \u001b[0marray\u001b[0m\u001b[0;34m.\u001b[0m\u001b[0mastype\u001b[0m\u001b[0;34m(\u001b[0m\u001b[0mdtype\u001b[0m\u001b[0;34m,\u001b[0m \u001b[0mcasting\u001b[0m\u001b[0;34m=\u001b[0m\u001b[0;34m\"unsafe\"\u001b[0m\u001b[0;34m,\u001b[0m \u001b[0mcopy\u001b[0m\u001b[0;34m=\u001b[0m\u001b[0;32mFalse\u001b[0m\u001b[0;34m)\u001b[0m\u001b[0;34m\u001b[0m\u001b[0;34m\u001b[0m\u001b[0m\n\u001b[1;32m    530\u001b[0m                 \u001b[0;32melse\u001b[0m\u001b[0;34m:\u001b[0m\u001b[0;34m\u001b[0m\u001b[0;34m\u001b[0m\u001b[0m\n\u001b[0;32m--> 531\u001b[0;31m                     \u001b[0marray\u001b[0m \u001b[0;34m=\u001b[0m \u001b[0mnp\u001b[0m\u001b[0;34m.\u001b[0m\u001b[0masarray\u001b[0m\u001b[0;34m(\u001b[0m\u001b[0marray\u001b[0m\u001b[0;34m,\u001b[0m \u001b[0morder\u001b[0m\u001b[0;34m=\u001b[0m\u001b[0morder\u001b[0m\u001b[0;34m,\u001b[0m \u001b[0mdtype\u001b[0m\u001b[0;34m=\u001b[0m\u001b[0mdtype\u001b[0m\u001b[0;34m)\u001b[0m\u001b[0;34m\u001b[0m\u001b[0;34m\u001b[0m\u001b[0m\n\u001b[0m\u001b[1;32m    532\u001b[0m             \u001b[0;32mexcept\u001b[0m \u001b[0mComplexWarning\u001b[0m\u001b[0;34m:\u001b[0m\u001b[0;34m\u001b[0m\u001b[0;34m\u001b[0m\u001b[0m\n\u001b[1;32m    533\u001b[0m                 raise ValueError(\"Complex data not supported\\n\"\n",
      "\u001b[0;32m/usr/local/anaconda3/lib/python3.7/site-packages/numpy/core/_asarray.py\u001b[0m in \u001b[0;36masarray\u001b[0;34m(a, dtype, order)\u001b[0m\n\u001b[1;32m     83\u001b[0m \u001b[0;34m\u001b[0m\u001b[0m\n\u001b[1;32m     84\u001b[0m     \"\"\"\n\u001b[0;32m---> 85\u001b[0;31m     \u001b[0;32mreturn\u001b[0m \u001b[0marray\u001b[0m\u001b[0;34m(\u001b[0m\u001b[0ma\u001b[0m\u001b[0;34m,\u001b[0m \u001b[0mdtype\u001b[0m\u001b[0;34m,\u001b[0m \u001b[0mcopy\u001b[0m\u001b[0;34m=\u001b[0m\u001b[0;32mFalse\u001b[0m\u001b[0;34m,\u001b[0m \u001b[0morder\u001b[0m\u001b[0;34m=\u001b[0m\u001b[0morder\u001b[0m\u001b[0;34m)\u001b[0m\u001b[0;34m\u001b[0m\u001b[0;34m\u001b[0m\u001b[0m\n\u001b[0m\u001b[1;32m     86\u001b[0m \u001b[0;34m\u001b[0m\u001b[0m\n\u001b[1;32m     87\u001b[0m \u001b[0;34m\u001b[0m\u001b[0m\n",
      "\u001b[0;31mValueError\u001b[0m: could not convert string to float: 'C'"
     ]
    }
   ],
   "source": [
    "logit = logit.fit(X_train, y_train)\n"
   ]
  },
  {
   "cell_type": "code",
   "execution_count": 27,
   "metadata": {},
   "outputs": [
    {
     "data": {
      "text/plain": [
       "Index(['passenger_id',          'age',        'sibsp',        'parch',\n",
       "               'fare',     'embarked',         'deck',        'alone',\n",
       "                    2,              3],\n",
       "      dtype='object')"
      ]
     },
     "execution_count": 27,
     "metadata": {},
     "output_type": "execute_result"
    }
   ],
   "source": [
    "X_train.columns\n"
   ]
  },
  {
   "cell_type": "code",
   "execution_count": 29,
   "metadata": {},
   "outputs": [
    {
     "ename": "AttributeError",
     "evalue": "'LogisticRegression' object has no attribute 'coef_'",
     "output_type": "error",
     "traceback": [
      "\u001b[0;31m---------------------------------------------------------------------------\u001b[0m",
      "\u001b[0;31mAttributeError\u001b[0m                            Traceback (most recent call last)",
      "\u001b[0;32m<ipython-input-29-0aa545b28dc6>\u001b[0m in \u001b[0;36m<module>\u001b[0;34m\u001b[0m\n\u001b[0;32m----> 1\u001b[0;31m \u001b[0mlogit\u001b[0m\u001b[0;34m.\u001b[0m\u001b[0mcoef_\u001b[0m\u001b[0;34m\u001b[0m\u001b[0;34m\u001b[0m\u001b[0m\n\u001b[0m",
      "\u001b[0;31mAttributeError\u001b[0m: 'LogisticRegression' object has no attribute 'coef_'"
     ]
    }
   ],
   "source": [
    "logit.coef_\n"
   ]
  },
  {
   "cell_type": "code",
   "execution_count": null,
   "metadata": {},
   "outputs": [],
   "source": [
    "y_pred = logit.predict(X_train)\n",
    "y_pred_proba = logit.predict_proba(X_train)"
   ]
  },
  {
   "cell_type": "code",
   "execution_count": null,
   "metadata": {},
   "outputs": [],
   "source": [
    "y_pred_proba"
   ]
  },
  {
   "cell_type": "code",
   "execution_count": null,
   "metadata": {},
   "outputs": [],
   "source": [
    "logit.score(X_train, y_train)\n"
   ]
  },
  {
   "cell_type": "code",
   "execution_count": null,
   "metadata": {},
   "outputs": [],
   "source": [
    "print(confusion_matrix(y_train, y_pred))\n"
   ]
  },
  {
   "cell_type": "code",
   "execution_count": null,
   "metadata": {},
   "outputs": [],
   "source": [
    "print(classification_report(y_train, y_pred))\n"
   ]
  },
  {
   "cell_type": "code",
   "execution_count": 34,
   "metadata": {},
   "outputs": [],
   "source": [
    "titanic2 = get_titanic_data()"
   ]
  },
  {
   "cell_type": "code",
   "execution_count": 35,
   "metadata": {},
   "outputs": [
    {
     "data": {
      "text/html": [
       "<div>\n",
       "<style scoped>\n",
       "    .dataframe tbody tr th:only-of-type {\n",
       "        vertical-align: middle;\n",
       "    }\n",
       "\n",
       "    .dataframe tbody tr th {\n",
       "        vertical-align: top;\n",
       "    }\n",
       "\n",
       "    .dataframe thead th {\n",
       "        text-align: right;\n",
       "    }\n",
       "</style>\n",
       "<table border=\"1\" class=\"dataframe\">\n",
       "  <thead>\n",
       "    <tr style=\"text-align: right;\">\n",
       "      <th></th>\n",
       "      <th>passenger_id</th>\n",
       "      <th>survived</th>\n",
       "      <th>pclass</th>\n",
       "      <th>sex</th>\n",
       "      <th>age</th>\n",
       "      <th>sibsp</th>\n",
       "      <th>parch</th>\n",
       "      <th>fare</th>\n",
       "      <th>embarked</th>\n",
       "      <th>class</th>\n",
       "      <th>deck</th>\n",
       "      <th>embark_town</th>\n",
       "      <th>alone</th>\n",
       "    </tr>\n",
       "  </thead>\n",
       "  <tbody>\n",
       "    <tr>\n",
       "      <th>0</th>\n",
       "      <td>0</td>\n",
       "      <td>0</td>\n",
       "      <td>3</td>\n",
       "      <td>male</td>\n",
       "      <td>22.0</td>\n",
       "      <td>1</td>\n",
       "      <td>0</td>\n",
       "      <td>7.2500</td>\n",
       "      <td>S</td>\n",
       "      <td>Third</td>\n",
       "      <td>NaN</td>\n",
       "      <td>Southampton</td>\n",
       "      <td>0</td>\n",
       "    </tr>\n",
       "    <tr>\n",
       "      <th>1</th>\n",
       "      <td>1</td>\n",
       "      <td>1</td>\n",
       "      <td>1</td>\n",
       "      <td>female</td>\n",
       "      <td>38.0</td>\n",
       "      <td>1</td>\n",
       "      <td>0</td>\n",
       "      <td>71.2833</td>\n",
       "      <td>C</td>\n",
       "      <td>First</td>\n",
       "      <td>C</td>\n",
       "      <td>Cherbourg</td>\n",
       "      <td>0</td>\n",
       "    </tr>\n",
       "    <tr>\n",
       "      <th>2</th>\n",
       "      <td>2</td>\n",
       "      <td>1</td>\n",
       "      <td>3</td>\n",
       "      <td>female</td>\n",
       "      <td>26.0</td>\n",
       "      <td>0</td>\n",
       "      <td>0</td>\n",
       "      <td>7.9250</td>\n",
       "      <td>S</td>\n",
       "      <td>Third</td>\n",
       "      <td>NaN</td>\n",
       "      <td>Southampton</td>\n",
       "      <td>1</td>\n",
       "    </tr>\n",
       "    <tr>\n",
       "      <th>3</th>\n",
       "      <td>3</td>\n",
       "      <td>1</td>\n",
       "      <td>1</td>\n",
       "      <td>female</td>\n",
       "      <td>35.0</td>\n",
       "      <td>1</td>\n",
       "      <td>0</td>\n",
       "      <td>53.1000</td>\n",
       "      <td>S</td>\n",
       "      <td>First</td>\n",
       "      <td>C</td>\n",
       "      <td>Southampton</td>\n",
       "      <td>0</td>\n",
       "    </tr>\n",
       "    <tr>\n",
       "      <th>4</th>\n",
       "      <td>4</td>\n",
       "      <td>0</td>\n",
       "      <td>3</td>\n",
       "      <td>male</td>\n",
       "      <td>35.0</td>\n",
       "      <td>0</td>\n",
       "      <td>0</td>\n",
       "      <td>8.0500</td>\n",
       "      <td>S</td>\n",
       "      <td>Third</td>\n",
       "      <td>NaN</td>\n",
       "      <td>Southampton</td>\n",
       "      <td>1</td>\n",
       "    </tr>\n",
       "  </tbody>\n",
       "</table>\n",
       "</div>"
      ],
      "text/plain": [
       "   passenger_id  survived  pclass     sex   age  sibsp  parch     fare  \\\n",
       "0             0         0       3    male  22.0      1      0   7.2500   \n",
       "1             1         1       1  female  38.0      1      0  71.2833   \n",
       "2             2         1       3  female  26.0      0      0   7.9250   \n",
       "3             3         1       1  female  35.0      1      0  53.1000   \n",
       "4             4         0       3    male  35.0      0      0   8.0500   \n",
       "\n",
       "  embarked  class deck  embark_town  alone  \n",
       "0        S  Third  NaN  Southampton      0  \n",
       "1        C  First    C    Cherbourg      0  \n",
       "2        S  Third  NaN  Southampton      1  \n",
       "3        S  First    C  Southampton      0  \n",
       "4        S  Third  NaN  Southampton      1  "
      ]
     },
     "execution_count": 35,
     "metadata": {},
     "output_type": "execute_result"
    }
   ],
   "source": [
    "titanic2.head()"
   ]
  },
  {
   "cell_type": "code",
   "execution_count": 36,
   "metadata": {},
   "outputs": [
    {
     "data": {
      "text/plain": [
       "True"
      ]
     },
     "execution_count": 36,
     "metadata": {},
     "output_type": "execute_result"
    }
   ],
   "source": [
    "titanic2.age.isnull().values.any()"
   ]
  },
  {
   "cell_type": "markdown",
   "metadata": {},
   "source": [
    "Create another model that includes age in addition to fare and pclass. Does this model perform better than your previous one?"
   ]
  },
  {
   "cell_type": "code",
   "execution_count": 37,
   "metadata": {},
   "outputs": [],
   "source": [
    "titanic2 = titanic2.drop(columns=['sex', 'sibsp', 'parch', 'embarked','class', 'deck','embark_town', 'alone'])\n"
   ]
  },
  {
   "cell_type": "code",
   "execution_count": 38,
   "metadata": {},
   "outputs": [
    {
     "data": {
      "text/html": [
       "<div>\n",
       "<style scoped>\n",
       "    .dataframe tbody tr th:only-of-type {\n",
       "        vertical-align: middle;\n",
       "    }\n",
       "\n",
       "    .dataframe tbody tr th {\n",
       "        vertical-align: top;\n",
       "    }\n",
       "\n",
       "    .dataframe thead th {\n",
       "        text-align: right;\n",
       "    }\n",
       "</style>\n",
       "<table border=\"1\" class=\"dataframe\">\n",
       "  <thead>\n",
       "    <tr style=\"text-align: right;\">\n",
       "      <th></th>\n",
       "      <th>passenger_id</th>\n",
       "      <th>survived</th>\n",
       "      <th>pclass</th>\n",
       "      <th>age</th>\n",
       "      <th>fare</th>\n",
       "    </tr>\n",
       "  </thead>\n",
       "  <tbody>\n",
       "    <tr>\n",
       "      <th>0</th>\n",
       "      <td>0</td>\n",
       "      <td>0</td>\n",
       "      <td>3</td>\n",
       "      <td>22.0</td>\n",
       "      <td>7.2500</td>\n",
       "    </tr>\n",
       "    <tr>\n",
       "      <th>1</th>\n",
       "      <td>1</td>\n",
       "      <td>1</td>\n",
       "      <td>1</td>\n",
       "      <td>38.0</td>\n",
       "      <td>71.2833</td>\n",
       "    </tr>\n",
       "    <tr>\n",
       "      <th>2</th>\n",
       "      <td>2</td>\n",
       "      <td>1</td>\n",
       "      <td>3</td>\n",
       "      <td>26.0</td>\n",
       "      <td>7.9250</td>\n",
       "    </tr>\n",
       "    <tr>\n",
       "      <th>3</th>\n",
       "      <td>3</td>\n",
       "      <td>1</td>\n",
       "      <td>1</td>\n",
       "      <td>35.0</td>\n",
       "      <td>53.1000</td>\n",
       "    </tr>\n",
       "    <tr>\n",
       "      <th>4</th>\n",
       "      <td>4</td>\n",
       "      <td>0</td>\n",
       "      <td>3</td>\n",
       "      <td>35.0</td>\n",
       "      <td>8.0500</td>\n",
       "    </tr>\n",
       "  </tbody>\n",
       "</table>\n",
       "</div>"
      ],
      "text/plain": [
       "   passenger_id  survived  pclass   age     fare\n",
       "0             0         0       3  22.0   7.2500\n",
       "1             1         1       1  38.0  71.2833\n",
       "2             2         1       3  26.0   7.9250\n",
       "3             3         1       1  35.0  53.1000\n",
       "4             4         0       3  35.0   8.0500"
      ]
     },
     "execution_count": 38,
     "metadata": {},
     "output_type": "execute_result"
    }
   ],
   "source": [
    "titanic2.head()"
   ]
  },
  {
   "cell_type": "code",
   "execution_count": 39,
   "metadata": {},
   "outputs": [],
   "source": [
    "titanic2 = titanic2.drop(columns='passenger_id')"
   ]
  },
  {
   "cell_type": "code",
   "execution_count": 40,
   "metadata": {},
   "outputs": [
    {
     "data": {
      "text/html": [
       "<div>\n",
       "<style scoped>\n",
       "    .dataframe tbody tr th:only-of-type {\n",
       "        vertical-align: middle;\n",
       "    }\n",
       "\n",
       "    .dataframe tbody tr th {\n",
       "        vertical-align: top;\n",
       "    }\n",
       "\n",
       "    .dataframe thead th {\n",
       "        text-align: right;\n",
       "    }\n",
       "</style>\n",
       "<table border=\"1\" class=\"dataframe\">\n",
       "  <thead>\n",
       "    <tr style=\"text-align: right;\">\n",
       "      <th></th>\n",
       "      <th>survived</th>\n",
       "      <th>pclass</th>\n",
       "      <th>age</th>\n",
       "      <th>fare</th>\n",
       "    </tr>\n",
       "  </thead>\n",
       "  <tbody>\n",
       "    <tr>\n",
       "      <th>0</th>\n",
       "      <td>0</td>\n",
       "      <td>3</td>\n",
       "      <td>22.0</td>\n",
       "      <td>7.2500</td>\n",
       "    </tr>\n",
       "    <tr>\n",
       "      <th>1</th>\n",
       "      <td>1</td>\n",
       "      <td>1</td>\n",
       "      <td>38.0</td>\n",
       "      <td>71.2833</td>\n",
       "    </tr>\n",
       "    <tr>\n",
       "      <th>2</th>\n",
       "      <td>1</td>\n",
       "      <td>3</td>\n",
       "      <td>26.0</td>\n",
       "      <td>7.9250</td>\n",
       "    </tr>\n",
       "    <tr>\n",
       "      <th>3</th>\n",
       "      <td>1</td>\n",
       "      <td>1</td>\n",
       "      <td>35.0</td>\n",
       "      <td>53.1000</td>\n",
       "    </tr>\n",
       "    <tr>\n",
       "      <th>4</th>\n",
       "      <td>0</td>\n",
       "      <td>3</td>\n",
       "      <td>35.0</td>\n",
       "      <td>8.0500</td>\n",
       "    </tr>\n",
       "  </tbody>\n",
       "</table>\n",
       "</div>"
      ],
      "text/plain": [
       "   survived  pclass   age     fare\n",
       "0         0       3  22.0   7.2500\n",
       "1         1       1  38.0  71.2833\n",
       "2         1       3  26.0   7.9250\n",
       "3         1       1  35.0  53.1000\n",
       "4         0       3  35.0   8.0500"
      ]
     },
     "execution_count": 40,
     "metadata": {},
     "output_type": "execute_result"
    }
   ],
   "source": [
    "titanic2.head()"
   ]
  },
  {
   "cell_type": "code",
   "execution_count": 41,
   "metadata": {},
   "outputs": [],
   "source": [
    "titanic2_dummies = pd.get_dummies(titanic2.pclass, drop_first=True)\n"
   ]
  },
  {
   "cell_type": "code",
   "execution_count": 42,
   "metadata": {},
   "outputs": [],
   "source": [
    "titanic2 = pd.concat([titanic2, titanic2_dummies], axis=1)\n"
   ]
  },
  {
   "cell_type": "code",
   "execution_count": 43,
   "metadata": {},
   "outputs": [
    {
     "data": {
      "text/html": [
       "<div>\n",
       "<style scoped>\n",
       "    .dataframe tbody tr th:only-of-type {\n",
       "        vertical-align: middle;\n",
       "    }\n",
       "\n",
       "    .dataframe tbody tr th {\n",
       "        vertical-align: top;\n",
       "    }\n",
       "\n",
       "    .dataframe thead th {\n",
       "        text-align: right;\n",
       "    }\n",
       "</style>\n",
       "<table border=\"1\" class=\"dataframe\">\n",
       "  <thead>\n",
       "    <tr style=\"text-align: right;\">\n",
       "      <th></th>\n",
       "      <th>survived</th>\n",
       "      <th>pclass</th>\n",
       "      <th>age</th>\n",
       "      <th>fare</th>\n",
       "      <th>2</th>\n",
       "      <th>3</th>\n",
       "    </tr>\n",
       "  </thead>\n",
       "  <tbody>\n",
       "    <tr>\n",
       "      <th>0</th>\n",
       "      <td>0</td>\n",
       "      <td>3</td>\n",
       "      <td>22.0</td>\n",
       "      <td>7.2500</td>\n",
       "      <td>0</td>\n",
       "      <td>1</td>\n",
       "    </tr>\n",
       "    <tr>\n",
       "      <th>1</th>\n",
       "      <td>1</td>\n",
       "      <td>1</td>\n",
       "      <td>38.0</td>\n",
       "      <td>71.2833</td>\n",
       "      <td>0</td>\n",
       "      <td>0</td>\n",
       "    </tr>\n",
       "    <tr>\n",
       "      <th>2</th>\n",
       "      <td>1</td>\n",
       "      <td>3</td>\n",
       "      <td>26.0</td>\n",
       "      <td>7.9250</td>\n",
       "      <td>0</td>\n",
       "      <td>1</td>\n",
       "    </tr>\n",
       "    <tr>\n",
       "      <th>3</th>\n",
       "      <td>1</td>\n",
       "      <td>1</td>\n",
       "      <td>35.0</td>\n",
       "      <td>53.1000</td>\n",
       "      <td>0</td>\n",
       "      <td>0</td>\n",
       "    </tr>\n",
       "    <tr>\n",
       "      <th>4</th>\n",
       "      <td>0</td>\n",
       "      <td>3</td>\n",
       "      <td>35.0</td>\n",
       "      <td>8.0500</td>\n",
       "      <td>0</td>\n",
       "      <td>1</td>\n",
       "    </tr>\n",
       "  </tbody>\n",
       "</table>\n",
       "</div>"
      ],
      "text/plain": [
       "   survived  pclass   age     fare  2  3\n",
       "0         0       3  22.0   7.2500  0  1\n",
       "1         1       1  38.0  71.2833  0  0\n",
       "2         1       3  26.0   7.9250  0  1\n",
       "3         1       1  35.0  53.1000  0  0\n",
       "4         0       3  35.0   8.0500  0  1"
      ]
     },
     "execution_count": 43,
     "metadata": {},
     "output_type": "execute_result"
    }
   ],
   "source": [
    "titanic2.head()"
   ]
  },
  {
   "cell_type": "code",
   "execution_count": 44,
   "metadata": {},
   "outputs": [],
   "source": [
    "train, validate, test = titanic_split(titanic2)\n"
   ]
  },
  {
   "cell_type": "code",
   "execution_count": 45,
   "metadata": {},
   "outputs": [
    {
     "data": {
      "text/html": [
       "<div>\n",
       "<style scoped>\n",
       "    .dataframe tbody tr th:only-of-type {\n",
       "        vertical-align: middle;\n",
       "    }\n",
       "\n",
       "    .dataframe tbody tr th {\n",
       "        vertical-align: top;\n",
       "    }\n",
       "\n",
       "    .dataframe thead th {\n",
       "        text-align: right;\n",
       "    }\n",
       "</style>\n",
       "<table border=\"1\" class=\"dataframe\">\n",
       "  <thead>\n",
       "    <tr style=\"text-align: right;\">\n",
       "      <th></th>\n",
       "      <th>survived</th>\n",
       "      <th>pclass</th>\n",
       "      <th>age</th>\n",
       "      <th>fare</th>\n",
       "      <th>2</th>\n",
       "      <th>3</th>\n",
       "    </tr>\n",
       "  </thead>\n",
       "  <tbody>\n",
       "    <tr>\n",
       "      <th>583</th>\n",
       "      <td>0</td>\n",
       "      <td>1</td>\n",
       "      <td>36.0</td>\n",
       "      <td>40.1250</td>\n",
       "      <td>0</td>\n",
       "      <td>0</td>\n",
       "    </tr>\n",
       "    <tr>\n",
       "      <th>165</th>\n",
       "      <td>1</td>\n",
       "      <td>3</td>\n",
       "      <td>9.0</td>\n",
       "      <td>20.5250</td>\n",
       "      <td>0</td>\n",
       "      <td>1</td>\n",
       "    </tr>\n",
       "    <tr>\n",
       "      <th>50</th>\n",
       "      <td>0</td>\n",
       "      <td>3</td>\n",
       "      <td>7.0</td>\n",
       "      <td>39.6875</td>\n",
       "      <td>0</td>\n",
       "      <td>1</td>\n",
       "    </tr>\n",
       "    <tr>\n",
       "      <th>259</th>\n",
       "      <td>1</td>\n",
       "      <td>2</td>\n",
       "      <td>50.0</td>\n",
       "      <td>26.0000</td>\n",
       "      <td>1</td>\n",
       "      <td>0</td>\n",
       "    </tr>\n",
       "    <tr>\n",
       "      <th>306</th>\n",
       "      <td>1</td>\n",
       "      <td>1</td>\n",
       "      <td>NaN</td>\n",
       "      <td>110.8833</td>\n",
       "      <td>0</td>\n",
       "      <td>0</td>\n",
       "    </tr>\n",
       "  </tbody>\n",
       "</table>\n",
       "</div>"
      ],
      "text/plain": [
       "     survived  pclass   age      fare  2  3\n",
       "583         0       1  36.0   40.1250  0  0\n",
       "165         1       3   9.0   20.5250  0  1\n",
       "50          0       3   7.0   39.6875  0  1\n",
       "259         1       2  50.0   26.0000  1  0\n",
       "306         1       1   NaN  110.8833  0  0"
      ]
     },
     "execution_count": 45,
     "metadata": {},
     "output_type": "execute_result"
    }
   ],
   "source": [
    "train.head()"
   ]
  },
  {
   "cell_type": "code",
   "execution_count": 46,
   "metadata": {},
   "outputs": [
    {
     "data": {
      "text/plain": [
       "True"
      ]
     },
     "execution_count": 46,
     "metadata": {},
     "output_type": "execute_result"
    }
   ],
   "source": [
    "train.isnull().values.any()"
   ]
  },
  {
   "cell_type": "code",
   "execution_count": 47,
   "metadata": {},
   "outputs": [
    {
     "name": "stderr",
     "output_type": "stream",
     "text": [
      "/usr/local/anaconda3/lib/python3.7/site-packages/ipykernel_launcher.py:19: SettingWithCopyWarning: \n",
      "A value is trying to be set on a copy of a slice from a DataFrame.\n",
      "Try using .loc[row_indexer,col_indexer] = value instead\n",
      "\n",
      "See the caveats in the documentation: https://pandas.pydata.org/pandas-docs/stable/user_guide/indexing.html#returning-a-view-versus-a-copy\n"
     ]
    },
    {
     "data": {
      "text/plain": [
       "(     survived  pclass        age      fare  2  3\n",
       " 583         0       1  36.000000   40.1250  0  0\n",
       " 165         1       3   9.000000   20.5250  0  1\n",
       " 50          0       3   7.000000   39.6875  0  1\n",
       " 259         1       2  50.000000   26.0000  1  0\n",
       " 306         1       1  29.678105  110.8833  0  0\n",
       " ..        ...     ...        ...       ... .. ..\n",
       " 313         0       3  28.000000    7.8958  0  1\n",
       " 636         0       3  32.000000    7.9250  0  1\n",
       " 222         0       3  51.000000    8.0500  0  1\n",
       " 485         0       3  29.678105   25.4667  0  1\n",
       " 744         1       3  31.000000    7.9250  0  1\n",
       " \n",
       " [498 rows x 6 columns],\n",
       "      survived  pclass        age      fare  2  3\n",
       " 610         0       3  39.000000   31.2750  0  1\n",
       " 424         0       3  18.000000   20.2125  0  1\n",
       " 568         0       3  29.678105    7.2292  0  1\n",
       " 334         1       1  29.678105  133.6500  0  0\n",
       " 101         0       3  29.678105    7.8958  0  1\n",
       " ..        ...     ...        ...       ... .. ..\n",
       " 176         0       3  29.678105   25.4667  0  1\n",
       " 372         0       3  19.000000    8.0500  0  1\n",
       " 737         1       1  35.000000  512.3292  0  0\n",
       " 862         1       1  48.000000   25.9292  0  0\n",
       " 26          0       3  29.678105    7.2250  0  1\n",
       " \n",
       " [214 rows x 6 columns],\n",
       "      survived  pclass        age      fare  2  3\n",
       " 561         0       3  40.000000    7.8958  0  1\n",
       " 641         1       1  24.000000   69.3000  0  0\n",
       " 400         1       3  39.000000    7.9250  0  1\n",
       " 498         0       1  25.000000  151.5500  0  0\n",
       " 875         1       3  15.000000    7.2250  0  1\n",
       " ..        ...     ...        ...       ... .. ..\n",
       " 339         0       1  45.000000   35.5000  0  0\n",
       " 841         0       2  16.000000   10.5000  1  0\n",
       " 442         0       3  25.000000    7.7750  0  1\n",
       " 815         0       1  29.678105    0.0000  0  0\n",
       " 53          1       2  29.000000   26.0000  1  0\n",
       " \n",
       " [179 rows x 6 columns])"
      ]
     },
     "execution_count": 47,
     "metadata": {},
     "output_type": "execute_result"
    }
   ],
   "source": [
    "impute_mean_age(train, validate, test)"
   ]
  },
  {
   "cell_type": "code",
   "execution_count": 48,
   "metadata": {},
   "outputs": [
    {
     "data": {
      "text/plain": [
       "(498, 6)"
      ]
     },
     "execution_count": 48,
     "metadata": {},
     "output_type": "execute_result"
    }
   ],
   "source": [
    "train.shape"
   ]
  },
  {
   "cell_type": "code",
   "execution_count": 50,
   "metadata": {},
   "outputs": [
    {
     "data": {
      "text/plain": [
       "False"
      ]
     },
     "execution_count": 50,
     "metadata": {},
     "output_type": "execute_result"
    }
   ],
   "source": [
    "train.age.isnull().values.any()"
   ]
  },
  {
   "cell_type": "code",
   "execution_count": 51,
   "metadata": {},
   "outputs": [
    {
     "data": {
      "text/plain": [
       "0    0.616466\n",
       "1    0.383534\n",
       "Name: survived, dtype: float64"
      ]
     },
     "execution_count": 51,
     "metadata": {},
     "output_type": "execute_result"
    }
   ],
   "source": [
    "train.survived.value_counts(normalize=True)\n"
   ]
  },
  {
   "cell_type": "code",
   "execution_count": 52,
   "metadata": {},
   "outputs": [],
   "source": [
    "logit = LogisticRegression()\n"
   ]
  },
  {
   "cell_type": "code",
   "execution_count": 53,
   "metadata": {},
   "outputs": [],
   "source": [
    "X_train = train.drop(columns=['survived'])\n",
    "y_train = train.survived\n",
    "\n",
    "X_validate = validate.drop(columns=['survived'])\n",
    "y_validate = validate.survived\n",
    "\n",
    "X_test = test.drop(columns=['survived'])\n",
    "y_test = test.survived"
   ]
  },
  {
   "cell_type": "code",
   "execution_count": 54,
   "metadata": {},
   "outputs": [],
   "source": [
    "logit = logit.fit(X_train, y_train)\n"
   ]
  },
  {
   "cell_type": "code",
   "execution_count": 55,
   "metadata": {},
   "outputs": [
    {
     "data": {
      "text/plain": [
       "Index(['pclass', 'age', 'fare', 2, 3], dtype='object')"
      ]
     },
     "execution_count": 55,
     "metadata": {},
     "output_type": "execute_result"
    }
   ],
   "source": [
    "X_train.columns\n"
   ]
  },
  {
   "cell_type": "code",
   "execution_count": 56,
   "metadata": {},
   "outputs": [
    {
     "name": "stdout",
     "output_type": "stream",
     "text": [
      "[[-0.67260505 -0.02902885  0.00259074  0.14850399 -0.41036784]]\n"
     ]
    }
   ],
   "source": [
    "print(logit.coef_)"
   ]
  },
  {
   "cell_type": "code",
   "execution_count": 57,
   "metadata": {},
   "outputs": [],
   "source": [
    "y_pred = logit.predict(X_train)\n",
    "y_pred_proba = logit.predict_proba(X_train)"
   ]
  },
  {
   "cell_type": "code",
   "execution_count": 58,
   "metadata": {},
   "outputs": [
    {
     "data": {
      "text/plain": [
       "array([[0.40808026, 0.59191974],\n",
       "       [0.65716147, 0.34283853],\n",
       "       [0.63250245, 0.36749755],\n",
       "       [0.64455554, 0.35544446],\n",
       "       [0.32327957, 0.67672043],\n",
       "       [0.50494894, 0.49505106],\n",
       "       [0.59660579, 0.40339421],\n",
       "       [0.49917841, 0.50082159],\n",
       "       [0.78313474, 0.21686526],\n",
       "       [0.75471528, 0.24528472],\n",
       "       [0.8292616 , 0.1707384 ],\n",
       "       [0.58902943, 0.41097057],\n",
       "       [0.5868048 , 0.4131952 ],\n",
       "       [0.48350205, 0.51649795],\n",
       "       [0.5891301 , 0.4108699 ],\n",
       "       [0.84916005, 0.15083995],\n",
       "       [0.78300271, 0.21699729],\n",
       "       [0.78307788, 0.21692212],\n",
       "       [0.54101014, 0.45898986],\n",
       "       [0.7591043 , 0.2408957 ],\n",
       "       [0.76808348, 0.23191652],\n",
       "       [0.78312374, 0.21687626],\n",
       "       [0.2549033 , 0.7450967 ],\n",
       "       [0.30008336, 0.69991664],\n",
       "       [0.48113939, 0.51886061],\n",
       "       [0.74834275, 0.25165725],\n",
       "       [0.38689257, 0.61310743],\n",
       "       [0.51601041, 0.48398959],\n",
       "       [0.37317122, 0.62682878],\n",
       "       [0.4903032 , 0.5096968 ],\n",
       "       [0.74321785, 0.25678215],\n",
       "       [0.75022452, 0.24977548],\n",
       "       [0.74283656, 0.25716344],\n",
       "       [0.77296734, 0.22703266],\n",
       "       [0.4977859 , 0.5022141 ],\n",
       "       [0.43424652, 0.56575348],\n",
       "       [0.66528348, 0.33471652],\n",
       "       [0.34215705, 0.65784295],\n",
       "       [0.73059719, 0.26940281],\n",
       "       [0.46486417, 0.53513583],\n",
       "       [0.75951859, 0.24048141],\n",
       "       [0.71455628, 0.28544372],\n",
       "       [0.64903234, 0.35096766],\n",
       "       [0.49043584, 0.50956416],\n",
       "       [0.37010087, 0.62989913],\n",
       "       [0.76402836, 0.23597164],\n",
       "       [0.78313474, 0.21686526],\n",
       "       [0.71982659, 0.28017341],\n",
       "       [0.78313474, 0.21686526],\n",
       "       [0.75439501, 0.24560499],\n",
       "       [0.79868838, 0.20131162],\n",
       "       [0.46296032, 0.53703968],\n",
       "       [0.40438682, 0.59561318],\n",
       "       [0.32200944, 0.67799056],\n",
       "       [0.73730237, 0.26269763],\n",
       "       [0.63130897, 0.36869103],\n",
       "       [0.7541766 , 0.2458234 ],\n",
       "       [0.54101014, 0.45898986],\n",
       "       [0.90435378, 0.09564622],\n",
       "       [0.73161154, 0.26838846],\n",
       "       [0.45738093, 0.54261907],\n",
       "       [0.51814948, 0.48185052],\n",
       "       [0.78307058, 0.21692942],\n",
       "       [0.65223355, 0.34776645],\n",
       "       [0.78957023, 0.21042977],\n",
       "       [0.78313474, 0.21686526],\n",
       "       [0.73192936, 0.26807064],\n",
       "       [0.86587858, 0.13412142],\n",
       "       [0.77623729, 0.22376271],\n",
       "       [0.65370121, 0.34629879],\n",
       "       [0.60472399, 0.39527601],\n",
       "       [0.78307058, 0.21692942],\n",
       "       [0.54261803, 0.45738197],\n",
       "       [0.34615934, 0.65384066],\n",
       "       [0.78313474, 0.21686526],\n",
       "       [0.37425163, 0.62574837],\n",
       "       [0.72597862, 0.27402138],\n",
       "       [0.47580647, 0.52419353],\n",
       "       [0.72011387, 0.27988613],\n",
       "       [0.61024809, 0.38975191],\n",
       "       [0.55423994, 0.44576006],\n",
       "       [0.34149083, 0.65850917],\n",
       "       [0.80356255, 0.19643745],\n",
       "       [0.49755922, 0.50244078],\n",
       "       [0.72008996, 0.27991004],\n",
       "       [0.8268669 , 0.1731331 ],\n",
       "       [0.35853668, 0.64146332],\n",
       "       [0.62284461, 0.37715539],\n",
       "       [0.60891905, 0.39108095],\n",
       "       [0.47580647, 0.52419353],\n",
       "       [0.82101502, 0.17898498],\n",
       "       [0.78313474, 0.21686526],\n",
       "       [0.76746372, 0.23253628],\n",
       "       [0.25597705, 0.74402295],\n",
       "       [0.51207128, 0.48792872],\n",
       "       [0.78322272, 0.21677728],\n",
       "       [0.38431716, 0.61568284],\n",
       "       [0.57291053, 0.42708947],\n",
       "       [0.36492194, 0.63507806],\n",
       "       [0.18690948, 0.81309052],\n",
       "       [0.73475711, 0.26524289],\n",
       "       [0.25404487, 0.74595513],\n",
       "       [0.67240431, 0.32759569],\n",
       "       [0.71374314, 0.28625686],\n",
       "       [0.16143884, 0.83856116],\n",
       "       [0.37927925, 0.62072075],\n",
       "       [0.6938096 , 0.3061904 ],\n",
       "       [0.30717201, 0.69282799],\n",
       "       [0.78335466, 0.21664534],\n",
       "       [0.72585192, 0.27414808],\n",
       "       [0.40972877, 0.59027123],\n",
       "       [0.45961697, 0.54038303],\n",
       "       [0.40861235, 0.59138765],\n",
       "       [0.76654738, 0.23345262],\n",
       "       [0.81635043, 0.18364957],\n",
       "       [0.52540348, 0.47459652],\n",
       "       [0.75471528, 0.24528472],\n",
       "       [0.76438629, 0.23561371],\n",
       "       [0.57782611, 0.42217389],\n",
       "       [0.32835376, 0.67164624],\n",
       "       [0.85438003, 0.14561997],\n",
       "       [0.8299145 , 0.1700855 ],\n",
       "       [0.38408774, 0.61591226],\n",
       "       [0.85156311, 0.14843689],\n",
       "       [0.31665995, 0.68334005],\n",
       "       [0.46019486, 0.53980514],\n",
       "       [0.46483508, 0.53516492],\n",
       "       [0.45565475, 0.54434525],\n",
       "       [0.78917899, 0.21082101],\n",
       "       [0.61658356, 0.38341644],\n",
       "       [0.78307788, 0.21692212],\n",
       "       [0.73723754, 0.26276246],\n",
       "       [0.65085958, 0.34914042],\n",
       "       [0.42440833, 0.57559167],\n",
       "       [0.53585933, 0.46414067],\n",
       "       [0.74315604, 0.25684396],\n",
       "       [0.73733373, 0.26266627],\n",
       "       [0.78300271, 0.21699729],\n",
       "       [0.55065128, 0.44934872],\n",
       "       [0.50211537, 0.49788463],\n",
       "       [0.51074737, 0.48925263],\n",
       "       [0.35263489, 0.64736511],\n",
       "       [0.36727628, 0.63272372],\n",
       "       [0.78958099, 0.21041901],\n",
       "       [0.29715105, 0.70284895],\n",
       "       [0.36147481, 0.63852519],\n",
       "       [0.40261706, 0.59738294],\n",
       "       [0.68270776, 0.31729224],\n",
       "       [0.52427637, 0.47572363],\n",
       "       [0.30946978, 0.69053022],\n",
       "       [0.51814948, 0.48185052],\n",
       "       [0.49678392, 0.50321608],\n",
       "       [0.47314079, 0.52685921],\n",
       "       [0.73077348, 0.26922652],\n",
       "       [0.77172666, 0.22827334],\n",
       "       [0.74096108, 0.25903892],\n",
       "       [0.81278432, 0.18721568],\n",
       "       [0.73091363, 0.26908637],\n",
       "       [0.77970538, 0.22029462],\n",
       "       [0.84951643, 0.15048357],\n",
       "       [0.65017389, 0.34982611],\n",
       "       [0.49755922, 0.50244078],\n",
       "       [0.56853454, 0.43146546],\n",
       "       [0.71927765, 0.28072235],\n",
       "       [0.80419736, 0.19580264],\n",
       "       [0.79868492, 0.20131508],\n",
       "       [0.64160554, 0.35839446],\n",
       "       [0.76439016, 0.23560984],\n",
       "       [0.4032867 , 0.5967133 ],\n",
       "       [0.84540402, 0.15459598],\n",
       "       [0.70864988, 0.29135012],\n",
       "       [0.33553893, 0.66446107],\n",
       "       [0.77970538, 0.22029462],\n",
       "       [0.77583203, 0.22416797],\n",
       "       [0.55096659, 0.44903341],\n",
       "       [0.61715615, 0.38284385],\n",
       "       [0.30374287, 0.69625713],\n",
       "       [0.78494537, 0.21505463],\n",
       "       [0.81699528, 0.18300472],\n",
       "       [0.52465371, 0.47534629],\n",
       "       [0.75299795, 0.24700205],\n",
       "       [0.78307058, 0.21692942],\n",
       "       [0.74276024, 0.25723976],\n",
       "       [0.45365047, 0.54634953],\n",
       "       [0.72585192, 0.27414808],\n",
       "       [0.78314024, 0.21685976],\n",
       "       [0.48189001, 0.51810999],\n",
       "       [0.4438903 , 0.5561097 ],\n",
       "       [0.72063574, 0.27936426],\n",
       "       [0.7644057 , 0.2355943 ],\n",
       "       [0.50840902, 0.49159098],\n",
       "       [0.47881504, 0.52118496],\n",
       "       [0.78458619, 0.21541381],\n",
       "       [0.46135039, 0.53864961],\n",
       "       [0.3659991 , 0.6340009 ],\n",
       "       [0.70826425, 0.29173575],\n",
       "       [0.46231625, 0.53768375],\n",
       "       [0.75917535, 0.24082465],\n",
       "       [0.73731281, 0.26268719],\n",
       "       [0.77395528, 0.22604472],\n",
       "       [0.75471528, 0.24528472],\n",
       "       [0.56943279, 0.43056721],\n",
       "       [0.49777101, 0.50222899],\n",
       "       [0.38901103, 0.61098897],\n",
       "       [0.79369812, 0.20630188],\n",
       "       [0.8081044 , 0.1918956 ],\n",
       "       [0.44791981, 0.55208019],\n",
       "       [0.51358013, 0.48641987],\n",
       "       [0.78300271, 0.21699729],\n",
       "       [0.48974752, 0.51025248],\n",
       "       [0.7483285 , 0.2516715 ],\n",
       "       [0.78307058, 0.21692942],\n",
       "       [0.7833638 , 0.2166362 ],\n",
       "       [0.74992544, 0.25007456],\n",
       "       [0.26528541, 0.73471459],\n",
       "       [0.41670441, 0.58329559],\n",
       "       [0.72010082, 0.27989918],\n",
       "       [0.79436339, 0.20563661],\n",
       "       [0.58975706, 0.41024294],\n",
       "       [0.80850583, 0.19149417],\n",
       "       [0.77981848, 0.22018152],\n",
       "       [0.78300271, 0.21699729],\n",
       "       [0.79430168, 0.20569832],\n",
       "       [0.35913068, 0.64086932],\n",
       "       [0.80649634, 0.19350366],\n",
       "       [0.83744715, 0.16255285],\n",
       "       [0.34441087, 0.65558913],\n",
       "       [0.76999696, 0.23000304],\n",
       "       [0.70732656, 0.29267344],\n",
       "       [0.76092199, 0.23907801],\n",
       "       [0.53426106, 0.46573894],\n",
       "       [0.74288605, 0.25711395],\n",
       "       [0.72585192, 0.27414808],\n",
       "       [0.77350282, 0.22649718],\n",
       "       [0.77395528, 0.22604472],\n",
       "       [0.61049658, 0.38950342],\n",
       "       [0.74951223, 0.25048777],\n",
       "       [0.78307058, 0.21692942],\n",
       "       [0.429812  , 0.570188  ],\n",
       "       [0.65284389, 0.34715611],\n",
       "       [0.78458619, 0.21541381],\n",
       "       [0.78300271, 0.21699729],\n",
       "       [0.44856056, 0.55143944],\n",
       "       [0.51932121, 0.48067879],\n",
       "       [0.30171036, 0.69828964],\n",
       "       [0.85128055, 0.14871945],\n",
       "       [0.40219955, 0.59780045],\n",
       "       [0.78336565, 0.21663435],\n",
       "       [0.7829752 , 0.2170248 ],\n",
       "       [0.45955135, 0.54044865],\n",
       "       [0.79410406, 0.20589594],\n",
       "       [0.53263611, 0.46736389],\n",
       "       [0.75638048, 0.24361952],\n",
       "       [0.40731429, 0.59268571],\n",
       "       [0.84265862, 0.15734138],\n",
       "       [0.77663829, 0.22336171],\n",
       "       [0.78318788, 0.21681212],\n",
       "       [0.20102011, 0.79897989],\n",
       "       [0.33035853, 0.66964147],\n",
       "       [0.78402952, 0.21597048],\n",
       "       [0.55538865, 0.44461135],\n",
       "       [0.75942394, 0.24057606],\n",
       "       [0.78313474, 0.21686526],\n",
       "       [0.37688022, 0.62311978],\n",
       "       [0.84540402, 0.15459598],\n",
       "       [0.48740581, 0.51259419],\n",
       "       [0.82199877, 0.17800123],\n",
       "       [0.73157552, 0.26842448],\n",
       "       [0.78332717, 0.21667283],\n",
       "       [0.77378748, 0.22621252],\n",
       "       [0.77614727, 0.22385273],\n",
       "       [0.22139394, 0.77860606],\n",
       "       [0.82130673, 0.17869327],\n",
       "       [0.38505733, 0.61494267],\n",
       "       [0.75471528, 0.24528472],\n",
       "       [0.77466835, 0.22533165],\n",
       "       [0.74302211, 0.25697789],\n",
       "       [0.78300271, 0.21699729],\n",
       "       [0.78300271, 0.21699729],\n",
       "       [0.7371748 , 0.2628252 ],\n",
       "       [0.7371748 , 0.2628252 ],\n",
       "       [0.31091647, 0.68908353],\n",
       "       [0.73732535, 0.26267465],\n",
       "       [0.78313474, 0.21686526],\n",
       "       [0.78015005, 0.21984995],\n",
       "       [0.37208358, 0.62791642],\n",
       "       [0.42004133, 0.57995867],\n",
       "       [0.52933884, 0.47066116],\n",
       "       [0.19111083, 0.80888917],\n",
       "       [0.7695742 , 0.2304258 ],\n",
       "       [0.72571657, 0.27428343],\n",
       "       [0.67068998, 0.32931002],\n",
       "       [0.78300271, 0.21699729],\n",
       "       [0.81262658, 0.18737342],\n",
       "       [0.28830751, 0.71169249],\n",
       "       [0.36738715, 0.63261285],\n",
       "       [0.42649509, 0.57350491],\n",
       "       [0.70747848, 0.29252152],\n",
       "       [0.68687319, 0.31312681],\n",
       "       [0.59243308, 0.40756692],\n",
       "       [0.76922178, 0.23077822],\n",
       "       [0.75951859, 0.24048141],\n",
       "       [0.84212379, 0.15787621],\n",
       "       [0.78313474, 0.21686526],\n",
       "       [0.75369597, 0.24630403],\n",
       "       [0.56065953, 0.43934047],\n",
       "       [0.39321439, 0.60678561],\n",
       "       [0.78307058, 0.21692942],\n",
       "       [0.42554484, 0.57445516],\n",
       "       [0.71659984, 0.28340016],\n",
       "       [0.46857183, 0.53142817],\n",
       "       [0.80613009, 0.19386991],\n",
       "       [0.9219428 , 0.0780572 ],\n",
       "       [0.78314209, 0.21685791],\n",
       "       [0.60339178, 0.39660822],\n",
       "       [0.7801704 , 0.2198296 ],\n",
       "       [0.78307058, 0.21692942],\n",
       "       [0.35572635, 0.64427365],\n",
       "       [0.44222144, 0.55777856],\n",
       "       [0.80816635, 0.19183365],\n",
       "       [0.7752382 , 0.2247618 ],\n",
       "       [0.78236375, 0.21763625],\n",
       "       [0.27876297, 0.72123703],\n",
       "       [0.37028462, 0.62971538],\n",
       "       [0.74316633, 0.25683367],\n",
       "       [0.48642185, 0.51357815],\n",
       "       [0.32563404, 0.67436596],\n",
       "       [0.51816016, 0.48183984],\n",
       "       [0.40256338, 0.59743662],\n",
       "       [0.5978803 , 0.4021197 ],\n",
       "       [0.87022828, 0.12977172],\n",
       "       [0.32073823, 0.67926177],\n",
       "       [0.78313474, 0.21686526],\n",
       "       [0.3050777 , 0.6949223 ],\n",
       "       [0.44276821, 0.55723179],\n",
       "       [0.78307788, 0.21692212],\n",
       "       [0.61926253, 0.38073747],\n",
       "       [0.69420769, 0.30579231],\n",
       "       [0.47018497, 0.52981503],\n",
       "       [0.77977298, 0.22022702],\n",
       "       [0.51368941, 0.48631059],\n",
       "       [0.46084072, 0.53915928],\n",
       "       [0.74290871, 0.25709129],\n",
       "       [0.35614035, 0.64385965],\n",
       "       [0.44771777, 0.55228223],\n",
       "       [0.7833638 , 0.2166362 ],\n",
       "       [0.37208358, 0.62791642],\n",
       "       [0.35870066, 0.64129934],\n",
       "       [0.41761959, 0.58238041],\n",
       "       [0.6030075 , 0.3969925 ],\n",
       "       [0.26945161, 0.73054839],\n",
       "       [0.65887303, 0.34112697],\n",
       "       [0.76283881, 0.23716119],\n",
       "       [0.60607223, 0.39392777],\n",
       "       [0.56739334, 0.43260666],\n",
       "       [0.31809895, 0.68190105],\n",
       "       [0.51294636, 0.48705364],\n",
       "       [0.60969808, 0.39030192],\n",
       "       [0.78016858, 0.21983142],\n",
       "       [0.29823207, 0.70176793],\n",
       "       [0.77468155, 0.22531845],\n",
       "       [0.79567425, 0.20432575],\n",
       "       [0.5430712 , 0.4569288 ],\n",
       "       [0.70251213, 0.29748787],\n",
       "       [0.78314574, 0.21685426],\n",
       "       [0.25490809, 0.74509191],\n",
       "       [0.54101014, 0.45898986],\n",
       "       [0.81572139, 0.18427861],\n",
       "       [0.59816454, 0.40183546],\n",
       "       [0.30544821, 0.69455179],\n",
       "       [0.46135039, 0.53864961],\n",
       "       [0.75919113, 0.24080887],\n",
       "       [0.73737553, 0.26262447],\n",
       "       [0.48461037, 0.51538963],\n",
       "       [0.72024659, 0.27975341],\n",
       "       [0.72010082, 0.27989918],\n",
       "       [0.55818165, 0.44181835],\n",
       "       [0.4851249 , 0.5148751 ],\n",
       "       [0.31016378, 0.68983622],\n",
       "       [0.81219939, 0.18780061],\n",
       "       [0.30852847, 0.69147153],\n",
       "       [0.42554484, 0.57445516],\n",
       "       [0.65370121, 0.34629879],\n",
       "       [0.73730027, 0.26269973],\n",
       "       [0.46601406, 0.53398594],\n",
       "       [0.78311824, 0.21688176],\n",
       "       [0.7833638 , 0.2166362 ],\n",
       "       [0.74851143, 0.25148857],\n",
       "       [0.43317976, 0.56682024],\n",
       "       [0.48466879, 0.51533121],\n",
       "       [0.77750384, 0.22249616],\n",
       "       [0.50973633, 0.49026367],\n",
       "       [0.46741392, 0.53258608],\n",
       "       [0.46857183, 0.53142817],\n",
       "       [0.46968115, 0.53031885],\n",
       "       [0.75917535, 0.24082465],\n",
       "       [0.31565445, 0.68434555],\n",
       "       [0.82162809, 0.17837191],\n",
       "       [0.75138907, 0.24861093],\n",
       "       [0.71473055, 0.28526945],\n",
       "       [0.73202044, 0.26797956],\n",
       "       [0.41909494, 0.58090506],\n",
       "       [0.77106421, 0.22893579],\n",
       "       [0.44449076, 0.55550924],\n",
       "       [0.54981311, 0.45018689],\n",
       "       [0.78395061, 0.21604939],\n",
       "       [0.49723539, 0.50276461],\n",
       "       [0.7644057 , 0.2355943 ],\n",
       "       [0.40861235, 0.59138765],\n",
       "       [0.76053679, 0.23946321],\n",
       "       [0.62365682, 0.37634318],\n",
       "       [0.78352683, 0.21647317],\n",
       "       [0.80958843, 0.19041157],\n",
       "       [0.72644222, 0.27355778],\n",
       "       [0.33574441, 0.66425559],\n",
       "       [0.51207128, 0.48792872],\n",
       "       [0.39372021, 0.60627979],\n",
       "       [0.78322272, 0.21677728],\n",
       "       [0.27544412, 0.72455588],\n",
       "       [0.49080718, 0.50919282],\n",
       "       [0.71739848, 0.28260152],\n",
       "       [0.78493627, 0.21506373],\n",
       "       [0.51814948, 0.48185052],\n",
       "       [0.38650299, 0.61349701],\n",
       "       [0.77943826, 0.22056174],\n",
       "       [0.58211421, 0.41788579],\n",
       "       [0.78431787, 0.21568213],\n",
       "       [0.52427283, 0.47572717],\n",
       "       [0.74836305, 0.25163695],\n",
       "       [0.66023625, 0.33976375],\n",
       "       [0.78307058, 0.21692942],\n",
       "       [0.77694334, 0.22305666],\n",
       "       [0.76131246, 0.23868754],\n",
       "       [0.77134572, 0.22865428],\n",
       "       [0.7020788 , 0.2979212 ],\n",
       "       [0.5978803 , 0.4021197 ],\n",
       "       [0.78296419, 0.21703581],\n",
       "       [0.71374314, 0.28625686],\n",
       "       [0.20050655, 0.79949345],\n",
       "       [0.70810363, 0.29189637],\n",
       "       [0.78307058, 0.21692942],\n",
       "       [0.84925957, 0.15074043],\n",
       "       [0.8255165 , 0.1744835 ],\n",
       "       [0.57677644, 0.42322356],\n",
       "       [0.78335466, 0.21664534],\n",
       "       [0.71902036, 0.28097964],\n",
       "       [0.65939343, 0.34060657],\n",
       "       [0.75471528, 0.24528472],\n",
       "       [0.38625381, 0.61374619],\n",
       "       [0.78016858, 0.21983142],\n",
       "       [0.33921785, 0.66078215],\n",
       "       [0.35672306, 0.64327694],\n",
       "       [0.78336565, 0.21663435],\n",
       "       [0.53985506, 0.46014494],\n",
       "       [0.69023785, 0.30976215],\n",
       "       [0.37279254, 0.62720746],\n",
       "       [0.64551009, 0.35448991],\n",
       "       [0.26097082, 0.73902918],\n",
       "       [0.78271094, 0.21728906],\n",
       "       [0.46135039, 0.53864961],\n",
       "       [0.81663078, 0.18336922],\n",
       "       [0.92894383, 0.07105617],\n",
       "       [0.49755922, 0.50244078],\n",
       "       [0.51929419, 0.48070581],\n",
       "       [0.82909009, 0.17090991],\n",
       "       [0.28114386, 0.71885614],\n",
       "       [0.24847325, 0.75152675],\n",
       "       [0.73311416, 0.26688584],\n",
       "       [0.60652131, 0.39347869],\n",
       "       [0.77470036, 0.22529964],\n",
       "       [0.53017993, 0.46982007],\n",
       "       [0.74315604, 0.25684396],\n",
       "       [0.59169522, 0.40830478],\n",
       "       [0.77472677, 0.22527323],\n",
       "       [0.78309989, 0.21690011],\n",
       "       [0.7833638 , 0.2166362 ],\n",
       "       [0.61832198, 0.38167802],\n",
       "       [0.59116761, 0.40883239],\n",
       "       [0.26390925, 0.73609075],\n",
       "       [0.76438629, 0.23561371],\n",
       "       [0.30800266, 0.69199734],\n",
       "       [0.33176506, 0.66823494],\n",
       "       [0.32499591, 0.67500409],\n",
       "       [0.60215773, 0.39784227],\n",
       "       [0.80356255, 0.19643745],\n",
       "       [0.16864452, 0.83135548],\n",
       "       [0.79431929, 0.20568071],\n",
       "       [0.74315604, 0.25684396],\n",
       "       [0.78300271, 0.21699729],\n",
       "       [0.77943826, 0.22056174],\n",
       "       [0.46760427, 0.53239573],\n",
       "       [0.66499497, 0.33500503],\n",
       "       [0.60215773, 0.39784227],\n",
       "       [0.77468155, 0.22531845],\n",
       "       [0.79428932, 0.20571068],\n",
       "       [0.87014048, 0.12985952],\n",
       "       [0.7752382 , 0.2247618 ],\n",
       "       [0.78950566, 0.21049434]])"
      ]
     },
     "execution_count": 58,
     "metadata": {},
     "output_type": "execute_result"
    }
   ],
   "source": [
    "y_pred_proba\n"
   ]
  },
  {
   "cell_type": "code",
   "execution_count": 59,
   "metadata": {},
   "outputs": [
    {
     "data": {
      "text/plain": [
       "0.6847389558232931"
      ]
     },
     "execution_count": 59,
     "metadata": {},
     "output_type": "execute_result"
    }
   ],
   "source": [
    "logit.score(X_train, y_train)\n"
   ]
  },
  {
   "cell_type": "code",
   "execution_count": 60,
   "metadata": {},
   "outputs": [
    {
     "name": "stdout",
     "output_type": "stream",
     "text": [
      "[[247  60]\n",
      " [ 97  94]]\n"
     ]
    }
   ],
   "source": [
    "print(confusion_matrix(y_train, y_pred))\n"
   ]
  },
  {
   "cell_type": "code",
   "execution_count": 61,
   "metadata": {},
   "outputs": [
    {
     "name": "stdout",
     "output_type": "stream",
     "text": [
      "              precision    recall  f1-score   support\n",
      "\n",
      "           0       0.72      0.80      0.76       307\n",
      "           1       0.61      0.49      0.54       191\n",
      "\n",
      "    accuracy                           0.68       498\n",
      "   macro avg       0.66      0.65      0.65       498\n",
      "weighted avg       0.68      0.68      0.68       498\n",
      "\n"
     ]
    }
   ],
   "source": [
    "print(classification_report(y_train, y_pred))\n"
   ]
  },
  {
   "cell_type": "markdown",
   "metadata": {},
   "source": [
    "68% Accuracy"
   ]
  },
  {
   "cell_type": "code",
   "execution_count": null,
   "metadata": {},
   "outputs": [],
   "source": []
  }
 ],
 "metadata": {
  "kernelspec": {
   "display_name": "Python 3",
   "language": "python",
   "name": "python3"
  },
  "language_info": {
   "codemirror_mode": {
    "name": "ipython",
    "version": 3
   },
   "file_extension": ".py",
   "mimetype": "text/x-python",
   "name": "python",
   "nbconvert_exporter": "python",
   "pygments_lexer": "ipython3",
   "version": "3.7.6"
  }
 },
 "nbformat": 4,
 "nbformat_minor": 4
}
